{
 "cells": [
  {
   "cell_type": "code",
   "execution_count": 1,
   "metadata": {},
   "outputs": [
    {
     "name": "stderr",
     "output_type": "stream",
     "text": [
      "/anaconda3/envs/backup/lib/python3.7/site-packages/dask/config.py:168: YAMLLoadWarning:\n",
      "\n",
      "calling yaml.load() without Loader=... is deprecated, as the default Loader is unsafe. Please read https://msg.pyyaml.org/load for full details.\n",
      "\n"
     ]
    },
    {
     "data": {
      "text/html": [
       "        <script type=\"text/javascript\">\n",
       "        window.PlotlyConfig = {MathJaxConfig: 'local'};\n",
       "        if (window.MathJax) {MathJax.Hub.Config({SVG: {font: \"STIX-Web\"}});}\n",
       "        if (typeof require !== 'undefined') {\n",
       "        require.undef(\"plotly\");\n",
       "        requirejs.config({\n",
       "            paths: {\n",
       "                'plotly': ['https://cdn.plot.ly/plotly-latest.min']\n",
       "            }\n",
       "        });\n",
       "        require(['plotly'], function(Plotly) {\n",
       "            window._Plotly = Plotly;\n",
       "        });\n",
       "        }\n",
       "        </script>\n",
       "        "
      ]
     },
     "metadata": {},
     "output_type": "display_data"
    },
    {
     "data": {
      "text/html": [
       "        <script type=\"text/javascript\">\n",
       "        window.PlotlyConfig = {MathJaxConfig: 'local'};\n",
       "        if (window.MathJax) {MathJax.Hub.Config({SVG: {font: \"STIX-Web\"}});}\n",
       "        if (typeof require !== 'undefined') {\n",
       "        require.undef(\"plotly\");\n",
       "        requirejs.config({\n",
       "            paths: {\n",
       "                'plotly': ['https://cdn.plot.ly/plotly-latest.min']\n",
       "            }\n",
       "        });\n",
       "        require(['plotly'], function(Plotly) {\n",
       "            window._Plotly = Plotly;\n",
       "        });\n",
       "        }\n",
       "        </script>\n",
       "        "
      ]
     },
     "metadata": {},
     "output_type": "display_data"
    }
   ],
   "source": [
    "import requests\n",
    "\n",
    "from bs4 import BeautifulSoup\n",
    "from tqdm import tqdm_notebook\n",
    "from pprint import pprint\n",
    "import numpy as np\n",
    "import re\n",
    "import patsy\n",
    "import pandas as pd\n",
    "import numpy as np\n",
    "import matplotlib.pyplot as plt\n",
    "import seaborn as sns\n",
    "import statsmodels.api as sm\n",
    "import statsmodels.formula.api as sm\n",
    "from statsmodels.tsa.arima_model import ARIMA\n",
    "import warnings\n",
    "\n",
    "import os\n",
    "import sys\n",
    "import json\n",
    "import webbrowser\n",
    "from json.decoder import JSONDecodeError\n",
    "from sklearn.pipeline import Pipeline\n",
    "from sklearn.pipeline import make_pipeline\n",
    "from sklearn.neighbors import KNeighborsClassifier\n",
    "from sklearn import datasets, metrics\n",
    "from sklearn.preprocessing import StandardScaler\n",
    "from sklearn.linear_model import LogisticRegression, LogisticRegressionCV, ElasticNet\n",
    "from sklearn.model_selection import train_test_split, cross_val_score, GridSearchCV, StratifiedKFold\n",
    "from sklearn.tree import DecisionTreeClassifier, DecisionTreeRegressor\n",
    "from sklearn.feature_extraction.text import HashingVectorizer, TfidfVectorizer, CountVectorizer\n",
    "from sklearn.naive_bayes import MultinomialNB, BernoulliNB, GaussianNB\n",
    "from sklearn.metrics import roc_curve, auc, precision_recall_curve, average_precision_score, confusion_matrix, classification_report\n",
    "from sklearn.decomposition import PCA\n",
    "from imblearn.under_sampling import RandomUnderSampler\n",
    "from imblearn.over_sampling import RandomOverSampler, SMOTE, SMOTENC\n",
    "from imblearn.pipeline import make_pipeline as make_pipeline_imb\n",
    "from sklearn.ensemble import BaggingClassifier, AdaBoostClassifier, AdaBoostRegressor, \\\n",
    "GradientBoostingClassifier, GradientBoostingRegressor, RandomForestClassifier\n",
    "from sklearn import svm\n",
    "from sklearn.tree import export_graphviz\n",
    "from IPython import display\n",
    "\n",
    "from joblib import dump, load\n",
    "\n",
    "from matplotlib.colors import ListedColormap\n",
    "cmap = ListedColormap(sns.color_palette(sns.diverging_palette(130, 260, center='light'),3))\n",
    "import datetime\n",
    "from statsmodels.tsa.stattools import acf, pacf\n",
    "from statsmodels.graphics.tsaplots import plot_acf, plot_pacf\n",
    "import bokeh\n",
    "import plotly.plotly as py\n",
    "import plotly.graph_objs as go\n",
    "from plotly.offline import iplot, init_notebook_mode\n",
    "import cufflinks\n",
    "cufflinks.go_offline(connected=True)\n",
    "init_notebook_mode(connected=True)\n",
    "\n",
    "from scipy.sparse import coo_matrix, hstack\n",
    "from scipy import stats\n",
    "from scipy import signal\n",
    "\n",
    "%matplotlib inline\n",
    "%config InlineBackend.figure_format = 'retina'\n",
    "\n",
    "sns.set(font_scale=1.5)\n",
    "\n",
    "\n",
    "\n",
    "warnings.simplefilter('ignore')\n",
    "pd.options.display.max_columns = 100"
   ]
  },
  {
   "cell_type": "code",
   "execution_count": null,
   "metadata": {},
   "outputs": [],
   "source": []
  },
  {
   "cell_type": "code",
   "execution_count": 131,
   "metadata": {},
   "outputs": [
    {
     "data": {
      "application/vnd.jupyter.widget-view+json": {
       "model_id": "8147ab761b54492d82c691d93b50607f",
       "version_major": 2,
       "version_minor": 0
      },
      "text/plain": [
       "HBox(children=(IntProgress(value=0, max=30), HTML(value='')))"
      ]
     },
     "metadata": {},
     "output_type": "display_data"
    },
    {
     "name": "stdout",
     "output_type": "stream",
     "text": [
      "\n"
     ]
    },
    {
     "data": {
      "application/vnd.jupyter.widget-view+json": {
       "model_id": "a5dd0fe768e04107a8b5111a4c324010",
       "version_major": 2,
       "version_minor": 0
      },
      "text/plain": [
       "HBox(children=(IntProgress(value=0, max=30), HTML(value='')))"
      ]
     },
     "metadata": {},
     "output_type": "display_data"
    },
    {
     "name": "stdout",
     "output_type": "stream",
     "text": [
      "\n"
     ]
    },
    {
     "data": {
      "application/vnd.jupyter.widget-view+json": {
       "model_id": "e0b745cdc1994fc19579bbc2c36a2015",
       "version_major": 2,
       "version_minor": 0
      },
      "text/plain": [
       "HBox(children=(IntProgress(value=0, max=30), HTML(value='')))"
      ]
     },
     "metadata": {},
     "output_type": "display_data"
    },
    {
     "name": "stdout",
     "output_type": "stream",
     "text": [
      "\n"
     ]
    },
    {
     "data": {
      "application/vnd.jupyter.widget-view+json": {
       "model_id": "382514952eb941f5aede09e5fcf57574",
       "version_major": 2,
       "version_minor": 0
      },
      "text/plain": [
       "HBox(children=(IntProgress(value=0, max=30), HTML(value='')))"
      ]
     },
     "metadata": {},
     "output_type": "display_data"
    },
    {
     "name": "stdout",
     "output_type": "stream",
     "text": [
      "\n"
     ]
    },
    {
     "data": {
      "application/vnd.jupyter.widget-view+json": {
       "model_id": "85f5f115d8254abd880e5bcfe8e60ee3",
       "version_major": 2,
       "version_minor": 0
      },
      "text/plain": [
       "HBox(children=(IntProgress(value=0, max=30), HTML(value='')))"
      ]
     },
     "metadata": {},
     "output_type": "display_data"
    },
    {
     "name": "stdout",
     "output_type": "stream",
     "text": [
      "\n"
     ]
    },
    {
     "data": {
      "application/vnd.jupyter.widget-view+json": {
       "model_id": "83f9f083b06f4613bd4153005404e647",
       "version_major": 2,
       "version_minor": 0
      },
      "text/plain": [
       "HBox(children=(IntProgress(value=0, max=30), HTML(value='')))"
      ]
     },
     "metadata": {},
     "output_type": "display_data"
    },
    {
     "name": "stdout",
     "output_type": "stream",
     "text": [
      "\n"
     ]
    },
    {
     "data": {
      "application/vnd.jupyter.widget-view+json": {
       "model_id": "01cac310aeb945f4be7199ccf652f008",
       "version_major": 2,
       "version_minor": 0
      },
      "text/plain": [
       "HBox(children=(IntProgress(value=0, max=30), HTML(value='')))"
      ]
     },
     "metadata": {},
     "output_type": "display_data"
    },
    {
     "name": "stdout",
     "output_type": "stream",
     "text": [
      "\n"
     ]
    },
    {
     "data": {
      "application/vnd.jupyter.widget-view+json": {
       "model_id": "22a8d437c141428c8e7949c9e033259a",
       "version_major": 2,
       "version_minor": 0
      },
      "text/plain": [
       "HBox(children=(IntProgress(value=0, max=30), HTML(value='')))"
      ]
     },
     "metadata": {},
     "output_type": "display_data"
    },
    {
     "name": "stdout",
     "output_type": "stream",
     "text": [
      "\n"
     ]
    },
    {
     "data": {
      "application/vnd.jupyter.widget-view+json": {
       "model_id": "253d7e07051c4d919a11965a65645677",
       "version_major": 2,
       "version_minor": 0
      },
      "text/plain": [
       "HBox(children=(IntProgress(value=0, max=30), HTML(value='')))"
      ]
     },
     "metadata": {},
     "output_type": "display_data"
    },
    {
     "name": "stdout",
     "output_type": "stream",
     "text": [
      "\n"
     ]
    },
    {
     "data": {
      "application/vnd.jupyter.widget-view+json": {
       "model_id": "e02caed423504cee88b81e8d66a5d69c",
       "version_major": 2,
       "version_minor": 0
      },
      "text/plain": [
       "HBox(children=(IntProgress(value=0, max=30), HTML(value='')))"
      ]
     },
     "metadata": {},
     "output_type": "display_data"
    },
    {
     "name": "stdout",
     "output_type": "stream",
     "text": [
      "\n"
     ]
    },
    {
     "data": {
      "application/vnd.jupyter.widget-view+json": {
       "model_id": "e621f6f7dd504867a6da18a8d48c772e",
       "version_major": 2,
       "version_minor": 0
      },
      "text/plain": [
       "HBox(children=(IntProgress(value=0, max=30), HTML(value='')))"
      ]
     },
     "metadata": {},
     "output_type": "display_data"
    },
    {
     "name": "stdout",
     "output_type": "stream",
     "text": [
      "\n"
     ]
    },
    {
     "data": {
      "application/vnd.jupyter.widget-view+json": {
       "model_id": "6da1feb89d114635a3e85aece09c20b6",
       "version_major": 2,
       "version_minor": 0
      },
      "text/plain": [
       "HBox(children=(IntProgress(value=0, max=30), HTML(value='')))"
      ]
     },
     "metadata": {},
     "output_type": "display_data"
    },
    {
     "name": "stdout",
     "output_type": "stream",
     "text": [
      "\n"
     ]
    },
    {
     "data": {
      "application/vnd.jupyter.widget-view+json": {
       "model_id": "8950fff5a1b94365925a839158477d25",
       "version_major": 2,
       "version_minor": 0
      },
      "text/plain": [
       "HBox(children=(IntProgress(value=0, max=30), HTML(value='')))"
      ]
     },
     "metadata": {},
     "output_type": "display_data"
    },
    {
     "name": "stdout",
     "output_type": "stream",
     "text": [
      "\n"
     ]
    },
    {
     "data": {
      "application/vnd.jupyter.widget-view+json": {
       "model_id": "737847cf138d40a18b9432097e420f90",
       "version_major": 2,
       "version_minor": 0
      },
      "text/plain": [
       "HBox(children=(IntProgress(value=0, max=30), HTML(value='')))"
      ]
     },
     "metadata": {},
     "output_type": "display_data"
    },
    {
     "name": "stdout",
     "output_type": "stream",
     "text": [
      "\n"
     ]
    },
    {
     "data": {
      "application/vnd.jupyter.widget-view+json": {
       "model_id": "c0cb62406ac54de795add1fbf573e350",
       "version_major": 2,
       "version_minor": 0
      },
      "text/plain": [
       "HBox(children=(IntProgress(value=0, max=30), HTML(value='')))"
      ]
     },
     "metadata": {},
     "output_type": "display_data"
    },
    {
     "name": "stdout",
     "output_type": "stream",
     "text": [
      "\n"
     ]
    },
    {
     "data": {
      "application/vnd.jupyter.widget-view+json": {
       "model_id": "1a15b796d399438f8c41c5dc87cd2683",
       "version_major": 2,
       "version_minor": 0
      },
      "text/plain": [
       "HBox(children=(IntProgress(value=0, max=30), HTML(value='')))"
      ]
     },
     "metadata": {},
     "output_type": "display_data"
    },
    {
     "name": "stdout",
     "output_type": "stream",
     "text": [
      "\n"
     ]
    },
    {
     "data": {
      "application/vnd.jupyter.widget-view+json": {
       "model_id": "d162728c9f3a416b9ba4dfced92549b9",
       "version_major": 2,
       "version_minor": 0
      },
      "text/plain": [
       "HBox(children=(IntProgress(value=0, max=30), HTML(value='')))"
      ]
     },
     "metadata": {},
     "output_type": "display_data"
    },
    {
     "name": "stdout",
     "output_type": "stream",
     "text": [
      "\n"
     ]
    },
    {
     "data": {
      "application/vnd.jupyter.widget-view+json": {
       "model_id": "1a0815e4a0a849e58b23c5cdb0ca55e3",
       "version_major": 2,
       "version_minor": 0
      },
      "text/plain": [
       "HBox(children=(IntProgress(value=0, max=30), HTML(value='')))"
      ]
     },
     "metadata": {},
     "output_type": "display_data"
    },
    {
     "name": "stdout",
     "output_type": "stream",
     "text": [
      "\n"
     ]
    },
    {
     "data": {
      "application/vnd.jupyter.widget-view+json": {
       "model_id": "f7ee34494127488da2c08a6cbabde74f",
       "version_major": 2,
       "version_minor": 0
      },
      "text/plain": [
       "HBox(children=(IntProgress(value=0, max=30), HTML(value='')))"
      ]
     },
     "metadata": {},
     "output_type": "display_data"
    },
    {
     "name": "stdout",
     "output_type": "stream",
     "text": [
      "\n"
     ]
    },
    {
     "data": {
      "application/vnd.jupyter.widget-view+json": {
       "model_id": "791d75f8dc24452c9c024bf23444e0b1",
       "version_major": 2,
       "version_minor": 0
      },
      "text/plain": [
       "HBox(children=(IntProgress(value=0, max=30), HTML(value='')))"
      ]
     },
     "metadata": {},
     "output_type": "display_data"
    },
    {
     "name": "stdout",
     "output_type": "stream",
     "text": [
      "\n"
     ]
    },
    {
     "data": {
      "application/vnd.jupyter.widget-view+json": {
       "model_id": "c89bc865e8144d57b1f38c47e106b6e8",
       "version_major": 2,
       "version_minor": 0
      },
      "text/plain": [
       "HBox(children=(IntProgress(value=0, max=30), HTML(value='')))"
      ]
     },
     "metadata": {},
     "output_type": "display_data"
    },
    {
     "name": "stdout",
     "output_type": "stream",
     "text": [
      "\n"
     ]
    },
    {
     "data": {
      "application/vnd.jupyter.widget-view+json": {
       "model_id": "38b2dcf671f2453d9c6f1c63341081b9",
       "version_major": 2,
       "version_minor": 0
      },
      "text/plain": [
       "HBox(children=(IntProgress(value=0, max=30), HTML(value='')))"
      ]
     },
     "metadata": {},
     "output_type": "display_data"
    },
    {
     "name": "stdout",
     "output_type": "stream",
     "text": [
      "\n"
     ]
    },
    {
     "data": {
      "application/vnd.jupyter.widget-view+json": {
       "model_id": "828d709e13304d6d91ab43190c6531b1",
       "version_major": 2,
       "version_minor": 0
      },
      "text/plain": [
       "HBox(children=(IntProgress(value=0, max=30), HTML(value='')))"
      ]
     },
     "metadata": {},
     "output_type": "display_data"
    },
    {
     "name": "stdout",
     "output_type": "stream",
     "text": [
      "\n"
     ]
    },
    {
     "data": {
      "application/vnd.jupyter.widget-view+json": {
       "model_id": "baf67343015f4f5a942eef3d4adfd9ae",
       "version_major": 2,
       "version_minor": 0
      },
      "text/plain": [
       "HBox(children=(IntProgress(value=0, max=30), HTML(value='')))"
      ]
     },
     "metadata": {},
     "output_type": "display_data"
    },
    {
     "name": "stdout",
     "output_type": "stream",
     "text": [
      "\n"
     ]
    },
    {
     "data": {
      "application/vnd.jupyter.widget-view+json": {
       "model_id": "56f6a5c52832440b884c317be3b69e2f",
       "version_major": 2,
       "version_minor": 0
      },
      "text/plain": [
       "HBox(children=(IntProgress(value=0, max=30), HTML(value='')))"
      ]
     },
     "metadata": {},
     "output_type": "display_data"
    },
    {
     "name": "stdout",
     "output_type": "stream",
     "text": [
      "\n"
     ]
    },
    {
     "data": {
      "application/vnd.jupyter.widget-view+json": {
       "model_id": "cee35e62d6f74f359f16ba070019ad2a",
       "version_major": 2,
       "version_minor": 0
      },
      "text/plain": [
       "HBox(children=(IntProgress(value=0, max=30), HTML(value='')))"
      ]
     },
     "metadata": {},
     "output_type": "display_data"
    },
    {
     "name": "stdout",
     "output_type": "stream",
     "text": [
      "\n"
     ]
    },
    {
     "data": {
      "application/vnd.jupyter.widget-view+json": {
       "model_id": "0f6dfb680c524d4eb5b315460533c0f1",
       "version_major": 2,
       "version_minor": 0
      },
      "text/plain": [
       "HBox(children=(IntProgress(value=0, max=30), HTML(value='')))"
      ]
     },
     "metadata": {},
     "output_type": "display_data"
    },
    {
     "name": "stdout",
     "output_type": "stream",
     "text": [
      "\n"
     ]
    },
    {
     "data": {
      "application/vnd.jupyter.widget-view+json": {
       "model_id": "304af311c9c047f8a0c83769c813175f",
       "version_major": 2,
       "version_minor": 0
      },
      "text/plain": [
       "HBox(children=(IntProgress(value=0, max=30), HTML(value='')))"
      ]
     },
     "metadata": {},
     "output_type": "display_data"
    },
    {
     "name": "stdout",
     "output_type": "stream",
     "text": [
      "\n"
     ]
    },
    {
     "data": {
      "application/vnd.jupyter.widget-view+json": {
       "model_id": "d846f7bee08446309e28a243b4cecfd0",
       "version_major": 2,
       "version_minor": 0
      },
      "text/plain": [
       "HBox(children=(IntProgress(value=0, max=30), HTML(value='')))"
      ]
     },
     "metadata": {},
     "output_type": "display_data"
    },
    {
     "name": "stdout",
     "output_type": "stream",
     "text": [
      "\n"
     ]
    },
    {
     "data": {
      "application/vnd.jupyter.widget-view+json": {
       "model_id": "1ba6a6bdc0e04c5d8f1adf529dc723a0",
       "version_major": 2,
       "version_minor": 0
      },
      "text/plain": [
       "HBox(children=(IntProgress(value=0, max=30), HTML(value='')))"
      ]
     },
     "metadata": {},
     "output_type": "display_data"
    },
    {
     "name": "stdout",
     "output_type": "stream",
     "text": [
      "\n"
     ]
    },
    {
     "data": {
      "application/vnd.jupyter.widget-view+json": {
       "model_id": "601a0decba7944f28cca2075fa546e0c",
       "version_major": 2,
       "version_minor": 0
      },
      "text/plain": [
       "HBox(children=(IntProgress(value=0, max=30), HTML(value='')))"
      ]
     },
     "metadata": {},
     "output_type": "display_data"
    },
    {
     "name": "stdout",
     "output_type": "stream",
     "text": [
      "\n"
     ]
    },
    {
     "data": {
      "application/vnd.jupyter.widget-view+json": {
       "model_id": "4fccec890bd04ceb8938d6775eed99e9",
       "version_major": 2,
       "version_minor": 0
      },
      "text/plain": [
       "HBox(children=(IntProgress(value=0, max=30), HTML(value='')))"
      ]
     },
     "metadata": {},
     "output_type": "display_data"
    },
    {
     "name": "stdout",
     "output_type": "stream",
     "text": [
      "\n"
     ]
    },
    {
     "data": {
      "application/vnd.jupyter.widget-view+json": {
       "model_id": "cb6100b680354c7cbaf5c389cf7046e6",
       "version_major": 2,
       "version_minor": 0
      },
      "text/plain": [
       "HBox(children=(IntProgress(value=0, max=30), HTML(value='')))"
      ]
     },
     "metadata": {},
     "output_type": "display_data"
    },
    {
     "name": "stdout",
     "output_type": "stream",
     "text": [
      "\n"
     ]
    },
    {
     "data": {
      "application/vnd.jupyter.widget-view+json": {
       "model_id": "4bb52c36f42c4bd789a81eba7411eb59",
       "version_major": 2,
       "version_minor": 0
      },
      "text/plain": [
       "HBox(children=(IntProgress(value=0, max=30), HTML(value='')))"
      ]
     },
     "metadata": {},
     "output_type": "display_data"
    },
    {
     "name": "stdout",
     "output_type": "stream",
     "text": [
      "\n"
     ]
    },
    {
     "data": {
      "application/vnd.jupyter.widget-view+json": {
       "model_id": "ff8c50359c4449faa8c8d1062068eed4",
       "version_major": 2,
       "version_minor": 0
      },
      "text/plain": [
       "HBox(children=(IntProgress(value=0, max=30), HTML(value='')))"
      ]
     },
     "metadata": {},
     "output_type": "display_data"
    },
    {
     "name": "stdout",
     "output_type": "stream",
     "text": [
      "\n"
     ]
    },
    {
     "data": {
      "application/vnd.jupyter.widget-view+json": {
       "model_id": "b02341db8c3d429faaa793e71c8f537f",
       "version_major": 2,
       "version_minor": 0
      },
      "text/plain": [
       "HBox(children=(IntProgress(value=0, max=30), HTML(value='')))"
      ]
     },
     "metadata": {},
     "output_type": "display_data"
    },
    {
     "name": "stdout",
     "output_type": "stream",
     "text": [
      "\n"
     ]
    },
    {
     "data": {
      "application/vnd.jupyter.widget-view+json": {
       "model_id": "3b98be515b30452e93dc080df25f868c",
       "version_major": 2,
       "version_minor": 0
      },
      "text/plain": [
       "HBox(children=(IntProgress(value=0, max=30), HTML(value='')))"
      ]
     },
     "metadata": {},
     "output_type": "display_data"
    },
    {
     "name": "stdout",
     "output_type": "stream",
     "text": [
      "\n"
     ]
    },
    {
     "data": {
      "application/vnd.jupyter.widget-view+json": {
       "model_id": "a5c26097d0284a1397c9c25a4a045e22",
       "version_major": 2,
       "version_minor": 0
      },
      "text/plain": [
       "HBox(children=(IntProgress(value=0, max=30), HTML(value='')))"
      ]
     },
     "metadata": {},
     "output_type": "display_data"
    },
    {
     "name": "stdout",
     "output_type": "stream",
     "text": [
      "\n"
     ]
    },
    {
     "data": {
      "application/vnd.jupyter.widget-view+json": {
       "model_id": "73995284c2544cfb863c208639ad42a3",
       "version_major": 2,
       "version_minor": 0
      },
      "text/plain": [
       "HBox(children=(IntProgress(value=0, max=30), HTML(value='')))"
      ]
     },
     "metadata": {},
     "output_type": "display_data"
    },
    {
     "name": "stdout",
     "output_type": "stream",
     "text": [
      "\n"
     ]
    },
    {
     "data": {
      "application/vnd.jupyter.widget-view+json": {
       "model_id": "dfeb0236aa54478e8aeef382c97a8c8d",
       "version_major": 2,
       "version_minor": 0
      },
      "text/plain": [
       "HBox(children=(IntProgress(value=0, max=30), HTML(value='')))"
      ]
     },
     "metadata": {},
     "output_type": "display_data"
    },
    {
     "name": "stdout",
     "output_type": "stream",
     "text": [
      "\n"
     ]
    },
    {
     "data": {
      "application/vnd.jupyter.widget-view+json": {
       "model_id": "7e54cb19ad624c589511f2d4b93d4c6a",
       "version_major": 2,
       "version_minor": 0
      },
      "text/plain": [
       "HBox(children=(IntProgress(value=0, max=30), HTML(value='')))"
      ]
     },
     "metadata": {},
     "output_type": "display_data"
    },
    {
     "name": "stdout",
     "output_type": "stream",
     "text": [
      "\n"
     ]
    },
    {
     "data": {
      "application/vnd.jupyter.widget-view+json": {
       "model_id": "7e811688ba7a4db48fb225fb3398f5a0",
       "version_major": 2,
       "version_minor": 0
      },
      "text/plain": [
       "HBox(children=(IntProgress(value=0, max=30), HTML(value='')))"
      ]
     },
     "metadata": {},
     "output_type": "display_data"
    },
    {
     "name": "stdout",
     "output_type": "stream",
     "text": [
      "\n"
     ]
    },
    {
     "data": {
      "application/vnd.jupyter.widget-view+json": {
       "model_id": "077bf5c56baa488bbfdd5ed0daee4a96",
       "version_major": 2,
       "version_minor": 0
      },
      "text/plain": [
       "HBox(children=(IntProgress(value=0, max=30), HTML(value='')))"
      ]
     },
     "metadata": {},
     "output_type": "display_data"
    },
    {
     "name": "stdout",
     "output_type": "stream",
     "text": [
      "\n"
     ]
    },
    {
     "data": {
      "application/vnd.jupyter.widget-view+json": {
       "model_id": "a0dfa6ac527b4261afbfc3ecb98dd8dd",
       "version_major": 2,
       "version_minor": 0
      },
      "text/plain": [
       "HBox(children=(IntProgress(value=0, max=30), HTML(value='')))"
      ]
     },
     "metadata": {},
     "output_type": "display_data"
    },
    {
     "name": "stdout",
     "output_type": "stream",
     "text": [
      "\n"
     ]
    },
    {
     "data": {
      "application/vnd.jupyter.widget-view+json": {
       "model_id": "c667bc587a1e478dbe8e0d4e07fd9637",
       "version_major": 2,
       "version_minor": 0
      },
      "text/plain": [
       "HBox(children=(IntProgress(value=0, max=30), HTML(value='')))"
      ]
     },
     "metadata": {},
     "output_type": "display_data"
    },
    {
     "name": "stdout",
     "output_type": "stream",
     "text": [
      "\n"
     ]
    },
    {
     "data": {
      "application/vnd.jupyter.widget-view+json": {
       "model_id": "a4161b5ae56b4bf3b99857a1ccd0d1c6",
       "version_major": 2,
       "version_minor": 0
      },
      "text/plain": [
       "HBox(children=(IntProgress(value=0, max=30), HTML(value='')))"
      ]
     },
     "metadata": {},
     "output_type": "display_data"
    },
    {
     "name": "stdout",
     "output_type": "stream",
     "text": [
      "\n"
     ]
    },
    {
     "data": {
      "application/vnd.jupyter.widget-view+json": {
       "model_id": "c9ae069e9367464e92f533675e516aef",
       "version_major": 2,
       "version_minor": 0
      },
      "text/plain": [
       "HBox(children=(IntProgress(value=0, max=30), HTML(value='')))"
      ]
     },
     "metadata": {},
     "output_type": "display_data"
    },
    {
     "name": "stdout",
     "output_type": "stream",
     "text": [
      "\n"
     ]
    },
    {
     "data": {
      "application/vnd.jupyter.widget-view+json": {
       "model_id": "37d49782151f4bc9b2e4ad9f898a2525",
       "version_major": 2,
       "version_minor": 0
      },
      "text/plain": [
       "HBox(children=(IntProgress(value=0, max=30), HTML(value='')))"
      ]
     },
     "metadata": {},
     "output_type": "display_data"
    },
    {
     "name": "stdout",
     "output_type": "stream",
     "text": [
      "\n"
     ]
    },
    {
     "data": {
      "application/vnd.jupyter.widget-view+json": {
       "model_id": "3917c68c07aa4ef3acf1100e025260f4",
       "version_major": 2,
       "version_minor": 0
      },
      "text/plain": [
       "HBox(children=(IntProgress(value=0, max=30), HTML(value='')))"
      ]
     },
     "metadata": {},
     "output_type": "display_data"
    },
    {
     "name": "stdout",
     "output_type": "stream",
     "text": [
      "\n"
     ]
    },
    {
     "data": {
      "application/vnd.jupyter.widget-view+json": {
       "model_id": "9d4cc13d64784e97a0e0491f3ede735d",
       "version_major": 2,
       "version_minor": 0
      },
      "text/plain": [
       "HBox(children=(IntProgress(value=0, max=30), HTML(value='')))"
      ]
     },
     "metadata": {},
     "output_type": "display_data"
    },
    {
     "name": "stdout",
     "output_type": "stream",
     "text": [
      "\n"
     ]
    },
    {
     "data": {
      "application/vnd.jupyter.widget-view+json": {
       "model_id": "cc7e2cccde564a338b5f53998f66d8d6",
       "version_major": 2,
       "version_minor": 0
      },
      "text/plain": [
       "HBox(children=(IntProgress(value=0, max=30), HTML(value='')))"
      ]
     },
     "metadata": {},
     "output_type": "display_data"
    },
    {
     "name": "stdout",
     "output_type": "stream",
     "text": [
      "\n"
     ]
    },
    {
     "data": {
      "application/vnd.jupyter.widget-view+json": {
       "model_id": "a3a04600081b4cd59979bcdd50d90fcb",
       "version_major": 2,
       "version_minor": 0
      },
      "text/plain": [
       "HBox(children=(IntProgress(value=0, max=30), HTML(value='')))"
      ]
     },
     "metadata": {},
     "output_type": "display_data"
    },
    {
     "name": "stdout",
     "output_type": "stream",
     "text": [
      "\n"
     ]
    },
    {
     "data": {
      "application/vnd.jupyter.widget-view+json": {
       "model_id": "31aa7f3c401c4bd08e3cd29a32d614ea",
       "version_major": 2,
       "version_minor": 0
      },
      "text/plain": [
       "HBox(children=(IntProgress(value=0, max=30), HTML(value='')))"
      ]
     },
     "metadata": {},
     "output_type": "display_data"
    },
    {
     "name": "stdout",
     "output_type": "stream",
     "text": [
      "\n"
     ]
    },
    {
     "data": {
      "application/vnd.jupyter.widget-view+json": {
       "model_id": "97545a6f84da4298861c22f450a7bc9e",
       "version_major": 2,
       "version_minor": 0
      },
      "text/plain": [
       "HBox(children=(IntProgress(value=0, max=30), HTML(value='')))"
      ]
     },
     "metadata": {},
     "output_type": "display_data"
    },
    {
     "name": "stdout",
     "output_type": "stream",
     "text": [
      "\n"
     ]
    },
    {
     "data": {
      "application/vnd.jupyter.widget-view+json": {
       "model_id": "dbc289ab38dd4209ac05c1b7ee00ec64",
       "version_major": 2,
       "version_minor": 0
      },
      "text/plain": [
       "HBox(children=(IntProgress(value=0, max=30), HTML(value='')))"
      ]
     },
     "metadata": {},
     "output_type": "display_data"
    },
    {
     "name": "stdout",
     "output_type": "stream",
     "text": [
      "\n"
     ]
    },
    {
     "data": {
      "application/vnd.jupyter.widget-view+json": {
       "model_id": "fa9eb96c43a44beb96479eaac6efdc91",
       "version_major": 2,
       "version_minor": 0
      },
      "text/plain": [
       "HBox(children=(IntProgress(value=0, max=30), HTML(value='')))"
      ]
     },
     "metadata": {},
     "output_type": "display_data"
    },
    {
     "name": "stdout",
     "output_type": "stream",
     "text": [
      "\n"
     ]
    },
    {
     "data": {
      "application/vnd.jupyter.widget-view+json": {
       "model_id": "feb7b6dccbaf466384bf3f56375e7b96",
       "version_major": 2,
       "version_minor": 0
      },
      "text/plain": [
       "HBox(children=(IntProgress(value=0, max=30), HTML(value='')))"
      ]
     },
     "metadata": {},
     "output_type": "display_data"
    },
    {
     "name": "stdout",
     "output_type": "stream",
     "text": [
      "\n"
     ]
    },
    {
     "data": {
      "application/vnd.jupyter.widget-view+json": {
       "model_id": "290409366c17497990d952185c51a869",
       "version_major": 2,
       "version_minor": 0
      },
      "text/plain": [
       "HBox(children=(IntProgress(value=0, max=30), HTML(value='')))"
      ]
     },
     "metadata": {},
     "output_type": "display_data"
    },
    {
     "name": "stdout",
     "output_type": "stream",
     "text": [
      "\n"
     ]
    },
    {
     "data": {
      "application/vnd.jupyter.widget-view+json": {
       "model_id": "edb3e9252cd14dbbb138b265bef8e157",
       "version_major": 2,
       "version_minor": 0
      },
      "text/plain": [
       "HBox(children=(IntProgress(value=0, max=30), HTML(value='')))"
      ]
     },
     "metadata": {},
     "output_type": "display_data"
    },
    {
     "name": "stdout",
     "output_type": "stream",
     "text": [
      "\n"
     ]
    },
    {
     "data": {
      "application/vnd.jupyter.widget-view+json": {
       "model_id": "9389442bd10148719a0817f7faa20591",
       "version_major": 2,
       "version_minor": 0
      },
      "text/plain": [
       "HBox(children=(IntProgress(value=0, max=30), HTML(value='')))"
      ]
     },
     "metadata": {},
     "output_type": "display_data"
    },
    {
     "name": "stdout",
     "output_type": "stream",
     "text": [
      "\n"
     ]
    },
    {
     "data": {
      "application/vnd.jupyter.widget-view+json": {
       "model_id": "df98a28f156d4ccc858eafdb509319bc",
       "version_major": 2,
       "version_minor": 0
      },
      "text/plain": [
       "HBox(children=(IntProgress(value=0, max=30), HTML(value='')))"
      ]
     },
     "metadata": {},
     "output_type": "display_data"
    },
    {
     "name": "stdout",
     "output_type": "stream",
     "text": [
      "\n"
     ]
    },
    {
     "data": {
      "application/vnd.jupyter.widget-view+json": {
       "model_id": "5c90cdadde1c40d0bc4ba3d6f26a6cbf",
       "version_major": 2,
       "version_minor": 0
      },
      "text/plain": [
       "HBox(children=(IntProgress(value=0, max=30), HTML(value='')))"
      ]
     },
     "metadata": {},
     "output_type": "display_data"
    },
    {
     "name": "stdout",
     "output_type": "stream",
     "text": [
      "\n"
     ]
    },
    {
     "data": {
      "application/vnd.jupyter.widget-view+json": {
       "model_id": "e6c6604540d9482fa657576c9742f5cc",
       "version_major": 2,
       "version_minor": 0
      },
      "text/plain": [
       "HBox(children=(IntProgress(value=0, max=30), HTML(value='')))"
      ]
     },
     "metadata": {},
     "output_type": "display_data"
    },
    {
     "name": "stdout",
     "output_type": "stream",
     "text": [
      "\n"
     ]
    },
    {
     "data": {
      "application/vnd.jupyter.widget-view+json": {
       "model_id": "5ca9b50727c14233bc6e3a268b51d813",
       "version_major": 2,
       "version_minor": 0
      },
      "text/plain": [
       "HBox(children=(IntProgress(value=0, max=30), HTML(value='')))"
      ]
     },
     "metadata": {},
     "output_type": "display_data"
    },
    {
     "name": "stdout",
     "output_type": "stream",
     "text": [
      "\n"
     ]
    },
    {
     "data": {
      "application/vnd.jupyter.widget-view+json": {
       "model_id": "8eff9cb758554c35860413c7fd78503c",
       "version_major": 2,
       "version_minor": 0
      },
      "text/plain": [
       "HBox(children=(IntProgress(value=0, max=30), HTML(value='')))"
      ]
     },
     "metadata": {},
     "output_type": "display_data"
    },
    {
     "name": "stdout",
     "output_type": "stream",
     "text": [
      "\n"
     ]
    },
    {
     "data": {
      "application/vnd.jupyter.widget-view+json": {
       "model_id": "08a7425b5f76483fae42818967c16fd0",
       "version_major": 2,
       "version_minor": 0
      },
      "text/plain": [
       "HBox(children=(IntProgress(value=0, max=30), HTML(value='')))"
      ]
     },
     "metadata": {},
     "output_type": "display_data"
    },
    {
     "name": "stdout",
     "output_type": "stream",
     "text": [
      "\n"
     ]
    },
    {
     "data": {
      "application/vnd.jupyter.widget-view+json": {
       "model_id": "d7cecc35680342448ace3744901a1e99",
       "version_major": 2,
       "version_minor": 0
      },
      "text/plain": [
       "HBox(children=(IntProgress(value=0, max=30), HTML(value='')))"
      ]
     },
     "metadata": {},
     "output_type": "display_data"
    },
    {
     "name": "stdout",
     "output_type": "stream",
     "text": [
      "\n"
     ]
    },
    {
     "data": {
      "application/vnd.jupyter.widget-view+json": {
       "model_id": "475d8bb67ea44361a303a9f834012bb9",
       "version_major": 2,
       "version_minor": 0
      },
      "text/plain": [
       "HBox(children=(IntProgress(value=0, max=30), HTML(value='')))"
      ]
     },
     "metadata": {},
     "output_type": "display_data"
    },
    {
     "name": "stdout",
     "output_type": "stream",
     "text": [
      "\n"
     ]
    },
    {
     "data": {
      "application/vnd.jupyter.widget-view+json": {
       "model_id": "8b1680fdf3b34ad29c2a70b63e0a9493",
       "version_major": 2,
       "version_minor": 0
      },
      "text/plain": [
       "HBox(children=(IntProgress(value=0, max=30), HTML(value='')))"
      ]
     },
     "metadata": {},
     "output_type": "display_data"
    },
    {
     "name": "stdout",
     "output_type": "stream",
     "text": [
      "\n"
     ]
    },
    {
     "data": {
      "application/vnd.jupyter.widget-view+json": {
       "model_id": "7bf64feb7f7b4df7ae80d34036b4f7f6",
       "version_major": 2,
       "version_minor": 0
      },
      "text/plain": [
       "HBox(children=(IntProgress(value=0, max=30), HTML(value='')))"
      ]
     },
     "metadata": {},
     "output_type": "display_data"
    },
    {
     "name": "stdout",
     "output_type": "stream",
     "text": [
      "\n"
     ]
    },
    {
     "data": {
      "application/vnd.jupyter.widget-view+json": {
       "model_id": "c69e3a871da1450a958be728de4a8506",
       "version_major": 2,
       "version_minor": 0
      },
      "text/plain": [
       "HBox(children=(IntProgress(value=0, max=30), HTML(value='')))"
      ]
     },
     "metadata": {},
     "output_type": "display_data"
    },
    {
     "name": "stdout",
     "output_type": "stream",
     "text": [
      "\n"
     ]
    },
    {
     "data": {
      "application/vnd.jupyter.widget-view+json": {
       "model_id": "dbae14c2559c41e4a6843d355e5bda03",
       "version_major": 2,
       "version_minor": 0
      },
      "text/plain": [
       "HBox(children=(IntProgress(value=0, max=30), HTML(value='')))"
      ]
     },
     "metadata": {},
     "output_type": "display_data"
    },
    {
     "name": "stdout",
     "output_type": "stream",
     "text": [
      "\n"
     ]
    },
    {
     "data": {
      "application/vnd.jupyter.widget-view+json": {
       "model_id": "97ddb90dc1ca42be91ee84469218b2a7",
       "version_major": 2,
       "version_minor": 0
      },
      "text/plain": [
       "HBox(children=(IntProgress(value=0, max=30), HTML(value='')))"
      ]
     },
     "metadata": {},
     "output_type": "display_data"
    },
    {
     "name": "stdout",
     "output_type": "stream",
     "text": [
      "\n"
     ]
    },
    {
     "data": {
      "application/vnd.jupyter.widget-view+json": {
       "model_id": "a07e9ff30030401db9b1f05086145ed9",
       "version_major": 2,
       "version_minor": 0
      },
      "text/plain": [
       "HBox(children=(IntProgress(value=0, max=30), HTML(value='')))"
      ]
     },
     "metadata": {},
     "output_type": "display_data"
    },
    {
     "name": "stdout",
     "output_type": "stream",
     "text": [
      "\n"
     ]
    },
    {
     "data": {
      "application/vnd.jupyter.widget-view+json": {
       "model_id": "abfba2374d6a4a52ba865b688ad29458",
       "version_major": 2,
       "version_minor": 0
      },
      "text/plain": [
       "HBox(children=(IntProgress(value=0, max=30), HTML(value='')))"
      ]
     },
     "metadata": {},
     "output_type": "display_data"
    },
    {
     "name": "stdout",
     "output_type": "stream",
     "text": [
      "\n"
     ]
    },
    {
     "data": {
      "application/vnd.jupyter.widget-view+json": {
       "model_id": "5136b1b4f2c64a8b861e2ddd08e4ce6e",
       "version_major": 2,
       "version_minor": 0
      },
      "text/plain": [
       "HBox(children=(IntProgress(value=0, max=30), HTML(value='')))"
      ]
     },
     "metadata": {},
     "output_type": "display_data"
    },
    {
     "name": "stdout",
     "output_type": "stream",
     "text": [
      "\n"
     ]
    },
    {
     "data": {
      "application/vnd.jupyter.widget-view+json": {
       "model_id": "dbd2732f9ef246c4862479c81358f1c6",
       "version_major": 2,
       "version_minor": 0
      },
      "text/plain": [
       "HBox(children=(IntProgress(value=0, max=30), HTML(value='')))"
      ]
     },
     "metadata": {},
     "output_type": "display_data"
    },
    {
     "name": "stdout",
     "output_type": "stream",
     "text": [
      "\n"
     ]
    },
    {
     "data": {
      "application/vnd.jupyter.widget-view+json": {
       "model_id": "f51b4c69336e4ce09de7761521e7de8a",
       "version_major": 2,
       "version_minor": 0
      },
      "text/plain": [
       "HBox(children=(IntProgress(value=0, max=30), HTML(value='')))"
      ]
     },
     "metadata": {},
     "output_type": "display_data"
    },
    {
     "name": "stdout",
     "output_type": "stream",
     "text": [
      "\n"
     ]
    },
    {
     "data": {
      "application/vnd.jupyter.widget-view+json": {
       "model_id": "31062131e0af4e3092daba9a9d9a2236",
       "version_major": 2,
       "version_minor": 0
      },
      "text/plain": [
       "HBox(children=(IntProgress(value=0, max=30), HTML(value='')))"
      ]
     },
     "metadata": {},
     "output_type": "display_data"
    },
    {
     "name": "stdout",
     "output_type": "stream",
     "text": [
      "\n"
     ]
    },
    {
     "data": {
      "application/vnd.jupyter.widget-view+json": {
       "model_id": "2aa6aa02275c4022aedca6bd329cd0e1",
       "version_major": 2,
       "version_minor": 0
      },
      "text/plain": [
       "HBox(children=(IntProgress(value=0, max=30), HTML(value='')))"
      ]
     },
     "metadata": {},
     "output_type": "display_data"
    },
    {
     "name": "stdout",
     "output_type": "stream",
     "text": [
      "\n"
     ]
    },
    {
     "data": {
      "application/vnd.jupyter.widget-view+json": {
       "model_id": "2caac84584244539a4a4193e1309386b",
       "version_major": 2,
       "version_minor": 0
      },
      "text/plain": [
       "HBox(children=(IntProgress(value=0, max=30), HTML(value='')))"
      ]
     },
     "metadata": {},
     "output_type": "display_data"
    },
    {
     "name": "stdout",
     "output_type": "stream",
     "text": [
      "\n"
     ]
    },
    {
     "data": {
      "application/vnd.jupyter.widget-view+json": {
       "model_id": "b3997d59ff5c4fa287c4e1661aa50f48",
       "version_major": 2,
       "version_minor": 0
      },
      "text/plain": [
       "HBox(children=(IntProgress(value=0, max=30), HTML(value='')))"
      ]
     },
     "metadata": {},
     "output_type": "display_data"
    },
    {
     "name": "stdout",
     "output_type": "stream",
     "text": [
      "\n"
     ]
    },
    {
     "data": {
      "application/vnd.jupyter.widget-view+json": {
       "model_id": "a77e5ee1320042299a250e13256f2946",
       "version_major": 2,
       "version_minor": 0
      },
      "text/plain": [
       "HBox(children=(IntProgress(value=0, max=30), HTML(value='')))"
      ]
     },
     "metadata": {},
     "output_type": "display_data"
    },
    {
     "name": "stdout",
     "output_type": "stream",
     "text": [
      "\n"
     ]
    },
    {
     "data": {
      "application/vnd.jupyter.widget-view+json": {
       "model_id": "6e066e2f99a14f87a1363826415178fd",
       "version_major": 2,
       "version_minor": 0
      },
      "text/plain": [
       "HBox(children=(IntProgress(value=0, max=30), HTML(value='')))"
      ]
     },
     "metadata": {},
     "output_type": "display_data"
    },
    {
     "name": "stdout",
     "output_type": "stream",
     "text": [
      "\n"
     ]
    },
    {
     "data": {
      "application/vnd.jupyter.widget-view+json": {
       "model_id": "4552c0c50e4d43feb608fa0a50dec01a",
       "version_major": 2,
       "version_minor": 0
      },
      "text/plain": [
       "HBox(children=(IntProgress(value=0, max=30), HTML(value='')))"
      ]
     },
     "metadata": {},
     "output_type": "display_data"
    },
    {
     "name": "stdout",
     "output_type": "stream",
     "text": [
      "\n"
     ]
    },
    {
     "data": {
      "application/vnd.jupyter.widget-view+json": {
       "model_id": "0f71b74e9319485294699d69ede59d94",
       "version_major": 2,
       "version_minor": 0
      },
      "text/plain": [
       "HBox(children=(IntProgress(value=0, max=30), HTML(value='')))"
      ]
     },
     "metadata": {},
     "output_type": "display_data"
    },
    {
     "name": "stdout",
     "output_type": "stream",
     "text": [
      "\n"
     ]
    },
    {
     "data": {
      "application/vnd.jupyter.widget-view+json": {
       "model_id": "8cbfcb8bd3754350920a3bb18b5ec1bc",
       "version_major": 2,
       "version_minor": 0
      },
      "text/plain": [
       "HBox(children=(IntProgress(value=0, max=30), HTML(value='')))"
      ]
     },
     "metadata": {},
     "output_type": "display_data"
    },
    {
     "name": "stdout",
     "output_type": "stream",
     "text": [
      "\n"
     ]
    },
    {
     "data": {
      "application/vnd.jupyter.widget-view+json": {
       "model_id": "dd4917817ab341c9ad3ee60fbd4bc3c8",
       "version_major": 2,
       "version_minor": 0
      },
      "text/plain": [
       "HBox(children=(IntProgress(value=0, max=30), HTML(value='')))"
      ]
     },
     "metadata": {},
     "output_type": "display_data"
    },
    {
     "name": "stdout",
     "output_type": "stream",
     "text": [
      "\n"
     ]
    },
    {
     "data": {
      "application/vnd.jupyter.widget-view+json": {
       "model_id": "77d1122634454c44a33b1fdc4838f44b",
       "version_major": 2,
       "version_minor": 0
      },
      "text/plain": [
       "HBox(children=(IntProgress(value=0, max=30), HTML(value='')))"
      ]
     },
     "metadata": {},
     "output_type": "display_data"
    },
    {
     "name": "stdout",
     "output_type": "stream",
     "text": [
      "\n"
     ]
    },
    {
     "data": {
      "application/vnd.jupyter.widget-view+json": {
       "model_id": "8878062f5fb54b9f9024c55061a615c9",
       "version_major": 2,
       "version_minor": 0
      },
      "text/plain": [
       "HBox(children=(IntProgress(value=0, max=30), HTML(value='')))"
      ]
     },
     "metadata": {},
     "output_type": "display_data"
    },
    {
     "name": "stdout",
     "output_type": "stream",
     "text": [
      "\n"
     ]
    },
    {
     "data": {
      "application/vnd.jupyter.widget-view+json": {
       "model_id": "08fecc1c7025412da4d846940e17d3e4",
       "version_major": 2,
       "version_minor": 0
      },
      "text/plain": [
       "HBox(children=(IntProgress(value=0, max=30), HTML(value='')))"
      ]
     },
     "metadata": {},
     "output_type": "display_data"
    },
    {
     "name": "stdout",
     "output_type": "stream",
     "text": [
      "\n"
     ]
    },
    {
     "data": {
      "application/vnd.jupyter.widget-view+json": {
       "model_id": "a0e13cd086244fcf8293f0fc36ad8403",
       "version_major": 2,
       "version_minor": 0
      },
      "text/plain": [
       "HBox(children=(IntProgress(value=0, max=30), HTML(value='')))"
      ]
     },
     "metadata": {},
     "output_type": "display_data"
    },
    {
     "name": "stdout",
     "output_type": "stream",
     "text": [
      "\n"
     ]
    },
    {
     "data": {
      "application/vnd.jupyter.widget-view+json": {
       "model_id": "ee19767b85a64a7ba554eae5823fe6a5",
       "version_major": 2,
       "version_minor": 0
      },
      "text/plain": [
       "HBox(children=(IntProgress(value=0, max=30), HTML(value='')))"
      ]
     },
     "metadata": {},
     "output_type": "display_data"
    },
    {
     "name": "stdout",
     "output_type": "stream",
     "text": [
      "\n"
     ]
    },
    {
     "data": {
      "application/vnd.jupyter.widget-view+json": {
       "model_id": "b083659a32e44a4a9b66d98e025f567a",
       "version_major": 2,
       "version_minor": 0
      },
      "text/plain": [
       "HBox(children=(IntProgress(value=0, max=30), HTML(value='')))"
      ]
     },
     "metadata": {},
     "output_type": "display_data"
    },
    {
     "name": "stdout",
     "output_type": "stream",
     "text": [
      "\n"
     ]
    },
    {
     "data": {
      "application/vnd.jupyter.widget-view+json": {
       "model_id": "51abf6619be24831ad606f086f4d2957",
       "version_major": 2,
       "version_minor": 0
      },
      "text/plain": [
       "HBox(children=(IntProgress(value=0, max=30), HTML(value='')))"
      ]
     },
     "metadata": {},
     "output_type": "display_data"
    },
    {
     "name": "stdout",
     "output_type": "stream",
     "text": [
      "\n"
     ]
    },
    {
     "data": {
      "application/vnd.jupyter.widget-view+json": {
       "model_id": "0f23a361458c4f32b3f717612b40fe56",
       "version_major": 2,
       "version_minor": 0
      },
      "text/plain": [
       "HBox(children=(IntProgress(value=0, max=30), HTML(value='')))"
      ]
     },
     "metadata": {},
     "output_type": "display_data"
    },
    {
     "name": "stdout",
     "output_type": "stream",
     "text": [
      "\n"
     ]
    },
    {
     "data": {
      "application/vnd.jupyter.widget-view+json": {
       "model_id": "9257950ae38e4c789007b919a7b245e4",
       "version_major": 2,
       "version_minor": 0
      },
      "text/plain": [
       "HBox(children=(IntProgress(value=0, max=30), HTML(value='')))"
      ]
     },
     "metadata": {},
     "output_type": "display_data"
    },
    {
     "name": "stdout",
     "output_type": "stream",
     "text": [
      "\n"
     ]
    },
    {
     "data": {
      "application/vnd.jupyter.widget-view+json": {
       "model_id": "621849cfb7cb4044b73d48907b8ed468",
       "version_major": 2,
       "version_minor": 0
      },
      "text/plain": [
       "HBox(children=(IntProgress(value=0, max=30), HTML(value='')))"
      ]
     },
     "metadata": {},
     "output_type": "display_data"
    },
    {
     "name": "stdout",
     "output_type": "stream",
     "text": [
      "\n"
     ]
    },
    {
     "data": {
      "application/vnd.jupyter.widget-view+json": {
       "model_id": "5a2c72294ce748f5bb6d7e252ddb3df1",
       "version_major": 2,
       "version_minor": 0
      },
      "text/plain": [
       "HBox(children=(IntProgress(value=0, max=30), HTML(value='')))"
      ]
     },
     "metadata": {},
     "output_type": "display_data"
    },
    {
     "name": "stdout",
     "output_type": "stream",
     "text": [
      "\n"
     ]
    },
    {
     "data": {
      "application/vnd.jupyter.widget-view+json": {
       "model_id": "ccd9a8e045164c02b6b4f06681701c29",
       "version_major": 2,
       "version_minor": 0
      },
      "text/plain": [
       "HBox(children=(IntProgress(value=0, max=30), HTML(value='')))"
      ]
     },
     "metadata": {},
     "output_type": "display_data"
    },
    {
     "name": "stdout",
     "output_type": "stream",
     "text": [
      "\n"
     ]
    },
    {
     "data": {
      "application/vnd.jupyter.widget-view+json": {
       "model_id": "c7051550647a4eda96e14961def869de",
       "version_major": 2,
       "version_minor": 0
      },
      "text/plain": [
       "HBox(children=(IntProgress(value=0, max=30), HTML(value='')))"
      ]
     },
     "metadata": {},
     "output_type": "display_data"
    },
    {
     "name": "stdout",
     "output_type": "stream",
     "text": [
      "\n"
     ]
    },
    {
     "data": {
      "application/vnd.jupyter.widget-view+json": {
       "model_id": "a524ddf259f34d219ac1df3093cafbe5",
       "version_major": 2,
       "version_minor": 0
      },
      "text/plain": [
       "HBox(children=(IntProgress(value=0, max=30), HTML(value='')))"
      ]
     },
     "metadata": {},
     "output_type": "display_data"
    },
    {
     "name": "stdout",
     "output_type": "stream",
     "text": [
      "\n"
     ]
    },
    {
     "data": {
      "application/vnd.jupyter.widget-view+json": {
       "model_id": "62726080640d484eadf42a9c9eaf0323",
       "version_major": 2,
       "version_minor": 0
      },
      "text/plain": [
       "HBox(children=(IntProgress(value=0, max=30), HTML(value='')))"
      ]
     },
     "metadata": {},
     "output_type": "display_data"
    },
    {
     "name": "stdout",
     "output_type": "stream",
     "text": [
      "\n"
     ]
    },
    {
     "data": {
      "application/vnd.jupyter.widget-view+json": {
       "model_id": "43c7b94332d045619599747a139952ae",
       "version_major": 2,
       "version_minor": 0
      },
      "text/plain": [
       "HBox(children=(IntProgress(value=0, max=30), HTML(value='')))"
      ]
     },
     "metadata": {},
     "output_type": "display_data"
    },
    {
     "name": "stdout",
     "output_type": "stream",
     "text": [
      "\n"
     ]
    },
    {
     "data": {
      "application/vnd.jupyter.widget-view+json": {
       "model_id": "1a59170924f146d9a29122720ae71a7f",
       "version_major": 2,
       "version_minor": 0
      },
      "text/plain": [
       "HBox(children=(IntProgress(value=0, max=30), HTML(value='')))"
      ]
     },
     "metadata": {},
     "output_type": "display_data"
    },
    {
     "name": "stdout",
     "output_type": "stream",
     "text": [
      "\n"
     ]
    },
    {
     "data": {
      "application/vnd.jupyter.widget-view+json": {
       "model_id": "95fa9e334dca4e3fa44c3f031f53e9f0",
       "version_major": 2,
       "version_minor": 0
      },
      "text/plain": [
       "HBox(children=(IntProgress(value=0, max=30), HTML(value='')))"
      ]
     },
     "metadata": {},
     "output_type": "display_data"
    },
    {
     "name": "stdout",
     "output_type": "stream",
     "text": [
      "\n"
     ]
    },
    {
     "data": {
      "application/vnd.jupyter.widget-view+json": {
       "model_id": "29aba39db9a14145967aa9e6f57a026c",
       "version_major": 2,
       "version_minor": 0
      },
      "text/plain": [
       "HBox(children=(IntProgress(value=0, max=30), HTML(value='')))"
      ]
     },
     "metadata": {},
     "output_type": "display_data"
    },
    {
     "name": "stdout",
     "output_type": "stream",
     "text": [
      "\n"
     ]
    },
    {
     "data": {
      "application/vnd.jupyter.widget-view+json": {
       "model_id": "1d335b23a3844646b0cb1b0ff6bd5044",
       "version_major": 2,
       "version_minor": 0
      },
      "text/plain": [
       "HBox(children=(IntProgress(value=0, max=30), HTML(value='')))"
      ]
     },
     "metadata": {},
     "output_type": "display_data"
    },
    {
     "name": "stdout",
     "output_type": "stream",
     "text": [
      "\n"
     ]
    },
    {
     "data": {
      "application/vnd.jupyter.widget-view+json": {
       "model_id": "eda8664f97344460a794ea55b5672724",
       "version_major": 2,
       "version_minor": 0
      },
      "text/plain": [
       "HBox(children=(IntProgress(value=0, max=30), HTML(value='')))"
      ]
     },
     "metadata": {},
     "output_type": "display_data"
    },
    {
     "name": "stdout",
     "output_type": "stream",
     "text": [
      "\n"
     ]
    },
    {
     "data": {
      "application/vnd.jupyter.widget-view+json": {
       "model_id": "c411a113668742709e11eaa666550f12",
       "version_major": 2,
       "version_minor": 0
      },
      "text/plain": [
       "HBox(children=(IntProgress(value=0, max=30), HTML(value='')))"
      ]
     },
     "metadata": {},
     "output_type": "display_data"
    },
    {
     "name": "stdout",
     "output_type": "stream",
     "text": [
      "\n"
     ]
    },
    {
     "data": {
      "application/vnd.jupyter.widget-view+json": {
       "model_id": "37fb3e7fe0524766ac014ef72bf54a8d",
       "version_major": 2,
       "version_minor": 0
      },
      "text/plain": [
       "HBox(children=(IntProgress(value=0, max=30), HTML(value='')))"
      ]
     },
     "metadata": {},
     "output_type": "display_data"
    },
    {
     "name": "stdout",
     "output_type": "stream",
     "text": [
      "\n"
     ]
    },
    {
     "data": {
      "application/vnd.jupyter.widget-view+json": {
       "model_id": "0f0cd54229ba4189b098bfc339ba2d4e",
       "version_major": 2,
       "version_minor": 0
      },
      "text/plain": [
       "HBox(children=(IntProgress(value=0, max=30), HTML(value='')))"
      ]
     },
     "metadata": {},
     "output_type": "display_data"
    },
    {
     "name": "stdout",
     "output_type": "stream",
     "text": [
      "\n"
     ]
    },
    {
     "data": {
      "application/vnd.jupyter.widget-view+json": {
       "model_id": "7200c75b2e164f6999b242e54591b737",
       "version_major": 2,
       "version_minor": 0
      },
      "text/plain": [
       "HBox(children=(IntProgress(value=0, max=30), HTML(value='')))"
      ]
     },
     "metadata": {},
     "output_type": "display_data"
    },
    {
     "name": "stdout",
     "output_type": "stream",
     "text": [
      "\n"
     ]
    },
    {
     "data": {
      "application/vnd.jupyter.widget-view+json": {
       "model_id": "53f870bfc2eb4fce85018ade3f9c967e",
       "version_major": 2,
       "version_minor": 0
      },
      "text/plain": [
       "HBox(children=(IntProgress(value=0, max=30), HTML(value='')))"
      ]
     },
     "metadata": {},
     "output_type": "display_data"
    },
    {
     "name": "stdout",
     "output_type": "stream",
     "text": [
      "\n"
     ]
    },
    {
     "data": {
      "application/vnd.jupyter.widget-view+json": {
       "model_id": "c650270f6f414a9582e5ea02b84d7926",
       "version_major": 2,
       "version_minor": 0
      },
      "text/plain": [
       "HBox(children=(IntProgress(value=0, max=30), HTML(value='')))"
      ]
     },
     "metadata": {},
     "output_type": "display_data"
    },
    {
     "name": "stdout",
     "output_type": "stream",
     "text": [
      "\n"
     ]
    },
    {
     "data": {
      "application/vnd.jupyter.widget-view+json": {
       "model_id": "7e4fe7b3be1e44618b75f8b01277a0a8",
       "version_major": 2,
       "version_minor": 0
      },
      "text/plain": [
       "HBox(children=(IntProgress(value=0, max=30), HTML(value='')))"
      ]
     },
     "metadata": {},
     "output_type": "display_data"
    },
    {
     "name": "stdout",
     "output_type": "stream",
     "text": [
      "\n"
     ]
    },
    {
     "data": {
      "application/vnd.jupyter.widget-view+json": {
       "model_id": "f952657f70f1426984dca89471bbfe5e",
       "version_major": 2,
       "version_minor": 0
      },
      "text/plain": [
       "HBox(children=(IntProgress(value=0, max=30), HTML(value='')))"
      ]
     },
     "metadata": {},
     "output_type": "display_data"
    },
    {
     "name": "stdout",
     "output_type": "stream",
     "text": [
      "\n"
     ]
    },
    {
     "data": {
      "application/vnd.jupyter.widget-view+json": {
       "model_id": "d32ab6107f5f4850bd4683a079ab0a13",
       "version_major": 2,
       "version_minor": 0
      },
      "text/plain": [
       "HBox(children=(IntProgress(value=0, max=30), HTML(value='')))"
      ]
     },
     "metadata": {},
     "output_type": "display_data"
    },
    {
     "name": "stdout",
     "output_type": "stream",
     "text": [
      "\n"
     ]
    },
    {
     "data": {
      "application/vnd.jupyter.widget-view+json": {
       "model_id": "34f89c11b346482a8855e543fc5982df",
       "version_major": 2,
       "version_minor": 0
      },
      "text/plain": [
       "HBox(children=(IntProgress(value=0, max=30), HTML(value='')))"
      ]
     },
     "metadata": {},
     "output_type": "display_data"
    },
    {
     "name": "stdout",
     "output_type": "stream",
     "text": [
      "\n"
     ]
    },
    {
     "data": {
      "application/vnd.jupyter.widget-view+json": {
       "model_id": "932ef8c4d8974fdb85f6e49a93452339",
       "version_major": 2,
       "version_minor": 0
      },
      "text/plain": [
       "HBox(children=(IntProgress(value=0, max=30), HTML(value='')))"
      ]
     },
     "metadata": {},
     "output_type": "display_data"
    },
    {
     "name": "stdout",
     "output_type": "stream",
     "text": [
      "\n"
     ]
    },
    {
     "data": {
      "application/vnd.jupyter.widget-view+json": {
       "model_id": "864234a24af54cd8ba476e5582d9a7d2",
       "version_major": 2,
       "version_minor": 0
      },
      "text/plain": [
       "HBox(children=(IntProgress(value=0, max=30), HTML(value='')))"
      ]
     },
     "metadata": {},
     "output_type": "display_data"
    },
    {
     "name": "stdout",
     "output_type": "stream",
     "text": [
      "\n"
     ]
    },
    {
     "data": {
      "application/vnd.jupyter.widget-view+json": {
       "model_id": "1fd97ae16d454205bac481b7631652c1",
       "version_major": 2,
       "version_minor": 0
      },
      "text/plain": [
       "HBox(children=(IntProgress(value=0, max=30), HTML(value='')))"
      ]
     },
     "metadata": {},
     "output_type": "display_data"
    },
    {
     "name": "stdout",
     "output_type": "stream",
     "text": [
      "\n"
     ]
    },
    {
     "data": {
      "application/vnd.jupyter.widget-view+json": {
       "model_id": "c137186a07f34fd6ab0f071230c68c39",
       "version_major": 2,
       "version_minor": 0
      },
      "text/plain": [
       "HBox(children=(IntProgress(value=0, max=30), HTML(value='')))"
      ]
     },
     "metadata": {},
     "output_type": "display_data"
    },
    {
     "name": "stdout",
     "output_type": "stream",
     "text": [
      "\n"
     ]
    },
    {
     "data": {
      "application/vnd.jupyter.widget-view+json": {
       "model_id": "40be3036f70c4f979c9a65021c5da73a",
       "version_major": 2,
       "version_minor": 0
      },
      "text/plain": [
       "HBox(children=(IntProgress(value=0, max=30), HTML(value='')))"
      ]
     },
     "metadata": {},
     "output_type": "display_data"
    },
    {
     "name": "stdout",
     "output_type": "stream",
     "text": [
      "\n"
     ]
    },
    {
     "data": {
      "application/vnd.jupyter.widget-view+json": {
       "model_id": "e9d2a0e75b6f4916b9f9802a5732125c",
       "version_major": 2,
       "version_minor": 0
      },
      "text/plain": [
       "HBox(children=(IntProgress(value=0, max=30), HTML(value='')))"
      ]
     },
     "metadata": {},
     "output_type": "display_data"
    },
    {
     "name": "stdout",
     "output_type": "stream",
     "text": [
      "\n"
     ]
    },
    {
     "data": {
      "application/vnd.jupyter.widget-view+json": {
       "model_id": "801e2e5e35da4bb2980cd89f5d6aabfb",
       "version_major": 2,
       "version_minor": 0
      },
      "text/plain": [
       "HBox(children=(IntProgress(value=0, max=30), HTML(value='')))"
      ]
     },
     "metadata": {},
     "output_type": "display_data"
    },
    {
     "name": "stdout",
     "output_type": "stream",
     "text": [
      "\n"
     ]
    },
    {
     "data": {
      "application/vnd.jupyter.widget-view+json": {
       "model_id": "547c893e6956485f8112b781f00371cf",
       "version_major": 2,
       "version_minor": 0
      },
      "text/plain": [
       "HBox(children=(IntProgress(value=0, max=30), HTML(value='')))"
      ]
     },
     "metadata": {},
     "output_type": "display_data"
    },
    {
     "name": "stdout",
     "output_type": "stream",
     "text": [
      "\n"
     ]
    },
    {
     "data": {
      "application/vnd.jupyter.widget-view+json": {
       "model_id": "b2d3ba17ba4941dab1ea27d2752841f9",
       "version_major": 2,
       "version_minor": 0
      },
      "text/plain": [
       "HBox(children=(IntProgress(value=0, max=30), HTML(value='')))"
      ]
     },
     "metadata": {},
     "output_type": "display_data"
    },
    {
     "name": "stdout",
     "output_type": "stream",
     "text": [
      "\n"
     ]
    },
    {
     "data": {
      "application/vnd.jupyter.widget-view+json": {
       "model_id": "89fcb0317f214525bb83f07fb0bd5b0d",
       "version_major": 2,
       "version_minor": 0
      },
      "text/plain": [
       "HBox(children=(IntProgress(value=0, max=30), HTML(value='')))"
      ]
     },
     "metadata": {},
     "output_type": "display_data"
    },
    {
     "name": "stdout",
     "output_type": "stream",
     "text": [
      "\n"
     ]
    },
    {
     "data": {
      "application/vnd.jupyter.widget-view+json": {
       "model_id": "1c712fa3ff434679a9ade6b720956a00",
       "version_major": 2,
       "version_minor": 0
      },
      "text/plain": [
       "HBox(children=(IntProgress(value=0, max=30), HTML(value='')))"
      ]
     },
     "metadata": {},
     "output_type": "display_data"
    },
    {
     "name": "stdout",
     "output_type": "stream",
     "text": [
      "\n"
     ]
    },
    {
     "data": {
      "application/vnd.jupyter.widget-view+json": {
       "model_id": "685db1ec4956402c8080d211c070a1c1",
       "version_major": 2,
       "version_minor": 0
      },
      "text/plain": [
       "HBox(children=(IntProgress(value=0, max=30), HTML(value='')))"
      ]
     },
     "metadata": {},
     "output_type": "display_data"
    },
    {
     "name": "stdout",
     "output_type": "stream",
     "text": [
      "\n"
     ]
    },
    {
     "data": {
      "application/vnd.jupyter.widget-view+json": {
       "model_id": "86c670571b1e46009b28ffde16cb3c54",
       "version_major": 2,
       "version_minor": 0
      },
      "text/plain": [
       "HBox(children=(IntProgress(value=0, max=30), HTML(value='')))"
      ]
     },
     "metadata": {},
     "output_type": "display_data"
    },
    {
     "name": "stdout",
     "output_type": "stream",
     "text": [
      "\n"
     ]
    },
    {
     "data": {
      "application/vnd.jupyter.widget-view+json": {
       "model_id": "f680ed763deb4c8d8ed116bfe8268df2",
       "version_major": 2,
       "version_minor": 0
      },
      "text/plain": [
       "HBox(children=(IntProgress(value=0, max=30), HTML(value='')))"
      ]
     },
     "metadata": {},
     "output_type": "display_data"
    },
    {
     "name": "stdout",
     "output_type": "stream",
     "text": [
      "\n"
     ]
    },
    {
     "data": {
      "application/vnd.jupyter.widget-view+json": {
       "model_id": "4746a3d2ab5a483fb29ed5311a354c60",
       "version_major": 2,
       "version_minor": 0
      },
      "text/plain": [
       "HBox(children=(IntProgress(value=0, max=30), HTML(value='')))"
      ]
     },
     "metadata": {},
     "output_type": "display_data"
    },
    {
     "name": "stdout",
     "output_type": "stream",
     "text": [
      "\n"
     ]
    },
    {
     "data": {
      "application/vnd.jupyter.widget-view+json": {
       "model_id": "d7d58f3936504b2b9c186df4eb809aaa",
       "version_major": 2,
       "version_minor": 0
      },
      "text/plain": [
       "HBox(children=(IntProgress(value=0, max=30), HTML(value='')))"
      ]
     },
     "metadata": {},
     "output_type": "display_data"
    },
    {
     "name": "stdout",
     "output_type": "stream",
     "text": [
      "\n"
     ]
    },
    {
     "data": {
      "application/vnd.jupyter.widget-view+json": {
       "model_id": "6ea53e23f1074555b40537bf465aeaf7",
       "version_major": 2,
       "version_minor": 0
      },
      "text/plain": [
       "HBox(children=(IntProgress(value=0, max=30), HTML(value='')))"
      ]
     },
     "metadata": {},
     "output_type": "display_data"
    },
    {
     "name": "stdout",
     "output_type": "stream",
     "text": [
      "\n"
     ]
    },
    {
     "data": {
      "application/vnd.jupyter.widget-view+json": {
       "model_id": "0d83a94e69194a01ac97e12948a9058d",
       "version_major": 2,
       "version_minor": 0
      },
      "text/plain": [
       "HBox(children=(IntProgress(value=0, max=30), HTML(value='')))"
      ]
     },
     "metadata": {},
     "output_type": "display_data"
    },
    {
     "name": "stdout",
     "output_type": "stream",
     "text": [
      "\n"
     ]
    },
    {
     "data": {
      "application/vnd.jupyter.widget-view+json": {
       "model_id": "64d9f7be917f4e96985ab6e84e2854d7",
       "version_major": 2,
       "version_minor": 0
      },
      "text/plain": [
       "HBox(children=(IntProgress(value=0, max=30), HTML(value='')))"
      ]
     },
     "metadata": {},
     "output_type": "display_data"
    },
    {
     "name": "stdout",
     "output_type": "stream",
     "text": [
      "\n"
     ]
    },
    {
     "data": {
      "application/vnd.jupyter.widget-view+json": {
       "model_id": "52caad53e7fa48358ea9be9fdbdc40ae",
       "version_major": 2,
       "version_minor": 0
      },
      "text/plain": [
       "HBox(children=(IntProgress(value=0, max=30), HTML(value='')))"
      ]
     },
     "metadata": {},
     "output_type": "display_data"
    },
    {
     "name": "stdout",
     "output_type": "stream",
     "text": [
      "\n"
     ]
    },
    {
     "data": {
      "application/vnd.jupyter.widget-view+json": {
       "model_id": "520e3a9ad5854fe08ef7c21d7c6ae23f",
       "version_major": 2,
       "version_minor": 0
      },
      "text/plain": [
       "HBox(children=(IntProgress(value=0, max=30), HTML(value='')))"
      ]
     },
     "metadata": {},
     "output_type": "display_data"
    },
    {
     "name": "stdout",
     "output_type": "stream",
     "text": [
      "\n"
     ]
    },
    {
     "data": {
      "application/vnd.jupyter.widget-view+json": {
       "model_id": "17429a61cbf945e98a6c4b26b72ae196",
       "version_major": 2,
       "version_minor": 0
      },
      "text/plain": [
       "HBox(children=(IntProgress(value=0, max=30), HTML(value='')))"
      ]
     },
     "metadata": {},
     "output_type": "display_data"
    },
    {
     "name": "stdout",
     "output_type": "stream",
     "text": [
      "\n"
     ]
    },
    {
     "data": {
      "application/vnd.jupyter.widget-view+json": {
       "model_id": "67748033ba5048f086c7578f184b8f93",
       "version_major": 2,
       "version_minor": 0
      },
      "text/plain": [
       "HBox(children=(IntProgress(value=0, max=30), HTML(value='')))"
      ]
     },
     "metadata": {},
     "output_type": "display_data"
    },
    {
     "name": "stdout",
     "output_type": "stream",
     "text": [
      "\n"
     ]
    },
    {
     "data": {
      "application/vnd.jupyter.widget-view+json": {
       "model_id": "dd453589c97041a0a44337783a1b0fb3",
       "version_major": 2,
       "version_minor": 0
      },
      "text/plain": [
       "HBox(children=(IntProgress(value=0, max=30), HTML(value='')))"
      ]
     },
     "metadata": {},
     "output_type": "display_data"
    },
    {
     "name": "stdout",
     "output_type": "stream",
     "text": [
      "\n"
     ]
    },
    {
     "data": {
      "application/vnd.jupyter.widget-view+json": {
       "model_id": "5ac89f5a7d16463fbd177759fb7be85c",
       "version_major": 2,
       "version_minor": 0
      },
      "text/plain": [
       "HBox(children=(IntProgress(value=0, max=30), HTML(value='')))"
      ]
     },
     "metadata": {},
     "output_type": "display_data"
    },
    {
     "name": "stdout",
     "output_type": "stream",
     "text": [
      "\n"
     ]
    },
    {
     "data": {
      "application/vnd.jupyter.widget-view+json": {
       "model_id": "42fbcc824bcd494298e56d046e37c3cc",
       "version_major": 2,
       "version_minor": 0
      },
      "text/plain": [
       "HBox(children=(IntProgress(value=0, max=30), HTML(value='')))"
      ]
     },
     "metadata": {},
     "output_type": "display_data"
    },
    {
     "name": "stdout",
     "output_type": "stream",
     "text": [
      "\n"
     ]
    },
    {
     "data": {
      "application/vnd.jupyter.widget-view+json": {
       "model_id": "d59492b73e244696b5d29f8981ac119f",
       "version_major": 2,
       "version_minor": 0
      },
      "text/plain": [
       "HBox(children=(IntProgress(value=0, max=30), HTML(value='')))"
      ]
     },
     "metadata": {},
     "output_type": "display_data"
    },
    {
     "name": "stdout",
     "output_type": "stream",
     "text": [
      "\n"
     ]
    },
    {
     "data": {
      "application/vnd.jupyter.widget-view+json": {
       "model_id": "065baac97763436a8d785b247903b975",
       "version_major": 2,
       "version_minor": 0
      },
      "text/plain": [
       "HBox(children=(IntProgress(value=0, max=30), HTML(value='')))"
      ]
     },
     "metadata": {},
     "output_type": "display_data"
    },
    {
     "name": "stdout",
     "output_type": "stream",
     "text": [
      "\n"
     ]
    },
    {
     "data": {
      "application/vnd.jupyter.widget-view+json": {
       "model_id": "cf8f600f620c444eb10be6e622c3774f",
       "version_major": 2,
       "version_minor": 0
      },
      "text/plain": [
       "HBox(children=(IntProgress(value=0, max=30), HTML(value='')))"
      ]
     },
     "metadata": {},
     "output_type": "display_data"
    },
    {
     "name": "stdout",
     "output_type": "stream",
     "text": [
      "\n"
     ]
    },
    {
     "data": {
      "application/vnd.jupyter.widget-view+json": {
       "model_id": "8b8dbbf039b445559dbf05e2303ed694",
       "version_major": 2,
       "version_minor": 0
      },
      "text/plain": [
       "HBox(children=(IntProgress(value=0, max=30), HTML(value='')))"
      ]
     },
     "metadata": {},
     "output_type": "display_data"
    },
    {
     "name": "stdout",
     "output_type": "stream",
     "text": [
      "\n"
     ]
    },
    {
     "data": {
      "application/vnd.jupyter.widget-view+json": {
       "model_id": "8f2f67097f9441bc8f02bb6f8e55d65c",
       "version_major": 2,
       "version_minor": 0
      },
      "text/plain": [
       "HBox(children=(IntProgress(value=0, max=30), HTML(value='')))"
      ]
     },
     "metadata": {},
     "output_type": "display_data"
    },
    {
     "name": "stdout",
     "output_type": "stream",
     "text": [
      "\n"
     ]
    },
    {
     "data": {
      "application/vnd.jupyter.widget-view+json": {
       "model_id": "b7a0920cf8ea44f7b73e58d46fb939cc",
       "version_major": 2,
       "version_minor": 0
      },
      "text/plain": [
       "HBox(children=(IntProgress(value=0, max=30), HTML(value='')))"
      ]
     },
     "metadata": {},
     "output_type": "display_data"
    },
    {
     "name": "stdout",
     "output_type": "stream",
     "text": [
      "\n"
     ]
    },
    {
     "data": {
      "application/vnd.jupyter.widget-view+json": {
       "model_id": "f7bd4532ba0b4ab1814b6cce09b4adc8",
       "version_major": 2,
       "version_minor": 0
      },
      "text/plain": [
       "HBox(children=(IntProgress(value=0, max=30), HTML(value='')))"
      ]
     },
     "metadata": {},
     "output_type": "display_data"
    },
    {
     "name": "stdout",
     "output_type": "stream",
     "text": [
      "\n"
     ]
    },
    {
     "data": {
      "application/vnd.jupyter.widget-view+json": {
       "model_id": "a9e428bfd2604e4ea8892e9143a97842",
       "version_major": 2,
       "version_minor": 0
      },
      "text/plain": [
       "HBox(children=(IntProgress(value=0, max=30), HTML(value='')))"
      ]
     },
     "metadata": {},
     "output_type": "display_data"
    },
    {
     "name": "stdout",
     "output_type": "stream",
     "text": [
      "\n"
     ]
    },
    {
     "data": {
      "application/vnd.jupyter.widget-view+json": {
       "model_id": "38e6282738fe438ba514cbfb930a22b1",
       "version_major": 2,
       "version_minor": 0
      },
      "text/plain": [
       "HBox(children=(IntProgress(value=0, max=30), HTML(value='')))"
      ]
     },
     "metadata": {},
     "output_type": "display_data"
    },
    {
     "name": "stdout",
     "output_type": "stream",
     "text": [
      "\n"
     ]
    },
    {
     "data": {
      "application/vnd.jupyter.widget-view+json": {
       "model_id": "c53d5be6fd80478a9909f580fd5b8875",
       "version_major": 2,
       "version_minor": 0
      },
      "text/plain": [
       "HBox(children=(IntProgress(value=0, max=30), HTML(value='')))"
      ]
     },
     "metadata": {},
     "output_type": "display_data"
    },
    {
     "name": "stdout",
     "output_type": "stream",
     "text": [
      "\n"
     ]
    },
    {
     "data": {
      "application/vnd.jupyter.widget-view+json": {
       "model_id": "3845c6494c194ee2a0d5e2c6269ba0ae",
       "version_major": 2,
       "version_minor": 0
      },
      "text/plain": [
       "HBox(children=(IntProgress(value=0, max=30), HTML(value='')))"
      ]
     },
     "metadata": {},
     "output_type": "display_data"
    },
    {
     "name": "stdout",
     "output_type": "stream",
     "text": [
      "\n"
     ]
    },
    {
     "data": {
      "application/vnd.jupyter.widget-view+json": {
       "model_id": "91f95d80ef204c2dbc94ae0c9fbeb2a8",
       "version_major": 2,
       "version_minor": 0
      },
      "text/plain": [
       "HBox(children=(IntProgress(value=0, max=30), HTML(value='')))"
      ]
     },
     "metadata": {},
     "output_type": "display_data"
    },
    {
     "name": "stdout",
     "output_type": "stream",
     "text": [
      "\n"
     ]
    },
    {
     "data": {
      "application/vnd.jupyter.widget-view+json": {
       "model_id": "78c54599e08946ebb5599bae5a5d3c82",
       "version_major": 2,
       "version_minor": 0
      },
      "text/plain": [
       "HBox(children=(IntProgress(value=0, max=30), HTML(value='')))"
      ]
     },
     "metadata": {},
     "output_type": "display_data"
    },
    {
     "name": "stdout",
     "output_type": "stream",
     "text": [
      "\n"
     ]
    },
    {
     "data": {
      "application/vnd.jupyter.widget-view+json": {
       "model_id": "c0f724562c9146349999de996ba8230c",
       "version_major": 2,
       "version_minor": 0
      },
      "text/plain": [
       "HBox(children=(IntProgress(value=0, max=30), HTML(value='')))"
      ]
     },
     "metadata": {},
     "output_type": "display_data"
    },
    {
     "name": "stdout",
     "output_type": "stream",
     "text": [
      "\n"
     ]
    },
    {
     "data": {
      "application/vnd.jupyter.widget-view+json": {
       "model_id": "ea101978ca484f318ac572084b6d2080",
       "version_major": 2,
       "version_minor": 0
      },
      "text/plain": [
       "HBox(children=(IntProgress(value=0, max=30), HTML(value='')))"
      ]
     },
     "metadata": {},
     "output_type": "display_data"
    },
    {
     "name": "stdout",
     "output_type": "stream",
     "text": [
      "\n"
     ]
    },
    {
     "data": {
      "application/vnd.jupyter.widget-view+json": {
       "model_id": "8be94cc3733c4dd0917a9c1537697abc",
       "version_major": 2,
       "version_minor": 0
      },
      "text/plain": [
       "HBox(children=(IntProgress(value=0, max=30), HTML(value='')))"
      ]
     },
     "metadata": {},
     "output_type": "display_data"
    },
    {
     "name": "stdout",
     "output_type": "stream",
     "text": [
      "\n"
     ]
    },
    {
     "data": {
      "application/vnd.jupyter.widget-view+json": {
       "model_id": "7260958fb09e41b5bcfc66e9af74e615",
       "version_major": 2,
       "version_minor": 0
      },
      "text/plain": [
       "HBox(children=(IntProgress(value=0, max=30), HTML(value='')))"
      ]
     },
     "metadata": {},
     "output_type": "display_data"
    },
    {
     "name": "stdout",
     "output_type": "stream",
     "text": [
      "\n"
     ]
    },
    {
     "data": {
      "application/vnd.jupyter.widget-view+json": {
       "model_id": "9dc0a6c2816e457cbe6ac133cbf668e7",
       "version_major": 2,
       "version_minor": 0
      },
      "text/plain": [
       "HBox(children=(IntProgress(value=0, max=30), HTML(value='')))"
      ]
     },
     "metadata": {},
     "output_type": "display_data"
    },
    {
     "name": "stdout",
     "output_type": "stream",
     "text": [
      "\n"
     ]
    },
    {
     "data": {
      "application/vnd.jupyter.widget-view+json": {
       "model_id": "a3d89b7a6f054579b96075b4c8f54182",
       "version_major": 2,
       "version_minor": 0
      },
      "text/plain": [
       "HBox(children=(IntProgress(value=0, max=30), HTML(value='')))"
      ]
     },
     "metadata": {},
     "output_type": "display_data"
    },
    {
     "name": "stdout",
     "output_type": "stream",
     "text": [
      "\n"
     ]
    },
    {
     "data": {
      "application/vnd.jupyter.widget-view+json": {
       "model_id": "d76f6b98bc274c98bb4e28fd01ddd58f",
       "version_major": 2,
       "version_minor": 0
      },
      "text/plain": [
       "HBox(children=(IntProgress(value=0, max=30), HTML(value='')))"
      ]
     },
     "metadata": {},
     "output_type": "display_data"
    },
    {
     "name": "stdout",
     "output_type": "stream",
     "text": [
      "\n"
     ]
    },
    {
     "data": {
      "application/vnd.jupyter.widget-view+json": {
       "model_id": "472ca6893c504195b9631f7e2813f204",
       "version_major": 2,
       "version_minor": 0
      },
      "text/plain": [
       "HBox(children=(IntProgress(value=0, max=30), HTML(value='')))"
      ]
     },
     "metadata": {},
     "output_type": "display_data"
    },
    {
     "name": "stdout",
     "output_type": "stream",
     "text": [
      "\n"
     ]
    },
    {
     "data": {
      "application/vnd.jupyter.widget-view+json": {
       "model_id": "3dba01f0d1804caa8acb7a05872bab12",
       "version_major": 2,
       "version_minor": 0
      },
      "text/plain": [
       "HBox(children=(IntProgress(value=0, max=30), HTML(value='')))"
      ]
     },
     "metadata": {},
     "output_type": "display_data"
    },
    {
     "name": "stdout",
     "output_type": "stream",
     "text": [
      "\n"
     ]
    },
    {
     "data": {
      "application/vnd.jupyter.widget-view+json": {
       "model_id": "8de63288f0854c78b24b7b2a5a970335",
       "version_major": 2,
       "version_minor": 0
      },
      "text/plain": [
       "HBox(children=(IntProgress(value=0, max=30), HTML(value='')))"
      ]
     },
     "metadata": {},
     "output_type": "display_data"
    },
    {
     "name": "stdout",
     "output_type": "stream",
     "text": [
      "\n"
     ]
    },
    {
     "data": {
      "application/vnd.jupyter.widget-view+json": {
       "model_id": "5881e82dc5d74767b7dc26db662e545c",
       "version_major": 2,
       "version_minor": 0
      },
      "text/plain": [
       "HBox(children=(IntProgress(value=0, max=30), HTML(value='')))"
      ]
     },
     "metadata": {},
     "output_type": "display_data"
    },
    {
     "name": "stdout",
     "output_type": "stream",
     "text": [
      "\n"
     ]
    },
    {
     "data": {
      "application/vnd.jupyter.widget-view+json": {
       "model_id": "6a4332e0f6c94f87941ec4c75a06f683",
       "version_major": 2,
       "version_minor": 0
      },
      "text/plain": [
       "HBox(children=(IntProgress(value=0, max=30), HTML(value='')))"
      ]
     },
     "metadata": {},
     "output_type": "display_data"
    },
    {
     "name": "stdout",
     "output_type": "stream",
     "text": [
      "\n"
     ]
    },
    {
     "data": {
      "application/vnd.jupyter.widget-view+json": {
       "model_id": "421203c4cf79456f8a85a664678d0a33",
       "version_major": 2,
       "version_minor": 0
      },
      "text/plain": [
       "HBox(children=(IntProgress(value=0, max=30), HTML(value='')))"
      ]
     },
     "metadata": {},
     "output_type": "display_data"
    },
    {
     "name": "stdout",
     "output_type": "stream",
     "text": [
      "\n"
     ]
    },
    {
     "data": {
      "application/vnd.jupyter.widget-view+json": {
       "model_id": "0d3f3f772f2a4c50b7a4e38a5f166a4d",
       "version_major": 2,
       "version_minor": 0
      },
      "text/plain": [
       "HBox(children=(IntProgress(value=0, max=30), HTML(value='')))"
      ]
     },
     "metadata": {},
     "output_type": "display_data"
    },
    {
     "name": "stdout",
     "output_type": "stream",
     "text": [
      "\n"
     ]
    },
    {
     "data": {
      "application/vnd.jupyter.widget-view+json": {
       "model_id": "95fa78cc01ef4e4d980f7497435a49e3",
       "version_major": 2,
       "version_minor": 0
      },
      "text/plain": [
       "HBox(children=(IntProgress(value=0, max=30), HTML(value='')))"
      ]
     },
     "metadata": {},
     "output_type": "display_data"
    },
    {
     "name": "stdout",
     "output_type": "stream",
     "text": [
      "\n"
     ]
    },
    {
     "data": {
      "application/vnd.jupyter.widget-view+json": {
       "model_id": "2b4bc6889fbb4c02a6467739f9cae52c",
       "version_major": 2,
       "version_minor": 0
      },
      "text/plain": [
       "HBox(children=(IntProgress(value=0, max=30), HTML(value='')))"
      ]
     },
     "metadata": {},
     "output_type": "display_data"
    },
    {
     "name": "stdout",
     "output_type": "stream",
     "text": [
      "\n"
     ]
    },
    {
     "data": {
      "application/vnd.jupyter.widget-view+json": {
       "model_id": "285226bad6cf44d48fbeb82de1719a7c",
       "version_major": 2,
       "version_minor": 0
      },
      "text/plain": [
       "HBox(children=(IntProgress(value=0, max=30), HTML(value='')))"
      ]
     },
     "metadata": {},
     "output_type": "display_data"
    },
    {
     "name": "stdout",
     "output_type": "stream",
     "text": [
      "\n"
     ]
    },
    {
     "data": {
      "application/vnd.jupyter.widget-view+json": {
       "model_id": "07e7de1db559408288d8052328ef5e3d",
       "version_major": 2,
       "version_minor": 0
      },
      "text/plain": [
       "HBox(children=(IntProgress(value=0, max=30), HTML(value='')))"
      ]
     },
     "metadata": {},
     "output_type": "display_data"
    },
    {
     "name": "stdout",
     "output_type": "stream",
     "text": [
      "\n"
     ]
    },
    {
     "data": {
      "application/vnd.jupyter.widget-view+json": {
       "model_id": "22880f8728f847d59cc40b234c4d42f6",
       "version_major": 2,
       "version_minor": 0
      },
      "text/plain": [
       "HBox(children=(IntProgress(value=0, max=30), HTML(value='')))"
      ]
     },
     "metadata": {},
     "output_type": "display_data"
    },
    {
     "name": "stdout",
     "output_type": "stream",
     "text": [
      "\n"
     ]
    },
    {
     "data": {
      "application/vnd.jupyter.widget-view+json": {
       "model_id": "57172c8c0a5645bf9a661b871992fdf4",
       "version_major": 2,
       "version_minor": 0
      },
      "text/plain": [
       "HBox(children=(IntProgress(value=0, max=30), HTML(value='')))"
      ]
     },
     "metadata": {},
     "output_type": "display_data"
    },
    {
     "name": "stdout",
     "output_type": "stream",
     "text": [
      "\n"
     ]
    },
    {
     "data": {
      "application/vnd.jupyter.widget-view+json": {
       "model_id": "bf55bc07ca98443da5ff008c815ee3e3",
       "version_major": 2,
       "version_minor": 0
      },
      "text/plain": [
       "HBox(children=(IntProgress(value=0, max=30), HTML(value='')))"
      ]
     },
     "metadata": {},
     "output_type": "display_data"
    },
    {
     "name": "stdout",
     "output_type": "stream",
     "text": [
      "\n"
     ]
    },
    {
     "data": {
      "application/vnd.jupyter.widget-view+json": {
       "model_id": "c0441e5257174c98b0e60299149117ad",
       "version_major": 2,
       "version_minor": 0
      },
      "text/plain": [
       "HBox(children=(IntProgress(value=0, max=30), HTML(value='')))"
      ]
     },
     "metadata": {},
     "output_type": "display_data"
    },
    {
     "name": "stdout",
     "output_type": "stream",
     "text": [
      "\n"
     ]
    },
    {
     "data": {
      "application/vnd.jupyter.widget-view+json": {
       "model_id": "dd6d389c8ae64012876bac60955fd7c9",
       "version_major": 2,
       "version_minor": 0
      },
      "text/plain": [
       "HBox(children=(IntProgress(value=0, max=30), HTML(value='')))"
      ]
     },
     "metadata": {},
     "output_type": "display_data"
    },
    {
     "name": "stdout",
     "output_type": "stream",
     "text": [
      "\n"
     ]
    },
    {
     "data": {
      "application/vnd.jupyter.widget-view+json": {
       "model_id": "e2a6468c8e1d4908b2963db4932e957a",
       "version_major": 2,
       "version_minor": 0
      },
      "text/plain": [
       "HBox(children=(IntProgress(value=0, max=30), HTML(value='')))"
      ]
     },
     "metadata": {},
     "output_type": "display_data"
    },
    {
     "name": "stdout",
     "output_type": "stream",
     "text": [
      "\n"
     ]
    },
    {
     "data": {
      "application/vnd.jupyter.widget-view+json": {
       "model_id": "db6e153df41b42789b8a7ca3b2a1e56d",
       "version_major": 2,
       "version_minor": 0
      },
      "text/plain": [
       "HBox(children=(IntProgress(value=0, max=30), HTML(value='')))"
      ]
     },
     "metadata": {},
     "output_type": "display_data"
    },
    {
     "name": "stdout",
     "output_type": "stream",
     "text": [
      "\n"
     ]
    },
    {
     "data": {
      "application/vnd.jupyter.widget-view+json": {
       "model_id": "24946d0d4ab9422e9596ea8596df33ac",
       "version_major": 2,
       "version_minor": 0
      },
      "text/plain": [
       "HBox(children=(IntProgress(value=0, max=30), HTML(value='')))"
      ]
     },
     "metadata": {},
     "output_type": "display_data"
    },
    {
     "name": "stdout",
     "output_type": "stream",
     "text": [
      "\n"
     ]
    },
    {
     "data": {
      "application/vnd.jupyter.widget-view+json": {
       "model_id": "56a24d71bf84432280764ba609002ccc",
       "version_major": 2,
       "version_minor": 0
      },
      "text/plain": [
       "HBox(children=(IntProgress(value=0, max=30), HTML(value='')))"
      ]
     },
     "metadata": {},
     "output_type": "display_data"
    },
    {
     "name": "stdout",
     "output_type": "stream",
     "text": [
      "\n"
     ]
    },
    {
     "data": {
      "application/vnd.jupyter.widget-view+json": {
       "model_id": "bd65acbff89743d69b8274950cf89a80",
       "version_major": 2,
       "version_minor": 0
      },
      "text/plain": [
       "HBox(children=(IntProgress(value=0, max=30), HTML(value='')))"
      ]
     },
     "metadata": {},
     "output_type": "display_data"
    },
    {
     "name": "stdout",
     "output_type": "stream",
     "text": [
      "\n"
     ]
    },
    {
     "data": {
      "application/vnd.jupyter.widget-view+json": {
       "model_id": "d7ffc889eee34eae9bf61350e24f0582",
       "version_major": 2,
       "version_minor": 0
      },
      "text/plain": [
       "HBox(children=(IntProgress(value=0, max=30), HTML(value='')))"
      ]
     },
     "metadata": {},
     "output_type": "display_data"
    },
    {
     "name": "stdout",
     "output_type": "stream",
     "text": [
      "\n"
     ]
    },
    {
     "data": {
      "application/vnd.jupyter.widget-view+json": {
       "model_id": "b06cfca0db284585bb861ea09b5dc497",
       "version_major": 2,
       "version_minor": 0
      },
      "text/plain": [
       "HBox(children=(IntProgress(value=0, max=30), HTML(value='')))"
      ]
     },
     "metadata": {},
     "output_type": "display_data"
    },
    {
     "name": "stdout",
     "output_type": "stream",
     "text": [
      "\n"
     ]
    },
    {
     "data": {
      "application/vnd.jupyter.widget-view+json": {
       "model_id": "26b7b5309f2f4f419e4e258cc6c2b261",
       "version_major": 2,
       "version_minor": 0
      },
      "text/plain": [
       "HBox(children=(IntProgress(value=0, max=30), HTML(value='')))"
      ]
     },
     "metadata": {},
     "output_type": "display_data"
    },
    {
     "name": "stdout",
     "output_type": "stream",
     "text": [
      "\n"
     ]
    },
    {
     "data": {
      "application/vnd.jupyter.widget-view+json": {
       "model_id": "88b54f06966a4e0ebe5369343c531c9d",
       "version_major": 2,
       "version_minor": 0
      },
      "text/plain": [
       "HBox(children=(IntProgress(value=0, max=30), HTML(value='')))"
      ]
     },
     "metadata": {},
     "output_type": "display_data"
    },
    {
     "name": "stdout",
     "output_type": "stream",
     "text": [
      "\n"
     ]
    },
    {
     "data": {
      "application/vnd.jupyter.widget-view+json": {
       "model_id": "c67b7e56a689410b9d2c36fed0eb488e",
       "version_major": 2,
       "version_minor": 0
      },
      "text/plain": [
       "HBox(children=(IntProgress(value=0, max=30), HTML(value='')))"
      ]
     },
     "metadata": {},
     "output_type": "display_data"
    },
    {
     "name": "stdout",
     "output_type": "stream",
     "text": [
      "\n"
     ]
    },
    {
     "data": {
      "application/vnd.jupyter.widget-view+json": {
       "model_id": "7f59ba16f2904ebe9bef1d9b2018c122",
       "version_major": 2,
       "version_minor": 0
      },
      "text/plain": [
       "HBox(children=(IntProgress(value=0, max=30), HTML(value='')))"
      ]
     },
     "metadata": {},
     "output_type": "display_data"
    },
    {
     "name": "stdout",
     "output_type": "stream",
     "text": [
      "\n"
     ]
    },
    {
     "data": {
      "application/vnd.jupyter.widget-view+json": {
       "model_id": "49cb0c3b2ca2417da1b5e2f9a601d54c",
       "version_major": 2,
       "version_minor": 0
      },
      "text/plain": [
       "HBox(children=(IntProgress(value=0, max=30), HTML(value='')))"
      ]
     },
     "metadata": {},
     "output_type": "display_data"
    },
    {
     "name": "stdout",
     "output_type": "stream",
     "text": [
      "\n"
     ]
    },
    {
     "data": {
      "application/vnd.jupyter.widget-view+json": {
       "model_id": "7a0f48003d4d44448a96db25244033dc",
       "version_major": 2,
       "version_minor": 0
      },
      "text/plain": [
       "HBox(children=(IntProgress(value=0, max=30), HTML(value='')))"
      ]
     },
     "metadata": {},
     "output_type": "display_data"
    },
    {
     "name": "stdout",
     "output_type": "stream",
     "text": [
      "\n"
     ]
    },
    {
     "data": {
      "application/vnd.jupyter.widget-view+json": {
       "model_id": "078c939c9c844d2e9de898b74ebfa4e6",
       "version_major": 2,
       "version_minor": 0
      },
      "text/plain": [
       "HBox(children=(IntProgress(value=0, max=30), HTML(value='')))"
      ]
     },
     "metadata": {},
     "output_type": "display_data"
    },
    {
     "name": "stdout",
     "output_type": "stream",
     "text": [
      "\n"
     ]
    },
    {
     "data": {
      "application/vnd.jupyter.widget-view+json": {
       "model_id": "22937bad829f4369ac6b5a8ee5eba591",
       "version_major": 2,
       "version_minor": 0
      },
      "text/plain": [
       "HBox(children=(IntProgress(value=0, max=30), HTML(value='')))"
      ]
     },
     "metadata": {},
     "output_type": "display_data"
    },
    {
     "name": "stdout",
     "output_type": "stream",
     "text": [
      "\n"
     ]
    },
    {
     "data": {
      "application/vnd.jupyter.widget-view+json": {
       "model_id": "70bc8a069a53472fa5b3402892fd6a1d",
       "version_major": 2,
       "version_minor": 0
      },
      "text/plain": [
       "HBox(children=(IntProgress(value=0, max=30), HTML(value='')))"
      ]
     },
     "metadata": {},
     "output_type": "display_data"
    },
    {
     "name": "stdout",
     "output_type": "stream",
     "text": [
      "\n"
     ]
    },
    {
     "data": {
      "application/vnd.jupyter.widget-view+json": {
       "model_id": "721dbd5598024a7697f909ac09cd93dd",
       "version_major": 2,
       "version_minor": 0
      },
      "text/plain": [
       "HBox(children=(IntProgress(value=0, max=30), HTML(value='')))"
      ]
     },
     "metadata": {},
     "output_type": "display_data"
    },
    {
     "name": "stdout",
     "output_type": "stream",
     "text": [
      "\n"
     ]
    },
    {
     "data": {
      "application/vnd.jupyter.widget-view+json": {
       "model_id": "6452c9806bd748fdb2fd0c0ea5dec5fe",
       "version_major": 2,
       "version_minor": 0
      },
      "text/plain": [
       "HBox(children=(IntProgress(value=0, max=30), HTML(value='')))"
      ]
     },
     "metadata": {},
     "output_type": "display_data"
    },
    {
     "name": "stdout",
     "output_type": "stream",
     "text": [
      "\n"
     ]
    },
    {
     "data": {
      "application/vnd.jupyter.widget-view+json": {
       "model_id": "ecea1d3627d3440eb67825e2832a21dd",
       "version_major": 2,
       "version_minor": 0
      },
      "text/plain": [
       "HBox(children=(IntProgress(value=0, max=30), HTML(value='')))"
      ]
     },
     "metadata": {},
     "output_type": "display_data"
    },
    {
     "name": "stdout",
     "output_type": "stream",
     "text": [
      "\n"
     ]
    },
    {
     "data": {
      "application/vnd.jupyter.widget-view+json": {
       "model_id": "2c9be9c6079c4648bbbb24d787141ea2",
       "version_major": 2,
       "version_minor": 0
      },
      "text/plain": [
       "HBox(children=(IntProgress(value=0, max=30), HTML(value='')))"
      ]
     },
     "metadata": {},
     "output_type": "display_data"
    },
    {
     "name": "stdout",
     "output_type": "stream",
     "text": [
      "\n"
     ]
    },
    {
     "data": {
      "application/vnd.jupyter.widget-view+json": {
       "model_id": "43cc94c173534f1ca859d07dc4c6461a",
       "version_major": 2,
       "version_minor": 0
      },
      "text/plain": [
       "HBox(children=(IntProgress(value=0, max=30), HTML(value='')))"
      ]
     },
     "metadata": {},
     "output_type": "display_data"
    },
    {
     "name": "stdout",
     "output_type": "stream",
     "text": [
      "\n"
     ]
    },
    {
     "data": {
      "application/vnd.jupyter.widget-view+json": {
       "model_id": "c144945c25134616a73e9cee0e3af4ac",
       "version_major": 2,
       "version_minor": 0
      },
      "text/plain": [
       "HBox(children=(IntProgress(value=0, max=30), HTML(value='')))"
      ]
     },
     "metadata": {},
     "output_type": "display_data"
    },
    {
     "name": "stdout",
     "output_type": "stream",
     "text": [
      "\n"
     ]
    },
    {
     "data": {
      "application/vnd.jupyter.widget-view+json": {
       "model_id": "1aaba214b885486d9ed9574a83226821",
       "version_major": 2,
       "version_minor": 0
      },
      "text/plain": [
       "HBox(children=(IntProgress(value=0, max=30), HTML(value='')))"
      ]
     },
     "metadata": {},
     "output_type": "display_data"
    },
    {
     "name": "stdout",
     "output_type": "stream",
     "text": [
      "\n"
     ]
    },
    {
     "data": {
      "application/vnd.jupyter.widget-view+json": {
       "model_id": "4efe8e92e79043fca2220ce6e3508458",
       "version_major": 2,
       "version_minor": 0
      },
      "text/plain": [
       "HBox(children=(IntProgress(value=0, max=30), HTML(value='')))"
      ]
     },
     "metadata": {},
     "output_type": "display_data"
    },
    {
     "name": "stdout",
     "output_type": "stream",
     "text": [
      "\n"
     ]
    },
    {
     "data": {
      "application/vnd.jupyter.widget-view+json": {
       "model_id": "a1767e989fca444c9497cce92fdf32ed",
       "version_major": 2,
       "version_minor": 0
      },
      "text/plain": [
       "HBox(children=(IntProgress(value=0, max=30), HTML(value='')))"
      ]
     },
     "metadata": {},
     "output_type": "display_data"
    },
    {
     "name": "stdout",
     "output_type": "stream",
     "text": [
      "\n"
     ]
    },
    {
     "data": {
      "application/vnd.jupyter.widget-view+json": {
       "model_id": "ae9ceda9e0ab4709a7347e00c5f9d903",
       "version_major": 2,
       "version_minor": 0
      },
      "text/plain": [
       "HBox(children=(IntProgress(value=0, max=30), HTML(value='')))"
      ]
     },
     "metadata": {},
     "output_type": "display_data"
    },
    {
     "name": "stdout",
     "output_type": "stream",
     "text": [
      "\n"
     ]
    },
    {
     "data": {
      "application/vnd.jupyter.widget-view+json": {
       "model_id": "184d21287fb543d69b2f64824234e541",
       "version_major": 2,
       "version_minor": 0
      },
      "text/plain": [
       "HBox(children=(IntProgress(value=0, max=30), HTML(value='')))"
      ]
     },
     "metadata": {},
     "output_type": "display_data"
    },
    {
     "name": "stdout",
     "output_type": "stream",
     "text": [
      "\n"
     ]
    },
    {
     "data": {
      "application/vnd.jupyter.widget-view+json": {
       "model_id": "28c467ab1bb145c19abeac8dbc177a5d",
       "version_major": 2,
       "version_minor": 0
      },
      "text/plain": [
       "HBox(children=(IntProgress(value=0, max=30), HTML(value='')))"
      ]
     },
     "metadata": {},
     "output_type": "display_data"
    },
    {
     "name": "stdout",
     "output_type": "stream",
     "text": [
      "\n"
     ]
    },
    {
     "data": {
      "application/vnd.jupyter.widget-view+json": {
       "model_id": "1244456db7524158b2f3afca550fcfcd",
       "version_major": 2,
       "version_minor": 0
      },
      "text/plain": [
       "HBox(children=(IntProgress(value=0, max=30), HTML(value='')))"
      ]
     },
     "metadata": {},
     "output_type": "display_data"
    },
    {
     "name": "stdout",
     "output_type": "stream",
     "text": [
      "\n"
     ]
    },
    {
     "data": {
      "application/vnd.jupyter.widget-view+json": {
       "model_id": "8019635614534708a120042886c425e1",
       "version_major": 2,
       "version_minor": 0
      },
      "text/plain": [
       "HBox(children=(IntProgress(value=0, max=30), HTML(value='')))"
      ]
     },
     "metadata": {},
     "output_type": "display_data"
    },
    {
     "name": "stdout",
     "output_type": "stream",
     "text": [
      "\n"
     ]
    },
    {
     "data": {
      "application/vnd.jupyter.widget-view+json": {
       "model_id": "1e6a8bf111e94e208cb06efff6c78a18",
       "version_major": 2,
       "version_minor": 0
      },
      "text/plain": [
       "HBox(children=(IntProgress(value=0, max=30), HTML(value='')))"
      ]
     },
     "metadata": {},
     "output_type": "display_data"
    },
    {
     "name": "stdout",
     "output_type": "stream",
     "text": [
      "\n"
     ]
    },
    {
     "data": {
      "application/vnd.jupyter.widget-view+json": {
       "model_id": "d0b30e030a79439e9d92fb5e4bb2da76",
       "version_major": 2,
       "version_minor": 0
      },
      "text/plain": [
       "HBox(children=(IntProgress(value=0, max=30), HTML(value='')))"
      ]
     },
     "metadata": {},
     "output_type": "display_data"
    },
    {
     "name": "stdout",
     "output_type": "stream",
     "text": [
      "\n"
     ]
    },
    {
     "data": {
      "application/vnd.jupyter.widget-view+json": {
       "model_id": "970badfb250c42dfb31388c362e3184b",
       "version_major": 2,
       "version_minor": 0
      },
      "text/plain": [
       "HBox(children=(IntProgress(value=0, max=30), HTML(value='')))"
      ]
     },
     "metadata": {},
     "output_type": "display_data"
    },
    {
     "name": "stdout",
     "output_type": "stream",
     "text": [
      "\n"
     ]
    },
    {
     "data": {
      "application/vnd.jupyter.widget-view+json": {
       "model_id": "b1373dc7126e4d97b408882d6e4f3ef6",
       "version_major": 2,
       "version_minor": 0
      },
      "text/plain": [
       "HBox(children=(IntProgress(value=0, max=30), HTML(value='')))"
      ]
     },
     "metadata": {},
     "output_type": "display_data"
    },
    {
     "name": "stdout",
     "output_type": "stream",
     "text": [
      "\n"
     ]
    },
    {
     "data": {
      "application/vnd.jupyter.widget-view+json": {
       "model_id": "8d5a8f7c9ea24304b14e50c80558830b",
       "version_major": 2,
       "version_minor": 0
      },
      "text/plain": [
       "HBox(children=(IntProgress(value=0, max=30), HTML(value='')))"
      ]
     },
     "metadata": {},
     "output_type": "display_data"
    },
    {
     "name": "stdout",
     "output_type": "stream",
     "text": [
      "\n"
     ]
    },
    {
     "data": {
      "application/vnd.jupyter.widget-view+json": {
       "model_id": "65d5a001e4c1472aa8088a7c1131c276",
       "version_major": 2,
       "version_minor": 0
      },
      "text/plain": [
       "HBox(children=(IntProgress(value=0, max=30), HTML(value='')))"
      ]
     },
     "metadata": {},
     "output_type": "display_data"
    },
    {
     "name": "stdout",
     "output_type": "stream",
     "text": [
      "\n"
     ]
    },
    {
     "data": {
      "application/vnd.jupyter.widget-view+json": {
       "model_id": "a63f0e8d1b8147ec9078776a81950ad9",
       "version_major": 2,
       "version_minor": 0
      },
      "text/plain": [
       "HBox(children=(IntProgress(value=0, max=30), HTML(value='')))"
      ]
     },
     "metadata": {},
     "output_type": "display_data"
    },
    {
     "name": "stdout",
     "output_type": "stream",
     "text": [
      "\n"
     ]
    },
    {
     "data": {
      "application/vnd.jupyter.widget-view+json": {
       "model_id": "9007a0150d2c4a339d2c41401dfaa654",
       "version_major": 2,
       "version_minor": 0
      },
      "text/plain": [
       "HBox(children=(IntProgress(value=0, max=30), HTML(value='')))"
      ]
     },
     "metadata": {},
     "output_type": "display_data"
    },
    {
     "name": "stdout",
     "output_type": "stream",
     "text": [
      "\n"
     ]
    },
    {
     "data": {
      "application/vnd.jupyter.widget-view+json": {
       "model_id": "d8a97c68c5874954bae325a80b1f4c11",
       "version_major": 2,
       "version_minor": 0
      },
      "text/plain": [
       "HBox(children=(IntProgress(value=0, max=30), HTML(value='')))"
      ]
     },
     "metadata": {},
     "output_type": "display_data"
    },
    {
     "name": "stdout",
     "output_type": "stream",
     "text": [
      "\n"
     ]
    },
    {
     "data": {
      "application/vnd.jupyter.widget-view+json": {
       "model_id": "890551da4c3d45a294ed534cf62987ff",
       "version_major": 2,
       "version_minor": 0
      },
      "text/plain": [
       "HBox(children=(IntProgress(value=0, max=30), HTML(value='')))"
      ]
     },
     "metadata": {},
     "output_type": "display_data"
    },
    {
     "name": "stdout",
     "output_type": "stream",
     "text": [
      "\n"
     ]
    },
    {
     "data": {
      "application/vnd.jupyter.widget-view+json": {
       "model_id": "fa4de5597a4748cd9618f8ffbac9d70a",
       "version_major": 2,
       "version_minor": 0
      },
      "text/plain": [
       "HBox(children=(IntProgress(value=0, max=30), HTML(value='')))"
      ]
     },
     "metadata": {},
     "output_type": "display_data"
    },
    {
     "name": "stdout",
     "output_type": "stream",
     "text": [
      "\n"
     ]
    },
    {
     "data": {
      "application/vnd.jupyter.widget-view+json": {
       "model_id": "c3d92bb983334b49a21f0179d8bf5fab",
       "version_major": 2,
       "version_minor": 0
      },
      "text/plain": [
       "HBox(children=(IntProgress(value=0, max=30), HTML(value='')))"
      ]
     },
     "metadata": {},
     "output_type": "display_data"
    },
    {
     "name": "stdout",
     "output_type": "stream",
     "text": [
      "\n"
     ]
    },
    {
     "data": {
      "application/vnd.jupyter.widget-view+json": {
       "model_id": "4bf94c59c6fe4c67b32b9aa987135015",
       "version_major": 2,
       "version_minor": 0
      },
      "text/plain": [
       "HBox(children=(IntProgress(value=0, max=30), HTML(value='')))"
      ]
     },
     "metadata": {},
     "output_type": "display_data"
    },
    {
     "name": "stdout",
     "output_type": "stream",
     "text": [
      "\n"
     ]
    },
    {
     "data": {
      "application/vnd.jupyter.widget-view+json": {
       "model_id": "8384fe3ed7734224823b5415d2f525ea",
       "version_major": 2,
       "version_minor": 0
      },
      "text/plain": [
       "HBox(children=(IntProgress(value=0, max=30), HTML(value='')))"
      ]
     },
     "metadata": {},
     "output_type": "display_data"
    },
    {
     "name": "stdout",
     "output_type": "stream",
     "text": [
      "\n"
     ]
    },
    {
     "data": {
      "application/vnd.jupyter.widget-view+json": {
       "model_id": "b02f50e5de3347b292be2f6d245fbcfb",
       "version_major": 2,
       "version_minor": 0
      },
      "text/plain": [
       "HBox(children=(IntProgress(value=0, max=30), HTML(value='')))"
      ]
     },
     "metadata": {},
     "output_type": "display_data"
    },
    {
     "name": "stdout",
     "output_type": "stream",
     "text": [
      "\n"
     ]
    },
    {
     "data": {
      "application/vnd.jupyter.widget-view+json": {
       "model_id": "30666582d3724c65a16e4b5d7aae24fb",
       "version_major": 2,
       "version_minor": 0
      },
      "text/plain": [
       "HBox(children=(IntProgress(value=0, max=30), HTML(value='')))"
      ]
     },
     "metadata": {},
     "output_type": "display_data"
    },
    {
     "name": "stdout",
     "output_type": "stream",
     "text": [
      "\n"
     ]
    },
    {
     "data": {
      "application/vnd.jupyter.widget-view+json": {
       "model_id": "6cd8933946c84da29faf5204a98875f7",
       "version_major": 2,
       "version_minor": 0
      },
      "text/plain": [
       "HBox(children=(IntProgress(value=0, max=30), HTML(value='')))"
      ]
     },
     "metadata": {},
     "output_type": "display_data"
    },
    {
     "name": "stdout",
     "output_type": "stream",
     "text": [
      "\n"
     ]
    },
    {
     "data": {
      "application/vnd.jupyter.widget-view+json": {
       "model_id": "054d693ab97348c683be2746a76b6f6f",
       "version_major": 2,
       "version_minor": 0
      },
      "text/plain": [
       "HBox(children=(IntProgress(value=0, max=30), HTML(value='')))"
      ]
     },
     "metadata": {},
     "output_type": "display_data"
    },
    {
     "name": "stdout",
     "output_type": "stream",
     "text": [
      "\n"
     ]
    },
    {
     "data": {
      "application/vnd.jupyter.widget-view+json": {
       "model_id": "7476291d2c144446852bcd7f3ff9cfba",
       "version_major": 2,
       "version_minor": 0
      },
      "text/plain": [
       "HBox(children=(IntProgress(value=0, max=30), HTML(value='')))"
      ]
     },
     "metadata": {},
     "output_type": "display_data"
    },
    {
     "name": "stdout",
     "output_type": "stream",
     "text": [
      "\n"
     ]
    },
    {
     "data": {
      "application/vnd.jupyter.widget-view+json": {
       "model_id": "8e88b428a4b341f68db4a0a9d60cbcab",
       "version_major": 2,
       "version_minor": 0
      },
      "text/plain": [
       "HBox(children=(IntProgress(value=0, max=30), HTML(value='')))"
      ]
     },
     "metadata": {},
     "output_type": "display_data"
    },
    {
     "name": "stdout",
     "output_type": "stream",
     "text": [
      "\n"
     ]
    },
    {
     "data": {
      "application/vnd.jupyter.widget-view+json": {
       "model_id": "f3b6f09c55fa450f982ae3b1367cd212",
       "version_major": 2,
       "version_minor": 0
      },
      "text/plain": [
       "HBox(children=(IntProgress(value=0, max=30), HTML(value='')))"
      ]
     },
     "metadata": {},
     "output_type": "display_data"
    },
    {
     "name": "stdout",
     "output_type": "stream",
     "text": [
      "\n"
     ]
    },
    {
     "data": {
      "application/vnd.jupyter.widget-view+json": {
       "model_id": "a5a1cf4949c34afba2121893c7e1770d",
       "version_major": 2,
       "version_minor": 0
      },
      "text/plain": [
       "HBox(children=(IntProgress(value=0, max=30), HTML(value='')))"
      ]
     },
     "metadata": {},
     "output_type": "display_data"
    },
    {
     "name": "stdout",
     "output_type": "stream",
     "text": [
      "\n"
     ]
    },
    {
     "data": {
      "application/vnd.jupyter.widget-view+json": {
       "model_id": "e7d838f15f10492d862ca8a157b75880",
       "version_major": 2,
       "version_minor": 0
      },
      "text/plain": [
       "HBox(children=(IntProgress(value=0, max=30), HTML(value='')))"
      ]
     },
     "metadata": {},
     "output_type": "display_data"
    },
    {
     "name": "stdout",
     "output_type": "stream",
     "text": [
      "\n"
     ]
    },
    {
     "data": {
      "application/vnd.jupyter.widget-view+json": {
       "model_id": "e7af2ccfa23b434aa23967113ab33bf4",
       "version_major": 2,
       "version_minor": 0
      },
      "text/plain": [
       "HBox(children=(IntProgress(value=0, max=30), HTML(value='')))"
      ]
     },
     "metadata": {},
     "output_type": "display_data"
    },
    {
     "name": "stdout",
     "output_type": "stream",
     "text": [
      "\n"
     ]
    },
    {
     "data": {
      "application/vnd.jupyter.widget-view+json": {
       "model_id": "19ef739f6f8e40248d5b5559817958e4",
       "version_major": 2,
       "version_minor": 0
      },
      "text/plain": [
       "HBox(children=(IntProgress(value=0, max=30), HTML(value='')))"
      ]
     },
     "metadata": {},
     "output_type": "display_data"
    },
    {
     "name": "stdout",
     "output_type": "stream",
     "text": [
      "\n"
     ]
    },
    {
     "data": {
      "application/vnd.jupyter.widget-view+json": {
       "model_id": "a6fa66c3cca949b1acbaa135e5580061",
       "version_major": 2,
       "version_minor": 0
      },
      "text/plain": [
       "HBox(children=(IntProgress(value=0, max=30), HTML(value='')))"
      ]
     },
     "metadata": {},
     "output_type": "display_data"
    },
    {
     "name": "stdout",
     "output_type": "stream",
     "text": [
      "\n"
     ]
    },
    {
     "data": {
      "application/vnd.jupyter.widget-view+json": {
       "model_id": "850dfeb9ee2b4d759ba68165d2e54d49",
       "version_major": 2,
       "version_minor": 0
      },
      "text/plain": [
       "HBox(children=(IntProgress(value=0, max=30), HTML(value='')))"
      ]
     },
     "metadata": {},
     "output_type": "display_data"
    },
    {
     "name": "stdout",
     "output_type": "stream",
     "text": [
      "\n"
     ]
    },
    {
     "data": {
      "application/vnd.jupyter.widget-view+json": {
       "model_id": "5859a14c5f2d46a581a6d47bb575fd6c",
       "version_major": 2,
       "version_minor": 0
      },
      "text/plain": [
       "HBox(children=(IntProgress(value=0, max=30), HTML(value='')))"
      ]
     },
     "metadata": {},
     "output_type": "display_data"
    },
    {
     "name": "stdout",
     "output_type": "stream",
     "text": [
      "\n"
     ]
    },
    {
     "data": {
      "application/vnd.jupyter.widget-view+json": {
       "model_id": "3399e971d6654bccb9600d738ab7326c",
       "version_major": 2,
       "version_minor": 0
      },
      "text/plain": [
       "HBox(children=(IntProgress(value=0, max=30), HTML(value='')))"
      ]
     },
     "metadata": {},
     "output_type": "display_data"
    },
    {
     "name": "stdout",
     "output_type": "stream",
     "text": [
      "\n"
     ]
    },
    {
     "data": {
      "application/vnd.jupyter.widget-view+json": {
       "model_id": "f0b7366dd431452dbca9c4c4b4fed1f0",
       "version_major": 2,
       "version_minor": 0
      },
      "text/plain": [
       "HBox(children=(IntProgress(value=0, max=30), HTML(value='')))"
      ]
     },
     "metadata": {},
     "output_type": "display_data"
    },
    {
     "name": "stdout",
     "output_type": "stream",
     "text": [
      "\n"
     ]
    },
    {
     "data": {
      "application/vnd.jupyter.widget-view+json": {
       "model_id": "1c388c549c174a03bfc77410efeb6702",
       "version_major": 2,
       "version_minor": 0
      },
      "text/plain": [
       "HBox(children=(IntProgress(value=0, max=30), HTML(value='')))"
      ]
     },
     "metadata": {},
     "output_type": "display_data"
    },
    {
     "name": "stdout",
     "output_type": "stream",
     "text": [
      "\n"
     ]
    },
    {
     "data": {
      "application/vnd.jupyter.widget-view+json": {
       "model_id": "1c707558327641658792d8823b61fa6e",
       "version_major": 2,
       "version_minor": 0
      },
      "text/plain": [
       "HBox(children=(IntProgress(value=0, max=30), HTML(value='')))"
      ]
     },
     "metadata": {},
     "output_type": "display_data"
    },
    {
     "name": "stdout",
     "output_type": "stream",
     "text": [
      "\n"
     ]
    },
    {
     "data": {
      "application/vnd.jupyter.widget-view+json": {
       "model_id": "019e611dd5d445cc87d2f2364a19c086",
       "version_major": 2,
       "version_minor": 0
      },
      "text/plain": [
       "HBox(children=(IntProgress(value=0, max=30), HTML(value='')))"
      ]
     },
     "metadata": {},
     "output_type": "display_data"
    },
    {
     "name": "stdout",
     "output_type": "stream",
     "text": [
      "\n"
     ]
    },
    {
     "data": {
      "application/vnd.jupyter.widget-view+json": {
       "model_id": "5341ca647c604072a9614591e81422c5",
       "version_major": 2,
       "version_minor": 0
      },
      "text/plain": [
       "HBox(children=(IntProgress(value=0, max=30), HTML(value='')))"
      ]
     },
     "metadata": {},
     "output_type": "display_data"
    },
    {
     "name": "stdout",
     "output_type": "stream",
     "text": [
      "\n"
     ]
    },
    {
     "data": {
      "application/vnd.jupyter.widget-view+json": {
       "model_id": "6de78130109c422fa392daa22584ccfb",
       "version_major": 2,
       "version_minor": 0
      },
      "text/plain": [
       "HBox(children=(IntProgress(value=0, max=30), HTML(value='')))"
      ]
     },
     "metadata": {},
     "output_type": "display_data"
    },
    {
     "name": "stdout",
     "output_type": "stream",
     "text": [
      "\n"
     ]
    },
    {
     "data": {
      "application/vnd.jupyter.widget-view+json": {
       "model_id": "12417d99d5604c51abf9bdaea8fabb2d",
       "version_major": 2,
       "version_minor": 0
      },
      "text/plain": [
       "HBox(children=(IntProgress(value=0, max=30), HTML(value='')))"
      ]
     },
     "metadata": {},
     "output_type": "display_data"
    },
    {
     "name": "stdout",
     "output_type": "stream",
     "text": [
      "\n"
     ]
    },
    {
     "data": {
      "application/vnd.jupyter.widget-view+json": {
       "model_id": "86b45936d04249d8b3810f581d392038",
       "version_major": 2,
       "version_minor": 0
      },
      "text/plain": [
       "HBox(children=(IntProgress(value=0, max=30), HTML(value='')))"
      ]
     },
     "metadata": {},
     "output_type": "display_data"
    },
    {
     "name": "stdout",
     "output_type": "stream",
     "text": [
      "\n"
     ]
    },
    {
     "data": {
      "application/vnd.jupyter.widget-view+json": {
       "model_id": "0479d74969e64c72a0803cf9a87c3b5a",
       "version_major": 2,
       "version_minor": 0
      },
      "text/plain": [
       "HBox(children=(IntProgress(value=0, max=30), HTML(value='')))"
      ]
     },
     "metadata": {},
     "output_type": "display_data"
    },
    {
     "name": "stdout",
     "output_type": "stream",
     "text": [
      "\n"
     ]
    },
    {
     "data": {
      "application/vnd.jupyter.widget-view+json": {
       "model_id": "adbfa1d419dc4778918fb9ad0b72b262",
       "version_major": 2,
       "version_minor": 0
      },
      "text/plain": [
       "HBox(children=(IntProgress(value=0, max=30), HTML(value='')))"
      ]
     },
     "metadata": {},
     "output_type": "display_data"
    },
    {
     "name": "stdout",
     "output_type": "stream",
     "text": [
      "\n"
     ]
    },
    {
     "data": {
      "application/vnd.jupyter.widget-view+json": {
       "model_id": "fd23813d0a9b456b99496fe346efd84d",
       "version_major": 2,
       "version_minor": 0
      },
      "text/plain": [
       "HBox(children=(IntProgress(value=0, max=30), HTML(value='')))"
      ]
     },
     "metadata": {},
     "output_type": "display_data"
    },
    {
     "name": "stdout",
     "output_type": "stream",
     "text": [
      "\n"
     ]
    },
    {
     "data": {
      "application/vnd.jupyter.widget-view+json": {
       "model_id": "ba6d1f86b8ee4e46857173ff83bf52ff",
       "version_major": 2,
       "version_minor": 0
      },
      "text/plain": [
       "HBox(children=(IntProgress(value=0, max=30), HTML(value='')))"
      ]
     },
     "metadata": {},
     "output_type": "display_data"
    },
    {
     "name": "stdout",
     "output_type": "stream",
     "text": [
      "\n"
     ]
    },
    {
     "data": {
      "application/vnd.jupyter.widget-view+json": {
       "model_id": "ebe1331fbf1e4736bfede807c0f655cd",
       "version_major": 2,
       "version_minor": 0
      },
      "text/plain": [
       "HBox(children=(IntProgress(value=0, max=30), HTML(value='')))"
      ]
     },
     "metadata": {},
     "output_type": "display_data"
    },
    {
     "name": "stdout",
     "output_type": "stream",
     "text": [
      "\n"
     ]
    },
    {
     "data": {
      "application/vnd.jupyter.widget-view+json": {
       "model_id": "1e309693c4b741259812c01252780e6d",
       "version_major": 2,
       "version_minor": 0
      },
      "text/plain": [
       "HBox(children=(IntProgress(value=0, max=30), HTML(value='')))"
      ]
     },
     "metadata": {},
     "output_type": "display_data"
    },
    {
     "name": "stdout",
     "output_type": "stream",
     "text": [
      "\n"
     ]
    },
    {
     "data": {
      "application/vnd.jupyter.widget-view+json": {
       "model_id": "42a581e24160427fb1844e654535617f",
       "version_major": 2,
       "version_minor": 0
      },
      "text/plain": [
       "HBox(children=(IntProgress(value=0, max=30), HTML(value='')))"
      ]
     },
     "metadata": {},
     "output_type": "display_data"
    },
    {
     "name": "stdout",
     "output_type": "stream",
     "text": [
      "\n"
     ]
    },
    {
     "data": {
      "application/vnd.jupyter.widget-view+json": {
       "model_id": "38aaced48f244df695c7a8d31e0231a5",
       "version_major": 2,
       "version_minor": 0
      },
      "text/plain": [
       "HBox(children=(IntProgress(value=0, max=30), HTML(value='')))"
      ]
     },
     "metadata": {},
     "output_type": "display_data"
    },
    {
     "name": "stdout",
     "output_type": "stream",
     "text": [
      "\n"
     ]
    },
    {
     "data": {
      "application/vnd.jupyter.widget-view+json": {
       "model_id": "2f4af69295c64c13883dc2b94139f761",
       "version_major": 2,
       "version_minor": 0
      },
      "text/plain": [
       "HBox(children=(IntProgress(value=0, max=30), HTML(value='')))"
      ]
     },
     "metadata": {},
     "output_type": "display_data"
    },
    {
     "name": "stdout",
     "output_type": "stream",
     "text": [
      "\n"
     ]
    },
    {
     "data": {
      "application/vnd.jupyter.widget-view+json": {
       "model_id": "6fc3a1b5c447459480d6b5871102f290",
       "version_major": 2,
       "version_minor": 0
      },
      "text/plain": [
       "HBox(children=(IntProgress(value=0, max=30), HTML(value='')))"
      ]
     },
     "metadata": {},
     "output_type": "display_data"
    },
    {
     "name": "stdout",
     "output_type": "stream",
     "text": [
      "\n"
     ]
    },
    {
     "data": {
      "application/vnd.jupyter.widget-view+json": {
       "model_id": "127ffb1f74a94bce8fe5d537ad1655d9",
       "version_major": 2,
       "version_minor": 0
      },
      "text/plain": [
       "HBox(children=(IntProgress(value=0, max=30), HTML(value='')))"
      ]
     },
     "metadata": {},
     "output_type": "display_data"
    },
    {
     "name": "stdout",
     "output_type": "stream",
     "text": [
      "\n"
     ]
    },
    {
     "data": {
      "application/vnd.jupyter.widget-view+json": {
       "model_id": "a02b447235c84aef958a409d7cc62d59",
       "version_major": 2,
       "version_minor": 0
      },
      "text/plain": [
       "HBox(children=(IntProgress(value=0, max=30), HTML(value='')))"
      ]
     },
     "metadata": {},
     "output_type": "display_data"
    },
    {
     "name": "stdout",
     "output_type": "stream",
     "text": [
      "\n"
     ]
    },
    {
     "data": {
      "application/vnd.jupyter.widget-view+json": {
       "model_id": "3c49536e5aff4fa8a48d1466e33d50dd",
       "version_major": 2,
       "version_minor": 0
      },
      "text/plain": [
       "HBox(children=(IntProgress(value=0, max=30), HTML(value='')))"
      ]
     },
     "metadata": {},
     "output_type": "display_data"
    },
    {
     "name": "stdout",
     "output_type": "stream",
     "text": [
      "\n"
     ]
    },
    {
     "data": {
      "application/vnd.jupyter.widget-view+json": {
       "model_id": "0e4ea7e3b18a4362846bcdf9b0344081",
       "version_major": 2,
       "version_minor": 0
      },
      "text/plain": [
       "HBox(children=(IntProgress(value=0, max=30), HTML(value='')))"
      ]
     },
     "metadata": {},
     "output_type": "display_data"
    },
    {
     "name": "stdout",
     "output_type": "stream",
     "text": [
      "\n"
     ]
    },
    {
     "data": {
      "application/vnd.jupyter.widget-view+json": {
       "model_id": "9151e2c98b3542fb8b360549f681ea8d",
       "version_major": 2,
       "version_minor": 0
      },
      "text/plain": [
       "HBox(children=(IntProgress(value=0, max=30), HTML(value='')))"
      ]
     },
     "metadata": {},
     "output_type": "display_data"
    },
    {
     "name": "stdout",
     "output_type": "stream",
     "text": [
      "\n"
     ]
    },
    {
     "data": {
      "application/vnd.jupyter.widget-view+json": {
       "model_id": "b2e66a1c0be44f7eb144dfe0fce9ff81",
       "version_major": 2,
       "version_minor": 0
      },
      "text/plain": [
       "HBox(children=(IntProgress(value=0, max=30), HTML(value='')))"
      ]
     },
     "metadata": {},
     "output_type": "display_data"
    },
    {
     "name": "stdout",
     "output_type": "stream",
     "text": [
      "\n"
     ]
    },
    {
     "data": {
      "application/vnd.jupyter.widget-view+json": {
       "model_id": "2cb4f93e64194ce1b1120f871e360b0d",
       "version_major": 2,
       "version_minor": 0
      },
      "text/plain": [
       "HBox(children=(IntProgress(value=0, max=30), HTML(value='')))"
      ]
     },
     "metadata": {},
     "output_type": "display_data"
    },
    {
     "name": "stdout",
     "output_type": "stream",
     "text": [
      "\n"
     ]
    },
    {
     "data": {
      "application/vnd.jupyter.widget-view+json": {
       "model_id": "e0f5b36fc7fb460c8c48be9551b1d009",
       "version_major": 2,
       "version_minor": 0
      },
      "text/plain": [
       "HBox(children=(IntProgress(value=0, max=30), HTML(value='')))"
      ]
     },
     "metadata": {},
     "output_type": "display_data"
    },
    {
     "name": "stdout",
     "output_type": "stream",
     "text": [
      "\n"
     ]
    },
    {
     "data": {
      "application/vnd.jupyter.widget-view+json": {
       "model_id": "fd5baeaafd11490f904caff7e3a1e6af",
       "version_major": 2,
       "version_minor": 0
      },
      "text/plain": [
       "HBox(children=(IntProgress(value=0, max=30), HTML(value='')))"
      ]
     },
     "metadata": {},
     "output_type": "display_data"
    },
    {
     "name": "stdout",
     "output_type": "stream",
     "text": [
      "\n"
     ]
    },
    {
     "data": {
      "application/vnd.jupyter.widget-view+json": {
       "model_id": "10de047105a74287bac73e3f69a42bff",
       "version_major": 2,
       "version_minor": 0
      },
      "text/plain": [
       "HBox(children=(IntProgress(value=0, max=30), HTML(value='')))"
      ]
     },
     "metadata": {},
     "output_type": "display_data"
    },
    {
     "name": "stdout",
     "output_type": "stream",
     "text": [
      "\n"
     ]
    },
    {
     "data": {
      "application/vnd.jupyter.widget-view+json": {
       "model_id": "cb62bb1e156946e69095a420811d28d1",
       "version_major": 2,
       "version_minor": 0
      },
      "text/plain": [
       "HBox(children=(IntProgress(value=0, max=30), HTML(value='')))"
      ]
     },
     "metadata": {},
     "output_type": "display_data"
    },
    {
     "name": "stdout",
     "output_type": "stream",
     "text": [
      "\n"
     ]
    },
    {
     "data": {
      "application/vnd.jupyter.widget-view+json": {
       "model_id": "49c1403a5b024fd182524afbb47636c2",
       "version_major": 2,
       "version_minor": 0
      },
      "text/plain": [
       "HBox(children=(IntProgress(value=0, max=30), HTML(value='')))"
      ]
     },
     "metadata": {},
     "output_type": "display_data"
    },
    {
     "name": "stdout",
     "output_type": "stream",
     "text": [
      "\n"
     ]
    },
    {
     "data": {
      "application/vnd.jupyter.widget-view+json": {
       "model_id": "86bfdb80bc774fb280813ed5a831f34f",
       "version_major": 2,
       "version_minor": 0
      },
      "text/plain": [
       "HBox(children=(IntProgress(value=0, max=30), HTML(value='')))"
      ]
     },
     "metadata": {},
     "output_type": "display_data"
    },
    {
     "name": "stdout",
     "output_type": "stream",
     "text": [
      "\n"
     ]
    },
    {
     "data": {
      "application/vnd.jupyter.widget-view+json": {
       "model_id": "de8e5a660f214cd6b03243d1191fbf85",
       "version_major": 2,
       "version_minor": 0
      },
      "text/plain": [
       "HBox(children=(IntProgress(value=0, max=30), HTML(value='')))"
      ]
     },
     "metadata": {},
     "output_type": "display_data"
    },
    {
     "name": "stdout",
     "output_type": "stream",
     "text": [
      "\n"
     ]
    },
    {
     "data": {
      "application/vnd.jupyter.widget-view+json": {
       "model_id": "4079c935f64b4c2b83f2232dcbc57bf6",
       "version_major": 2,
       "version_minor": 0
      },
      "text/plain": [
       "HBox(children=(IntProgress(value=0, max=30), HTML(value='')))"
      ]
     },
     "metadata": {},
     "output_type": "display_data"
    },
    {
     "name": "stdout",
     "output_type": "stream",
     "text": [
      "\n"
     ]
    },
    {
     "data": {
      "application/vnd.jupyter.widget-view+json": {
       "model_id": "edeb57c3531949a48160cfff77778e84",
       "version_major": 2,
       "version_minor": 0
      },
      "text/plain": [
       "HBox(children=(IntProgress(value=0, max=30), HTML(value='')))"
      ]
     },
     "metadata": {},
     "output_type": "display_data"
    },
    {
     "name": "stdout",
     "output_type": "stream",
     "text": [
      "\n"
     ]
    },
    {
     "data": {
      "application/vnd.jupyter.widget-view+json": {
       "model_id": "60bb9ea77640440a9f0e108416e4022a",
       "version_major": 2,
       "version_minor": 0
      },
      "text/plain": [
       "HBox(children=(IntProgress(value=0, max=30), HTML(value='')))"
      ]
     },
     "metadata": {},
     "output_type": "display_data"
    },
    {
     "name": "stdout",
     "output_type": "stream",
     "text": [
      "\n"
     ]
    },
    {
     "data": {
      "application/vnd.jupyter.widget-view+json": {
       "model_id": "9d8edc1daa7f41bbbefd95cbe559b512",
       "version_major": 2,
       "version_minor": 0
      },
      "text/plain": [
       "HBox(children=(IntProgress(value=0, max=30), HTML(value='')))"
      ]
     },
     "metadata": {},
     "output_type": "display_data"
    },
    {
     "name": "stdout",
     "output_type": "stream",
     "text": [
      "\n"
     ]
    },
    {
     "data": {
      "application/vnd.jupyter.widget-view+json": {
       "model_id": "cbac16b58a354a0ea2239bf79ff2c8ef",
       "version_major": 2,
       "version_minor": 0
      },
      "text/plain": [
       "HBox(children=(IntProgress(value=0, max=30), HTML(value='')))"
      ]
     },
     "metadata": {},
     "output_type": "display_data"
    },
    {
     "name": "stdout",
     "output_type": "stream",
     "text": [
      "\n"
     ]
    },
    {
     "data": {
      "application/vnd.jupyter.widget-view+json": {
       "model_id": "b675fb5580354f71934dcf72fb79228b",
       "version_major": 2,
       "version_minor": 0
      },
      "text/plain": [
       "HBox(children=(IntProgress(value=0, max=30), HTML(value='')))"
      ]
     },
     "metadata": {},
     "output_type": "display_data"
    },
    {
     "name": "stdout",
     "output_type": "stream",
     "text": [
      "\n"
     ]
    },
    {
     "data": {
      "application/vnd.jupyter.widget-view+json": {
       "model_id": "86ad0ba52de34f73b0013aad3b09e752",
       "version_major": 2,
       "version_minor": 0
      },
      "text/plain": [
       "HBox(children=(IntProgress(value=0, max=30), HTML(value='')))"
      ]
     },
     "metadata": {},
     "output_type": "display_data"
    },
    {
     "name": "stdout",
     "output_type": "stream",
     "text": [
      "\n"
     ]
    },
    {
     "data": {
      "application/vnd.jupyter.widget-view+json": {
       "model_id": "10f396d70c09403bbe58d8ed4f9dbec7",
       "version_major": 2,
       "version_minor": 0
      },
      "text/plain": [
       "HBox(children=(IntProgress(value=0, max=30), HTML(value='')))"
      ]
     },
     "metadata": {},
     "output_type": "display_data"
    },
    {
     "name": "stdout",
     "output_type": "stream",
     "text": [
      "\n"
     ]
    },
    {
     "data": {
      "application/vnd.jupyter.widget-view+json": {
       "model_id": "5ec6e8c7015b4ec89e29ec3cc00a9861",
       "version_major": 2,
       "version_minor": 0
      },
      "text/plain": [
       "HBox(children=(IntProgress(value=0, max=30), HTML(value='')))"
      ]
     },
     "metadata": {},
     "output_type": "display_data"
    },
    {
     "name": "stdout",
     "output_type": "stream",
     "text": [
      "\n"
     ]
    },
    {
     "data": {
      "application/vnd.jupyter.widget-view+json": {
       "model_id": "10f50b1f6be845beb92a6cf72c724a3a",
       "version_major": 2,
       "version_minor": 0
      },
      "text/plain": [
       "HBox(children=(IntProgress(value=0, max=30), HTML(value='')))"
      ]
     },
     "metadata": {},
     "output_type": "display_data"
    },
    {
     "name": "stdout",
     "output_type": "stream",
     "text": [
      "\n"
     ]
    },
    {
     "data": {
      "application/vnd.jupyter.widget-view+json": {
       "model_id": "f4c561e1267e480e871a56735538fecd",
       "version_major": 2,
       "version_minor": 0
      },
      "text/plain": [
       "HBox(children=(IntProgress(value=0, max=30), HTML(value='')))"
      ]
     },
     "metadata": {},
     "output_type": "display_data"
    },
    {
     "name": "stdout",
     "output_type": "stream",
     "text": [
      "\n"
     ]
    },
    {
     "data": {
      "application/vnd.jupyter.widget-view+json": {
       "model_id": "03c0bb87a3104fb891050b3ca420005c",
       "version_major": 2,
       "version_minor": 0
      },
      "text/plain": [
       "HBox(children=(IntProgress(value=0, max=30), HTML(value='')))"
      ]
     },
     "metadata": {},
     "output_type": "display_data"
    },
    {
     "name": "stdout",
     "output_type": "stream",
     "text": [
      "\n"
     ]
    },
    {
     "data": {
      "application/vnd.jupyter.widget-view+json": {
       "model_id": "4c7e1c057f0042cea8dc5803c45d82a1",
       "version_major": 2,
       "version_minor": 0
      },
      "text/plain": [
       "HBox(children=(IntProgress(value=0, max=30), HTML(value='')))"
      ]
     },
     "metadata": {},
     "output_type": "display_data"
    },
    {
     "name": "stdout",
     "output_type": "stream",
     "text": [
      "\n"
     ]
    },
    {
     "data": {
      "application/vnd.jupyter.widget-view+json": {
       "model_id": "9180faf38baa40e8a1fce3398cbb9d0f",
       "version_major": 2,
       "version_minor": 0
      },
      "text/plain": [
       "HBox(children=(IntProgress(value=0, max=30), HTML(value='')))"
      ]
     },
     "metadata": {},
     "output_type": "display_data"
    },
    {
     "name": "stdout",
     "output_type": "stream",
     "text": [
      "\n"
     ]
    },
    {
     "data": {
      "application/vnd.jupyter.widget-view+json": {
       "model_id": "fd555e42fca648f2a7b4ea9bf9fc148a",
       "version_major": 2,
       "version_minor": 0
      },
      "text/plain": [
       "HBox(children=(IntProgress(value=0, max=30), HTML(value='')))"
      ]
     },
     "metadata": {},
     "output_type": "display_data"
    },
    {
     "name": "stdout",
     "output_type": "stream",
     "text": [
      "\n"
     ]
    },
    {
     "data": {
      "application/vnd.jupyter.widget-view+json": {
       "model_id": "17ebe3291ac14707a82c2993ffef8f3d",
       "version_major": 2,
       "version_minor": 0
      },
      "text/plain": [
       "HBox(children=(IntProgress(value=0, max=30), HTML(value='')))"
      ]
     },
     "metadata": {},
     "output_type": "display_data"
    },
    {
     "name": "stdout",
     "output_type": "stream",
     "text": [
      "\n"
     ]
    },
    {
     "data": {
      "application/vnd.jupyter.widget-view+json": {
       "model_id": "51074e2e721b47c081c2b89b5346bdc1",
       "version_major": 2,
       "version_minor": 0
      },
      "text/plain": [
       "HBox(children=(IntProgress(value=0, max=30), HTML(value='')))"
      ]
     },
     "metadata": {},
     "output_type": "display_data"
    },
    {
     "name": "stdout",
     "output_type": "stream",
     "text": [
      "\n"
     ]
    },
    {
     "data": {
      "application/vnd.jupyter.widget-view+json": {
       "model_id": "3a26c740dd904f6db4548ddeaa215e2d",
       "version_major": 2,
       "version_minor": 0
      },
      "text/plain": [
       "HBox(children=(IntProgress(value=0, max=30), HTML(value='')))"
      ]
     },
     "metadata": {},
     "output_type": "display_data"
    },
    {
     "name": "stdout",
     "output_type": "stream",
     "text": [
      "\n"
     ]
    },
    {
     "data": {
      "application/vnd.jupyter.widget-view+json": {
       "model_id": "0c481e430ab3469fba20c301bcddecde",
       "version_major": 2,
       "version_minor": 0
      },
      "text/plain": [
       "HBox(children=(IntProgress(value=0, max=30), HTML(value='')))"
      ]
     },
     "metadata": {},
     "output_type": "display_data"
    },
    {
     "name": "stdout",
     "output_type": "stream",
     "text": [
      "\n"
     ]
    },
    {
     "data": {
      "application/vnd.jupyter.widget-view+json": {
       "model_id": "1e70b6f2b6ee4f8ab24470e21be0e7b9",
       "version_major": 2,
       "version_minor": 0
      },
      "text/plain": [
       "HBox(children=(IntProgress(value=0, max=30), HTML(value='')))"
      ]
     },
     "metadata": {},
     "output_type": "display_data"
    },
    {
     "name": "stdout",
     "output_type": "stream",
     "text": [
      "\n"
     ]
    },
    {
     "data": {
      "application/vnd.jupyter.widget-view+json": {
       "model_id": "e12f953faa14418a99494e006fe3cbb7",
       "version_major": 2,
       "version_minor": 0
      },
      "text/plain": [
       "HBox(children=(IntProgress(value=0, max=30), HTML(value='')))"
      ]
     },
     "metadata": {},
     "output_type": "display_data"
    },
    {
     "name": "stdout",
     "output_type": "stream",
     "text": [
      "\n"
     ]
    },
    {
     "data": {
      "application/vnd.jupyter.widget-view+json": {
       "model_id": "fdad079649dd437f86bf7c06c6131021",
       "version_major": 2,
       "version_minor": 0
      },
      "text/plain": [
       "HBox(children=(IntProgress(value=0, max=30), HTML(value='')))"
      ]
     },
     "metadata": {},
     "output_type": "display_data"
    },
    {
     "name": "stdout",
     "output_type": "stream",
     "text": [
      "\n"
     ]
    },
    {
     "data": {
      "application/vnd.jupyter.widget-view+json": {
       "model_id": "957c25907af446b2a7cd9d6fd767dfe5",
       "version_major": 2,
       "version_minor": 0
      },
      "text/plain": [
       "HBox(children=(IntProgress(value=0, max=30), HTML(value='')))"
      ]
     },
     "metadata": {},
     "output_type": "display_data"
    },
    {
     "name": "stdout",
     "output_type": "stream",
     "text": [
      "\n"
     ]
    },
    {
     "data": {
      "application/vnd.jupyter.widget-view+json": {
       "model_id": "13c014d9f003439aaa58045638a5d30f",
       "version_major": 2,
       "version_minor": 0
      },
      "text/plain": [
       "HBox(children=(IntProgress(value=0, max=30), HTML(value='')))"
      ]
     },
     "metadata": {},
     "output_type": "display_data"
    },
    {
     "name": "stdout",
     "output_type": "stream",
     "text": [
      "\n"
     ]
    },
    {
     "data": {
      "application/vnd.jupyter.widget-view+json": {
       "model_id": "30a99e7db7c64ca79287b1140f811b96",
       "version_major": 2,
       "version_minor": 0
      },
      "text/plain": [
       "HBox(children=(IntProgress(value=0, max=30), HTML(value='')))"
      ]
     },
     "metadata": {},
     "output_type": "display_data"
    },
    {
     "name": "stdout",
     "output_type": "stream",
     "text": [
      "\n"
     ]
    },
    {
     "data": {
      "application/vnd.jupyter.widget-view+json": {
       "model_id": "481a80b78f4b471abcfd73bc1c9bf5d3",
       "version_major": 2,
       "version_minor": 0
      },
      "text/plain": [
       "HBox(children=(IntProgress(value=0, max=30), HTML(value='')))"
      ]
     },
     "metadata": {},
     "output_type": "display_data"
    },
    {
     "name": "stdout",
     "output_type": "stream",
     "text": [
      "\n"
     ]
    },
    {
     "data": {
      "application/vnd.jupyter.widget-view+json": {
       "model_id": "23266af538164b5dbad9f10f91b9d850",
       "version_major": 2,
       "version_minor": 0
      },
      "text/plain": [
       "HBox(children=(IntProgress(value=0, max=30), HTML(value='')))"
      ]
     },
     "metadata": {},
     "output_type": "display_data"
    },
    {
     "name": "stdout",
     "output_type": "stream",
     "text": [
      "\n"
     ]
    },
    {
     "data": {
      "application/vnd.jupyter.widget-view+json": {
       "model_id": "86a7413148084f26803314e093b7ed56",
       "version_major": 2,
       "version_minor": 0
      },
      "text/plain": [
       "HBox(children=(IntProgress(value=0, max=30), HTML(value='')))"
      ]
     },
     "metadata": {},
     "output_type": "display_data"
    },
    {
     "name": "stdout",
     "output_type": "stream",
     "text": [
      "\n"
     ]
    },
    {
     "data": {
      "application/vnd.jupyter.widget-view+json": {
       "model_id": "cbddd7d9d7c848558c864acff02655e5",
       "version_major": 2,
       "version_minor": 0
      },
      "text/plain": [
       "HBox(children=(IntProgress(value=0, max=30), HTML(value='')))"
      ]
     },
     "metadata": {},
     "output_type": "display_data"
    },
    {
     "name": "stdout",
     "output_type": "stream",
     "text": [
      "\n"
     ]
    },
    {
     "data": {
      "application/vnd.jupyter.widget-view+json": {
       "model_id": "c44ccef5507b4680bf2d3d346e71e55e",
       "version_major": 2,
       "version_minor": 0
      },
      "text/plain": [
       "HBox(children=(IntProgress(value=0, max=30), HTML(value='')))"
      ]
     },
     "metadata": {},
     "output_type": "display_data"
    },
    {
     "name": "stdout",
     "output_type": "stream",
     "text": [
      "\n"
     ]
    },
    {
     "data": {
      "application/vnd.jupyter.widget-view+json": {
       "model_id": "71d9e84fb07e427e9a76147575d93032",
       "version_major": 2,
       "version_minor": 0
      },
      "text/plain": [
       "HBox(children=(IntProgress(value=0, max=30), HTML(value='')))"
      ]
     },
     "metadata": {},
     "output_type": "display_data"
    },
    {
     "name": "stdout",
     "output_type": "stream",
     "text": [
      "\n"
     ]
    },
    {
     "data": {
      "application/vnd.jupyter.widget-view+json": {
       "model_id": "256d356535af4c6f8d8eaf7052fc7618",
       "version_major": 2,
       "version_minor": 0
      },
      "text/plain": [
       "HBox(children=(IntProgress(value=0, max=30), HTML(value='')))"
      ]
     },
     "metadata": {},
     "output_type": "display_data"
    },
    {
     "name": "stdout",
     "output_type": "stream",
     "text": [
      "\n"
     ]
    },
    {
     "data": {
      "application/vnd.jupyter.widget-view+json": {
       "model_id": "51c3ddb6b9c0449a88bc6d3955488089",
       "version_major": 2,
       "version_minor": 0
      },
      "text/plain": [
       "HBox(children=(IntProgress(value=0, max=30), HTML(value='')))"
      ]
     },
     "metadata": {},
     "output_type": "display_data"
    },
    {
     "name": "stdout",
     "output_type": "stream",
     "text": [
      "\n"
     ]
    },
    {
     "data": {
      "application/vnd.jupyter.widget-view+json": {
       "model_id": "464bba0b5d1744f09c9382ce6308aaeb",
       "version_major": 2,
       "version_minor": 0
      },
      "text/plain": [
       "HBox(children=(IntProgress(value=0, max=30), HTML(value='')))"
      ]
     },
     "metadata": {},
     "output_type": "display_data"
    },
    {
     "name": "stdout",
     "output_type": "stream",
     "text": [
      "\n"
     ]
    },
    {
     "data": {
      "application/vnd.jupyter.widget-view+json": {
       "model_id": "40494f048a884055bc09f80b04568839",
       "version_major": 2,
       "version_minor": 0
      },
      "text/plain": [
       "HBox(children=(IntProgress(value=0, max=30), HTML(value='')))"
      ]
     },
     "metadata": {},
     "output_type": "display_data"
    },
    {
     "name": "stdout",
     "output_type": "stream",
     "text": [
      "\n"
     ]
    },
    {
     "data": {
      "application/vnd.jupyter.widget-view+json": {
       "model_id": "b9f5a17d0172491b8804da6c24b85510",
       "version_major": 2,
       "version_minor": 0
      },
      "text/plain": [
       "HBox(children=(IntProgress(value=0, max=30), HTML(value='')))"
      ]
     },
     "metadata": {},
     "output_type": "display_data"
    },
    {
     "name": "stdout",
     "output_type": "stream",
     "text": [
      "\n"
     ]
    },
    {
     "data": {
      "application/vnd.jupyter.widget-view+json": {
       "model_id": "5f03e4df8bbe4f64b323ebdb9f1a8fb7",
       "version_major": 2,
       "version_minor": 0
      },
      "text/plain": [
       "HBox(children=(IntProgress(value=0, max=30), HTML(value='')))"
      ]
     },
     "metadata": {},
     "output_type": "display_data"
    },
    {
     "name": "stdout",
     "output_type": "stream",
     "text": [
      "\n"
     ]
    },
    {
     "data": {
      "application/vnd.jupyter.widget-view+json": {
       "model_id": "ef2fbc4ae7934761914682c1b2fdfef5",
       "version_major": 2,
       "version_minor": 0
      },
      "text/plain": [
       "HBox(children=(IntProgress(value=0, max=30), HTML(value='')))"
      ]
     },
     "metadata": {},
     "output_type": "display_data"
    },
    {
     "name": "stdout",
     "output_type": "stream",
     "text": [
      "\n"
     ]
    },
    {
     "data": {
      "application/vnd.jupyter.widget-view+json": {
       "model_id": "a88daad0eb704dcc8d0f8486c8a44c59",
       "version_major": 2,
       "version_minor": 0
      },
      "text/plain": [
       "HBox(children=(IntProgress(value=0, max=30), HTML(value='')))"
      ]
     },
     "metadata": {},
     "output_type": "display_data"
    },
    {
     "name": "stdout",
     "output_type": "stream",
     "text": [
      "\n"
     ]
    },
    {
     "data": {
      "application/vnd.jupyter.widget-view+json": {
       "model_id": "fa3d5a1325f144588ac825939ddeaccb",
       "version_major": 2,
       "version_minor": 0
      },
      "text/plain": [
       "HBox(children=(IntProgress(value=0, max=30), HTML(value='')))"
      ]
     },
     "metadata": {},
     "output_type": "display_data"
    },
    {
     "name": "stdout",
     "output_type": "stream",
     "text": [
      "\n"
     ]
    },
    {
     "data": {
      "application/vnd.jupyter.widget-view+json": {
       "model_id": "9359942d7aba4bf88375e48fcd4bf18d",
       "version_major": 2,
       "version_minor": 0
      },
      "text/plain": [
       "HBox(children=(IntProgress(value=0, max=30), HTML(value='')))"
      ]
     },
     "metadata": {},
     "output_type": "display_data"
    },
    {
     "name": "stdout",
     "output_type": "stream",
     "text": [
      "\n"
     ]
    },
    {
     "data": {
      "application/vnd.jupyter.widget-view+json": {
       "model_id": "afd5e7f7ea584bf98ae165eea455e117",
       "version_major": 2,
       "version_minor": 0
      },
      "text/plain": [
       "HBox(children=(IntProgress(value=0, max=30), HTML(value='')))"
      ]
     },
     "metadata": {},
     "output_type": "display_data"
    },
    {
     "name": "stdout",
     "output_type": "stream",
     "text": [
      "\n"
     ]
    },
    {
     "data": {
      "application/vnd.jupyter.widget-view+json": {
       "model_id": "bbc2e25c1ae947a6a34f504406b455db",
       "version_major": 2,
       "version_minor": 0
      },
      "text/plain": [
       "HBox(children=(IntProgress(value=0, max=30), HTML(value='')))"
      ]
     },
     "metadata": {},
     "output_type": "display_data"
    },
    {
     "name": "stdout",
     "output_type": "stream",
     "text": [
      "\n"
     ]
    },
    {
     "data": {
      "application/vnd.jupyter.widget-view+json": {
       "model_id": "f4f4905a22dd4eca93b268e676108649",
       "version_major": 2,
       "version_minor": 0
      },
      "text/plain": [
       "HBox(children=(IntProgress(value=0, max=30), HTML(value='')))"
      ]
     },
     "metadata": {},
     "output_type": "display_data"
    },
    {
     "name": "stdout",
     "output_type": "stream",
     "text": [
      "\n"
     ]
    },
    {
     "data": {
      "application/vnd.jupyter.widget-view+json": {
       "model_id": "a513bd1a8f2a4166ae192e430161a058",
       "version_major": 2,
       "version_minor": 0
      },
      "text/plain": [
       "HBox(children=(IntProgress(value=0, max=30), HTML(value='')))"
      ]
     },
     "metadata": {},
     "output_type": "display_data"
    },
    {
     "name": "stdout",
     "output_type": "stream",
     "text": [
      "\n"
     ]
    },
    {
     "data": {
      "application/vnd.jupyter.widget-view+json": {
       "model_id": "c8e2c2ebe6714799853dbfae3cef0ce1",
       "version_major": 2,
       "version_minor": 0
      },
      "text/plain": [
       "HBox(children=(IntProgress(value=0, max=30), HTML(value='')))"
      ]
     },
     "metadata": {},
     "output_type": "display_data"
    },
    {
     "name": "stdout",
     "output_type": "stream",
     "text": [
      "\n"
     ]
    },
    {
     "data": {
      "application/vnd.jupyter.widget-view+json": {
       "model_id": "64420243ba014d769c85c0d767c12e43",
       "version_major": 2,
       "version_minor": 0
      },
      "text/plain": [
       "HBox(children=(IntProgress(value=0, max=30), HTML(value='')))"
      ]
     },
     "metadata": {},
     "output_type": "display_data"
    },
    {
     "name": "stdout",
     "output_type": "stream",
     "text": [
      "\n"
     ]
    },
    {
     "data": {
      "application/vnd.jupyter.widget-view+json": {
       "model_id": "12122b7c59c1445ab4a4d368114e90b6",
       "version_major": 2,
       "version_minor": 0
      },
      "text/plain": [
       "HBox(children=(IntProgress(value=0, max=30), HTML(value='')))"
      ]
     },
     "metadata": {},
     "output_type": "display_data"
    },
    {
     "name": "stdout",
     "output_type": "stream",
     "text": [
      "\n"
     ]
    },
    {
     "data": {
      "application/vnd.jupyter.widget-view+json": {
       "model_id": "9ad4ea8d919b43d3b45ed51c65e3df10",
       "version_major": 2,
       "version_minor": 0
      },
      "text/plain": [
       "HBox(children=(IntProgress(value=0, max=30), HTML(value='')))"
      ]
     },
     "metadata": {},
     "output_type": "display_data"
    },
    {
     "name": "stdout",
     "output_type": "stream",
     "text": [
      "\n"
     ]
    },
    {
     "data": {
      "application/vnd.jupyter.widget-view+json": {
       "model_id": "73b9790721bf4f3dbd5f109795653da4",
       "version_major": 2,
       "version_minor": 0
      },
      "text/plain": [
       "HBox(children=(IntProgress(value=0, max=30), HTML(value='')))"
      ]
     },
     "metadata": {},
     "output_type": "display_data"
    },
    {
     "name": "stdout",
     "output_type": "stream",
     "text": [
      "\n"
     ]
    },
    {
     "data": {
      "application/vnd.jupyter.widget-view+json": {
       "model_id": "5ca3392f1d4b4988927a4fb6ae18696e",
       "version_major": 2,
       "version_minor": 0
      },
      "text/plain": [
       "HBox(children=(IntProgress(value=0, max=30), HTML(value='')))"
      ]
     },
     "metadata": {},
     "output_type": "display_data"
    },
    {
     "name": "stdout",
     "output_type": "stream",
     "text": [
      "\n"
     ]
    },
    {
     "data": {
      "application/vnd.jupyter.widget-view+json": {
       "model_id": "d38cbfa556a34c0689aa3e75ba1e7f9b",
       "version_major": 2,
       "version_minor": 0
      },
      "text/plain": [
       "HBox(children=(IntProgress(value=0, max=30), HTML(value='')))"
      ]
     },
     "metadata": {},
     "output_type": "display_data"
    },
    {
     "name": "stdout",
     "output_type": "stream",
     "text": [
      "\n"
     ]
    },
    {
     "data": {
      "application/vnd.jupyter.widget-view+json": {
       "model_id": "50ee48107ac74dfba68e2fd81e09ee2f",
       "version_major": 2,
       "version_minor": 0
      },
      "text/plain": [
       "HBox(children=(IntProgress(value=0, max=30), HTML(value='')))"
      ]
     },
     "metadata": {},
     "output_type": "display_data"
    },
    {
     "name": "stdout",
     "output_type": "stream",
     "text": [
      "\n"
     ]
    },
    {
     "data": {
      "application/vnd.jupyter.widget-view+json": {
       "model_id": "9032a3ea1015400dac158b75b59bd95f",
       "version_major": 2,
       "version_minor": 0
      },
      "text/plain": [
       "HBox(children=(IntProgress(value=0, max=30), HTML(value='')))"
      ]
     },
     "metadata": {},
     "output_type": "display_data"
    },
    {
     "name": "stdout",
     "output_type": "stream",
     "text": [
      "\n"
     ]
    },
    {
     "data": {
      "application/vnd.jupyter.widget-view+json": {
       "model_id": "cb2eb3760e69499fb8bb6149ced31949",
       "version_major": 2,
       "version_minor": 0
      },
      "text/plain": [
       "HBox(children=(IntProgress(value=0, max=30), HTML(value='')))"
      ]
     },
     "metadata": {},
     "output_type": "display_data"
    },
    {
     "name": "stdout",
     "output_type": "stream",
     "text": [
      "\n"
     ]
    },
    {
     "data": {
      "application/vnd.jupyter.widget-view+json": {
       "model_id": "fa4d6590b7e2464ebcf820aeb8774c2c",
       "version_major": 2,
       "version_minor": 0
      },
      "text/plain": [
       "HBox(children=(IntProgress(value=0, max=30), HTML(value='')))"
      ]
     },
     "metadata": {},
     "output_type": "display_data"
    },
    {
     "name": "stdout",
     "output_type": "stream",
     "text": [
      "\n"
     ]
    },
    {
     "data": {
      "application/vnd.jupyter.widget-view+json": {
       "model_id": "890205248c914998bdb8896bb195a794",
       "version_major": 2,
       "version_minor": 0
      },
      "text/plain": [
       "HBox(children=(IntProgress(value=0, max=30), HTML(value='')))"
      ]
     },
     "metadata": {},
     "output_type": "display_data"
    },
    {
     "name": "stdout",
     "output_type": "stream",
     "text": [
      "\n"
     ]
    },
    {
     "data": {
      "application/vnd.jupyter.widget-view+json": {
       "model_id": "075d852708514ab28c964e71c5cf11b4",
       "version_major": 2,
       "version_minor": 0
      },
      "text/plain": [
       "HBox(children=(IntProgress(value=0, max=30), HTML(value='')))"
      ]
     },
     "metadata": {},
     "output_type": "display_data"
    },
    {
     "name": "stdout",
     "output_type": "stream",
     "text": [
      "\n"
     ]
    },
    {
     "data": {
      "application/vnd.jupyter.widget-view+json": {
       "model_id": "3294db2ca6684a7290d3ef447daa5f7c",
       "version_major": 2,
       "version_minor": 0
      },
      "text/plain": [
       "HBox(children=(IntProgress(value=0, max=30), HTML(value='')))"
      ]
     },
     "metadata": {},
     "output_type": "display_data"
    },
    {
     "name": "stdout",
     "output_type": "stream",
     "text": [
      "\n"
     ]
    },
    {
     "data": {
      "application/vnd.jupyter.widget-view+json": {
       "model_id": "ab15a07730c74b52bd394749e48d1ea6",
       "version_major": 2,
       "version_minor": 0
      },
      "text/plain": [
       "HBox(children=(IntProgress(value=0, max=30), HTML(value='')))"
      ]
     },
     "metadata": {},
     "output_type": "display_data"
    },
    {
     "name": "stdout",
     "output_type": "stream",
     "text": [
      "\n"
     ]
    },
    {
     "data": {
      "application/vnd.jupyter.widget-view+json": {
       "model_id": "8bf91ef3163342eeba36aa13d355bd65",
       "version_major": 2,
       "version_minor": 0
      },
      "text/plain": [
       "HBox(children=(IntProgress(value=0, max=30), HTML(value='')))"
      ]
     },
     "metadata": {},
     "output_type": "display_data"
    },
    {
     "name": "stdout",
     "output_type": "stream",
     "text": [
      "\n"
     ]
    },
    {
     "data": {
      "application/vnd.jupyter.widget-view+json": {
       "model_id": "927689fd4558406692dd1be2ff5b88a6",
       "version_major": 2,
       "version_minor": 0
      },
      "text/plain": [
       "HBox(children=(IntProgress(value=0, max=30), HTML(value='')))"
      ]
     },
     "metadata": {},
     "output_type": "display_data"
    },
    {
     "name": "stdout",
     "output_type": "stream",
     "text": [
      "\n"
     ]
    },
    {
     "data": {
      "application/vnd.jupyter.widget-view+json": {
       "model_id": "419d91ad04f04b089614a0f2180f8fa0",
       "version_major": 2,
       "version_minor": 0
      },
      "text/plain": [
       "HBox(children=(IntProgress(value=0, max=30), HTML(value='')))"
      ]
     },
     "metadata": {},
     "output_type": "display_data"
    },
    {
     "name": "stdout",
     "output_type": "stream",
     "text": [
      "\n"
     ]
    },
    {
     "data": {
      "application/vnd.jupyter.widget-view+json": {
       "model_id": "d088246b946f443fa6c0f63d6b6853ca",
       "version_major": 2,
       "version_minor": 0
      },
      "text/plain": [
       "HBox(children=(IntProgress(value=0, max=30), HTML(value='')))"
      ]
     },
     "metadata": {},
     "output_type": "display_data"
    },
    {
     "name": "stdout",
     "output_type": "stream",
     "text": [
      "\n"
     ]
    },
    {
     "data": {
      "application/vnd.jupyter.widget-view+json": {
       "model_id": "81ada2fb33924f559ece31fddaa69af9",
       "version_major": 2,
       "version_minor": 0
      },
      "text/plain": [
       "HBox(children=(IntProgress(value=0, max=30), HTML(value='')))"
      ]
     },
     "metadata": {},
     "output_type": "display_data"
    },
    {
     "name": "stdout",
     "output_type": "stream",
     "text": [
      "\n"
     ]
    },
    {
     "data": {
      "application/vnd.jupyter.widget-view+json": {
       "model_id": "3cbd09616fb24380bb3a19d6158b0326",
       "version_major": 2,
       "version_minor": 0
      },
      "text/plain": [
       "HBox(children=(IntProgress(value=0, max=30), HTML(value='')))"
      ]
     },
     "metadata": {},
     "output_type": "display_data"
    },
    {
     "name": "stdout",
     "output_type": "stream",
     "text": [
      "\n"
     ]
    },
    {
     "data": {
      "application/vnd.jupyter.widget-view+json": {
       "model_id": "d3a4a79f107d4956808c8396e5c646e6",
       "version_major": 2,
       "version_minor": 0
      },
      "text/plain": [
       "HBox(children=(IntProgress(value=0, max=30), HTML(value='')))"
      ]
     },
     "metadata": {},
     "output_type": "display_data"
    },
    {
     "name": "stdout",
     "output_type": "stream",
     "text": [
      "\n"
     ]
    },
    {
     "data": {
      "application/vnd.jupyter.widget-view+json": {
       "model_id": "d51f684ad9a546bd905dfbf7e120ea98",
       "version_major": 2,
       "version_minor": 0
      },
      "text/plain": [
       "HBox(children=(IntProgress(value=0, max=30), HTML(value='')))"
      ]
     },
     "metadata": {},
     "output_type": "display_data"
    },
    {
     "name": "stdout",
     "output_type": "stream",
     "text": [
      "\n"
     ]
    },
    {
     "data": {
      "application/vnd.jupyter.widget-view+json": {
       "model_id": "46c65ea3fdef45c78e3e6e7df9c4448b",
       "version_major": 2,
       "version_minor": 0
      },
      "text/plain": [
       "HBox(children=(IntProgress(value=0, max=30), HTML(value='')))"
      ]
     },
     "metadata": {},
     "output_type": "display_data"
    },
    {
     "name": "stdout",
     "output_type": "stream",
     "text": [
      "\n"
     ]
    },
    {
     "data": {
      "application/vnd.jupyter.widget-view+json": {
       "model_id": "8a17de52e2f843daa5b82b1085e35377",
       "version_major": 2,
       "version_minor": 0
      },
      "text/plain": [
       "HBox(children=(IntProgress(value=0, max=30), HTML(value='')))"
      ]
     },
     "metadata": {},
     "output_type": "display_data"
    },
    {
     "name": "stdout",
     "output_type": "stream",
     "text": [
      "\n"
     ]
    },
    {
     "data": {
      "application/vnd.jupyter.widget-view+json": {
       "model_id": "d3c0e03f561e4080bc54ba5dcf47920d",
       "version_major": 2,
       "version_minor": 0
      },
      "text/plain": [
       "HBox(children=(IntProgress(value=0, max=30), HTML(value='')))"
      ]
     },
     "metadata": {},
     "output_type": "display_data"
    },
    {
     "name": "stdout",
     "output_type": "stream",
     "text": [
      "\n"
     ]
    },
    {
     "data": {
      "application/vnd.jupyter.widget-view+json": {
       "model_id": "0d3fc6f421f64a469c2a1bd725857d26",
       "version_major": 2,
       "version_minor": 0
      },
      "text/plain": [
       "HBox(children=(IntProgress(value=0, max=30), HTML(value='')))"
      ]
     },
     "metadata": {},
     "output_type": "display_data"
    },
    {
     "name": "stdout",
     "output_type": "stream",
     "text": [
      "\n"
     ]
    },
    {
     "data": {
      "application/vnd.jupyter.widget-view+json": {
       "model_id": "3b6610ba0d704c6186f6a8ada167d0f4",
       "version_major": 2,
       "version_minor": 0
      },
      "text/plain": [
       "HBox(children=(IntProgress(value=0, max=30), HTML(value='')))"
      ]
     },
     "metadata": {},
     "output_type": "display_data"
    },
    {
     "name": "stdout",
     "output_type": "stream",
     "text": [
      "\n"
     ]
    },
    {
     "data": {
      "application/vnd.jupyter.widget-view+json": {
       "model_id": "205c933823f14f68b64c29be4e056251",
       "version_major": 2,
       "version_minor": 0
      },
      "text/plain": [
       "HBox(children=(IntProgress(value=0, max=30), HTML(value='')))"
      ]
     },
     "metadata": {},
     "output_type": "display_data"
    },
    {
     "name": "stdout",
     "output_type": "stream",
     "text": [
      "\n"
     ]
    },
    {
     "data": {
      "application/vnd.jupyter.widget-view+json": {
       "model_id": "dd64835630564b3280e36ce6319643d5",
       "version_major": 2,
       "version_minor": 0
      },
      "text/plain": [
       "HBox(children=(IntProgress(value=0, max=30), HTML(value='')))"
      ]
     },
     "metadata": {},
     "output_type": "display_data"
    },
    {
     "name": "stdout",
     "output_type": "stream",
     "text": [
      "\n"
     ]
    },
    {
     "data": {
      "application/vnd.jupyter.widget-view+json": {
       "model_id": "7983749c55bd4e21a05cb69b4dace10b",
       "version_major": 2,
       "version_minor": 0
      },
      "text/plain": [
       "HBox(children=(IntProgress(value=0, max=30), HTML(value='')))"
      ]
     },
     "metadata": {},
     "output_type": "display_data"
    },
    {
     "name": "stdout",
     "output_type": "stream",
     "text": [
      "\n"
     ]
    },
    {
     "data": {
      "application/vnd.jupyter.widget-view+json": {
       "model_id": "19b11c2a83814e74bcd9c49a5c2f0e0b",
       "version_major": 2,
       "version_minor": 0
      },
      "text/plain": [
       "HBox(children=(IntProgress(value=0, max=30), HTML(value='')))"
      ]
     },
     "metadata": {},
     "output_type": "display_data"
    },
    {
     "name": "stdout",
     "output_type": "stream",
     "text": [
      "\n"
     ]
    },
    {
     "data": {
      "application/vnd.jupyter.widget-view+json": {
       "model_id": "2f6313a3079e4326b7204f58eca048c3",
       "version_major": 2,
       "version_minor": 0
      },
      "text/plain": [
       "HBox(children=(IntProgress(value=0, max=30), HTML(value='')))"
      ]
     },
     "metadata": {},
     "output_type": "display_data"
    },
    {
     "name": "stdout",
     "output_type": "stream",
     "text": [
      "\n"
     ]
    },
    {
     "data": {
      "application/vnd.jupyter.widget-view+json": {
       "model_id": "43dace67f1604d5c9d4ad22e32a13ce8",
       "version_major": 2,
       "version_minor": 0
      },
      "text/plain": [
       "HBox(children=(IntProgress(value=0, max=30), HTML(value='')))"
      ]
     },
     "metadata": {},
     "output_type": "display_data"
    },
    {
     "name": "stdout",
     "output_type": "stream",
     "text": [
      "\n"
     ]
    },
    {
     "data": {
      "application/vnd.jupyter.widget-view+json": {
       "model_id": "2931e26f79b3467fa33936b2ff6139f9",
       "version_major": 2,
       "version_minor": 0
      },
      "text/plain": [
       "HBox(children=(IntProgress(value=0, max=30), HTML(value='')))"
      ]
     },
     "metadata": {},
     "output_type": "display_data"
    },
    {
     "name": "stdout",
     "output_type": "stream",
     "text": [
      "\n"
     ]
    },
    {
     "data": {
      "application/vnd.jupyter.widget-view+json": {
       "model_id": "654b16d92d3c4f0fb70a102dd62c9432",
       "version_major": 2,
       "version_minor": 0
      },
      "text/plain": [
       "HBox(children=(IntProgress(value=0, max=30), HTML(value='')))"
      ]
     },
     "metadata": {},
     "output_type": "display_data"
    },
    {
     "name": "stdout",
     "output_type": "stream",
     "text": [
      "\n"
     ]
    },
    {
     "data": {
      "application/vnd.jupyter.widget-view+json": {
       "model_id": "75853d32053a41efaff3cdfa13d3650a",
       "version_major": 2,
       "version_minor": 0
      },
      "text/plain": [
       "HBox(children=(IntProgress(value=0, max=30), HTML(value='')))"
      ]
     },
     "metadata": {},
     "output_type": "display_data"
    },
    {
     "name": "stdout",
     "output_type": "stream",
     "text": [
      "\n"
     ]
    },
    {
     "data": {
      "application/vnd.jupyter.widget-view+json": {
       "model_id": "0dc2040b155842868df0b0e1409046b5",
       "version_major": 2,
       "version_minor": 0
      },
      "text/plain": [
       "HBox(children=(IntProgress(value=0, max=30), HTML(value='')))"
      ]
     },
     "metadata": {},
     "output_type": "display_data"
    },
    {
     "name": "stdout",
     "output_type": "stream",
     "text": [
      "\n"
     ]
    },
    {
     "data": {
      "application/vnd.jupyter.widget-view+json": {
       "model_id": "8a19a2a7ac7a448e885517f0c6d3f94f",
       "version_major": 2,
       "version_minor": 0
      },
      "text/plain": [
       "HBox(children=(IntProgress(value=0, max=30), HTML(value='')))"
      ]
     },
     "metadata": {},
     "output_type": "display_data"
    },
    {
     "name": "stdout",
     "output_type": "stream",
     "text": [
      "\n"
     ]
    },
    {
     "data": {
      "application/vnd.jupyter.widget-view+json": {
       "model_id": "ee7a540028a24d52a8c29abca6060d7c",
       "version_major": 2,
       "version_minor": 0
      },
      "text/plain": [
       "HBox(children=(IntProgress(value=0, max=30), HTML(value='')))"
      ]
     },
     "metadata": {},
     "output_type": "display_data"
    },
    {
     "name": "stdout",
     "output_type": "stream",
     "text": [
      "\n"
     ]
    },
    {
     "data": {
      "application/vnd.jupyter.widget-view+json": {
       "model_id": "c5fca6e8ba1c4ce0a043e225b7e19a98",
       "version_major": 2,
       "version_minor": 0
      },
      "text/plain": [
       "HBox(children=(IntProgress(value=0, max=30), HTML(value='')))"
      ]
     },
     "metadata": {},
     "output_type": "display_data"
    },
    {
     "name": "stdout",
     "output_type": "stream",
     "text": [
      "\n"
     ]
    },
    {
     "data": {
      "application/vnd.jupyter.widget-view+json": {
       "model_id": "65d4258561514b21b9d71a5729358c5d",
       "version_major": 2,
       "version_minor": 0
      },
      "text/plain": [
       "HBox(children=(IntProgress(value=0, max=30), HTML(value='')))"
      ]
     },
     "metadata": {},
     "output_type": "display_data"
    },
    {
     "name": "stdout",
     "output_type": "stream",
     "text": [
      "\n"
     ]
    },
    {
     "data": {
      "application/vnd.jupyter.widget-view+json": {
       "model_id": "95be3fc6037c4b07a4e647cde1e80410",
       "version_major": 2,
       "version_minor": 0
      },
      "text/plain": [
       "HBox(children=(IntProgress(value=0, max=30), HTML(value='')))"
      ]
     },
     "metadata": {},
     "output_type": "display_data"
    },
    {
     "name": "stdout",
     "output_type": "stream",
     "text": [
      "\n"
     ]
    },
    {
     "data": {
      "application/vnd.jupyter.widget-view+json": {
       "model_id": "52c82701522542c1b84e1ba2299bf271",
       "version_major": 2,
       "version_minor": 0
      },
      "text/plain": [
       "HBox(children=(IntProgress(value=0, max=30), HTML(value='')))"
      ]
     },
     "metadata": {},
     "output_type": "display_data"
    },
    {
     "name": "stdout",
     "output_type": "stream",
     "text": [
      "\n"
     ]
    },
    {
     "data": {
      "application/vnd.jupyter.widget-view+json": {
       "model_id": "4593f55a0e9d48f981e6627760889787",
       "version_major": 2,
       "version_minor": 0
      },
      "text/plain": [
       "HBox(children=(IntProgress(value=0, max=30), HTML(value='')))"
      ]
     },
     "metadata": {},
     "output_type": "display_data"
    },
    {
     "name": "stdout",
     "output_type": "stream",
     "text": [
      "\n"
     ]
    },
    {
     "data": {
      "application/vnd.jupyter.widget-view+json": {
       "model_id": "9a22108faba34b479f32f2a9c1a59b61",
       "version_major": 2,
       "version_minor": 0
      },
      "text/plain": [
       "HBox(children=(IntProgress(value=0, max=30), HTML(value='')))"
      ]
     },
     "metadata": {},
     "output_type": "display_data"
    },
    {
     "name": "stdout",
     "output_type": "stream",
     "text": [
      "\n"
     ]
    },
    {
     "data": {
      "application/vnd.jupyter.widget-view+json": {
       "model_id": "a92dc3a228264e80a7a8178b327196f0",
       "version_major": 2,
       "version_minor": 0
      },
      "text/plain": [
       "HBox(children=(IntProgress(value=0, max=30), HTML(value='')))"
      ]
     },
     "metadata": {},
     "output_type": "display_data"
    },
    {
     "name": "stdout",
     "output_type": "stream",
     "text": [
      "\n"
     ]
    },
    {
     "data": {
      "application/vnd.jupyter.widget-view+json": {
       "model_id": "70a05ddc050e4245979974f4136b8e70",
       "version_major": 2,
       "version_minor": 0
      },
      "text/plain": [
       "HBox(children=(IntProgress(value=0, max=30), HTML(value='')))"
      ]
     },
     "metadata": {},
     "output_type": "display_data"
    },
    {
     "name": "stdout",
     "output_type": "stream",
     "text": [
      "\n"
     ]
    },
    {
     "data": {
      "application/vnd.jupyter.widget-view+json": {
       "model_id": "49d98e104c7e498a9bf253b008744a1a",
       "version_major": 2,
       "version_minor": 0
      },
      "text/plain": [
       "HBox(children=(IntProgress(value=0, max=30), HTML(value='')))"
      ]
     },
     "metadata": {},
     "output_type": "display_data"
    },
    {
     "name": "stdout",
     "output_type": "stream",
     "text": [
      "\n"
     ]
    },
    {
     "data": {
      "application/vnd.jupyter.widget-view+json": {
       "model_id": "82b969ab467a4e0384657386f5286ee9",
       "version_major": 2,
       "version_minor": 0
      },
      "text/plain": [
       "HBox(children=(IntProgress(value=0, max=30), HTML(value='')))"
      ]
     },
     "metadata": {},
     "output_type": "display_data"
    },
    {
     "name": "stdout",
     "output_type": "stream",
     "text": [
      "\n"
     ]
    },
    {
     "data": {
      "application/vnd.jupyter.widget-view+json": {
       "model_id": "2550a283fdb04a3aa0938ccd47a870be",
       "version_major": 2,
       "version_minor": 0
      },
      "text/plain": [
       "HBox(children=(IntProgress(value=0, max=30), HTML(value='')))"
      ]
     },
     "metadata": {},
     "output_type": "display_data"
    },
    {
     "name": "stdout",
     "output_type": "stream",
     "text": [
      "\n"
     ]
    },
    {
     "data": {
      "application/vnd.jupyter.widget-view+json": {
       "model_id": "527b982e1e51460c93a3de6b625b7c4f",
       "version_major": 2,
       "version_minor": 0
      },
      "text/plain": [
       "HBox(children=(IntProgress(value=0, max=30), HTML(value='')))"
      ]
     },
     "metadata": {},
     "output_type": "display_data"
    },
    {
     "name": "stdout",
     "output_type": "stream",
     "text": [
      "\n"
     ]
    },
    {
     "data": {
      "application/vnd.jupyter.widget-view+json": {
       "model_id": "4975ef40d3114ef3b39cad73b9f3254e",
       "version_major": 2,
       "version_minor": 0
      },
      "text/plain": [
       "HBox(children=(IntProgress(value=0, max=30), HTML(value='')))"
      ]
     },
     "metadata": {},
     "output_type": "display_data"
    },
    {
     "name": "stdout",
     "output_type": "stream",
     "text": [
      "\n"
     ]
    },
    {
     "data": {
      "application/vnd.jupyter.widget-view+json": {
       "model_id": "20434446e38f42d8830cb26407f5e271",
       "version_major": 2,
       "version_minor": 0
      },
      "text/plain": [
       "HBox(children=(IntProgress(value=0, max=30), HTML(value='')))"
      ]
     },
     "metadata": {},
     "output_type": "display_data"
    },
    {
     "name": "stdout",
     "output_type": "stream",
     "text": [
      "\n"
     ]
    },
    {
     "data": {
      "application/vnd.jupyter.widget-view+json": {
       "model_id": "591273a48a85416bb60b9f763e6f6114",
       "version_major": 2,
       "version_minor": 0
      },
      "text/plain": [
       "HBox(children=(IntProgress(value=0, max=30), HTML(value='')))"
      ]
     },
     "metadata": {},
     "output_type": "display_data"
    },
    {
     "name": "stdout",
     "output_type": "stream",
     "text": [
      "\n"
     ]
    },
    {
     "data": {
      "application/vnd.jupyter.widget-view+json": {
       "model_id": "33c2f82c9f1441cbb89de2bcdbfa57dc",
       "version_major": 2,
       "version_minor": 0
      },
      "text/plain": [
       "HBox(children=(IntProgress(value=0, max=30), HTML(value='')))"
      ]
     },
     "metadata": {},
     "output_type": "display_data"
    },
    {
     "name": "stdout",
     "output_type": "stream",
     "text": [
      "\n"
     ]
    },
    {
     "data": {
      "application/vnd.jupyter.widget-view+json": {
       "model_id": "13e5d0dbac0d404d83675775abbbb7e2",
       "version_major": 2,
       "version_minor": 0
      },
      "text/plain": [
       "HBox(children=(IntProgress(value=0, max=30), HTML(value='')))"
      ]
     },
     "metadata": {},
     "output_type": "display_data"
    },
    {
     "name": "stdout",
     "output_type": "stream",
     "text": [
      "\n"
     ]
    },
    {
     "data": {
      "application/vnd.jupyter.widget-view+json": {
       "model_id": "14a4c6ad9c484b8e8f9752dc468fb77a",
       "version_major": 2,
       "version_minor": 0
      },
      "text/plain": [
       "HBox(children=(IntProgress(value=0, max=30), HTML(value='')))"
      ]
     },
     "metadata": {},
     "output_type": "display_data"
    },
    {
     "name": "stdout",
     "output_type": "stream",
     "text": [
      "\n"
     ]
    },
    {
     "data": {
      "application/vnd.jupyter.widget-view+json": {
       "model_id": "0516086d10884464ad9800c1ef369a46",
       "version_major": 2,
       "version_minor": 0
      },
      "text/plain": [
       "HBox(children=(IntProgress(value=0, max=30), HTML(value='')))"
      ]
     },
     "metadata": {},
     "output_type": "display_data"
    },
    {
     "name": "stdout",
     "output_type": "stream",
     "text": [
      "\n"
     ]
    },
    {
     "data": {
      "application/vnd.jupyter.widget-view+json": {
       "model_id": "468bdc89196b4045a3b682a708f25566",
       "version_major": 2,
       "version_minor": 0
      },
      "text/plain": [
       "HBox(children=(IntProgress(value=0, max=30), HTML(value='')))"
      ]
     },
     "metadata": {},
     "output_type": "display_data"
    },
    {
     "name": "stdout",
     "output_type": "stream",
     "text": [
      "\n"
     ]
    },
    {
     "data": {
      "application/vnd.jupyter.widget-view+json": {
       "model_id": "4075d81f58d34a54bdc7d274767a7062",
       "version_major": 2,
       "version_minor": 0
      },
      "text/plain": [
       "HBox(children=(IntProgress(value=0, max=30), HTML(value='')))"
      ]
     },
     "metadata": {},
     "output_type": "display_data"
    },
    {
     "name": "stdout",
     "output_type": "stream",
     "text": [
      "\n"
     ]
    },
    {
     "data": {
      "application/vnd.jupyter.widget-view+json": {
       "model_id": "df46177f8fe448f0bd3623fc96c0a7ba",
       "version_major": 2,
       "version_minor": 0
      },
      "text/plain": [
       "HBox(children=(IntProgress(value=0, max=30), HTML(value='')))"
      ]
     },
     "metadata": {},
     "output_type": "display_data"
    },
    {
     "name": "stdout",
     "output_type": "stream",
     "text": [
      "\n"
     ]
    },
    {
     "data": {
      "application/vnd.jupyter.widget-view+json": {
       "model_id": "c2d0c495a5144dd7be9c64aeb932eb18",
       "version_major": 2,
       "version_minor": 0
      },
      "text/plain": [
       "HBox(children=(IntProgress(value=0, max=30), HTML(value='')))"
      ]
     },
     "metadata": {},
     "output_type": "display_data"
    },
    {
     "name": "stdout",
     "output_type": "stream",
     "text": [
      "\n"
     ]
    },
    {
     "data": {
      "application/vnd.jupyter.widget-view+json": {
       "model_id": "b164cf8ecd354dbeb4e220d66ecb2029",
       "version_major": 2,
       "version_minor": 0
      },
      "text/plain": [
       "HBox(children=(IntProgress(value=0, max=30), HTML(value='')))"
      ]
     },
     "metadata": {},
     "output_type": "display_data"
    },
    {
     "name": "stdout",
     "output_type": "stream",
     "text": [
      "\n"
     ]
    },
    {
     "data": {
      "application/vnd.jupyter.widget-view+json": {
       "model_id": "d39fb23c3857426db5ba90760ede3960",
       "version_major": 2,
       "version_minor": 0
      },
      "text/plain": [
       "HBox(children=(IntProgress(value=0, max=30), HTML(value='')))"
      ]
     },
     "metadata": {},
     "output_type": "display_data"
    },
    {
     "name": "stdout",
     "output_type": "stream",
     "text": [
      "\n"
     ]
    },
    {
     "data": {
      "application/vnd.jupyter.widget-view+json": {
       "model_id": "0a73ab43cbbf4e27882181d6a1922275",
       "version_major": 2,
       "version_minor": 0
      },
      "text/plain": [
       "HBox(children=(IntProgress(value=0, max=30), HTML(value='')))"
      ]
     },
     "metadata": {},
     "output_type": "display_data"
    },
    {
     "name": "stdout",
     "output_type": "stream",
     "text": [
      "\n"
     ]
    },
    {
     "data": {
      "application/vnd.jupyter.widget-view+json": {
       "model_id": "dc32cd0d16b24cacb2914c2e0ffacd63",
       "version_major": 2,
       "version_minor": 0
      },
      "text/plain": [
       "HBox(children=(IntProgress(value=0, max=30), HTML(value='')))"
      ]
     },
     "metadata": {},
     "output_type": "display_data"
    },
    {
     "name": "stdout",
     "output_type": "stream",
     "text": [
      "\n"
     ]
    },
    {
     "data": {
      "application/vnd.jupyter.widget-view+json": {
       "model_id": "e59871a72d39407bae20f1f13c976374",
       "version_major": 2,
       "version_minor": 0
      },
      "text/plain": [
       "HBox(children=(IntProgress(value=0, max=30), HTML(value='')))"
      ]
     },
     "metadata": {},
     "output_type": "display_data"
    },
    {
     "name": "stdout",
     "output_type": "stream",
     "text": [
      "\n"
     ]
    },
    {
     "data": {
      "application/vnd.jupyter.widget-view+json": {
       "model_id": "1144592034234072aee21be844613206",
       "version_major": 2,
       "version_minor": 0
      },
      "text/plain": [
       "HBox(children=(IntProgress(value=0, max=30), HTML(value='')))"
      ]
     },
     "metadata": {},
     "output_type": "display_data"
    },
    {
     "name": "stdout",
     "output_type": "stream",
     "text": [
      "\n"
     ]
    },
    {
     "data": {
      "application/vnd.jupyter.widget-view+json": {
       "model_id": "8e3a334e1bc14009a686dfad6f3bc495",
       "version_major": 2,
       "version_minor": 0
      },
      "text/plain": [
       "HBox(children=(IntProgress(value=0, max=30), HTML(value='')))"
      ]
     },
     "metadata": {},
     "output_type": "display_data"
    },
    {
     "name": "stdout",
     "output_type": "stream",
     "text": [
      "\n"
     ]
    },
    {
     "data": {
      "application/vnd.jupyter.widget-view+json": {
       "model_id": "37b26ebe705d432b91ec5a325c1187b7",
       "version_major": 2,
       "version_minor": 0
      },
      "text/plain": [
       "HBox(children=(IntProgress(value=0, max=30), HTML(value='')))"
      ]
     },
     "metadata": {},
     "output_type": "display_data"
    },
    {
     "name": "stdout",
     "output_type": "stream",
     "text": [
      "\n"
     ]
    },
    {
     "data": {
      "application/vnd.jupyter.widget-view+json": {
       "model_id": "8a80ea329cd1465686e78b8835f4b961",
       "version_major": 2,
       "version_minor": 0
      },
      "text/plain": [
       "HBox(children=(IntProgress(value=0, max=30), HTML(value='')))"
      ]
     },
     "metadata": {},
     "output_type": "display_data"
    },
    {
     "name": "stdout",
     "output_type": "stream",
     "text": [
      "\n"
     ]
    },
    {
     "data": {
      "application/vnd.jupyter.widget-view+json": {
       "model_id": "12e00606307841f4aa6f22509aa10d69",
       "version_major": 2,
       "version_minor": 0
      },
      "text/plain": [
       "HBox(children=(IntProgress(value=0, max=30), HTML(value='')))"
      ]
     },
     "metadata": {},
     "output_type": "display_data"
    },
    {
     "name": "stdout",
     "output_type": "stream",
     "text": [
      "\n"
     ]
    },
    {
     "data": {
      "application/vnd.jupyter.widget-view+json": {
       "model_id": "009372e31335440c98cb4dd752c74f6d",
       "version_major": 2,
       "version_minor": 0
      },
      "text/plain": [
       "HBox(children=(IntProgress(value=0, max=30), HTML(value='')))"
      ]
     },
     "metadata": {},
     "output_type": "display_data"
    },
    {
     "name": "stdout",
     "output_type": "stream",
     "text": [
      "\n"
     ]
    },
    {
     "data": {
      "application/vnd.jupyter.widget-view+json": {
       "model_id": "400f46bb2fac4597a1c3eba27dea4833",
       "version_major": 2,
       "version_minor": 0
      },
      "text/plain": [
       "HBox(children=(IntProgress(value=0, max=30), HTML(value='')))"
      ]
     },
     "metadata": {},
     "output_type": "display_data"
    },
    {
     "name": "stdout",
     "output_type": "stream",
     "text": [
      "\n"
     ]
    },
    {
     "data": {
      "application/vnd.jupyter.widget-view+json": {
       "model_id": "0f261706840a40a4bbc3aa4a422d6faf",
       "version_major": 2,
       "version_minor": 0
      },
      "text/plain": [
       "HBox(children=(IntProgress(value=0, max=30), HTML(value='')))"
      ]
     },
     "metadata": {},
     "output_type": "display_data"
    },
    {
     "name": "stdout",
     "output_type": "stream",
     "text": [
      "\n"
     ]
    },
    {
     "data": {
      "application/vnd.jupyter.widget-view+json": {
       "model_id": "b140dfcfe21c486291367d6ae9ef5d3c",
       "version_major": 2,
       "version_minor": 0
      },
      "text/plain": [
       "HBox(children=(IntProgress(value=0, max=30), HTML(value='')))"
      ]
     },
     "metadata": {},
     "output_type": "display_data"
    },
    {
     "name": "stdout",
     "output_type": "stream",
     "text": [
      "\n"
     ]
    },
    {
     "data": {
      "application/vnd.jupyter.widget-view+json": {
       "model_id": "cecf670c78b84048939cfa79d3f20d58",
       "version_major": 2,
       "version_minor": 0
      },
      "text/plain": [
       "HBox(children=(IntProgress(value=0, max=30), HTML(value='')))"
      ]
     },
     "metadata": {},
     "output_type": "display_data"
    },
    {
     "name": "stdout",
     "output_type": "stream",
     "text": [
      "\n"
     ]
    },
    {
     "data": {
      "application/vnd.jupyter.widget-view+json": {
       "model_id": "6ede9030312f417e88eb046864193431",
       "version_major": 2,
       "version_minor": 0
      },
      "text/plain": [
       "HBox(children=(IntProgress(value=0, max=30), HTML(value='')))"
      ]
     },
     "metadata": {},
     "output_type": "display_data"
    },
    {
     "name": "stdout",
     "output_type": "stream",
     "text": [
      "\n"
     ]
    },
    {
     "data": {
      "application/vnd.jupyter.widget-view+json": {
       "model_id": "a8cf8a2022ec43b68df4829386ef0b02",
       "version_major": 2,
       "version_minor": 0
      },
      "text/plain": [
       "HBox(children=(IntProgress(value=0, max=30), HTML(value='')))"
      ]
     },
     "metadata": {},
     "output_type": "display_data"
    },
    {
     "name": "stdout",
     "output_type": "stream",
     "text": [
      "\n"
     ]
    },
    {
     "data": {
      "application/vnd.jupyter.widget-view+json": {
       "model_id": "3e6675e977f34fc8a45c9aca3c607922",
       "version_major": 2,
       "version_minor": 0
      },
      "text/plain": [
       "HBox(children=(IntProgress(value=0, max=30), HTML(value='')))"
      ]
     },
     "metadata": {},
     "output_type": "display_data"
    },
    {
     "name": "stdout",
     "output_type": "stream",
     "text": [
      "\n"
     ]
    },
    {
     "data": {
      "application/vnd.jupyter.widget-view+json": {
       "model_id": "9f9870e3858841da8ca24ac9ad6381a7",
       "version_major": 2,
       "version_minor": 0
      },
      "text/plain": [
       "HBox(children=(IntProgress(value=0, max=30), HTML(value='')))"
      ]
     },
     "metadata": {},
     "output_type": "display_data"
    },
    {
     "name": "stdout",
     "output_type": "stream",
     "text": [
      "\n"
     ]
    },
    {
     "data": {
      "application/vnd.jupyter.widget-view+json": {
       "model_id": "f402b5b9339d47bb88f4b648858e382f",
       "version_major": 2,
       "version_minor": 0
      },
      "text/plain": [
       "HBox(children=(IntProgress(value=0, max=30), HTML(value='')))"
      ]
     },
     "metadata": {},
     "output_type": "display_data"
    },
    {
     "name": "stdout",
     "output_type": "stream",
     "text": [
      "\n"
     ]
    },
    {
     "data": {
      "application/vnd.jupyter.widget-view+json": {
       "model_id": "2efb3e8c01004caf930026b1b0fd4e21",
       "version_major": 2,
       "version_minor": 0
      },
      "text/plain": [
       "HBox(children=(IntProgress(value=0, max=30), HTML(value='')))"
      ]
     },
     "metadata": {},
     "output_type": "display_data"
    },
    {
     "name": "stdout",
     "output_type": "stream",
     "text": [
      "\n"
     ]
    },
    {
     "data": {
      "application/vnd.jupyter.widget-view+json": {
       "model_id": "e2f426d4b2254a719402bb1a32eaa3d3",
       "version_major": 2,
       "version_minor": 0
      },
      "text/plain": [
       "HBox(children=(IntProgress(value=0, max=30), HTML(value='')))"
      ]
     },
     "metadata": {},
     "output_type": "display_data"
    },
    {
     "name": "stdout",
     "output_type": "stream",
     "text": [
      "\n"
     ]
    },
    {
     "data": {
      "application/vnd.jupyter.widget-view+json": {
       "model_id": "9bb6560b8a924ead9888adc3af733df4",
       "version_major": 2,
       "version_minor": 0
      },
      "text/plain": [
       "HBox(children=(IntProgress(value=0, max=30), HTML(value='')))"
      ]
     },
     "metadata": {},
     "output_type": "display_data"
    },
    {
     "name": "stdout",
     "output_type": "stream",
     "text": [
      "\n"
     ]
    },
    {
     "data": {
      "application/vnd.jupyter.widget-view+json": {
       "model_id": "7d5d2aab2a86486288af11e005a29a5e",
       "version_major": 2,
       "version_minor": 0
      },
      "text/plain": [
       "HBox(children=(IntProgress(value=0, max=30), HTML(value='')))"
      ]
     },
     "metadata": {},
     "output_type": "display_data"
    },
    {
     "name": "stdout",
     "output_type": "stream",
     "text": [
      "\n"
     ]
    },
    {
     "data": {
      "application/vnd.jupyter.widget-view+json": {
       "model_id": "14a6101f7b9f49599d08c1e748a09b3c",
       "version_major": 2,
       "version_minor": 0
      },
      "text/plain": [
       "HBox(children=(IntProgress(value=0, max=30), HTML(value='')))"
      ]
     },
     "metadata": {},
     "output_type": "display_data"
    },
    {
     "name": "stdout",
     "output_type": "stream",
     "text": [
      "\n"
     ]
    },
    {
     "data": {
      "application/vnd.jupyter.widget-view+json": {
       "model_id": "d63a0382ae574716aa2160616ff0ceaf",
       "version_major": 2,
       "version_minor": 0
      },
      "text/plain": [
       "HBox(children=(IntProgress(value=0, max=30), HTML(value='')))"
      ]
     },
     "metadata": {},
     "output_type": "display_data"
    },
    {
     "name": "stdout",
     "output_type": "stream",
     "text": [
      "\n"
     ]
    },
    {
     "data": {
      "application/vnd.jupyter.widget-view+json": {
       "model_id": "903d1631ac62444882afcc8ed4481b7f",
       "version_major": 2,
       "version_minor": 0
      },
      "text/plain": [
       "HBox(children=(IntProgress(value=0, max=30), HTML(value='')))"
      ]
     },
     "metadata": {},
     "output_type": "display_data"
    },
    {
     "name": "stdout",
     "output_type": "stream",
     "text": [
      "\n"
     ]
    },
    {
     "data": {
      "application/vnd.jupyter.widget-view+json": {
       "model_id": "ad986963d71249a1b905105998e915f7",
       "version_major": 2,
       "version_minor": 0
      },
      "text/plain": [
       "HBox(children=(IntProgress(value=0, max=30), HTML(value='')))"
      ]
     },
     "metadata": {},
     "output_type": "display_data"
    },
    {
     "name": "stdout",
     "output_type": "stream",
     "text": [
      "\n"
     ]
    },
    {
     "data": {
      "application/vnd.jupyter.widget-view+json": {
       "model_id": "54806e768b264836af64475bd8fd50e0",
       "version_major": 2,
       "version_minor": 0
      },
      "text/plain": [
       "HBox(children=(IntProgress(value=0, max=30), HTML(value='')))"
      ]
     },
     "metadata": {},
     "output_type": "display_data"
    },
    {
     "name": "stdout",
     "output_type": "stream",
     "text": [
      "\n"
     ]
    },
    {
     "data": {
      "application/vnd.jupyter.widget-view+json": {
       "model_id": "6451aec0b2134d9e94ce1fef88909834",
       "version_major": 2,
       "version_minor": 0
      },
      "text/plain": [
       "HBox(children=(IntProgress(value=0, max=30), HTML(value='')))"
      ]
     },
     "metadata": {},
     "output_type": "display_data"
    },
    {
     "name": "stdout",
     "output_type": "stream",
     "text": [
      "\n"
     ]
    },
    {
     "data": {
      "application/vnd.jupyter.widget-view+json": {
       "model_id": "58f779d65545461b9f0d0ef8bde711df",
       "version_major": 2,
       "version_minor": 0
      },
      "text/plain": [
       "HBox(children=(IntProgress(value=0, max=30), HTML(value='')))"
      ]
     },
     "metadata": {},
     "output_type": "display_data"
    },
    {
     "name": "stdout",
     "output_type": "stream",
     "text": [
      "\n"
     ]
    },
    {
     "data": {
      "application/vnd.jupyter.widget-view+json": {
       "model_id": "9ab7344e859f4b599f8d66cb7a25149a",
       "version_major": 2,
       "version_minor": 0
      },
      "text/plain": [
       "HBox(children=(IntProgress(value=0, max=30), HTML(value='')))"
      ]
     },
     "metadata": {},
     "output_type": "display_data"
    },
    {
     "name": "stdout",
     "output_type": "stream",
     "text": [
      "\n"
     ]
    },
    {
     "data": {
      "application/vnd.jupyter.widget-view+json": {
       "model_id": "ecf5e02f4cf54b50bb7cb10279c881a8",
       "version_major": 2,
       "version_minor": 0
      },
      "text/plain": [
       "HBox(children=(IntProgress(value=0, max=30), HTML(value='')))"
      ]
     },
     "metadata": {},
     "output_type": "display_data"
    },
    {
     "name": "stdout",
     "output_type": "stream",
     "text": [
      "\n"
     ]
    },
    {
     "data": {
      "application/vnd.jupyter.widget-view+json": {
       "model_id": "d87cd51f41044da5982489cca2ef7ac0",
       "version_major": 2,
       "version_minor": 0
      },
      "text/plain": [
       "HBox(children=(IntProgress(value=0, max=30), HTML(value='')))"
      ]
     },
     "metadata": {},
     "output_type": "display_data"
    },
    {
     "name": "stdout",
     "output_type": "stream",
     "text": [
      "\n"
     ]
    },
    {
     "data": {
      "application/vnd.jupyter.widget-view+json": {
       "model_id": "be8d37f75325428686ba37c570f93b14",
       "version_major": 2,
       "version_minor": 0
      },
      "text/plain": [
       "HBox(children=(IntProgress(value=0, max=30), HTML(value='')))"
      ]
     },
     "metadata": {},
     "output_type": "display_data"
    },
    {
     "name": "stdout",
     "output_type": "stream",
     "text": [
      "\n"
     ]
    },
    {
     "data": {
      "application/vnd.jupyter.widget-view+json": {
       "model_id": "666dec1b69f64652a570db3b858efb95",
       "version_major": 2,
       "version_minor": 0
      },
      "text/plain": [
       "HBox(children=(IntProgress(value=0, max=30), HTML(value='')))"
      ]
     },
     "metadata": {},
     "output_type": "display_data"
    },
    {
     "name": "stdout",
     "output_type": "stream",
     "text": [
      "\n"
     ]
    },
    {
     "data": {
      "application/vnd.jupyter.widget-view+json": {
       "model_id": "704105abb10b463ea73e80882e0abe7c",
       "version_major": 2,
       "version_minor": 0
      },
      "text/plain": [
       "HBox(children=(IntProgress(value=0, max=30), HTML(value='')))"
      ]
     },
     "metadata": {},
     "output_type": "display_data"
    },
    {
     "name": "stdout",
     "output_type": "stream",
     "text": [
      "\n"
     ]
    },
    {
     "data": {
      "application/vnd.jupyter.widget-view+json": {
       "model_id": "b739e7c1624d4d5696c71eff0da82aff",
       "version_major": 2,
       "version_minor": 0
      },
      "text/plain": [
       "HBox(children=(IntProgress(value=0, max=30), HTML(value='')))"
      ]
     },
     "metadata": {},
     "output_type": "display_data"
    },
    {
     "name": "stdout",
     "output_type": "stream",
     "text": [
      "\n"
     ]
    },
    {
     "data": {
      "application/vnd.jupyter.widget-view+json": {
       "model_id": "e209d95b52e94c06acd2d6b346110ae1",
       "version_major": 2,
       "version_minor": 0
      },
      "text/plain": [
       "HBox(children=(IntProgress(value=0, max=30), HTML(value='')))"
      ]
     },
     "metadata": {},
     "output_type": "display_data"
    },
    {
     "name": "stdout",
     "output_type": "stream",
     "text": [
      "\n"
     ]
    },
    {
     "data": {
      "application/vnd.jupyter.widget-view+json": {
       "model_id": "465bd380999e48d3a327b088ee190ebe",
       "version_major": 2,
       "version_minor": 0
      },
      "text/plain": [
       "HBox(children=(IntProgress(value=0, max=30), HTML(value='')))"
      ]
     },
     "metadata": {},
     "output_type": "display_data"
    },
    {
     "name": "stdout",
     "output_type": "stream",
     "text": [
      "\n"
     ]
    },
    {
     "data": {
      "application/vnd.jupyter.widget-view+json": {
       "model_id": "ac832f890dd6429eb3cb6d15031a8a1a",
       "version_major": 2,
       "version_minor": 0
      },
      "text/plain": [
       "HBox(children=(IntProgress(value=0, max=30), HTML(value='')))"
      ]
     },
     "metadata": {},
     "output_type": "display_data"
    },
    {
     "name": "stdout",
     "output_type": "stream",
     "text": [
      "\n"
     ]
    },
    {
     "data": {
      "application/vnd.jupyter.widget-view+json": {
       "model_id": "6728f39f87ca4911bfc7d8615b7f3b56",
       "version_major": 2,
       "version_minor": 0
      },
      "text/plain": [
       "HBox(children=(IntProgress(value=0, max=30), HTML(value='')))"
      ]
     },
     "metadata": {},
     "output_type": "display_data"
    },
    {
     "name": "stdout",
     "output_type": "stream",
     "text": [
      "\n"
     ]
    },
    {
     "data": {
      "application/vnd.jupyter.widget-view+json": {
       "model_id": "3d369692a24d494c9c55b9e5f3cbe45c",
       "version_major": 2,
       "version_minor": 0
      },
      "text/plain": [
       "HBox(children=(IntProgress(value=0, max=30), HTML(value='')))"
      ]
     },
     "metadata": {},
     "output_type": "display_data"
    },
    {
     "name": "stdout",
     "output_type": "stream",
     "text": [
      "\n"
     ]
    },
    {
     "data": {
      "application/vnd.jupyter.widget-view+json": {
       "model_id": "764462ee32394e92a76a62d84fc21fe0",
       "version_major": 2,
       "version_minor": 0
      },
      "text/plain": [
       "HBox(children=(IntProgress(value=0, max=30), HTML(value='')))"
      ]
     },
     "metadata": {},
     "output_type": "display_data"
    },
    {
     "name": "stdout",
     "output_type": "stream",
     "text": [
      "\n"
     ]
    },
    {
     "data": {
      "application/vnd.jupyter.widget-view+json": {
       "model_id": "77cadc691ba949c7950df4946164ec9d",
       "version_major": 2,
       "version_minor": 0
      },
      "text/plain": [
       "HBox(children=(IntProgress(value=0, max=30), HTML(value='')))"
      ]
     },
     "metadata": {},
     "output_type": "display_data"
    },
    {
     "name": "stdout",
     "output_type": "stream",
     "text": [
      "\n"
     ]
    },
    {
     "data": {
      "application/vnd.jupyter.widget-view+json": {
       "model_id": "a7202595c1cd4fb399480dc48ffbbded",
       "version_major": 2,
       "version_minor": 0
      },
      "text/plain": [
       "HBox(children=(IntProgress(value=0, max=30), HTML(value='')))"
      ]
     },
     "metadata": {},
     "output_type": "display_data"
    },
    {
     "name": "stdout",
     "output_type": "stream",
     "text": [
      "\n"
     ]
    },
    {
     "data": {
      "application/vnd.jupyter.widget-view+json": {
       "model_id": "68ed2fe5b6814cb7b03acebbc84c23f7",
       "version_major": 2,
       "version_minor": 0
      },
      "text/plain": [
       "HBox(children=(IntProgress(value=0, max=30), HTML(value='')))"
      ]
     },
     "metadata": {},
     "output_type": "display_data"
    },
    {
     "name": "stdout",
     "output_type": "stream",
     "text": [
      "\n"
     ]
    },
    {
     "data": {
      "application/vnd.jupyter.widget-view+json": {
       "model_id": "aa014a59f7774fa8bf6e30ca64e5b24e",
       "version_major": 2,
       "version_minor": 0
      },
      "text/plain": [
       "HBox(children=(IntProgress(value=0, max=30), HTML(value='')))"
      ]
     },
     "metadata": {},
     "output_type": "display_data"
    },
    {
     "name": "stdout",
     "output_type": "stream",
     "text": [
      "\n"
     ]
    },
    {
     "data": {
      "application/vnd.jupyter.widget-view+json": {
       "model_id": "14312cf1b1384f49bcc0495e5e18f40e",
       "version_major": 2,
       "version_minor": 0
      },
      "text/plain": [
       "HBox(children=(IntProgress(value=0, max=30), HTML(value='')))"
      ]
     },
     "metadata": {},
     "output_type": "display_data"
    },
    {
     "name": "stdout",
     "output_type": "stream",
     "text": [
      "\n"
     ]
    },
    {
     "data": {
      "application/vnd.jupyter.widget-view+json": {
       "model_id": "e99995d096b84753a1ed7277c2510af1",
       "version_major": 2,
       "version_minor": 0
      },
      "text/plain": [
       "HBox(children=(IntProgress(value=0, max=30), HTML(value='')))"
      ]
     },
     "metadata": {},
     "output_type": "display_data"
    },
    {
     "name": "stdout",
     "output_type": "stream",
     "text": [
      "\n"
     ]
    },
    {
     "data": {
      "application/vnd.jupyter.widget-view+json": {
       "model_id": "aa7ad637416b4ae58e8429ee89c495ce",
       "version_major": 2,
       "version_minor": 0
      },
      "text/plain": [
       "HBox(children=(IntProgress(value=0, max=30), HTML(value='')))"
      ]
     },
     "metadata": {},
     "output_type": "display_data"
    },
    {
     "name": "stdout",
     "output_type": "stream",
     "text": [
      "\n"
     ]
    },
    {
     "data": {
      "application/vnd.jupyter.widget-view+json": {
       "model_id": "f1206ee55ea74e9f8dd71debd11e7933",
       "version_major": 2,
       "version_minor": 0
      },
      "text/plain": [
       "HBox(children=(IntProgress(value=0, max=30), HTML(value='')))"
      ]
     },
     "metadata": {},
     "output_type": "display_data"
    },
    {
     "name": "stdout",
     "output_type": "stream",
     "text": [
      "\n"
     ]
    },
    {
     "data": {
      "application/vnd.jupyter.widget-view+json": {
       "model_id": "217094cf8bff4b13bf48e976f2229766",
       "version_major": 2,
       "version_minor": 0
      },
      "text/plain": [
       "HBox(children=(IntProgress(value=0, max=30), HTML(value='')))"
      ]
     },
     "metadata": {},
     "output_type": "display_data"
    },
    {
     "name": "stdout",
     "output_type": "stream",
     "text": [
      "\n"
     ]
    },
    {
     "data": {
      "application/vnd.jupyter.widget-view+json": {
       "model_id": "ec70c224b5e54eabb73feaedc0373ebf",
       "version_major": 2,
       "version_minor": 0
      },
      "text/plain": [
       "HBox(children=(IntProgress(value=0, max=30), HTML(value='')))"
      ]
     },
     "metadata": {},
     "output_type": "display_data"
    },
    {
     "name": "stdout",
     "output_type": "stream",
     "text": [
      "\n"
     ]
    },
    {
     "data": {
      "application/vnd.jupyter.widget-view+json": {
       "model_id": "4fdb73ce85594678beb2d2edeaab83bc",
       "version_major": 2,
       "version_minor": 0
      },
      "text/plain": [
       "HBox(children=(IntProgress(value=0, max=30), HTML(value='')))"
      ]
     },
     "metadata": {},
     "output_type": "display_data"
    },
    {
     "name": "stdout",
     "output_type": "stream",
     "text": [
      "\n"
     ]
    },
    {
     "data": {
      "application/vnd.jupyter.widget-view+json": {
       "model_id": "fdecb728581345a88a77f58c64d00502",
       "version_major": 2,
       "version_minor": 0
      },
      "text/plain": [
       "HBox(children=(IntProgress(value=0, max=30), HTML(value='')))"
      ]
     },
     "metadata": {},
     "output_type": "display_data"
    },
    {
     "name": "stdout",
     "output_type": "stream",
     "text": [
      "\n"
     ]
    },
    {
     "data": {
      "application/vnd.jupyter.widget-view+json": {
       "model_id": "51c9ebd6af59406eb1afe5362f9a41bb",
       "version_major": 2,
       "version_minor": 0
      },
      "text/plain": [
       "HBox(children=(IntProgress(value=0, max=30), HTML(value='')))"
      ]
     },
     "metadata": {},
     "output_type": "display_data"
    },
    {
     "name": "stdout",
     "output_type": "stream",
     "text": [
      "\n"
     ]
    },
    {
     "data": {
      "application/vnd.jupyter.widget-view+json": {
       "model_id": "5a2c6826f6d14c8c9e7eab84966e1352",
       "version_major": 2,
       "version_minor": 0
      },
      "text/plain": [
       "HBox(children=(IntProgress(value=0, max=30), HTML(value='')))"
      ]
     },
     "metadata": {},
     "output_type": "display_data"
    },
    {
     "name": "stdout",
     "output_type": "stream",
     "text": [
      "\n"
     ]
    },
    {
     "data": {
      "application/vnd.jupyter.widget-view+json": {
       "model_id": "f7e54a3a60af498cb92b8a95c344e3ec",
       "version_major": 2,
       "version_minor": 0
      },
      "text/plain": [
       "HBox(children=(IntProgress(value=0, max=30), HTML(value='')))"
      ]
     },
     "metadata": {},
     "output_type": "display_data"
    },
    {
     "name": "stdout",
     "output_type": "stream",
     "text": [
      "\n"
     ]
    },
    {
     "data": {
      "application/vnd.jupyter.widget-view+json": {
       "model_id": "4136e66d9a3349719e23f440aa81e634",
       "version_major": 2,
       "version_minor": 0
      },
      "text/plain": [
       "HBox(children=(IntProgress(value=0, max=30), HTML(value='')))"
      ]
     },
     "metadata": {},
     "output_type": "display_data"
    },
    {
     "name": "stdout",
     "output_type": "stream",
     "text": [
      "\n"
     ]
    },
    {
     "data": {
      "application/vnd.jupyter.widget-view+json": {
       "model_id": "f4f7eaa7ae404597b6a2a31ba3e44d11",
       "version_major": 2,
       "version_minor": 0
      },
      "text/plain": [
       "HBox(children=(IntProgress(value=0, max=30), HTML(value='')))"
      ]
     },
     "metadata": {},
     "output_type": "display_data"
    },
    {
     "name": "stdout",
     "output_type": "stream",
     "text": [
      "\n"
     ]
    },
    {
     "data": {
      "application/vnd.jupyter.widget-view+json": {
       "model_id": "6104ead0d70844a8942ac9396764cd81",
       "version_major": 2,
       "version_minor": 0
      },
      "text/plain": [
       "HBox(children=(IntProgress(value=0, max=30), HTML(value='')))"
      ]
     },
     "metadata": {},
     "output_type": "display_data"
    },
    {
     "name": "stdout",
     "output_type": "stream",
     "text": [
      "\n"
     ]
    },
    {
     "data": {
      "application/vnd.jupyter.widget-view+json": {
       "model_id": "16fda87f404f47bead8e83299ac2a18a",
       "version_major": 2,
       "version_minor": 0
      },
      "text/plain": [
       "HBox(children=(IntProgress(value=0, max=30), HTML(value='')))"
      ]
     },
     "metadata": {},
     "output_type": "display_data"
    },
    {
     "name": "stdout",
     "output_type": "stream",
     "text": [
      "\n"
     ]
    },
    {
     "data": {
      "application/vnd.jupyter.widget-view+json": {
       "model_id": "42817be7b8ca4da9a347ca781dd88c72",
       "version_major": 2,
       "version_minor": 0
      },
      "text/plain": [
       "HBox(children=(IntProgress(value=0, max=30), HTML(value='')))"
      ]
     },
     "metadata": {},
     "output_type": "display_data"
    },
    {
     "name": "stdout",
     "output_type": "stream",
     "text": [
      "\n"
     ]
    },
    {
     "data": {
      "application/vnd.jupyter.widget-view+json": {
       "model_id": "bf1f4f8e70454c8faa5785af90c686c5",
       "version_major": 2,
       "version_minor": 0
      },
      "text/plain": [
       "HBox(children=(IntProgress(value=0, max=30), HTML(value='')))"
      ]
     },
     "metadata": {},
     "output_type": "display_data"
    },
    {
     "name": "stdout",
     "output_type": "stream",
     "text": [
      "\n"
     ]
    },
    {
     "data": {
      "application/vnd.jupyter.widget-view+json": {
       "model_id": "42879b3ab0224451b73d7a7ce0980728",
       "version_major": 2,
       "version_minor": 0
      },
      "text/plain": [
       "HBox(children=(IntProgress(value=0, max=30), HTML(value='')))"
      ]
     },
     "metadata": {},
     "output_type": "display_data"
    },
    {
     "name": "stdout",
     "output_type": "stream",
     "text": [
      "\n"
     ]
    },
    {
     "data": {
      "application/vnd.jupyter.widget-view+json": {
       "model_id": "dc7026be89984ac0963980043d3c1a72",
       "version_major": 2,
       "version_minor": 0
      },
      "text/plain": [
       "HBox(children=(IntProgress(value=0, max=30), HTML(value='')))"
      ]
     },
     "metadata": {},
     "output_type": "display_data"
    },
    {
     "name": "stdout",
     "output_type": "stream",
     "text": [
      "\n"
     ]
    },
    {
     "data": {
      "application/vnd.jupyter.widget-view+json": {
       "model_id": "36ff94d2606b4059b97f826087ecd11b",
       "version_major": 2,
       "version_minor": 0
      },
      "text/plain": [
       "HBox(children=(IntProgress(value=0, max=30), HTML(value='')))"
      ]
     },
     "metadata": {},
     "output_type": "display_data"
    },
    {
     "name": "stdout",
     "output_type": "stream",
     "text": [
      "\n"
     ]
    },
    {
     "data": {
      "application/vnd.jupyter.widget-view+json": {
       "model_id": "6d65e9c3ac62474b8123f629943fa2ab",
       "version_major": 2,
       "version_minor": 0
      },
      "text/plain": [
       "HBox(children=(IntProgress(value=0, max=30), HTML(value='')))"
      ]
     },
     "metadata": {},
     "output_type": "display_data"
    },
    {
     "name": "stdout",
     "output_type": "stream",
     "text": [
      "\n"
     ]
    },
    {
     "data": {
      "application/vnd.jupyter.widget-view+json": {
       "model_id": "249dfadd0e6c43ceb53f96ca58fb0c5a",
       "version_major": 2,
       "version_minor": 0
      },
      "text/plain": [
       "HBox(children=(IntProgress(value=0, max=30), HTML(value='')))"
      ]
     },
     "metadata": {},
     "output_type": "display_data"
    },
    {
     "name": "stdout",
     "output_type": "stream",
     "text": [
      "\n"
     ]
    },
    {
     "data": {
      "application/vnd.jupyter.widget-view+json": {
       "model_id": "bd4cc7da247441bc97681b9418533fd2",
       "version_major": 2,
       "version_minor": 0
      },
      "text/plain": [
       "HBox(children=(IntProgress(value=0, max=30), HTML(value='')))"
      ]
     },
     "metadata": {},
     "output_type": "display_data"
    },
    {
     "name": "stdout",
     "output_type": "stream",
     "text": [
      "\n"
     ]
    },
    {
     "data": {
      "application/vnd.jupyter.widget-view+json": {
       "model_id": "239800cc2bad4121b0449ffc7a269179",
       "version_major": 2,
       "version_minor": 0
      },
      "text/plain": [
       "HBox(children=(IntProgress(value=0, max=30), HTML(value='')))"
      ]
     },
     "metadata": {},
     "output_type": "display_data"
    },
    {
     "name": "stdout",
     "output_type": "stream",
     "text": [
      "\n"
     ]
    },
    {
     "data": {
      "application/vnd.jupyter.widget-view+json": {
       "model_id": "1042471773ff4b719cfd454d472b178d",
       "version_major": 2,
       "version_minor": 0
      },
      "text/plain": [
       "HBox(children=(IntProgress(value=0, max=30), HTML(value='')))"
      ]
     },
     "metadata": {},
     "output_type": "display_data"
    },
    {
     "name": "stdout",
     "output_type": "stream",
     "text": [
      "\n"
     ]
    },
    {
     "data": {
      "application/vnd.jupyter.widget-view+json": {
       "model_id": "29a744ad95da42d48be07b6f8a57ae7f",
       "version_major": 2,
       "version_minor": 0
      },
      "text/plain": [
       "HBox(children=(IntProgress(value=0, max=30), HTML(value='')))"
      ]
     },
     "metadata": {},
     "output_type": "display_data"
    },
    {
     "name": "stdout",
     "output_type": "stream",
     "text": [
      "\n"
     ]
    },
    {
     "data": {
      "application/vnd.jupyter.widget-view+json": {
       "model_id": "1a47196688be42e0a6b778aa3f67c03a",
       "version_major": 2,
       "version_minor": 0
      },
      "text/plain": [
       "HBox(children=(IntProgress(value=0, max=30), HTML(value='')))"
      ]
     },
     "metadata": {},
     "output_type": "display_data"
    },
    {
     "name": "stdout",
     "output_type": "stream",
     "text": [
      "\n"
     ]
    },
    {
     "data": {
      "application/vnd.jupyter.widget-view+json": {
       "model_id": "1ea565e1f473421d97b732bfc715ba3b",
       "version_major": 2,
       "version_minor": 0
      },
      "text/plain": [
       "HBox(children=(IntProgress(value=0, max=30), HTML(value='')))"
      ]
     },
     "metadata": {},
     "output_type": "display_data"
    },
    {
     "name": "stdout",
     "output_type": "stream",
     "text": [
      "\n"
     ]
    },
    {
     "data": {
      "application/vnd.jupyter.widget-view+json": {
       "model_id": "c179b164be1d45e4b5f3e61103ec2618",
       "version_major": 2,
       "version_minor": 0
      },
      "text/plain": [
       "HBox(children=(IntProgress(value=0, max=30), HTML(value='')))"
      ]
     },
     "metadata": {},
     "output_type": "display_data"
    },
    {
     "name": "stdout",
     "output_type": "stream",
     "text": [
      "\n"
     ]
    },
    {
     "data": {
      "application/vnd.jupyter.widget-view+json": {
       "model_id": "70b3cee455c042649b15dc287a7878c5",
       "version_major": 2,
       "version_minor": 0
      },
      "text/plain": [
       "HBox(children=(IntProgress(value=0, max=30), HTML(value='')))"
      ]
     },
     "metadata": {},
     "output_type": "display_data"
    },
    {
     "name": "stdout",
     "output_type": "stream",
     "text": [
      "\n"
     ]
    },
    {
     "data": {
      "application/vnd.jupyter.widget-view+json": {
       "model_id": "44614c6fea824e129f1632cb94d91529",
       "version_major": 2,
       "version_minor": 0
      },
      "text/plain": [
       "HBox(children=(IntProgress(value=0, max=30), HTML(value='')))"
      ]
     },
     "metadata": {},
     "output_type": "display_data"
    },
    {
     "name": "stdout",
     "output_type": "stream",
     "text": [
      "\n"
     ]
    },
    {
     "data": {
      "application/vnd.jupyter.widget-view+json": {
       "model_id": "4f14b462021844b8bb94fbfa79a0d870",
       "version_major": 2,
       "version_minor": 0
      },
      "text/plain": [
       "HBox(children=(IntProgress(value=0, max=30), HTML(value='')))"
      ]
     },
     "metadata": {},
     "output_type": "display_data"
    },
    {
     "name": "stdout",
     "output_type": "stream",
     "text": [
      "\n"
     ]
    },
    {
     "data": {
      "application/vnd.jupyter.widget-view+json": {
       "model_id": "05b6efae20bd4ef38e2263f5ab8b60b1",
       "version_major": 2,
       "version_minor": 0
      },
      "text/plain": [
       "HBox(children=(IntProgress(value=0, max=30), HTML(value='')))"
      ]
     },
     "metadata": {},
     "output_type": "display_data"
    },
    {
     "name": "stdout",
     "output_type": "stream",
     "text": [
      "\n"
     ]
    },
    {
     "data": {
      "application/vnd.jupyter.widget-view+json": {
       "model_id": "6c50b957dcd94156ad12f0aff5e89d7d",
       "version_major": 2,
       "version_minor": 0
      },
      "text/plain": [
       "HBox(children=(IntProgress(value=0, max=30), HTML(value='')))"
      ]
     },
     "metadata": {},
     "output_type": "display_data"
    },
    {
     "name": "stdout",
     "output_type": "stream",
     "text": [
      "\n"
     ]
    },
    {
     "data": {
      "application/vnd.jupyter.widget-view+json": {
       "model_id": "523bd8c4f353406e87437d9db2b9622e",
       "version_major": 2,
       "version_minor": 0
      },
      "text/plain": [
       "HBox(children=(IntProgress(value=0, max=30), HTML(value='')))"
      ]
     },
     "metadata": {},
     "output_type": "display_data"
    },
    {
     "name": "stdout",
     "output_type": "stream",
     "text": [
      "\n"
     ]
    },
    {
     "data": {
      "application/vnd.jupyter.widget-view+json": {
       "model_id": "b08b8fcc7423463988e92e9182b0cee0",
       "version_major": 2,
       "version_minor": 0
      },
      "text/plain": [
       "HBox(children=(IntProgress(value=0, max=30), HTML(value='')))"
      ]
     },
     "metadata": {},
     "output_type": "display_data"
    },
    {
     "name": "stdout",
     "output_type": "stream",
     "text": [
      "\n"
     ]
    },
    {
     "data": {
      "application/vnd.jupyter.widget-view+json": {
       "model_id": "e4fcc591fc8b42209daa3e13ac39dabe",
       "version_major": 2,
       "version_minor": 0
      },
      "text/plain": [
       "HBox(children=(IntProgress(value=0, max=30), HTML(value='')))"
      ]
     },
     "metadata": {},
     "output_type": "display_data"
    },
    {
     "name": "stdout",
     "output_type": "stream",
     "text": [
      "\n"
     ]
    },
    {
     "data": {
      "application/vnd.jupyter.widget-view+json": {
       "model_id": "e5d77dc26a2047f099c68bffec13bb7a",
       "version_major": 2,
       "version_minor": 0
      },
      "text/plain": [
       "HBox(children=(IntProgress(value=0, max=30), HTML(value='')))"
      ]
     },
     "metadata": {},
     "output_type": "display_data"
    },
    {
     "name": "stdout",
     "output_type": "stream",
     "text": [
      "\n"
     ]
    },
    {
     "data": {
      "application/vnd.jupyter.widget-view+json": {
       "model_id": "38e37580559d43ff8c2589836f2205bc",
       "version_major": 2,
       "version_minor": 0
      },
      "text/plain": [
       "HBox(children=(IntProgress(value=0, max=30), HTML(value='')))"
      ]
     },
     "metadata": {},
     "output_type": "display_data"
    },
    {
     "name": "stdout",
     "output_type": "stream",
     "text": [
      "\n"
     ]
    },
    {
     "data": {
      "application/vnd.jupyter.widget-view+json": {
       "model_id": "db84d44b854b42d28b2de132a5f43791",
       "version_major": 2,
       "version_minor": 0
      },
      "text/plain": [
       "HBox(children=(IntProgress(value=0, max=30), HTML(value='')))"
      ]
     },
     "metadata": {},
     "output_type": "display_data"
    },
    {
     "name": "stdout",
     "output_type": "stream",
     "text": [
      "\n"
     ]
    },
    {
     "data": {
      "application/vnd.jupyter.widget-view+json": {
       "model_id": "e7da785dea154e0c84b1cfde1527550c",
       "version_major": 2,
       "version_minor": 0
      },
      "text/plain": [
       "HBox(children=(IntProgress(value=0, max=30), HTML(value='')))"
      ]
     },
     "metadata": {},
     "output_type": "display_data"
    },
    {
     "name": "stdout",
     "output_type": "stream",
     "text": [
      "\n"
     ]
    },
    {
     "data": {
      "application/vnd.jupyter.widget-view+json": {
       "model_id": "07f85405cedb4d32a702e32b4e5ec4dd",
       "version_major": 2,
       "version_minor": 0
      },
      "text/plain": [
       "HBox(children=(IntProgress(value=0, max=30), HTML(value='')))"
      ]
     },
     "metadata": {},
     "output_type": "display_data"
    },
    {
     "name": "stdout",
     "output_type": "stream",
     "text": [
      "\n"
     ]
    },
    {
     "data": {
      "application/vnd.jupyter.widget-view+json": {
       "model_id": "39612015689b43419f46c2c929807a6a",
       "version_major": 2,
       "version_minor": 0
      },
      "text/plain": [
       "HBox(children=(IntProgress(value=0, max=30), HTML(value='')))"
      ]
     },
     "metadata": {},
     "output_type": "display_data"
    },
    {
     "name": "stdout",
     "output_type": "stream",
     "text": [
      "\n"
     ]
    },
    {
     "data": {
      "application/vnd.jupyter.widget-view+json": {
       "model_id": "9247a069a6b5494c9c7c9fafa2a208e6",
       "version_major": 2,
       "version_minor": 0
      },
      "text/plain": [
       "HBox(children=(IntProgress(value=0, max=30), HTML(value='')))"
      ]
     },
     "metadata": {},
     "output_type": "display_data"
    },
    {
     "name": "stdout",
     "output_type": "stream",
     "text": [
      "\n"
     ]
    },
    {
     "data": {
      "application/vnd.jupyter.widget-view+json": {
       "model_id": "69145b7b7c1e47a089f3f44cb93ec127",
       "version_major": 2,
       "version_minor": 0
      },
      "text/plain": [
       "HBox(children=(IntProgress(value=0, max=30), HTML(value='')))"
      ]
     },
     "metadata": {},
     "output_type": "display_data"
    },
    {
     "name": "stdout",
     "output_type": "stream",
     "text": [
      "\n"
     ]
    },
    {
     "data": {
      "application/vnd.jupyter.widget-view+json": {
       "model_id": "077c33515df442deb47ab8a11314a547",
       "version_major": 2,
       "version_minor": 0
      },
      "text/plain": [
       "HBox(children=(IntProgress(value=0, max=30), HTML(value='')))"
      ]
     },
     "metadata": {},
     "output_type": "display_data"
    },
    {
     "name": "stdout",
     "output_type": "stream",
     "text": [
      "\n"
     ]
    },
    {
     "data": {
      "application/vnd.jupyter.widget-view+json": {
       "model_id": "d4b07d260f674495ba4a36717ea84439",
       "version_major": 2,
       "version_minor": 0
      },
      "text/plain": [
       "HBox(children=(IntProgress(value=0, max=30), HTML(value='')))"
      ]
     },
     "metadata": {},
     "output_type": "display_data"
    },
    {
     "name": "stdout",
     "output_type": "stream",
     "text": [
      "\n"
     ]
    },
    {
     "data": {
      "application/vnd.jupyter.widget-view+json": {
       "model_id": "f4dd3b246aa84119a7b4603f3c9e67b0",
       "version_major": 2,
       "version_minor": 0
      },
      "text/plain": [
       "HBox(children=(IntProgress(value=0, max=30), HTML(value='')))"
      ]
     },
     "metadata": {},
     "output_type": "display_data"
    },
    {
     "name": "stdout",
     "output_type": "stream",
     "text": [
      "\n"
     ]
    },
    {
     "data": {
      "application/vnd.jupyter.widget-view+json": {
       "model_id": "3ca33c8b9f3a4967acf212d36def166f",
       "version_major": 2,
       "version_minor": 0
      },
      "text/plain": [
       "HBox(children=(IntProgress(value=0, max=30), HTML(value='')))"
      ]
     },
     "metadata": {},
     "output_type": "display_data"
    },
    {
     "name": "stdout",
     "output_type": "stream",
     "text": [
      "\n"
     ]
    },
    {
     "data": {
      "application/vnd.jupyter.widget-view+json": {
       "model_id": "b2444ceebc2b4505835480766f413193",
       "version_major": 2,
       "version_minor": 0
      },
      "text/plain": [
       "HBox(children=(IntProgress(value=0, max=30), HTML(value='')))"
      ]
     },
     "metadata": {},
     "output_type": "display_data"
    },
    {
     "name": "stdout",
     "output_type": "stream",
     "text": [
      "\n"
     ]
    },
    {
     "data": {
      "application/vnd.jupyter.widget-view+json": {
       "model_id": "9050a6c3ff3548299cee92386242dadb",
       "version_major": 2,
       "version_minor": 0
      },
      "text/plain": [
       "HBox(children=(IntProgress(value=0, max=30), HTML(value='')))"
      ]
     },
     "metadata": {},
     "output_type": "display_data"
    },
    {
     "name": "stdout",
     "output_type": "stream",
     "text": [
      "\n"
     ]
    },
    {
     "data": {
      "application/vnd.jupyter.widget-view+json": {
       "model_id": "05b6baa8aedc48bbb015c35a0c3294c4",
       "version_major": 2,
       "version_minor": 0
      },
      "text/plain": [
       "HBox(children=(IntProgress(value=0, max=30), HTML(value='')))"
      ]
     },
     "metadata": {},
     "output_type": "display_data"
    },
    {
     "name": "stdout",
     "output_type": "stream",
     "text": [
      "\n"
     ]
    },
    {
     "data": {
      "application/vnd.jupyter.widget-view+json": {
       "model_id": "070e0297bf854fec893727d02dea3483",
       "version_major": 2,
       "version_minor": 0
      },
      "text/plain": [
       "HBox(children=(IntProgress(value=0, max=30), HTML(value='')))"
      ]
     },
     "metadata": {},
     "output_type": "display_data"
    },
    {
     "name": "stdout",
     "output_type": "stream",
     "text": [
      "\n"
     ]
    },
    {
     "data": {
      "application/vnd.jupyter.widget-view+json": {
       "model_id": "e4ebb71df1834ee89109037cce2c5e94",
       "version_major": 2,
       "version_minor": 0
      },
      "text/plain": [
       "HBox(children=(IntProgress(value=0, max=30), HTML(value='')))"
      ]
     },
     "metadata": {},
     "output_type": "display_data"
    },
    {
     "name": "stdout",
     "output_type": "stream",
     "text": [
      "\n"
     ]
    },
    {
     "data": {
      "application/vnd.jupyter.widget-view+json": {
       "model_id": "8ff0ee0c938c456ca778d2aefb5930ae",
       "version_major": 2,
       "version_minor": 0
      },
      "text/plain": [
       "HBox(children=(IntProgress(value=0, max=30), HTML(value='')))"
      ]
     },
     "metadata": {},
     "output_type": "display_data"
    },
    {
     "name": "stdout",
     "output_type": "stream",
     "text": [
      "\n"
     ]
    },
    {
     "data": {
      "application/vnd.jupyter.widget-view+json": {
       "model_id": "77e2f1f94f4f46bfb803ab639bd35823",
       "version_major": 2,
       "version_minor": 0
      },
      "text/plain": [
       "HBox(children=(IntProgress(value=0, max=30), HTML(value='')))"
      ]
     },
     "metadata": {},
     "output_type": "display_data"
    },
    {
     "name": "stdout",
     "output_type": "stream",
     "text": [
      "\n"
     ]
    },
    {
     "data": {
      "application/vnd.jupyter.widget-view+json": {
       "model_id": "74a4e302040f446b9714139fb87f4db9",
       "version_major": 2,
       "version_minor": 0
      },
      "text/plain": [
       "HBox(children=(IntProgress(value=0, max=30), HTML(value='')))"
      ]
     },
     "metadata": {},
     "output_type": "display_data"
    },
    {
     "name": "stdout",
     "output_type": "stream",
     "text": [
      "\n"
     ]
    },
    {
     "data": {
      "application/vnd.jupyter.widget-view+json": {
       "model_id": "0f572f5e0c6b45239d97bacae9d72a55",
       "version_major": 2,
       "version_minor": 0
      },
      "text/plain": [
       "HBox(children=(IntProgress(value=0, max=30), HTML(value='')))"
      ]
     },
     "metadata": {},
     "output_type": "display_data"
    },
    {
     "name": "stdout",
     "output_type": "stream",
     "text": [
      "\n"
     ]
    },
    {
     "data": {
      "application/vnd.jupyter.widget-view+json": {
       "model_id": "531beb32182b4a04869c9e0bbc6a37bc",
       "version_major": 2,
       "version_minor": 0
      },
      "text/plain": [
       "HBox(children=(IntProgress(value=0, max=30), HTML(value='')))"
      ]
     },
     "metadata": {},
     "output_type": "display_data"
    },
    {
     "name": "stdout",
     "output_type": "stream",
     "text": [
      "\n"
     ]
    },
    {
     "data": {
      "application/vnd.jupyter.widget-view+json": {
       "model_id": "2118ae732e5c437abb332d49c660ca52",
       "version_major": 2,
       "version_minor": 0
      },
      "text/plain": [
       "HBox(children=(IntProgress(value=0, max=30), HTML(value='')))"
      ]
     },
     "metadata": {},
     "output_type": "display_data"
    },
    {
     "name": "stdout",
     "output_type": "stream",
     "text": [
      "\n"
     ]
    },
    {
     "data": {
      "application/vnd.jupyter.widget-view+json": {
       "model_id": "62caa5d05b564952a5b8533110d0ba5f",
       "version_major": 2,
       "version_minor": 0
      },
      "text/plain": [
       "HBox(children=(IntProgress(value=0, max=30), HTML(value='')))"
      ]
     },
     "metadata": {},
     "output_type": "display_data"
    },
    {
     "name": "stdout",
     "output_type": "stream",
     "text": [
      "\n"
     ]
    },
    {
     "data": {
      "application/vnd.jupyter.widget-view+json": {
       "model_id": "932e3ee580e14d7a8b73f24f9252087a",
       "version_major": 2,
       "version_minor": 0
      },
      "text/plain": [
       "HBox(children=(IntProgress(value=0, max=30), HTML(value='')))"
      ]
     },
     "metadata": {},
     "output_type": "display_data"
    },
    {
     "name": "stdout",
     "output_type": "stream",
     "text": [
      "\n"
     ]
    },
    {
     "data": {
      "application/vnd.jupyter.widget-view+json": {
       "model_id": "94777a2465cd4dc58e1734b0ff8e0159",
       "version_major": 2,
       "version_minor": 0
      },
      "text/plain": [
       "HBox(children=(IntProgress(value=0, max=30), HTML(value='')))"
      ]
     },
     "metadata": {},
     "output_type": "display_data"
    },
    {
     "name": "stdout",
     "output_type": "stream",
     "text": [
      "\n"
     ]
    },
    {
     "data": {
      "application/vnd.jupyter.widget-view+json": {
       "model_id": "0d7e8f0658364708afbec0c539dcf397",
       "version_major": 2,
       "version_minor": 0
      },
      "text/plain": [
       "HBox(children=(IntProgress(value=0, max=30), HTML(value='')))"
      ]
     },
     "metadata": {},
     "output_type": "display_data"
    },
    {
     "name": "stdout",
     "output_type": "stream",
     "text": [
      "\n"
     ]
    },
    {
     "data": {
      "application/vnd.jupyter.widget-view+json": {
       "model_id": "88e08c82672b48bb86118fe71f5fb032",
       "version_major": 2,
       "version_minor": 0
      },
      "text/plain": [
       "HBox(children=(IntProgress(value=0, max=30), HTML(value='')))"
      ]
     },
     "metadata": {},
     "output_type": "display_data"
    },
    {
     "name": "stdout",
     "output_type": "stream",
     "text": [
      "\n"
     ]
    },
    {
     "data": {
      "application/vnd.jupyter.widget-view+json": {
       "model_id": "9cf3f0d58c8a441caa263373133a0407",
       "version_major": 2,
       "version_minor": 0
      },
      "text/plain": [
       "HBox(children=(IntProgress(value=0, max=30), HTML(value='')))"
      ]
     },
     "metadata": {},
     "output_type": "display_data"
    },
    {
     "name": "stdout",
     "output_type": "stream",
     "text": [
      "\n"
     ]
    },
    {
     "data": {
      "application/vnd.jupyter.widget-view+json": {
       "model_id": "dcae9c31f27d42a7844b5f8b874fe125",
       "version_major": 2,
       "version_minor": 0
      },
      "text/plain": [
       "HBox(children=(IntProgress(value=0, max=30), HTML(value='')))"
      ]
     },
     "metadata": {},
     "output_type": "display_data"
    },
    {
     "name": "stdout",
     "output_type": "stream",
     "text": [
      "\n"
     ]
    },
    {
     "data": {
      "application/vnd.jupyter.widget-view+json": {
       "model_id": "63edbf6805d54c25bf5f6ba1e1a805d6",
       "version_major": 2,
       "version_minor": 0
      },
      "text/plain": [
       "HBox(children=(IntProgress(value=0, max=30), HTML(value='')))"
      ]
     },
     "metadata": {},
     "output_type": "display_data"
    },
    {
     "name": "stdout",
     "output_type": "stream",
     "text": [
      "\n"
     ]
    },
    {
     "data": {
      "application/vnd.jupyter.widget-view+json": {
       "model_id": "16169da7138942028f92648ea90c25e1",
       "version_major": 2,
       "version_minor": 0
      },
      "text/plain": [
       "HBox(children=(IntProgress(value=0, max=30), HTML(value='')))"
      ]
     },
     "metadata": {},
     "output_type": "display_data"
    },
    {
     "name": "stdout",
     "output_type": "stream",
     "text": [
      "\n"
     ]
    },
    {
     "data": {
      "application/vnd.jupyter.widget-view+json": {
       "model_id": "471fe023fcb1435a9c40ea55e2870c89",
       "version_major": 2,
       "version_minor": 0
      },
      "text/plain": [
       "HBox(children=(IntProgress(value=0, max=30), HTML(value='')))"
      ]
     },
     "metadata": {},
     "output_type": "display_data"
    },
    {
     "name": "stdout",
     "output_type": "stream",
     "text": [
      "\n"
     ]
    },
    {
     "data": {
      "application/vnd.jupyter.widget-view+json": {
       "model_id": "f2e370890d1b43f4a93d3fa6f2a76f9e",
       "version_major": 2,
       "version_minor": 0
      },
      "text/plain": [
       "HBox(children=(IntProgress(value=0, max=30), HTML(value='')))"
      ]
     },
     "metadata": {},
     "output_type": "display_data"
    },
    {
     "name": "stdout",
     "output_type": "stream",
     "text": [
      "\n"
     ]
    },
    {
     "data": {
      "application/vnd.jupyter.widget-view+json": {
       "model_id": "a4b99c01a7c34572ad18638ba6afdecb",
       "version_major": 2,
       "version_minor": 0
      },
      "text/plain": [
       "HBox(children=(IntProgress(value=0, max=30), HTML(value='')))"
      ]
     },
     "metadata": {},
     "output_type": "display_data"
    },
    {
     "name": "stdout",
     "output_type": "stream",
     "text": [
      "\n"
     ]
    },
    {
     "data": {
      "application/vnd.jupyter.widget-view+json": {
       "model_id": "00876ac33313486ea609cc22dafa5832",
       "version_major": 2,
       "version_minor": 0
      },
      "text/plain": [
       "HBox(children=(IntProgress(value=0, max=30), HTML(value='')))"
      ]
     },
     "metadata": {},
     "output_type": "display_data"
    },
    {
     "name": "stdout",
     "output_type": "stream",
     "text": [
      "\n"
     ]
    },
    {
     "data": {
      "application/vnd.jupyter.widget-view+json": {
       "model_id": "d005adcf72824b9790dcadce45f6dec7",
       "version_major": 2,
       "version_minor": 0
      },
      "text/plain": [
       "HBox(children=(IntProgress(value=0, max=30), HTML(value='')))"
      ]
     },
     "metadata": {},
     "output_type": "display_data"
    },
    {
     "name": "stdout",
     "output_type": "stream",
     "text": [
      "\n"
     ]
    },
    {
     "data": {
      "application/vnd.jupyter.widget-view+json": {
       "model_id": "3d40106afc674d7fbadcd25e543506c7",
       "version_major": 2,
       "version_minor": 0
      },
      "text/plain": [
       "HBox(children=(IntProgress(value=0, max=30), HTML(value='')))"
      ]
     },
     "metadata": {},
     "output_type": "display_data"
    },
    {
     "name": "stdout",
     "output_type": "stream",
     "text": [
      "\n"
     ]
    },
    {
     "data": {
      "application/vnd.jupyter.widget-view+json": {
       "model_id": "8c891d9a8dde4034ab2fd451ec002474",
       "version_major": 2,
       "version_minor": 0
      },
      "text/plain": [
       "HBox(children=(IntProgress(value=0, max=30), HTML(value='')))"
      ]
     },
     "metadata": {},
     "output_type": "display_data"
    },
    {
     "name": "stdout",
     "output_type": "stream",
     "text": [
      "\n"
     ]
    },
    {
     "data": {
      "application/vnd.jupyter.widget-view+json": {
       "model_id": "3b518ef4d721476da3525f6cce5618c7",
       "version_major": 2,
       "version_minor": 0
      },
      "text/plain": [
       "HBox(children=(IntProgress(value=0, max=30), HTML(value='')))"
      ]
     },
     "metadata": {},
     "output_type": "display_data"
    },
    {
     "name": "stdout",
     "output_type": "stream",
     "text": [
      "\n"
     ]
    },
    {
     "data": {
      "application/vnd.jupyter.widget-view+json": {
       "model_id": "c6b89b5953704538930d734d051c3133",
       "version_major": 2,
       "version_minor": 0
      },
      "text/plain": [
       "HBox(children=(IntProgress(value=0, max=30), HTML(value='')))"
      ]
     },
     "metadata": {},
     "output_type": "display_data"
    },
    {
     "name": "stdout",
     "output_type": "stream",
     "text": [
      "\n"
     ]
    },
    {
     "data": {
      "application/vnd.jupyter.widget-view+json": {
       "model_id": "e91d537e3cd6467d9c128cfe1df61ec3",
       "version_major": 2,
       "version_minor": 0
      },
      "text/plain": [
       "HBox(children=(IntProgress(value=0, max=30), HTML(value='')))"
      ]
     },
     "metadata": {},
     "output_type": "display_data"
    },
    {
     "name": "stdout",
     "output_type": "stream",
     "text": [
      "\n"
     ]
    },
    {
     "data": {
      "application/vnd.jupyter.widget-view+json": {
       "model_id": "7c1a80d3207340a580723efda62853a5",
       "version_major": 2,
       "version_minor": 0
      },
      "text/plain": [
       "HBox(children=(IntProgress(value=0, max=30), HTML(value='')))"
      ]
     },
     "metadata": {},
     "output_type": "display_data"
    },
    {
     "name": "stdout",
     "output_type": "stream",
     "text": [
      "\n"
     ]
    },
    {
     "data": {
      "application/vnd.jupyter.widget-view+json": {
       "model_id": "6d77f261f06846609a53a1807f135342",
       "version_major": 2,
       "version_minor": 0
      },
      "text/plain": [
       "HBox(children=(IntProgress(value=0, max=30), HTML(value='')))"
      ]
     },
     "metadata": {},
     "output_type": "display_data"
    },
    {
     "name": "stdout",
     "output_type": "stream",
     "text": [
      "\n"
     ]
    },
    {
     "data": {
      "application/vnd.jupyter.widget-view+json": {
       "model_id": "01ee24b163c740c1a192aecf8c837334",
       "version_major": 2,
       "version_minor": 0
      },
      "text/plain": [
       "HBox(children=(IntProgress(value=0, max=30), HTML(value='')))"
      ]
     },
     "metadata": {},
     "output_type": "display_data"
    },
    {
     "name": "stdout",
     "output_type": "stream",
     "text": [
      "\n"
     ]
    },
    {
     "data": {
      "application/vnd.jupyter.widget-view+json": {
       "model_id": "ee2988e954fe42eebdc9af86ce4020c7",
       "version_major": 2,
       "version_minor": 0
      },
      "text/plain": [
       "HBox(children=(IntProgress(value=0, max=30), HTML(value='')))"
      ]
     },
     "metadata": {},
     "output_type": "display_data"
    },
    {
     "name": "stdout",
     "output_type": "stream",
     "text": [
      "\n"
     ]
    },
    {
     "data": {
      "application/vnd.jupyter.widget-view+json": {
       "model_id": "58ce7f33fb934314ba5a623b7acdd182",
       "version_major": 2,
       "version_minor": 0
      },
      "text/plain": [
       "HBox(children=(IntProgress(value=0, max=30), HTML(value='')))"
      ]
     },
     "metadata": {},
     "output_type": "display_data"
    },
    {
     "name": "stdout",
     "output_type": "stream",
     "text": [
      "\n"
     ]
    },
    {
     "data": {
      "application/vnd.jupyter.widget-view+json": {
       "model_id": "767d851cc67546cfb27c6cbbc6fbf43f",
       "version_major": 2,
       "version_minor": 0
      },
      "text/plain": [
       "HBox(children=(IntProgress(value=0, max=30), HTML(value='')))"
      ]
     },
     "metadata": {},
     "output_type": "display_data"
    },
    {
     "name": "stdout",
     "output_type": "stream",
     "text": [
      "\n"
     ]
    },
    {
     "data": {
      "application/vnd.jupyter.widget-view+json": {
       "model_id": "bc16f4e8eb7b405293b869be0f57c984",
       "version_major": 2,
       "version_minor": 0
      },
      "text/plain": [
       "HBox(children=(IntProgress(value=0, max=30), HTML(value='')))"
      ]
     },
     "metadata": {},
     "output_type": "display_data"
    },
    {
     "name": "stdout",
     "output_type": "stream",
     "text": [
      "\n"
     ]
    },
    {
     "data": {
      "application/vnd.jupyter.widget-view+json": {
       "model_id": "85e679e9b2224a4fbd8b3f771cfc1f6e",
       "version_major": 2,
       "version_minor": 0
      },
      "text/plain": [
       "HBox(children=(IntProgress(value=0, max=30), HTML(value='')))"
      ]
     },
     "metadata": {},
     "output_type": "display_data"
    },
    {
     "name": "stdout",
     "output_type": "stream",
     "text": [
      "\n"
     ]
    },
    {
     "data": {
      "application/vnd.jupyter.widget-view+json": {
       "model_id": "915699da656f4cd38ab24b5f655f0d80",
       "version_major": 2,
       "version_minor": 0
      },
      "text/plain": [
       "HBox(children=(IntProgress(value=0, max=30), HTML(value='')))"
      ]
     },
     "metadata": {},
     "output_type": "display_data"
    },
    {
     "name": "stdout",
     "output_type": "stream",
     "text": [
      "\n"
     ]
    },
    {
     "data": {
      "application/vnd.jupyter.widget-view+json": {
       "model_id": "c33f2ce9d913475a821677243b4cda29",
       "version_major": 2,
       "version_minor": 0
      },
      "text/plain": [
       "HBox(children=(IntProgress(value=0, max=30), HTML(value='')))"
      ]
     },
     "metadata": {},
     "output_type": "display_data"
    },
    {
     "name": "stdout",
     "output_type": "stream",
     "text": [
      "\n"
     ]
    },
    {
     "data": {
      "application/vnd.jupyter.widget-view+json": {
       "model_id": "bcca80f9d49140e7bd5134f94b7c8836",
       "version_major": 2,
       "version_minor": 0
      },
      "text/plain": [
       "HBox(children=(IntProgress(value=0, max=30), HTML(value='')))"
      ]
     },
     "metadata": {},
     "output_type": "display_data"
    },
    {
     "name": "stdout",
     "output_type": "stream",
     "text": [
      "\n"
     ]
    },
    {
     "data": {
      "application/vnd.jupyter.widget-view+json": {
       "model_id": "f92a6e14cfd54577946261e7e1a28352",
       "version_major": 2,
       "version_minor": 0
      },
      "text/plain": [
       "HBox(children=(IntProgress(value=0, max=30), HTML(value='')))"
      ]
     },
     "metadata": {},
     "output_type": "display_data"
    },
    {
     "name": "stdout",
     "output_type": "stream",
     "text": [
      "\n"
     ]
    },
    {
     "data": {
      "application/vnd.jupyter.widget-view+json": {
       "model_id": "09acc55fe12a489b9382b7ceb5d7b0ff",
       "version_major": 2,
       "version_minor": 0
      },
      "text/plain": [
       "HBox(children=(IntProgress(value=0, max=30), HTML(value='')))"
      ]
     },
     "metadata": {},
     "output_type": "display_data"
    },
    {
     "name": "stdout",
     "output_type": "stream",
     "text": [
      "\n"
     ]
    },
    {
     "data": {
      "application/vnd.jupyter.widget-view+json": {
       "model_id": "156a054704d84d3b954ea3680af61cde",
       "version_major": 2,
       "version_minor": 0
      },
      "text/plain": [
       "HBox(children=(IntProgress(value=0, max=30), HTML(value='')))"
      ]
     },
     "metadata": {},
     "output_type": "display_data"
    },
    {
     "name": "stdout",
     "output_type": "stream",
     "text": [
      "\n"
     ]
    },
    {
     "data": {
      "application/vnd.jupyter.widget-view+json": {
       "model_id": "1fe82bfa0d674ac6a1c7adfcb964834f",
       "version_major": 2,
       "version_minor": 0
      },
      "text/plain": [
       "HBox(children=(IntProgress(value=0, max=30), HTML(value='')))"
      ]
     },
     "metadata": {},
     "output_type": "display_data"
    },
    {
     "name": "stdout",
     "output_type": "stream",
     "text": [
      "\n"
     ]
    },
    {
     "data": {
      "application/vnd.jupyter.widget-view+json": {
       "model_id": "2ef58ae7a8d943a5a412c2c36c0e1066",
       "version_major": 2,
       "version_minor": 0
      },
      "text/plain": [
       "HBox(children=(IntProgress(value=0, max=30), HTML(value='')))"
      ]
     },
     "metadata": {},
     "output_type": "display_data"
    },
    {
     "name": "stdout",
     "output_type": "stream",
     "text": [
      "\n"
     ]
    },
    {
     "data": {
      "application/vnd.jupyter.widget-view+json": {
       "model_id": "625154c3e9b546d18aa29dfefb11232f",
       "version_major": 2,
       "version_minor": 0
      },
      "text/plain": [
       "HBox(children=(IntProgress(value=0, max=30), HTML(value='')))"
      ]
     },
     "metadata": {},
     "output_type": "display_data"
    },
    {
     "name": "stdout",
     "output_type": "stream",
     "text": [
      "\n"
     ]
    },
    {
     "data": {
      "application/vnd.jupyter.widget-view+json": {
       "model_id": "4524cffc5a8a4300af7e32f818e4aa43",
       "version_major": 2,
       "version_minor": 0
      },
      "text/plain": [
       "HBox(children=(IntProgress(value=0, max=30), HTML(value='')))"
      ]
     },
     "metadata": {},
     "output_type": "display_data"
    },
    {
     "name": "stdout",
     "output_type": "stream",
     "text": [
      "\n"
     ]
    },
    {
     "data": {
      "application/vnd.jupyter.widget-view+json": {
       "model_id": "d78a0d9918e346ab8b2594383620a11e",
       "version_major": 2,
       "version_minor": 0
      },
      "text/plain": [
       "HBox(children=(IntProgress(value=0, max=30), HTML(value='')))"
      ]
     },
     "metadata": {},
     "output_type": "display_data"
    },
    {
     "name": "stdout",
     "output_type": "stream",
     "text": [
      "\n"
     ]
    },
    {
     "data": {
      "application/vnd.jupyter.widget-view+json": {
       "model_id": "72205af9da474b1fad51c0a1217695a6",
       "version_major": 2,
       "version_minor": 0
      },
      "text/plain": [
       "HBox(children=(IntProgress(value=0, max=30), HTML(value='')))"
      ]
     },
     "metadata": {},
     "output_type": "display_data"
    },
    {
     "name": "stdout",
     "output_type": "stream",
     "text": [
      "\n"
     ]
    },
    {
     "data": {
      "application/vnd.jupyter.widget-view+json": {
       "model_id": "0fb8e070f64f4a729f16dc4e62ae1c18",
       "version_major": 2,
       "version_minor": 0
      },
      "text/plain": [
       "HBox(children=(IntProgress(value=0, max=30), HTML(value='')))"
      ]
     },
     "metadata": {},
     "output_type": "display_data"
    },
    {
     "name": "stdout",
     "output_type": "stream",
     "text": [
      "\n"
     ]
    },
    {
     "data": {
      "application/vnd.jupyter.widget-view+json": {
       "model_id": "77293124e6f54f63a717d94ccdb1f7e2",
       "version_major": 2,
       "version_minor": 0
      },
      "text/plain": [
       "HBox(children=(IntProgress(value=0, max=30), HTML(value='')))"
      ]
     },
     "metadata": {},
     "output_type": "display_data"
    },
    {
     "name": "stdout",
     "output_type": "stream",
     "text": [
      "\n"
     ]
    },
    {
     "data": {
      "application/vnd.jupyter.widget-view+json": {
       "model_id": "e112af02378649e4815066350db6fb54",
       "version_major": 2,
       "version_minor": 0
      },
      "text/plain": [
       "HBox(children=(IntProgress(value=0, max=30), HTML(value='')))"
      ]
     },
     "metadata": {},
     "output_type": "display_data"
    },
    {
     "name": "stdout",
     "output_type": "stream",
     "text": [
      "\n"
     ]
    },
    {
     "data": {
      "application/vnd.jupyter.widget-view+json": {
       "model_id": "8e0893cb15294990a62a4df2be7db09d",
       "version_major": 2,
       "version_minor": 0
      },
      "text/plain": [
       "HBox(children=(IntProgress(value=0, max=30), HTML(value='')))"
      ]
     },
     "metadata": {},
     "output_type": "display_data"
    },
    {
     "name": "stdout",
     "output_type": "stream",
     "text": [
      "\n"
     ]
    },
    {
     "data": {
      "application/vnd.jupyter.widget-view+json": {
       "model_id": "831fc06805014baeb0d0449f78f22c1f",
       "version_major": 2,
       "version_minor": 0
      },
      "text/plain": [
       "HBox(children=(IntProgress(value=0, max=30), HTML(value='')))"
      ]
     },
     "metadata": {},
     "output_type": "display_data"
    },
    {
     "name": "stdout",
     "output_type": "stream",
     "text": [
      "\n"
     ]
    },
    {
     "data": {
      "application/vnd.jupyter.widget-view+json": {
       "model_id": "be127dff4f374204a8ec61baad66afc5",
       "version_major": 2,
       "version_minor": 0
      },
      "text/plain": [
       "HBox(children=(IntProgress(value=0, max=30), HTML(value='')))"
      ]
     },
     "metadata": {},
     "output_type": "display_data"
    },
    {
     "name": "stdout",
     "output_type": "stream",
     "text": [
      "\n"
     ]
    },
    {
     "data": {
      "application/vnd.jupyter.widget-view+json": {
       "model_id": "dd6446ce001f4c02b5ce180118525d6e",
       "version_major": 2,
       "version_minor": 0
      },
      "text/plain": [
       "HBox(children=(IntProgress(value=0, max=30), HTML(value='')))"
      ]
     },
     "metadata": {},
     "output_type": "display_data"
    },
    {
     "name": "stdout",
     "output_type": "stream",
     "text": [
      "\n"
     ]
    },
    {
     "data": {
      "application/vnd.jupyter.widget-view+json": {
       "model_id": "5186b4006dcb472c91a24eb4b568eddd",
       "version_major": 2,
       "version_minor": 0
      },
      "text/plain": [
       "HBox(children=(IntProgress(value=0, max=30), HTML(value='')))"
      ]
     },
     "metadata": {},
     "output_type": "display_data"
    },
    {
     "name": "stdout",
     "output_type": "stream",
     "text": [
      "\n"
     ]
    },
    {
     "data": {
      "application/vnd.jupyter.widget-view+json": {
       "model_id": "4707e414cd8f4615b5d738a3842e0f05",
       "version_major": 2,
       "version_minor": 0
      },
      "text/plain": [
       "HBox(children=(IntProgress(value=0, max=30), HTML(value='')))"
      ]
     },
     "metadata": {},
     "output_type": "display_data"
    },
    {
     "name": "stdout",
     "output_type": "stream",
     "text": [
      "\n"
     ]
    },
    {
     "data": {
      "application/vnd.jupyter.widget-view+json": {
       "model_id": "ff9e2a56a1134c0e9abc14d0dc0d3afc",
       "version_major": 2,
       "version_minor": 0
      },
      "text/plain": [
       "HBox(children=(IntProgress(value=0, max=30), HTML(value='')))"
      ]
     },
     "metadata": {},
     "output_type": "display_data"
    },
    {
     "name": "stdout",
     "output_type": "stream",
     "text": [
      "\n"
     ]
    },
    {
     "data": {
      "application/vnd.jupyter.widget-view+json": {
       "model_id": "96ff259adb704009881be6740aaff1bc",
       "version_major": 2,
       "version_minor": 0
      },
      "text/plain": [
       "HBox(children=(IntProgress(value=0, max=30), HTML(value='')))"
      ]
     },
     "metadata": {},
     "output_type": "display_data"
    },
    {
     "name": "stdout",
     "output_type": "stream",
     "text": [
      "\n"
     ]
    },
    {
     "data": {
      "application/vnd.jupyter.widget-view+json": {
       "model_id": "7b67ccb319934d8b8db817b872f71201",
       "version_major": 2,
       "version_minor": 0
      },
      "text/plain": [
       "HBox(children=(IntProgress(value=0, max=30), HTML(value='')))"
      ]
     },
     "metadata": {},
     "output_type": "display_data"
    },
    {
     "name": "stdout",
     "output_type": "stream",
     "text": [
      "\n"
     ]
    },
    {
     "data": {
      "application/vnd.jupyter.widget-view+json": {
       "model_id": "98710dd1d03448dfae7e5335581632f6",
       "version_major": 2,
       "version_minor": 0
      },
      "text/plain": [
       "HBox(children=(IntProgress(value=0, max=30), HTML(value='')))"
      ]
     },
     "metadata": {},
     "output_type": "display_data"
    },
    {
     "name": "stdout",
     "output_type": "stream",
     "text": [
      "\n"
     ]
    },
    {
     "data": {
      "application/vnd.jupyter.widget-view+json": {
       "model_id": "aa524b1eb3554e7e84c53e5911f27e06",
       "version_major": 2,
       "version_minor": 0
      },
      "text/plain": [
       "HBox(children=(IntProgress(value=0, max=30), HTML(value='')))"
      ]
     },
     "metadata": {},
     "output_type": "display_data"
    },
    {
     "name": "stdout",
     "output_type": "stream",
     "text": [
      "\n"
     ]
    },
    {
     "data": {
      "application/vnd.jupyter.widget-view+json": {
       "model_id": "736c529e64fc45ae8bba0d75edbb73c9",
       "version_major": 2,
       "version_minor": 0
      },
      "text/plain": [
       "HBox(children=(IntProgress(value=0, max=30), HTML(value='')))"
      ]
     },
     "metadata": {},
     "output_type": "display_data"
    },
    {
     "name": "stdout",
     "output_type": "stream",
     "text": [
      "\n"
     ]
    },
    {
     "data": {
      "application/vnd.jupyter.widget-view+json": {
       "model_id": "449c40d29819451a8729d7c1a4557ad6",
       "version_major": 2,
       "version_minor": 0
      },
      "text/plain": [
       "HBox(children=(IntProgress(value=0, max=30), HTML(value='')))"
      ]
     },
     "metadata": {},
     "output_type": "display_data"
    },
    {
     "name": "stdout",
     "output_type": "stream",
     "text": [
      "\n"
     ]
    },
    {
     "data": {
      "application/vnd.jupyter.widget-view+json": {
       "model_id": "b1a6678fecee4ddba28b01cfef639241",
       "version_major": 2,
       "version_minor": 0
      },
      "text/plain": [
       "HBox(children=(IntProgress(value=0, max=30), HTML(value='')))"
      ]
     },
     "metadata": {},
     "output_type": "display_data"
    },
    {
     "name": "stdout",
     "output_type": "stream",
     "text": [
      "\n"
     ]
    },
    {
     "data": {
      "application/vnd.jupyter.widget-view+json": {
       "model_id": "6eb0bd7414a74c3c8b2b6c93dc69dc0a",
       "version_major": 2,
       "version_minor": 0
      },
      "text/plain": [
       "HBox(children=(IntProgress(value=0, max=30), HTML(value='')))"
      ]
     },
     "metadata": {},
     "output_type": "display_data"
    },
    {
     "name": "stdout",
     "output_type": "stream",
     "text": [
      "\n"
     ]
    },
    {
     "data": {
      "application/vnd.jupyter.widget-view+json": {
       "model_id": "e0ca128bbf8c420da80c1531b312f7ac",
       "version_major": 2,
       "version_minor": 0
      },
      "text/plain": [
       "HBox(children=(IntProgress(value=0, max=30), HTML(value='')))"
      ]
     },
     "metadata": {},
     "output_type": "display_data"
    },
    {
     "name": "stdout",
     "output_type": "stream",
     "text": [
      "\n"
     ]
    },
    {
     "data": {
      "application/vnd.jupyter.widget-view+json": {
       "model_id": "9573b9a2c72e428ca4488c3f1a0caa1c",
       "version_major": 2,
       "version_minor": 0
      },
      "text/plain": [
       "HBox(children=(IntProgress(value=0, max=30), HTML(value='')))"
      ]
     },
     "metadata": {},
     "output_type": "display_data"
    },
    {
     "name": "stdout",
     "output_type": "stream",
     "text": [
      "\n"
     ]
    },
    {
     "data": {
      "application/vnd.jupyter.widget-view+json": {
       "model_id": "b9e28342bd964a70bf48b2863a9a731c",
       "version_major": 2,
       "version_minor": 0
      },
      "text/plain": [
       "HBox(children=(IntProgress(value=0, max=30), HTML(value='')))"
      ]
     },
     "metadata": {},
     "output_type": "display_data"
    },
    {
     "name": "stdout",
     "output_type": "stream",
     "text": [
      "\n"
     ]
    },
    {
     "data": {
      "application/vnd.jupyter.widget-view+json": {
       "model_id": "41feadcf91f742b4ab41b3b8b6293c9d",
       "version_major": 2,
       "version_minor": 0
      },
      "text/plain": [
       "HBox(children=(IntProgress(value=0, max=30), HTML(value='')))"
      ]
     },
     "metadata": {},
     "output_type": "display_data"
    },
    {
     "name": "stdout",
     "output_type": "stream",
     "text": [
      "\n"
     ]
    },
    {
     "data": {
      "application/vnd.jupyter.widget-view+json": {
       "model_id": "769be15b83c44de0b084ec77746effdd",
       "version_major": 2,
       "version_minor": 0
      },
      "text/plain": [
       "HBox(children=(IntProgress(value=0, max=30), HTML(value='')))"
      ]
     },
     "metadata": {},
     "output_type": "display_data"
    },
    {
     "name": "stdout",
     "output_type": "stream",
     "text": [
      "\n"
     ]
    },
    {
     "data": {
      "application/vnd.jupyter.widget-view+json": {
       "model_id": "3a15739ad09a46749599499d39575fa7",
       "version_major": 2,
       "version_minor": 0
      },
      "text/plain": [
       "HBox(children=(IntProgress(value=0, max=30), HTML(value='')))"
      ]
     },
     "metadata": {},
     "output_type": "display_data"
    },
    {
     "name": "stdout",
     "output_type": "stream",
     "text": [
      "\n"
     ]
    },
    {
     "data": {
      "application/vnd.jupyter.widget-view+json": {
       "model_id": "d1779d32e2ce49248acfd8e49f06156f",
       "version_major": 2,
       "version_minor": 0
      },
      "text/plain": [
       "HBox(children=(IntProgress(value=0, max=30), HTML(value='')))"
      ]
     },
     "metadata": {},
     "output_type": "display_data"
    },
    {
     "name": "stdout",
     "output_type": "stream",
     "text": [
      "\n"
     ]
    },
    {
     "data": {
      "application/vnd.jupyter.widget-view+json": {
       "model_id": "998648bdbdf24266b39b1b2210175bb1",
       "version_major": 2,
       "version_minor": 0
      },
      "text/plain": [
       "HBox(children=(IntProgress(value=0, max=30), HTML(value='')))"
      ]
     },
     "metadata": {},
     "output_type": "display_data"
    },
    {
     "name": "stdout",
     "output_type": "stream",
     "text": [
      "\n"
     ]
    },
    {
     "data": {
      "application/vnd.jupyter.widget-view+json": {
       "model_id": "e86f01676a3c4c3bb31288c80c0a25c8",
       "version_major": 2,
       "version_minor": 0
      },
      "text/plain": [
       "HBox(children=(IntProgress(value=0, max=30), HTML(value='')))"
      ]
     },
     "metadata": {},
     "output_type": "display_data"
    },
    {
     "name": "stdout",
     "output_type": "stream",
     "text": [
      "\n"
     ]
    },
    {
     "data": {
      "application/vnd.jupyter.widget-view+json": {
       "model_id": "a00e0e960bd347089303fb8ea5b3e6a2",
       "version_major": 2,
       "version_minor": 0
      },
      "text/plain": [
       "HBox(children=(IntProgress(value=0, max=30), HTML(value='')))"
      ]
     },
     "metadata": {},
     "output_type": "display_data"
    },
    {
     "name": "stdout",
     "output_type": "stream",
     "text": [
      "\n"
     ]
    },
    {
     "data": {
      "application/vnd.jupyter.widget-view+json": {
       "model_id": "fb27fdc58891421f89a83152a528ddcb",
       "version_major": 2,
       "version_minor": 0
      },
      "text/plain": [
       "HBox(children=(IntProgress(value=0, max=30), HTML(value='')))"
      ]
     },
     "metadata": {},
     "output_type": "display_data"
    },
    {
     "name": "stdout",
     "output_type": "stream",
     "text": [
      "\n"
     ]
    },
    {
     "data": {
      "application/vnd.jupyter.widget-view+json": {
       "model_id": "993284211d7e446ba7da5df9ee9c957e",
       "version_major": 2,
       "version_minor": 0
      },
      "text/plain": [
       "HBox(children=(IntProgress(value=0, max=30), HTML(value='')))"
      ]
     },
     "metadata": {},
     "output_type": "display_data"
    },
    {
     "name": "stdout",
     "output_type": "stream",
     "text": [
      "\n"
     ]
    },
    {
     "data": {
      "application/vnd.jupyter.widget-view+json": {
       "model_id": "3717b1bdf3ec43bf970a77778c5fd953",
       "version_major": 2,
       "version_minor": 0
      },
      "text/plain": [
       "HBox(children=(IntProgress(value=0, max=30), HTML(value='')))"
      ]
     },
     "metadata": {},
     "output_type": "display_data"
    },
    {
     "name": "stdout",
     "output_type": "stream",
     "text": [
      "\n"
     ]
    },
    {
     "data": {
      "application/vnd.jupyter.widget-view+json": {
       "model_id": "f8c7a3b2a0c24a8e83aa7539d4015eb6",
       "version_major": 2,
       "version_minor": 0
      },
      "text/plain": [
       "HBox(children=(IntProgress(value=0, max=30), HTML(value='')))"
      ]
     },
     "metadata": {},
     "output_type": "display_data"
    },
    {
     "name": "stdout",
     "output_type": "stream",
     "text": [
      "\n"
     ]
    },
    {
     "data": {
      "application/vnd.jupyter.widget-view+json": {
       "model_id": "2e2b3ef1aa09429c878beb4b4bd1c72c",
       "version_major": 2,
       "version_minor": 0
      },
      "text/plain": [
       "HBox(children=(IntProgress(value=0, max=30), HTML(value='')))"
      ]
     },
     "metadata": {},
     "output_type": "display_data"
    },
    {
     "name": "stdout",
     "output_type": "stream",
     "text": [
      "\n"
     ]
    },
    {
     "data": {
      "application/vnd.jupyter.widget-view+json": {
       "model_id": "b225a17f41db49f29230ba58ffea5ffe",
       "version_major": 2,
       "version_minor": 0
      },
      "text/plain": [
       "HBox(children=(IntProgress(value=0, max=30), HTML(value='')))"
      ]
     },
     "metadata": {},
     "output_type": "display_data"
    },
    {
     "name": "stdout",
     "output_type": "stream",
     "text": [
      "\n"
     ]
    },
    {
     "data": {
      "application/vnd.jupyter.widget-view+json": {
       "model_id": "cc63c88bab924f4bba45609aca887c64",
       "version_major": 2,
       "version_minor": 0
      },
      "text/plain": [
       "HBox(children=(IntProgress(value=0, max=30), HTML(value='')))"
      ]
     },
     "metadata": {},
     "output_type": "display_data"
    },
    {
     "name": "stdout",
     "output_type": "stream",
     "text": [
      "\n"
     ]
    },
    {
     "data": {
      "application/vnd.jupyter.widget-view+json": {
       "model_id": "ccdaac7c08964f90b09cb29d8a1f3d23",
       "version_major": 2,
       "version_minor": 0
      },
      "text/plain": [
       "HBox(children=(IntProgress(value=0, max=30), HTML(value='')))"
      ]
     },
     "metadata": {},
     "output_type": "display_data"
    },
    {
     "name": "stdout",
     "output_type": "stream",
     "text": [
      "\n"
     ]
    },
    {
     "data": {
      "application/vnd.jupyter.widget-view+json": {
       "model_id": "6165276f08a64fe0a3e7f9103ebe3831",
       "version_major": 2,
       "version_minor": 0
      },
      "text/plain": [
       "HBox(children=(IntProgress(value=0, max=30), HTML(value='')))"
      ]
     },
     "metadata": {},
     "output_type": "display_data"
    },
    {
     "name": "stdout",
     "output_type": "stream",
     "text": [
      "\n"
     ]
    },
    {
     "data": {
      "application/vnd.jupyter.widget-view+json": {
       "model_id": "cc22ad8245894ed2b94b0816d0d12cb7",
       "version_major": 2,
       "version_minor": 0
      },
      "text/plain": [
       "HBox(children=(IntProgress(value=0, max=30), HTML(value='')))"
      ]
     },
     "metadata": {},
     "output_type": "display_data"
    },
    {
     "name": "stdout",
     "output_type": "stream",
     "text": [
      "\n"
     ]
    },
    {
     "data": {
      "application/vnd.jupyter.widget-view+json": {
       "model_id": "735c4e44638d429c8bef1a23261c03a0",
       "version_major": 2,
       "version_minor": 0
      },
      "text/plain": [
       "HBox(children=(IntProgress(value=0, max=30), HTML(value='')))"
      ]
     },
     "metadata": {},
     "output_type": "display_data"
    },
    {
     "name": "stdout",
     "output_type": "stream",
     "text": [
      "\n"
     ]
    },
    {
     "data": {
      "application/vnd.jupyter.widget-view+json": {
       "model_id": "0aee8865f7c54d6ab9423ee37c84d741",
       "version_major": 2,
       "version_minor": 0
      },
      "text/plain": [
       "HBox(children=(IntProgress(value=0, max=30), HTML(value='')))"
      ]
     },
     "metadata": {},
     "output_type": "display_data"
    },
    {
     "name": "stdout",
     "output_type": "stream",
     "text": [
      "\n"
     ]
    },
    {
     "data": {
      "application/vnd.jupyter.widget-view+json": {
       "model_id": "4f81f4bb93ee49e4b0b066c34723e0aa",
       "version_major": 2,
       "version_minor": 0
      },
      "text/plain": [
       "HBox(children=(IntProgress(value=0, max=30), HTML(value='')))"
      ]
     },
     "metadata": {},
     "output_type": "display_data"
    },
    {
     "name": "stdout",
     "output_type": "stream",
     "text": [
      "\n"
     ]
    },
    {
     "data": {
      "application/vnd.jupyter.widget-view+json": {
       "model_id": "24461caaa3ca476ab8e1b5e31ebc0df4",
       "version_major": 2,
       "version_minor": 0
      },
      "text/plain": [
       "HBox(children=(IntProgress(value=0, max=30), HTML(value='')))"
      ]
     },
     "metadata": {},
     "output_type": "display_data"
    },
    {
     "name": "stdout",
     "output_type": "stream",
     "text": [
      "\n"
     ]
    },
    {
     "data": {
      "application/vnd.jupyter.widget-view+json": {
       "model_id": "8d18cddcad584b7f9f6451101b35dec4",
       "version_major": 2,
       "version_minor": 0
      },
      "text/plain": [
       "HBox(children=(IntProgress(value=0, max=30), HTML(value='')))"
      ]
     },
     "metadata": {},
     "output_type": "display_data"
    },
    {
     "name": "stdout",
     "output_type": "stream",
     "text": [
      "\n"
     ]
    },
    {
     "data": {
      "application/vnd.jupyter.widget-view+json": {
       "model_id": "f395744189b84170bc4aae74bb9e0618",
       "version_major": 2,
       "version_minor": 0
      },
      "text/plain": [
       "HBox(children=(IntProgress(value=0, max=30), HTML(value='')))"
      ]
     },
     "metadata": {},
     "output_type": "display_data"
    },
    {
     "name": "stdout",
     "output_type": "stream",
     "text": [
      "\n"
     ]
    },
    {
     "data": {
      "application/vnd.jupyter.widget-view+json": {
       "model_id": "e604b0102a7b4859aa09b45d2de6a245",
       "version_major": 2,
       "version_minor": 0
      },
      "text/plain": [
       "HBox(children=(IntProgress(value=0, max=30), HTML(value='')))"
      ]
     },
     "metadata": {},
     "output_type": "display_data"
    },
    {
     "name": "stdout",
     "output_type": "stream",
     "text": [
      "\n"
     ]
    },
    {
     "data": {
      "application/vnd.jupyter.widget-view+json": {
       "model_id": "8280eca9a9534263a76be9304eb7b5d3",
       "version_major": 2,
       "version_minor": 0
      },
      "text/plain": [
       "HBox(children=(IntProgress(value=0, max=30), HTML(value='')))"
      ]
     },
     "metadata": {},
     "output_type": "display_data"
    },
    {
     "name": "stdout",
     "output_type": "stream",
     "text": [
      "\n"
     ]
    },
    {
     "data": {
      "application/vnd.jupyter.widget-view+json": {
       "model_id": "4ff6c73a23dc42f49d459a7c48156099",
       "version_major": 2,
       "version_minor": 0
      },
      "text/plain": [
       "HBox(children=(IntProgress(value=0, max=30), HTML(value='')))"
      ]
     },
     "metadata": {},
     "output_type": "display_data"
    },
    {
     "name": "stdout",
     "output_type": "stream",
     "text": [
      "\n"
     ]
    },
    {
     "data": {
      "application/vnd.jupyter.widget-view+json": {
       "model_id": "4bab4c0f233e40f394a9c60c2c68abd2",
       "version_major": 2,
       "version_minor": 0
      },
      "text/plain": [
       "HBox(children=(IntProgress(value=0, max=30), HTML(value='')))"
      ]
     },
     "metadata": {},
     "output_type": "display_data"
    },
    {
     "name": "stdout",
     "output_type": "stream",
     "text": [
      "\n"
     ]
    },
    {
     "data": {
      "application/vnd.jupyter.widget-view+json": {
       "model_id": "d19e5796cc594fe7b968c76e7061e998",
       "version_major": 2,
       "version_minor": 0
      },
      "text/plain": [
       "HBox(children=(IntProgress(value=0, max=30), HTML(value='')))"
      ]
     },
     "metadata": {},
     "output_type": "display_data"
    },
    {
     "name": "stdout",
     "output_type": "stream",
     "text": [
      "\n"
     ]
    },
    {
     "data": {
      "application/vnd.jupyter.widget-view+json": {
       "model_id": "92527546d5424c688870d117da831ba7",
       "version_major": 2,
       "version_minor": 0
      },
      "text/plain": [
       "HBox(children=(IntProgress(value=0, max=30), HTML(value='')))"
      ]
     },
     "metadata": {},
     "output_type": "display_data"
    },
    {
     "name": "stdout",
     "output_type": "stream",
     "text": [
      "\n"
     ]
    },
    {
     "data": {
      "application/vnd.jupyter.widget-view+json": {
       "model_id": "7bf8e2483d584b1b821087d1b6d6a6a1",
       "version_major": 2,
       "version_minor": 0
      },
      "text/plain": [
       "HBox(children=(IntProgress(value=0, max=30), HTML(value='')))"
      ]
     },
     "metadata": {},
     "output_type": "display_data"
    },
    {
     "name": "stdout",
     "output_type": "stream",
     "text": [
      "\n"
     ]
    },
    {
     "data": {
      "application/vnd.jupyter.widget-view+json": {
       "model_id": "947fa2d257494e68b811d349724b07a8",
       "version_major": 2,
       "version_minor": 0
      },
      "text/plain": [
       "HBox(children=(IntProgress(value=0, max=30), HTML(value='')))"
      ]
     },
     "metadata": {},
     "output_type": "display_data"
    },
    {
     "name": "stdout",
     "output_type": "stream",
     "text": [
      "\n"
     ]
    },
    {
     "data": {
      "application/vnd.jupyter.widget-view+json": {
       "model_id": "3bb3ed8960444254a0afac33e4a86562",
       "version_major": 2,
       "version_minor": 0
      },
      "text/plain": [
       "HBox(children=(IntProgress(value=0, max=30), HTML(value='')))"
      ]
     },
     "metadata": {},
     "output_type": "display_data"
    },
    {
     "name": "stdout",
     "output_type": "stream",
     "text": [
      "\n"
     ]
    },
    {
     "data": {
      "application/vnd.jupyter.widget-view+json": {
       "model_id": "b263860c46c1468e94092a7bb15a0799",
       "version_major": 2,
       "version_minor": 0
      },
      "text/plain": [
       "HBox(children=(IntProgress(value=0, max=30), HTML(value='')))"
      ]
     },
     "metadata": {},
     "output_type": "display_data"
    },
    {
     "name": "stdout",
     "output_type": "stream",
     "text": [
      "\n"
     ]
    },
    {
     "data": {
      "application/vnd.jupyter.widget-view+json": {
       "model_id": "ac0738c1719d4ff7a10b28db6cc61efd",
       "version_major": 2,
       "version_minor": 0
      },
      "text/plain": [
       "HBox(children=(IntProgress(value=0, max=30), HTML(value='')))"
      ]
     },
     "metadata": {},
     "output_type": "display_data"
    },
    {
     "name": "stdout",
     "output_type": "stream",
     "text": [
      "\n"
     ]
    },
    {
     "data": {
      "application/vnd.jupyter.widget-view+json": {
       "model_id": "78b385342b47415bb376139b0debb498",
       "version_major": 2,
       "version_minor": 0
      },
      "text/plain": [
       "HBox(children=(IntProgress(value=0, max=30), HTML(value='')))"
      ]
     },
     "metadata": {},
     "output_type": "display_data"
    },
    {
     "name": "stdout",
     "output_type": "stream",
     "text": [
      "\n"
     ]
    },
    {
     "data": {
      "application/vnd.jupyter.widget-view+json": {
       "model_id": "ece68761fa3f4775af4b5055092308c0",
       "version_major": 2,
       "version_minor": 0
      },
      "text/plain": [
       "HBox(children=(IntProgress(value=0, max=30), HTML(value='')))"
      ]
     },
     "metadata": {},
     "output_type": "display_data"
    },
    {
     "name": "stdout",
     "output_type": "stream",
     "text": [
      "\n"
     ]
    },
    {
     "data": {
      "application/vnd.jupyter.widget-view+json": {
       "model_id": "c6f48eb1f6d341988ae7291954e68709",
       "version_major": 2,
       "version_minor": 0
      },
      "text/plain": [
       "HBox(children=(IntProgress(value=0, max=30), HTML(value='')))"
      ]
     },
     "metadata": {},
     "output_type": "display_data"
    },
    {
     "name": "stdout",
     "output_type": "stream",
     "text": [
      "\n"
     ]
    },
    {
     "data": {
      "application/vnd.jupyter.widget-view+json": {
       "model_id": "284242df92b44c6a8e9382c09e4fe4ac",
       "version_major": 2,
       "version_minor": 0
      },
      "text/plain": [
       "HBox(children=(IntProgress(value=0, max=30), HTML(value='')))"
      ]
     },
     "metadata": {},
     "output_type": "display_data"
    },
    {
     "name": "stdout",
     "output_type": "stream",
     "text": [
      "\n"
     ]
    },
    {
     "data": {
      "application/vnd.jupyter.widget-view+json": {
       "model_id": "0c2d3b64873d41038251e8028fd3f523",
       "version_major": 2,
       "version_minor": 0
      },
      "text/plain": [
       "HBox(children=(IntProgress(value=0, max=30), HTML(value='')))"
      ]
     },
     "metadata": {},
     "output_type": "display_data"
    },
    {
     "name": "stdout",
     "output_type": "stream",
     "text": [
      "\n"
     ]
    },
    {
     "data": {
      "application/vnd.jupyter.widget-view+json": {
       "model_id": "e601f0cb661e40f190b6215c1fde7d4e",
       "version_major": 2,
       "version_minor": 0
      },
      "text/plain": [
       "HBox(children=(IntProgress(value=0, max=30), HTML(value='')))"
      ]
     },
     "metadata": {},
     "output_type": "display_data"
    },
    {
     "name": "stdout",
     "output_type": "stream",
     "text": [
      "\n"
     ]
    },
    {
     "data": {
      "application/vnd.jupyter.widget-view+json": {
       "model_id": "8834a017aede413b95d4d27e0cacef01",
       "version_major": 2,
       "version_minor": 0
      },
      "text/plain": [
       "HBox(children=(IntProgress(value=0, max=30), HTML(value='')))"
      ]
     },
     "metadata": {},
     "output_type": "display_data"
    },
    {
     "name": "stdout",
     "output_type": "stream",
     "text": [
      "\n"
     ]
    },
    {
     "data": {
      "application/vnd.jupyter.widget-view+json": {
       "model_id": "e633c92f53b84aa7ad465d6bf90f8a60",
       "version_major": 2,
       "version_minor": 0
      },
      "text/plain": [
       "HBox(children=(IntProgress(value=0, max=30), HTML(value='')))"
      ]
     },
     "metadata": {},
     "output_type": "display_data"
    },
    {
     "name": "stdout",
     "output_type": "stream",
     "text": [
      "\n"
     ]
    },
    {
     "data": {
      "application/vnd.jupyter.widget-view+json": {
       "model_id": "1a5c5707b16e401ebe6bd2399f1acc5f",
       "version_major": 2,
       "version_minor": 0
      },
      "text/plain": [
       "HBox(children=(IntProgress(value=0, max=30), HTML(value='')))"
      ]
     },
     "metadata": {},
     "output_type": "display_data"
    },
    {
     "name": "stdout",
     "output_type": "stream",
     "text": [
      "\n"
     ]
    },
    {
     "data": {
      "application/vnd.jupyter.widget-view+json": {
       "model_id": "69ca410956d44bb8a4bca273665f8fe2",
       "version_major": 2,
       "version_minor": 0
      },
      "text/plain": [
       "HBox(children=(IntProgress(value=0, max=30), HTML(value='')))"
      ]
     },
     "metadata": {},
     "output_type": "display_data"
    },
    {
     "name": "stdout",
     "output_type": "stream",
     "text": [
      "\n"
     ]
    },
    {
     "data": {
      "application/vnd.jupyter.widget-view+json": {
       "model_id": "577275cfe28a44c6a2049404990c1036",
       "version_major": 2,
       "version_minor": 0
      },
      "text/plain": [
       "HBox(children=(IntProgress(value=0, max=30), HTML(value='')))"
      ]
     },
     "metadata": {},
     "output_type": "display_data"
    },
    {
     "name": "stdout",
     "output_type": "stream",
     "text": [
      "\n"
     ]
    },
    {
     "data": {
      "application/vnd.jupyter.widget-view+json": {
       "model_id": "d4f978e6c8dd4531a42b3d65436a4e31",
       "version_major": 2,
       "version_minor": 0
      },
      "text/plain": [
       "HBox(children=(IntProgress(value=0, max=30), HTML(value='')))"
      ]
     },
     "metadata": {},
     "output_type": "display_data"
    },
    {
     "name": "stdout",
     "output_type": "stream",
     "text": [
      "\n"
     ]
    },
    {
     "data": {
      "application/vnd.jupyter.widget-view+json": {
       "model_id": "ff386685202f4692b7ac6791d70f62c5",
       "version_major": 2,
       "version_minor": 0
      },
      "text/plain": [
       "HBox(children=(IntProgress(value=0, max=30), HTML(value='')))"
      ]
     },
     "metadata": {},
     "output_type": "display_data"
    },
    {
     "name": "stdout",
     "output_type": "stream",
     "text": [
      "\n"
     ]
    },
    {
     "data": {
      "application/vnd.jupyter.widget-view+json": {
       "model_id": "1a11f1e91a7c46488ea3307dbad33cca",
       "version_major": 2,
       "version_minor": 0
      },
      "text/plain": [
       "HBox(children=(IntProgress(value=0, max=30), HTML(value='')))"
      ]
     },
     "metadata": {},
     "output_type": "display_data"
    },
    {
     "name": "stdout",
     "output_type": "stream",
     "text": [
      "\n"
     ]
    },
    {
     "data": {
      "application/vnd.jupyter.widget-view+json": {
       "model_id": "75640f7ba5f646779388e6d5802c6cd1",
       "version_major": 2,
       "version_minor": 0
      },
      "text/plain": [
       "HBox(children=(IntProgress(value=0, max=30), HTML(value='')))"
      ]
     },
     "metadata": {},
     "output_type": "display_data"
    },
    {
     "name": "stdout",
     "output_type": "stream",
     "text": [
      "\n"
     ]
    },
    {
     "data": {
      "application/vnd.jupyter.widget-view+json": {
       "model_id": "4550442d05784cafb3d3ec247a5441b7",
       "version_major": 2,
       "version_minor": 0
      },
      "text/plain": [
       "HBox(children=(IntProgress(value=0, max=30), HTML(value='')))"
      ]
     },
     "metadata": {},
     "output_type": "display_data"
    },
    {
     "name": "stdout",
     "output_type": "stream",
     "text": [
      "\n"
     ]
    },
    {
     "data": {
      "application/vnd.jupyter.widget-view+json": {
       "model_id": "99645da468954be6bc8c3de2fb87c32b",
       "version_major": 2,
       "version_minor": 0
      },
      "text/plain": [
       "HBox(children=(IntProgress(value=0, max=30), HTML(value='')))"
      ]
     },
     "metadata": {},
     "output_type": "display_data"
    },
    {
     "name": "stdout",
     "output_type": "stream",
     "text": [
      "\n"
     ]
    },
    {
     "data": {
      "application/vnd.jupyter.widget-view+json": {
       "model_id": "381a209863de41298821d4827a90d23f",
       "version_major": 2,
       "version_minor": 0
      },
      "text/plain": [
       "HBox(children=(IntProgress(value=0, max=30), HTML(value='')))"
      ]
     },
     "metadata": {},
     "output_type": "display_data"
    },
    {
     "name": "stdout",
     "output_type": "stream",
     "text": [
      "\n"
     ]
    },
    {
     "data": {
      "application/vnd.jupyter.widget-view+json": {
       "model_id": "45e19673cefe4bfbab8208f65f0744f2",
       "version_major": 2,
       "version_minor": 0
      },
      "text/plain": [
       "HBox(children=(IntProgress(value=0, max=30), HTML(value='')))"
      ]
     },
     "metadata": {},
     "output_type": "display_data"
    },
    {
     "name": "stdout",
     "output_type": "stream",
     "text": [
      "\n"
     ]
    },
    {
     "data": {
      "application/vnd.jupyter.widget-view+json": {
       "model_id": "af56d3bd1c4c40968b01b6f123ee6eeb",
       "version_major": 2,
       "version_minor": 0
      },
      "text/plain": [
       "HBox(children=(IntProgress(value=0, max=30), HTML(value='')))"
      ]
     },
     "metadata": {},
     "output_type": "display_data"
    },
    {
     "name": "stdout",
     "output_type": "stream",
     "text": [
      "\n"
     ]
    },
    {
     "data": {
      "application/vnd.jupyter.widget-view+json": {
       "model_id": "1882c92e09c7445bbb3ef2da28c0350a",
       "version_major": 2,
       "version_minor": 0
      },
      "text/plain": [
       "HBox(children=(IntProgress(value=0, max=30), HTML(value='')))"
      ]
     },
     "metadata": {},
     "output_type": "display_data"
    },
    {
     "name": "stdout",
     "output_type": "stream",
     "text": [
      "\n"
     ]
    },
    {
     "data": {
      "application/vnd.jupyter.widget-view+json": {
       "model_id": "660c443364bf41d286b83fc40bdd3132",
       "version_major": 2,
       "version_minor": 0
      },
      "text/plain": [
       "HBox(children=(IntProgress(value=0, max=10), HTML(value='')))"
      ]
     },
     "metadata": {},
     "output_type": "display_data"
    },
    {
     "name": "stdout",
     "output_type": "stream",
     "text": [
      "\n"
     ]
    }
   ],
   "source": [
    "players = []\n",
    "\n",
    "counter = 1\n",
    "params = {\n",
    "    'gender' : 'male',\n",
    "    'order' : 'desc'\n",
    "}\n",
    "\n",
    "r_ = requests.get('https://www.fifaindex.com/players/fifa19_279/1/', params=params)\n",
    "soup = BeautifulSoup(r_.text, 'html.parser')\n",
    "\n",
    "while soup.findAll('tr'):\n",
    "\n",
    "    for player in tqdm_notebook(soup.findAll('tr')[1:]):\n",
    "        footballer = []\n",
    "\n",
    "        try:\n",
    "            footballer.append(player.find('td', attrs={'data-title': 'Name'}).text)\n",
    "        except:\n",
    "            footballer.append(np.nan)\n",
    "        try:\n",
    "            footballer.append(player.find('td', attrs={'data-title': 'Nationality'}).find('a')['title'])\n",
    "        except:\n",
    "            footballer.append(np.nan)\n",
    "        try:\n",
    "            footballer.append(player.find('td', attrs={'data-title': 'OVR / POT'}).find('span', attrs = {'class': True}).text)\n",
    "        except:\n",
    "            footballer.append(np.nan)\n",
    "\n",
    "        positions =  player.find('td', attrs={'data-title': 'Preferred Positions'}).find_all('a')\n",
    "\n",
    "        for i in range(3):\n",
    "\n",
    "            try:\n",
    "                footballer.append(positions[i]['title'])\n",
    "            except:\n",
    "                footballer.append(np.nan)\n",
    "\n",
    "        try:\n",
    "            footballer.append(player.find('td', attrs={'data-title': 'Age'}).text)\n",
    "        except:\n",
    "            footballer.append(np.nan)\n",
    "        try:\n",
    "            footballer.append(player.find('td', attrs={'data-title': 'Team'}).find('a')['title'])\n",
    "        except:\n",
    "            footballer.append(np.nan)\n",
    "\n",
    "        players.append(footballer)\n",
    "    counter += 1\n",
    "    r_ = requests.get(f'https://www.fifaindex.com/players/fifa19_279/{counter}/', params=params)\n",
    "    soup = BeautifulSoup(r_.text, 'html.parser')"
   ]
  },
  {
   "cell_type": "code",
   "execution_count": 133,
   "metadata": {},
   "outputs": [],
   "source": [
    "cols = [\n",
    "    'name',\n",
    "    'nationality',\n",
    "    'rating',\n",
    "    'position1',\n",
    "    'position2',\n",
    "    'position3',\n",
    "    'age',\n",
    "    'team'\n",
    "    \n",
    "]\n",
    "\n",
    "playaz = pd.DataFrame(players, columns=cols)"
   ]
  },
  {
   "cell_type": "code",
   "execution_count": 136,
   "metadata": {},
   "outputs": [],
   "source": [
    "playaz.to_csv('playaz.csv', index=False)"
   ]
  },
  {
   "cell_type": "code",
   "execution_count": 129,
   "metadata": {},
   "outputs": [
    {
     "data": {
      "text/plain": [
       "'60'"
      ]
     },
     "execution_count": 129,
     "metadata": {},
     "output_type": "execute_result"
    }
   ],
   "source": [
    "soup.findAll('tr')[1].find('td', attrs={'data-title': 'OVR / POT'}).find('span', attrs = {'class': True}).text"
   ]
  },
  {
   "cell_type": "code",
   "execution_count": 132,
   "metadata": {},
   "outputs": [
    {
     "data": {
      "text/plain": [
       "[['Lionel Messi', 'Argentina', '94', 'CF', 'RW', 'ST', '31', 'FC Barcelona'],\n",
       " ['Cristiano Ronaldo', 'Portugal', '94', 'ST', 'LW', nan, '33', 'Juventus'],\n",
       " ['Neymar', 'Brazil', '92', 'LW', nan, nan, '26', 'Paris'],\n",
       " ['De Gea', 'Spain', '91', 'GK', nan, nan, '27', 'Manchester Utd'],\n",
       " ['Kevin De Bruyne',\n",
       "  'Belgium',\n",
       "  '91',\n",
       "  'CAM',\n",
       "  'CM',\n",
       "  nan,\n",
       "  '27',\n",
       "  'Manchester City'],\n",
       " ['Eden Hazard', 'Belgium', '91', 'LW', 'CF', nan, '27', 'Chelsea'],\n",
       " ['Luka Modrić', 'Croatia', '91', 'CM', 'CDM', nan, '32', 'Real Madrid'],\n",
       " ['Luis Suárez', 'Uruguay', '91', 'ST', nan, nan, '31', 'FC Barcelona'],\n",
       " ['Sergio Ramos', 'Spain', '91', 'CB', nan, nan, '32', 'Real Madrid'],\n",
       " ['Jan Oblak', 'Slovenia', '90', 'GK', nan, nan, '25', 'Atlético Madrid'],\n",
       " ['Thibaut Courtois', 'Belgium', '90', 'GK', nan, nan, '26', 'Real Madrid'],\n",
       " ['Robert Lewandowski', 'Poland', '90', 'ST', nan, nan, '30', 'FC Bayern'],\n",
       " ['Toni Kroos', 'Germany', '90', 'CM', 'CDM', nan, '28', 'Real Madrid'],\n",
       " ['Diego Godín', 'Uruguay', '90', 'CB', nan, nan, '32', 'Atlético Madrid'],\n",
       " ['Manuel Neuer', 'Germany', '90', 'GK', nan, nan, '32', 'FC Bayern'],\n",
       " [\"N'Golo Kanté\", 'France', '89', 'CDM', 'CM', nan, '27', 'Chelsea'],\n",
       " ['Paulo Dybala', 'Argentina', '89', 'CAM', 'ST', 'CF', '24', 'Juventus'],\n",
       " ['Harry Kane', 'England', '89', 'ST', nan, nan, '25', 'Spurs'],\n",
       " ['Isco', 'Spain', '89', 'CAM', 'CM', 'LW', '26', 'Real Madrid'],\n",
       " ['Antoine Griezmann',\n",
       "  'France',\n",
       "  '89',\n",
       "  'ST',\n",
       "  nan,\n",
       "  nan,\n",
       "  '27',\n",
       "  'Atlético Madrid'],\n",
       " ['Marc-André ter Stegen',\n",
       "  'Germany',\n",
       "  '89',\n",
       "  'GK',\n",
       "  nan,\n",
       "  nan,\n",
       "  '26',\n",
       "  'FC Barcelona'],\n",
       " ['Edinson Cavani', 'Uruguay', '89', 'ST', nan, nan, '31', 'Paris'],\n",
       " ['Mats Hummels', 'Germany', '89', 'CB', nan, nan, '29', 'FC Bayern'],\n",
       " ['David Silva', 'Spain', '89', 'CAM', 'CM', nan, '32', 'Manchester City'],\n",
       " ['Sergio Agüero', 'Argentina', '89', 'ST', nan, nan, '30', 'Manchester City'],\n",
       " ['Giorgio Chiellini', 'Italy', '89', 'CB', nan, nan, '34', 'Juventus'],\n",
       " ['Mohamed Salah', 'Egypt', '88', 'RW', nan, nan, '26', 'Liverpool'],\n",
       " ['Casemiro', 'Brazil', '88', 'CDM', nan, nan, '26', 'Real Madrid'],\n",
       " ['James RodríguezL', 'Colombia', '88', 'CAM', 'CM', 'RM', '27', 'FC Bayern'],\n",
       " ['Lorenzo Insigne', 'Italy', '88', 'LW', nan, nan, '27', 'Napoli'],\n",
       " ['Paul Pogba', 'France', '88', 'CM', 'CDM', nan, '25', 'Manchester Utd'],\n",
       " ['Christian Eriksen', 'Denmark', '88', 'CAM', 'RM', 'CM', '26', 'Spurs'],\n",
       " ['Sergio Busquets', 'Spain', '88', 'CDM', 'CM', nan, '30', 'FC Barcelona'],\n",
       " ['Coutinho', 'Brazil', '88', 'LW', 'RW', 'CM', '26', 'FC Barcelona'],\n",
       " ['Marcelo', 'Brazil', '88', 'LB', nan, nan, '30', 'Real Madrid'],\n",
       " ['Gareth Bale', 'Wales', '88', 'RW', 'ST', nan, '29', 'Real Madrid'],\n",
       " ['Hugo Lloris', 'France', '88', 'GK', nan, nan, '31', 'Spurs'],\n",
       " ['Gonzalo HiguaínL', 'Argentina', '88', 'ST', nan, nan, '30', 'Milan'],\n",
       " ['Thiago Silva', 'Brazil', '88', 'CB', nan, nan, '33', 'Paris'],\n",
       " ['Samir Handanovič', 'Slovenia', '88', 'GK', nan, nan, '34', 'Inter'],\n",
       " ['Gianluigi Buffon', 'Italy', '88', 'GK', nan, nan, '40', 'Paris'],\n",
       " ['Kylian Mbappé', 'France', '87', 'RW', 'ST', nan, '19', 'Paris'],\n",
       " ['Samuel Umtiti', 'France', '87', 'CB', nan, nan, '24', 'FC Barcelona'],\n",
       " ['Mauro Icardi', 'Argentina', '87', 'ST', nan, nan, '25', 'Inter'],\n",
       " ['Kalidou Koulibaly', 'Senegal', '87', 'CB', nan, nan, '27', 'Napoli'],\n",
       " ['Keylor Navas', 'Costa Rica', '87', 'GK', nan, nan, '31', 'Real Madrid'],\n",
       " ['Romelu Lukaku', 'Belgium', '87', 'ST', nan, nan, '25', 'Manchester Utd'],\n",
       " ['Ciro Immobile', 'Italy', '87', 'ST', nan, nan, '28', 'Lazio'],\n",
       " ['Jordi Alba', 'Spain', '87', 'LB', nan, nan, '29', 'FC Barcelona'],\n",
       " ['Pierre-Emerick Aubameyang', 'Gabon', '87', 'ST', nan, nan, '29', 'Arsenal'],\n",
       " ['Alexis Sánchez', 'Chile', '87', 'LW', 'LM', 'ST', '29', 'Manchester Utd'],\n",
       " ['Dries Mertens', 'Belgium', '87', 'CF', 'ST', nan, '31', 'Napoli'],\n",
       " ['Jan Vertonghen', 'Belgium', '87', 'CB', nan, nan, '31', 'Spurs'],\n",
       " ['Marek Hamšík', 'Slovakia', '87', 'CM', nan, nan, '31', 'Napoli'],\n",
       " ['Ivan Rakitić', 'Croatia', '87', 'CM', nan, nan, '30', 'FC Barcelona'],\n",
       " ['Piqué', 'Spain', '87', 'CB', nan, nan, '31', 'FC Barcelona'],\n",
       " ['Iniesta', 'Spain', '87', 'CM', 'LM', nan, '34', 'Vissel Kobe'],\n",
       " ['Leroy Sané', 'Germany', '86', 'LW', 'RW', nan, '22', 'Manchester City'],\n",
       " ['Ederson', 'Brazil', '86', 'GK', nan, nan, '25', 'Manchester City'],\n",
       " ['Sadio Mané', 'Senegal', '86', 'LW', 'RW', nan, '26', 'Liverpool'],\n",
       " ['Roberto Firmino', 'Brazil', '86', 'CF', 'ST', nan, '26', 'Liverpool'],\n",
       " ['Raphaël Varane', 'France', '86', 'CB', nan, nan, '25', 'Real Madrid'],\n",
       " ['Marco Verratti', 'Italy', '86', 'CM', 'CDM', nan, '25', 'Paris'],\n",
       " ['Nicolás Otamendi',\n",
       "  'Argentina',\n",
       "  '86',\n",
       "  'CB',\n",
       "  nan,\n",
       "  nan,\n",
       "  '30',\n",
       "  'Manchester City'],\n",
       " ['Nemanja Matić', 'Serbia', '86', 'CDM', 'CM', nan, '30', 'Manchester Utd'],\n",
       " ['Alex Sandro', 'Brazil', '86', 'LB', 'LM', nan, '27', 'Juventus'],\n",
       " ['Douglas Costa', 'Brazil', '86', 'LM', 'RW', 'LW', '27', 'Juventus'],\n",
       " ['Thomas Müller', 'Germany', '86', 'CF', 'RW', 'CAM', '28', 'FC Bayern'],\n",
       " ['Parejo', 'Spain', '86', 'CM', 'CAM', 'CDM', '29', 'Valencia CF'],\n",
       " ['Thiago', 'Spain', '86', 'CM', 'CAM', 'CDM', '27', 'FC Bayern'],\n",
       " ['Azpilicueta', 'Spain', '86', 'CB', nan, nan, '28', 'Chelsea'],\n",
       " ['Leonardo Bonucci', 'Italy', '86', 'CB', nan, nan, '31', 'Juventus'],\n",
       " ['Jérôme Boateng', 'Germany', '86', 'CB', nan, nan, '29', 'FC Bayern'],\n",
       " ['Ivan Perišić', 'Croatia', '86', 'LM', nan, nan, '29', 'Inter'],\n",
       " ['Miralem Pjanić',\n",
       "  'Bosnia Herzegovina',\n",
       "  '86',\n",
       "  'CM',\n",
       "  'CDM',\n",
       "  nan,\n",
       "  '28',\n",
       "  'Juventus'],\n",
       " ['Medhi Benatia', 'Morocco', '86', 'CB', nan, nan, '31', 'Juventus'],\n",
       " ['Mesut Özil', 'Germany', '86', 'CAM', 'RM', 'RW', '29', 'Arsenal'],\n",
       " ['Naldo', 'Brazil', '86', 'CB', nan, nan, '35', 'Schalke'],\n",
       " ['Fernandinho', 'Brazil', '86', 'CDM', nan, nan, '33', 'Manchester City'],\n",
       " ['Milan Škriniar', 'Slovakia', '85', 'CB', nan, nan, '23', 'Inter'],\n",
       " ['Sergej Milinković-Savić', 'Serbia', '85', 'CM', 'CAM', nan, '23', 'Lazio'],\n",
       " ['Marco Asensio', 'Spain', '85', 'LW', 'CAM', 'RW', '22', 'Real Madrid'],\n",
       " ['Nabil Fekir', 'France', '85', 'CAM', 'ST', nan, '25', 'OL'],\n",
       " ['Alisson', 'Brazil', '85', 'GK', nan, nan, '25', 'Liverpool'],\n",
       " ['Joshua Kimmich', 'Germany', '85', 'RB', 'CM', 'CB', '23', 'FC Bayern'],\n",
       " ['Fabinho', 'Brazil', '85', 'CDM', nan, nan, '24', 'Liverpool'],\n",
       " ['Saúl', 'Spain', '85', 'CM', 'LM', 'RM', '23', 'Atlético Madrid'],\n",
       " ['Riyad Mahrez', 'Algeria', '85', 'RW', 'RM', nan, '27', 'Manchester City'],\n",
       " ['Virgil van Dijk', 'Netherlands', '85', 'CB', nan, nan, '27', 'Liverpool'],\n",
       " ['Raheem Sterling',\n",
       "  'England',\n",
       "  '85',\n",
       "  'RW',\n",
       "  'LW',\n",
       "  'CF',\n",
       "  '23',\n",
       "  'Manchester City'],\n",
       " ['David Alaba', 'Austria', '85', 'LB', 'CB', 'CM', '26', 'FC Bayern'],\n",
       " ['Koke', 'Spain', '85', 'LM', 'CM', 'RM', '26', 'Atlético Madrid'],\n",
       " ['Kostas Manolas', 'Greece', '85', 'CB', nan, nan, '27', 'Roma'],\n",
       " ['Iago Aspas', 'Spain', '85', 'RW', 'ST', nan, '31', 'RC Celta'],\n",
       " ['Marco Reus', 'Germany', '85', 'LM', 'CAM', 'ST', '29', 'Dortmund'],\n",
       " ['PaulinhoL', 'Brazil', '85', 'CM', 'CAM', 'CDM', '30', 'Guangzhou'],\n",
       " ['Yacine Brahimi', 'Algeria', '85', 'LM', nan, nan, '28', 'FC Porto'],\n",
       " ['Toby Alderweireld', 'Belgium', '85', 'CB', nan, nan, '29', 'Spurs'],\n",
       " ['Arturo Vidal', 'Chile', '85', 'CDM', 'CM', nan, '31', 'FC Barcelona'],\n",
       " ['Edin Džeko', 'Bosnia Herzegovina', '85', 'ST', nan, nan, '32', 'Roma'],\n",
       " ['Sami Khedira', 'Germany', '85', 'CM', 'CDM', nan, '31', 'Juventus'],\n",
       " ['Diego Costa', 'Spain', '85', 'ST', nan, nan, '29', 'Atlético Madrid'],\n",
       " ['Radja Nainggolan', 'Belgium', '85', 'CM', 'CAM', nan, '30', 'Inter'],\n",
       " ['Blaise Matuidi', 'France', '85', 'CDM', 'CM', nan, '31', 'Juventus'],\n",
       " ['Miranda', 'Brazil', '85', 'CB', nan, nan, '33', 'Inter'],\n",
       " ['Falcao', 'Colombia', '85', 'ST', nan, nan, '32', 'AS Monaco'],\n",
       " ['Filipe Luís', 'Brazil', '85', 'LB', nan, nan, '33', 'Atlético Madrid'],\n",
       " ['Franck Ribéry', 'France', '85', 'LM', 'LW', nan, '35', 'FC Bayern'],\n",
       " ['Vincent Kompany', 'Belgium', '85', 'CB', nan, nan, '32', 'Manchester City'],\n",
       " ['Pepe', 'Portugal', '85', 'CB', nan, nan, '35', 'Beşiktaş'],\n",
       " ['Zlatan Ibrahimović', 'Sweden', '85', 'ST', nan, nan, '36', 'LA Galaxy'],\n",
       " ['Arjen Robben', 'Netherlands', '85', 'RM', 'RW', nan, '34', 'FC Bayern'],\n",
       " ['Davinson Sánchez', 'Colombia', '84', 'CB', nan, nan, '22', 'Spurs'],\n",
       " ['Bernardo Silva',\n",
       "  'Portugal',\n",
       "  '84',\n",
       "  'RW',\n",
       "  'CAM',\n",
       "  nan,\n",
       "  '24',\n",
       "  'Manchester City'],\n",
       " ['José María Giménez',\n",
       "  'Uruguay',\n",
       "  '84',\n",
       "  'CB',\n",
       "  'RB',\n",
       "  nan,\n",
       "  '23',\n",
       "  'Atlético Madrid'],\n",
       " ['Alex Telles', 'Brazil', '84', 'LB', nan, nan, '25', 'FC Porto'],\n",
       " ['Niklas Süle', 'Germany', '84', 'CB', nan, nan, '22', 'FC Bayern'],\n",
       " ['Dele Alli', 'England', '84', 'CAM', nan, nan, '22', 'Spurs'],\n",
       " ['Marquinhos', 'Brazil', '84', 'CB', nan, nan, '24', 'Paris'],\n",
       " ['William Carvalho', 'Portugal', '84', 'CDM', 'CM', nan, '26', 'Real Betis'],\n",
       " ['Jorginho', 'Italy', '84', 'CM', nan, nan, '26', 'Chelsea'],\n",
       " ['Florian Thauvin', 'France', '84', 'RM', 'RW', nan, '25', 'OM'],\n",
       " ['Carvajal', 'Spain', '84', 'RB', nan, nan, '26', 'Real Madrid'],\n",
       " ['Heung Min Son', 'Korea Republic', '84', 'LM', 'ST', nan, '26', 'Spurs'],\n",
       " ['Sergi Roberto', 'Spain', '84', 'RB', 'RM', nan, '26', 'FC Barcelona'],\n",
       " ['Anthony Lopes', 'Portugal', '84', 'GK', nan, nan, '27', 'OL'],\n",
       " ['Rodrigo', 'Spain', '84', 'ST', 'RW', 'LW', '27', 'Valencia CF'],\n",
       " ['Stefan de Vrij', 'Netherlands', '84', 'CB', nan, nan, '26', 'Inter'],\n",
       " ['Mattia Perin', 'Italy', '84', 'GK', nan, nan, '25', 'Juventus'],\n",
       " ['Neto', 'Brazil', '84', 'GK', nan, nan, '29', 'Valencia CF'],\n",
       " ['Alexandre Lacazette', 'France', '84', 'ST', nan, nan, '27', 'Arsenal'],\n",
       " ['Juan Cuadrado', 'Colombia', '84', 'RM', 'RW', nan, '30', 'Juventus'],\n",
       " ['Henrikh Mkhitaryan', 'Armenia', '84', 'CAM', 'RW', 'RM', '29', 'Arsenal'],\n",
       " ['Bernd Leno', 'Germany', '84', 'GK', nan, nan, '26', 'Arsenal'],\n",
       " ['Lukáš Hrádecký', 'Finland', '84', 'GK', nan, nan, '28', 'Leverkusen'],\n",
       " ['Illarramendi', 'Spain', '84', 'CM', 'CDM', nan, '28', 'Real Sociedad'],\n",
       " ['Kyle Walker', 'England', '84', 'RB', 'RWB', 'CB', '28', 'Manchester City'],\n",
       " ['İlkay Gündoğan',\n",
       "  'Germany',\n",
       "  '84',\n",
       "  'CM',\n",
       "  'CDM',\n",
       "  nan,\n",
       "  '27',\n",
       "  'Manchester City'],\n",
       " ['Wojciech Szczęsny', 'Poland', '84', 'GK', nan, nan, '28', 'Juventus'],\n",
       " ['José Callejón', 'Spain', '84', 'RW', nan, nan, '31', 'Napoli'],\n",
       " ['Ángel Di María', 'Argentina', '84', 'RW', 'LW', nan, '30', 'Paris'],\n",
       " ['Mario Mandžukić', 'Croatia', '84', 'ST', 'LW', nan, '32', 'Juventus'],\n",
       " ['Willian', 'Brazil', '84', 'RW', 'RM', nan, '30', 'Chelsea'],\n",
       " ['Sergio Asenjo', 'Spain', '84', 'GK', nan, nan, '29', 'Villarreal CF'],\n",
       " ['Javi Martínez', 'Spain', '84', 'CDM', 'CB', nan, '29', 'FC Bayern'],\n",
       " ['Dimitri Payet', 'France', '84', 'CAM', 'LM', nan, '31', 'OM'],\n",
       " ['Jonas', 'Brazil', '84', 'ST', nan, nan, '34', 'SL Benfica'],\n",
       " ['Sokratis', 'Greece', '84', 'CB', nan, nan, '30', 'Arsenal'],\n",
       " ['Stéphane Ruffier', 'France', '84', 'GK', nan, nan, '31', 'ASSE'],\n",
       " ['Karim Benzema', 'France', '84', 'ST', nan, nan, '30', 'Real Madrid'],\n",
       " ['Kasper Schmeichel',\n",
       "  'Denmark',\n",
       "  '84',\n",
       "  'GK',\n",
       "  nan,\n",
       "  nan,\n",
       "  '31',\n",
       "  'Leicester City'],\n",
       " ['Cesc Fàbregas', 'Spain', '84', 'CM', 'CDM', nan, '31', 'Chelsea'],\n",
       " ['Moussa Dembélé', 'Belgium', '84', 'CM', 'CDM', nan, '31', 'Spurs'],\n",
       " ['Raúl Albiol', 'Spain', '84', 'CB', nan, nan, '32', 'Napoli'],\n",
       " ['Alejandro Gómez', 'Argentina', '84', 'CF', 'LW', 'ST', '30', 'Atalanta'],\n",
       " ['Andrea Barzagli', 'Italy', '84', 'CB', nan, nan, '37', 'Juventus'],\n",
       " ['Quaresma', 'Portugal', '84', 'RM', 'LM', nan, '34', 'Beşiktaş'],\n",
       " ['Gabriel Jesus', 'Brazil', '83', 'ST', nan, nan, '21', 'Manchester City'],\n",
       " ['Ronaldo Cabrais', 'Brazil', '83', 'RW', 'CAM', nan, '26', 'Grêmio'],\n",
       " ['Josué Chiamulera', 'Brazil', '83', 'CB', nan, nan, '26', 'Grêmio'],\n",
       " ['Louri Beretta', 'Brazil', '83', 'ST', 'CF', nan, '26', 'Atlético Mineiro'],\n",
       " ['Presnel Kimpembe', 'France', '83', 'CB', nan, nan, '23', 'Paris'],\n",
       " ['Malcom', 'Brazil', '83', 'RW', nan, nan, '21', 'FC Barcelona'],\n",
       " ['Naby Keïta', 'Guinea', '83', 'CM', 'CDM', 'CAM', '23', 'Liverpool'],\n",
       " ['Corentin Tolisso', 'France', '83', 'CM', 'CDM', nan, '24', 'FC Bayern'],\n",
       " ['Thomas Lemar', 'France', '83', 'LM', 'CAM', nan, '22', 'Atlético Madrid'],\n",
       " ['Kingsley Coman', 'France', '83', 'LM', 'RM', 'LW', '22', 'FC Bayern'],\n",
       " ['Jonathan Tah', 'Germany', '83', 'CB', nan, nan, '22', 'Leverkusen'],\n",
       " ['Aymeric Laporte', 'France', '83', 'CB', nan, nan, '24', 'Manchester City'],\n",
       " ['Bruno Fernandes', 'Portugal', '83', 'CAM', 'CF', 'CM', '23', 'Sporting CP'],\n",
       " ['Timo Werner', 'Germany', '83', 'ST', nan, nan, '22', 'RB Leipzig'],\n",
       " ['Anthony Martial', 'France', '83', 'LW', 'ST', 'LM', '22', 'Manchester Utd'],\n",
       " ['Samu Castillejo', 'Spain', '83', 'RM', 'LM', 'CM', '23', 'Milan'],\n",
       " ['Adrien Rabiot', 'France', '83', 'CM', 'CDM', nan, '23', 'Paris'],\n",
       " ['Leon Goretzka', 'Germany', '83', 'CM', 'CAM', 'CDM', '23', 'FC Bayern'],\n",
       " ['Quincy Promes',\n",
       "  'Netherlands',\n",
       "  '83',\n",
       "  'LM',\n",
       "  'ST',\n",
       "  'RM',\n",
       "  '26',\n",
       "  'Spartak Moscow'],\n",
       " ['Lucas Vázquez', 'Spain', '83', 'RW', 'RM', nan, '27', 'Real Madrid'],\n",
       " ['Yannick Carrasco', 'Belgium', '83', 'LM', nan, nan, '24', 'Dalian Yifang'],\n",
       " ['Gerard Moreno', 'Spain', '83', 'ST', nan, nan, '26', 'Villarreal CF'],\n",
       " ['Felipe', 'Brazil', '83', 'CB', nan, nan, '29', 'FC Porto'],\n",
       " ['Mateo KovačićL', 'Croatia', '83', 'CM', nan, nan, '24', 'Chelsea'],\n",
       " ['Kepa', 'Spain', '83', 'GK', nan, nan, '23', 'Chelsea'],\n",
       " ['Manu Trigueros', 'Spain', '83', 'CM', 'CDM', 'LM', '26', 'Villarreal CF'],\n",
       " ['Jordan Pickford', 'England', '83', 'GK', nan, nan, '24', 'Everton'],\n",
       " ['Stefan Savić', 'Montenegro', '83', 'CB', nan, nan, '27', 'Atlético Madrid'],\n",
       " ['Memphis Depay', 'Netherlands', '83', 'ST', 'LW', nan, '24', 'OL'],\n",
       " ['Julian Draxler', 'Germany', '83', 'CM', 'LW', 'LM', '24', 'Paris'],\n",
       " ['Morata', 'Spain', '83', 'ST', nan, nan, '25', 'Chelsea'],\n",
       " ['Danilo Pereira', 'Portugal', '83', 'CDM', 'CB', 'CM', '26', 'FC Porto'],\n",
       " ['Nacho Fernández', 'Spain', '83', 'CB', 'LB', 'RB', '28', 'Real Madrid'],\n",
       " ['Timo Horn', 'Germany', '83', 'GK', nan, nan, '25', 'Köln'],\n",
       " ['Pizzi', 'Portugal', '83', 'CM', nan, nan, '28', 'SL Benfica'],\n",
       " ['Willian José', 'Brazil', '83', 'ST', nan, nan, '26', 'Real Sociedad'],\n",
       " ['Oliver Baumann', 'Germany', '83', 'GK', nan, nan, '28', 'TSG Hoffenheim'],\n",
       " ['Danijel Subašić', 'Croatia', '83', 'GK', nan, nan, '33', 'AS Monaco'],\n",
       " ['Kamil Glik', 'Poland', '83', 'CB', nan, nan, '30', 'AS Monaco'],\n",
       " ['Kevin Strootman', 'Netherlands', '83', 'CM', 'CDM', nan, '28', 'Roma'],\n",
       " ['Shinji Kagawa', 'Japan', '83', 'CAM', 'CM', 'CF', '29', 'Dortmund'],\n",
       " ['Bas Dost', 'Netherlands', '83', 'ST', nan, nan, '29', 'Sporting CP'],\n",
       " ['Mario Balotelli', 'Italy', '83', 'ST', nan, nan, '28', 'OGC Nice'],\n",
       " ['Luiz Gustavo', 'Brazil', '83', 'CDM', 'CB', nan, '31', 'OM'],\n",
       " ['David Luiz', 'Brazil', '83', 'CB', nan, nan, '31', 'Chelsea'],\n",
       " ['Ralf Fährmann', 'Germany', '83', 'GK', nan, nan, '29', 'Schalke'],\n",
       " ['Éver Banega', 'Argentina', '83', 'CAM', 'CM', 'CDM', '30', 'Sevilla FC'],\n",
       " ['Juan Mata', 'Spain', '83', 'RM', 'RW', 'CAM', '30', 'Manchester Utd'],\n",
       " ['Adán', 'Spain', '83', 'GK', nan, nan, '31', 'Atlético Madrid'],\n",
       " ['Rui Patrício', 'Portugal', '83', 'GK', nan, nan, '30', 'Wolves'],\n",
       " ['Lucas Leiva', 'Brazil', '83', 'CDM', 'CB', nan, '31', 'Lazio'],\n",
       " ['Emiliano Viviano', 'Italy', '83', 'GK', nan, nan, '32', 'Sporting CP'],\n",
       " ['Steve Mandanda', 'France', '83', 'GK', nan, nan, '33', 'OM'],\n",
       " ['Aduriz', 'Spain', '83', 'ST', nan, nan, '37', 'Athletic Club'],\n",
       " ['Daniele De Rossi', 'Italy', '83', 'CDM', nan, nan, '35', 'Roma'],\n",
       " ['Pepe Reina', 'Spain', '83', 'GK', nan, nan, '35', 'Milan'],\n",
       " ['Jiří Pavlenka',\n",
       "  'Czech Republic',\n",
       "  '82',\n",
       "  'GK',\n",
       "  nan,\n",
       "  nan,\n",
       "  '26',\n",
       "  'Werder Bremen'],\n",
       " ['Rodri', 'Spain', '82', 'CM', 'CDM', nan, '22', 'Atlético Madrid'],\n",
       " ['Ousmane Dembélé', 'France', '82', 'RW', 'LW', 'CM', '21', 'FC Barcelona'],\n",
       " ['Arthur', 'Brazil', '82', 'CM', 'CDM', nan, '22', 'FC Barcelona'],\n",
       " ['Gianluigi Donnarumma', 'Italy', '82', 'GK', nan, nan, '19', 'Milan'],\n",
       " ['Rosberto Dourado',\n",
       "  'Brazil',\n",
       "  '82',\n",
       "  'CDM',\n",
       "  'CM',\n",
       "  nan,\n",
       "  '30',\n",
       "  'Atlético Mineiro'],\n",
       " ['Juiano Mestres', 'Brazil', '82', 'CB', 'CDM', nan, '34', 'Cruzeiro'],\n",
       " ['Raphaelito Anjos', 'Brazil', '82', 'GK', nan, nan, '30', 'Grêmio'],\n",
       " ['Leon Bailey', 'Jamaica', '82', 'LM', 'RM', nan, '21', 'Leverkusen'],\n",
       " ['Gelson Martins', 'Portugal', '82', 'RM', nan, nan, '23', 'Atlético Madrid'],\n",
       " ['Eric Bailly', 'Ivory Coast', '82', 'CB', nan, nan, '24', 'Manchester Utd'],\n",
       " ['Gonçalo Guedes', 'Portugal', '82', 'LW', 'RW', 'ST', '21', 'Paris'],\n",
       " ['Pau López', 'Spain', '82', 'GK', nan, nan, '23', 'Real Betis'],\n",
       " ['Lucas Hernández', 'France', '82', 'LB', 'CB', nan, '22', 'Atlético Madrid'],\n",
       " ['Clément Lenglet', 'France', '82', 'CB', nan, nan, '23', 'FC Barcelona'],\n",
       " ['Jean Michaël Seri', 'Ivory Coast', '82', 'CM', 'CDM', nan, '27', 'Fulham'],\n",
       " ['Andrej Kramarić',\n",
       "  'Croatia',\n",
       "  '82',\n",
       "  'ST',\n",
       "  'LW',\n",
       "  'RW',\n",
       "  '27',\n",
       "  'TSG Hoffenheim'],\n",
       " ['Dani García', 'Spain', '82', 'CDM', 'CM', nan, '28', 'Athletic Club'],\n",
       " ['Andreas Christensen', 'Denmark', '82', 'CB', nan, nan, '22', 'Chelsea'],\n",
       " ['Anderson TaliscaL', 'Brazil', '82', 'CAM', 'CF', 'CM', '24', 'Guangzhou'],\n",
       " ['Federico Bernardeschi', 'Italy', '82', 'RM', 'CF', nan, '24', 'Juventus'],\n",
       " ['Julian Brandt', 'Germany', '82', 'LM', 'RM', 'CAM', '22', 'Leverkusen'],\n",
       " ['Daniele Rugani', 'Italy', '82', 'CB', nan, nan, '24', 'Juventus'],\n",
       " ['Alessio Romagnoli', 'Italy', '82', 'CB', nan, nan, '23', 'Milan'],\n",
       " ['Thomas Partey', 'Ghana', '82', 'CDM', 'CM', 'RM', '25', 'Atlético Madrid'],\n",
       " ['Fred', 'Brazil', '82', 'CM', 'CDM', nan, '25', 'Manchester Utd'],\n",
       " ['Jamie Vardy', 'England', '82', 'ST', nan, nan, '31', 'Leicester City'],\n",
       " ['Hakim Ziyech', 'Morocco', '82', 'CAM', 'RW', nan, '25', 'Ajax'],\n",
       " ['Andrea Belotti', 'Italy', '82', 'ST', nan, nan, '24', 'Torino'],\n",
       " ['Emil Forsberg', 'Sweden', '82', 'CAM', 'LM', nan, '26', 'RB Leipzig'],\n",
       " ['Carlos Bacca', 'Colombia', '82', 'ST', nan, nan, '31', 'Villarreal CF'],\n",
       " ['Jesse Lingard', 'England', '82', 'CAM', 'RW', 'CM', '25', 'Manchester Utd'],\n",
       " ['Franco Vázquez', 'Italy', '82', 'CAM', 'CM', nan, '29', 'Sevilla FC'],\n",
       " ['Serge Gnabry', 'Germany', '82', 'LM', 'ST', 'CAM', '23', 'FC Bayern'],\n",
       " ['Edin Višća',\n",
       "  'Bosnia Herzegovina',\n",
       "  '82',\n",
       "  'RM',\n",
       "  nan,\n",
       "  nan,\n",
       "  '28',\n",
       "  'Başakşehir'],\n",
       " ['John Stones', 'England', '82', 'CB', nan, nan, '24', 'Manchester City'],\n",
       " ['Alessandro Florenzi', 'Italy', '82', 'RB', 'RW', 'CM', '27', 'Roma'],\n",
       " ['Harry Maguire', 'England', '82', 'CB', nan, nan, '25', 'Leicester City'],\n",
       " ['Simone ZazaL', 'Italy', '82', 'ST', nan, nan, '27', 'Torino'],\n",
       " ['Suso', 'Spain', '82', 'RW', 'CF', nan, '24', 'Milan'],\n",
       " ['Thomas Meunier', 'Belgium', '82', 'RB', 'RM', nan, '26', 'Paris'],\n",
       " ['Felipe Anderson', 'Brazil', '82', 'LM', 'CF', 'RM', '25', 'West Ham'],\n",
       " ['Geoffrey Kondogbia', 'France', '82', 'CM', 'CDM', nan, '25', 'Valencia CF'],\n",
       " ['Rafinha', 'Brazil', '82', 'CAM', 'CM', nan, '25', 'FC Barcelona'],\n",
       " ['Gabriel Paulista', 'Brazil', '82', 'CB', 'RB', nan, '27', 'Valencia CF'],\n",
       " ['Lucas', 'Brazil', '82', 'RM', 'LM', nan, '26', 'Spurs'],\n",
       " ['Allan', 'Brazil', '82', 'CM', nan, nan, '27', 'Napoli'],\n",
       " ['Francesco Acerbi', 'Italy', '82', 'CB', nan, nan, '30', 'Lazio'],\n",
       " ['Cédric Bakambu', 'DR Congo', '82', 'ST', nan, nan, '27', 'Beijing Guoan'],\n",
       " ['Wilfried Zaha',\n",
       "  'Ivory Coast',\n",
       "  '82',\n",
       "  'CF',\n",
       "  'LM',\n",
       "  'RM',\n",
       "  '25',\n",
       "  'Crystal Palace'],\n",
       " ['Luis Alberto', 'Spain', '82', 'CF', 'CAM', 'CM', '25', 'Lazio'],\n",
       " ['Jonathan Viera', 'Spain', '82', 'CAM', 'CM', nan, '28', 'Beijing Guoan'],\n",
       " ['Bartra', 'Spain', '82', 'CB', 'RB', nan, '27', 'Real Betis'],\n",
       " ['Sebastián Coates', 'Uruguay', '82', 'CB', nan, nan, '27', 'Sporting CP'],\n",
       " ['Kevin Kampl', 'Slovenia', '82', 'CM', 'CAM', 'CDM', '27', 'RB Leipzig'],\n",
       " ['Idrissa Gueye', 'Senegal', '82', 'CDM', 'CM', nan, '28', 'Everton'],\n",
       " ['Víctor Ruiz', 'Spain', '82', 'CB', nan, nan, '29', 'Villarreal CF'],\n",
       " ['Koen Casteels', 'Belgium', '82', 'GK', nan, nan, '26', 'VfL Wolfsburg'],\n",
       " ['Marcos Alonso', 'Spain', '82', 'LB', 'LWB', nan, '27', 'Chelsea'],\n",
       " ['Mario Götze', 'Germany', '82', 'CM', 'CAM', 'CF', '26', 'Dortmund'],\n",
       " ['Shkodran Mustafi', 'Germany', '82', 'CB', nan, nan, '26', 'Arsenal'],\n",
       " ['Ander Herrera', 'Spain', '82', 'CM', 'CDM', nan, '29', 'Manchester Utd'],\n",
       " ['Javier Pastore', 'Argentina', '82', 'CM', 'LW', 'RW', '29', 'Roma'],\n",
       " ['Pedro', 'Spain', '82', 'RW', 'LW', nan, '31', 'Chelsea'],\n",
       " ['Giacomo Bonaventura', 'Italy', '82', 'CM', 'LW', nan, '28', 'Milan'],\n",
       " ['Taison', 'Brazil', '82', 'LM', 'CAM', nan, '30', 'Shakhtar Donetsk'],\n",
       " ['Oscar', 'Brazil', '82', 'CAM', 'CM', nan, '26', 'Shanghai SIPG'],\n",
       " ['Steven Nzonzi', 'France', '82', 'CDM', 'CM', nan, '29', 'Roma'],\n",
       " ['Marlos', 'Ukraine', '82', 'RM', nan, nan, '30', 'Shakhtar Donetsk'],\n",
       " ['Aaron Ramsey', 'Wales', '82', 'CM', 'CDM', 'CAM', '27', 'Arsenal'],\n",
       " ['Kieran Trippier', 'England', '82', 'RB', 'RWB', nan, '27', 'Spurs'],\n",
       " ['Ömer Toprak', 'Turkey', '82', 'CB', nan, nan, '29', 'Dortmund'],\n",
       " ['Aleksandar Kolarov', 'Serbia', '82', 'LB', 'CB', nan, '32', 'Roma'],\n",
       " ['Gylfi Sigurðsson', 'Iceland', '82', 'CAM', 'LM', 'LW', '28', 'Everton'],\n",
       " ['Sebastian Giovinco', 'Italy', '82', 'CF', 'ST', nan, '31', 'Toronto FC'],\n",
       " ['Marko Arnautović', 'Austria', '82', 'ST', 'LM', nan, '29', 'West Ham'],\n",
       " ['Nicolás Gaitán', 'Argentina', '82', 'CAM', nan, nan, '30', 'Dalian Yifang'],\n",
       " ['Jordan Henderson', 'England', '82', 'CDM', 'CM', nan, '28', 'Liverpool'],\n",
       " ['Max Kruse', 'Germany', '82', 'CF', 'ST', 'CAM', '30', 'Werder Bremen'],\n",
       " ['Marco Parolo', 'Italy', '82', 'CDM', 'CM', nan, '33', 'Lazio'],\n",
       " ['Ljubomir Fejsa', 'Serbia', '82', 'CDM', nan, nan, '30', 'SL Benfica'],\n",
       " ['Adil Rami', 'France', '82', 'CB', nan, nan, '32', 'OM'],\n",
       " ['Vedran Ćorluka', 'Croatia', '82', 'CB', nan, nan, '32', 'Lokomotiv Moscow'],\n",
       " ['Georginio Wijnaldum',\n",
       "  'Netherlands',\n",
       "  '82',\n",
       "  'CM',\n",
       "  nan,\n",
       "  nan,\n",
       "  '27',\n",
       "  'Liverpool'],\n",
       " ['Federico Fazio', 'Argentina', '82', 'CB', nan, nan, '31', 'Roma'],\n",
       " ['Olivier Giroud', 'France', '82', 'ST', nan, nan, '31', 'Chelsea'],\n",
       " ['Yann Sommer', 'Switzerland', '82', 'GK', nan, nan, '29', \"M'gladbach\"],\n",
       " ['Lars Bender', 'Germany', '82', 'RB', 'CDM', 'CM', '29', 'Leverkusen'],\n",
       " ['Axel Witsel', 'Belgium', '82', 'CM', 'CDM', nan, '29', 'Dortmund'],\n",
       " ['Marcano', 'Spain', '82', 'CB', nan, nan, '31', 'Roma'],\n",
       " ['Daniel Wass', 'Denmark', '82', 'CM', 'RM', 'LM', '29', 'Valencia CF'],\n",
       " ['Andrés Guardado', 'Mexico', '82', 'CM', 'CDM', nan, '31', 'Real Betis'],\n",
       " ['Ezequiel Garay', 'Argentina', '82', 'CB', nan, nan, '31', 'Valencia CF'],\n",
       " ['Jardel', 'Brazil', '82', 'CB', nan, nan, '32', 'SL Benfica'],\n",
       " ['Salvatore Sirigu', 'Italy', '82', 'GK', nan, nan, '31', 'Torino'],\n",
       " ['Antonio Valencia', 'Ecuador', '82', 'RB', nan, nan, '33', 'Manchester Utd'],\n",
       " ['Laurent Koscielny', 'France', '82', 'CB', nan, nan, '32', 'Arsenal'],\n",
       " ['Andrea Consigli', 'Italy', '82', 'GK', nan, nan, '31', 'Sassuolo'],\n",
       " ['Lucas Biglia', 'Argentina', '82', 'CDM', 'CM', nan, '32', 'Milan'],\n",
       " ['Dani Alves', 'Brazil', '82', 'RB', nan, nan, '35', 'Paris'],\n",
       " ['David Villa', 'Spain', '82', 'ST', nan, nan, '36', 'New York City FC'],\n",
       " ['Rune Almenning Jarstein',\n",
       "  'Norway',\n",
       "  '82',\n",
       "  'GK',\n",
       "  nan,\n",
       "  nan,\n",
       "  '33',\n",
       "  'Hertha BSC'],\n",
       " ['Petr Čech', 'Czech Republic', '82', 'GK', nan, nan, '36', 'Arsenal'],\n",
       " ['Joaquín', 'Spain', '82', 'RM', 'LM', 'ST', '37', 'Real Betis'],\n",
       " ['Casillas', 'Spain', '82', 'GK', nan, nan, '37', 'FC Porto'],\n",
       " ['Marcus Rashford',\n",
       "  'England',\n",
       "  '81',\n",
       "  'LW',\n",
       "  'ST',\n",
       "  'RW',\n",
       "  '20',\n",
       "  'Manchester Utd'],\n",
       " ['Laure Santeiro', 'Brazil', '81', 'CAM', 'LW', nan, '30', 'Fluminense'],\n",
       " ['Pablo Fornals', 'Spain', '81', 'CAM', 'CM', 'LM', '22', 'Villarreal CF'],\n",
       " ['Fabián', 'Spain', '81', 'CM', 'CDM', 'CAM', '22', 'Napoli'],\n",
       " ['Morales', 'Spain', '81', 'LM', 'RM', 'ST', '31', 'Levante UD'],\n",
       " ['Andrew Robertson', 'Scotland', '81', 'LB', nan, nan, '24', 'Liverpool'],\n",
       " ['Williams', 'Spain', '81', 'ST', 'RW', nan, '24', 'Athletic Club'],\n",
       " ['Gerónimo Rulli', 'Argentina', '81', 'GK', nan, nan, '26', 'Real Sociedad'],\n",
       " ['João Mário', 'Portugal', '81', 'CAM', 'LW', 'CM', '25', 'Inter'],\n",
       " ['Elseid Hysaj', 'Albania', '81', 'RB', nan, nan, '24', 'Napoli'],\n",
       " ['João Cancelo', 'Portugal', '81', 'RB', nan, nan, '24', 'Juventus'],\n",
       " ['Ricardo Pereira',\n",
       "  'Portugal',\n",
       "  '81',\n",
       "  'RB',\n",
       "  'RM',\n",
       "  'LB',\n",
       "  '24',\n",
       "  'Leicester City'],\n",
       " ['Grimaldo', 'Spain', '81', 'LB', nan, nan, '22', 'SL Benfica'],\n",
       " ['Abdoulaye Doucouré', 'France', '81', 'CDM', 'CM', nan, '25', 'Watford'],\n",
       " ['Josef Martínez', 'Venezuela', '81', 'ST', nan, nan, '25', 'Atlanta United'],\n",
       " ['Ben Davies', 'Wales', '81', 'LB', 'LWB', nan, '25', 'Spurs'],\n",
       " ['Antonio Rüdiger', 'Germany', '81', 'CB', nan, nan, '25', 'Chelsea'],\n",
       " ['Matija Nastasić', 'Serbia', '81', 'CB', nan, nan, '25', 'Schalke'],\n",
       " ['Marcel Sabitzer', 'Austria', '81', 'CAM', 'ST', nan, '24', 'RB Leipzig'],\n",
       " ['Benjamin Mendy', 'France', '81', 'LB', 'LWB', nan, '24', 'Manchester City'],\n",
       " ['Michy BatshuayiL', 'Belgium', '81', 'ST', nan, nan, '24', 'Valencia CF'],\n",
       " ['Christoph Kramer', 'Germany', '81', 'CDM', 'CM', nan, '27', \"M'gladbach\"],\n",
       " ['Šime VrsaljkoL', 'Croatia', '81', 'RB', 'LB', nan, '26', 'Inter'],\n",
       " ['Thorgan Hazard', 'Belgium', '81', 'LM', 'RM', 'CF', '25', \"M'gladbach\"],\n",
       " ['Jack Butland', 'England', '81', 'GK', nan, nan, '25', 'Stoke City'],\n",
       " ['Deulofeu', 'Spain', '81', 'RM', 'LM', 'RW', '24', 'Watford'],\n",
       " ['Salif Sané', 'Senegal', '81', 'CB', 'CDM', nan, '27', 'Schalke'],\n",
       " ['Faouzi Ghoulam', 'Algeria', '81', 'LB', nan, nan, '27', 'Napoli'],\n",
       " ['Jeison MurilloL', 'Colombia', '81', 'CB', nan, nan, '26', 'Valencia CF'],\n",
       " ['Benjamin Lecomte', 'France', '81', 'GK', nan, nan, '27', 'Montpellier HSC'],\n",
       " ['Josip Iličić', 'Slovenia', '81', 'CF', 'CAM', nan, '30', 'Atalanta'],\n",
       " ['Kevin Volland', 'Germany', '81', 'ST', 'RW', 'LW', '26', 'Leverkusen'],\n",
       " ['Jasper Cillessen',\n",
       "  'Netherlands',\n",
       "  '81',\n",
       "  'GK',\n",
       "  nan,\n",
       "  nan,\n",
       "  '29',\n",
       "  'FC Barcelona'],\n",
       " ['Vitolo', 'Spain', '81', 'LM', 'RM', nan, '28', 'Atlético Madrid'],\n",
       " ['Granit Xhaka', 'Switzerland', '81', 'CM', 'CDM', nan, '25', 'Arsenal'],\n",
       " ['Wissam Ben Yedder', 'France', '81', 'ST', 'CAM', 'LM', '28', 'Sevilla FC'],\n",
       " ['Charles Aránguiz', 'Chile', '81', 'CM', 'CDM', nan, '29', 'Leverkusen'],\n",
       " ['Pablo Sarabia', 'Spain', '81', 'RM', 'LM', 'LB', '26', 'Sevilla FC'],\n",
       " ['Serge Aurier', 'Ivory Coast', '81', 'RB', nan, nan, '25', 'Spurs'],\n",
       " ['Joel Matip', 'Cameroon', '81', 'CB', nan, nan, '27', 'Liverpool'],\n",
       " ['Simone Verdi', 'Italy', '81', 'RW', 'CAM', nan, '26', 'Napoli'],\n",
       " ['Dejan Lovren', 'Croatia', '81', 'CB', nan, nan, '29', 'Liverpool'],\n",
       " ['Gary Medel', 'Chile', '81', 'CDM', 'CB', nan, '31', 'Beşiktaş'],\n",
       " ['Mário Fernandes', 'Russia', '81', 'RWB', 'RM', nan, '27', 'CSKA Moscow'],\n",
       " ['Xherdan Shaqiri',\n",
       "  'Switzerland',\n",
       "  '81',\n",
       "  'RW',\n",
       "  'RM',\n",
       "  'CAM',\n",
       "  '26',\n",
       "  'Liverpool'],\n",
       " ['Jesús Corona', 'Mexico', '81', 'RM', nan, nan, '25', 'FC Porto'],\n",
       " ['Alphonse Areola', 'France', '81', 'GK', nan, nan, '25', 'Paris'],\n",
       " ['Maicon', 'Brazil', '81', 'CB', nan, nan, '29', 'Galatasaray'],\n",
       " ['Eduardo Salvio', 'Argentina', '81', 'RW', nan, nan, '28', 'SL Benfica'],\n",
       " ['Stephan El Shaarawy', 'Italy', '81', 'LW', 'RW', nan, '25', 'Roma'],\n",
       " ['Chris Smalling', 'England', '81', 'CB', nan, nan, '28', 'Manchester Utd'],\n",
       " ['Guaita', 'Spain', '81', 'GK', nan, nan, '31', 'Crystal Palace'],\n",
       " ['Iborra', 'Spain', '81', 'CDM', 'CM', 'CAM', '30', 'Leicester City'],\n",
       " ['Hulk', 'Brazil', '81', 'RM', 'CAM', nan, '32', 'Shanghai SIPG'],\n",
       " ['Sebastian Rudy', 'Germany', '81', 'CM', 'CDM', 'RB', '28', 'FC Bayern'],\n",
       " ['Roman Bürki', 'Switzerland', '81', 'GK', nan, nan, '27', 'Dortmund'],\n",
       " ['Manuel Lanzini', 'Argentina', '81', 'CAM', 'CM', 'LM', '25', 'West Ham'],\n",
       " ['Fedor Smolov', 'Russia', '81', 'ST', nan, nan, '28', 'Lokomotiv Moscow'],\n",
       " ['Lars Stindl', 'Germany', '81', 'CF', nan, nan, '29', \"M'gladbach\"],\n",
       " ['Bruno', 'Spain', '81', 'CM', 'CDM', nan, '34', 'Villarreal CF'],\n",
       " ['Diego Perotti', 'Argentina', '81', 'LW', 'CF', nan, '30', 'Roma'],\n",
       " ['Fernando Muslera', 'Uruguay', '81', 'GK', nan, nan, '32', 'Galatasaray'],\n",
       " ['Anthony ModesteL',\n",
       "  'France',\n",
       "  '81',\n",
       "  'ST',\n",
       "  nan,\n",
       "  nan,\n",
       "  '30',\n",
       "  'Tianjin Quanjian'],\n",
       " ['Adam Lallana', 'England', '81', 'CM', nan, nan, '30', 'Liverpool'],\n",
       " ['Marcelo', 'Brazil', '81', 'CB', nan, nan, '31', 'OL'],\n",
       " ['Benedikt Höwedes',\n",
       "  'Germany',\n",
       "  '81',\n",
       "  'CB',\n",
       "  nan,\n",
       "  nan,\n",
       "  '30',\n",
       "  'Lokomotiv Moscow'],\n",
       " ['Sven Bender', 'Germany', '81', 'CB', 'CDM', nan, '29', 'Leverkusen'],\n",
       " ['Mathieu Valbuena', 'France', '81', 'LW', 'LM', 'CAM', '33', 'Fenerbahçe'],\n",
       " ['Kévin Gameiro', 'France', '81', 'ST', nan, nan, '31', 'Valencia CF'],\n",
       " ['Pedro León', 'Spain', '81', 'RM', 'LM', nan, '31', 'SD Eibar'],\n",
       " ['Kevin-Prince Boateng', 'Ghana', '81', 'CM', 'ST', 'CAM', '31', 'Sassuolo'],\n",
       " ['Łukasz Piszczek', 'Poland', '81', 'RB', 'CB', nan, '33', 'Dortmund'],\n",
       " ['Antonio Candreva', 'Italy', '81', 'RM', nan, nan, '31', 'Inter'],\n",
       " ['Domenico Criscito', 'Italy', '81', 'LB', 'CB', nan, '31', 'Genoa'],\n",
       " ['Raúl García', 'Spain', '81', 'CAM', nan, nan, '32', 'Athletic Club'],\n",
       " ['Carlos Vela', 'Mexico', '81', 'RW', 'LW', 'CAM', '29', 'LAFC'],\n",
       " ['Renato Augusto', 'Brazil', '81', 'CM', 'CAM', 'CDM', '30', 'Beijing Guoan'],\n",
       " ['Martin Škrtel', 'Slovakia', '81', 'CB', nan, nan, '33', 'Fenerbahçe'],\n",
       " ['Gary Cahill', 'England', '81', 'CB', nan, nan, '32', 'Chelsea'],\n",
       " ['João Moutinho', 'Portugal', '81', 'CM', 'CDM', 'CAM', '31', 'Wolves'],\n",
       " ['Borja Valero', 'Spain', '81', 'CAM', 'CDM', nan, '33', 'Inter'],\n",
       " ['Bafétimbi Gomis', 'France', '81', 'ST', nan, nan, '33', 'Galatasaray'],\n",
       " ['Manuel Fernandes',\n",
       "  'Portugal',\n",
       "  '81',\n",
       "  'LM',\n",
       "  'CAM',\n",
       "  nan,\n",
       "  '32',\n",
       "  'Lokomotiv Moscow'],\n",
       " ['Héctor Herrera', 'Mexico', '81', 'CM', nan, nan, '28', 'FC Porto'],\n",
       " ['Mario Gómez', 'Germany', '81', 'ST', nan, nan, '33', 'VfB Stuttgart'],\n",
       " ['Raffael', 'Brazil', '81', 'CF', 'ST', nan, '33', \"M'gladbach\"],\n",
       " ['James Milner', 'England', '81', 'CM', 'LB', nan, '32', 'Liverpool'],\n",
       " ['Jérémy Mathieu', 'France', '81', 'CB', 'LB', nan, '34', 'Sporting CP'],\n",
       " ['Maximiliano Gómez', 'Uruguay', '80', 'ST', nan, nan, '22', 'RC Celta'],\n",
       " ['Matthijs de Ligt', 'Netherlands', '80', 'CB', nan, nan, '19', 'Ajax'],\n",
       " ['Carlos Soler', 'Spain', '80', 'RM', 'CM', 'CAM', '21', 'Valencia CF'],\n",
       " ['Odriozola', 'Spain', '80', 'RB', nan, nan, '22', 'Real Madrid'],\n",
       " ['Miguel Almirón', 'Paraguay', '80', 'CAM', nan, nan, '24', 'Atlanta United'],\n",
       " ['Welington Dano', 'Brazil', '80', 'LB', 'LM', nan, '30', 'Cruzeiro'],\n",
       " ['Everton Andrão', 'Brazil', '80', 'CDM', 'CM', nan, '34', 'Fluminense'],\n",
       " ['Oyarzabal', 'Spain', '80', 'LW', 'RW', nan, '21', 'Real Sociedad'],\n",
       " ['Fabián Balbuena', 'Paraguay', '80', 'CB', nan, nan, '26', 'West Ham'],\n",
       " ['Nélson Semedo', 'Portugal', '80', 'RB', nan, nan, '24', 'FC Barcelona'],\n",
       " ['Moussa Marega', 'Mali', '80', 'ST', 'RM', nan, '27', 'FC Porto'],\n",
       " ['Benjamin Pavard', 'France', '80', 'CB', 'RB', 'CDM', '22', 'VfB Stuttgart'],\n",
       " ['Wilfred Ndidi', 'Nigeria', '80', 'CDM', 'CM', nan, '21', 'Leicester City'],\n",
       " ['Giovani Lo Celso', 'Argentina', '80', 'CM', 'CAM', 'CDM', '22', 'Paris'],\n",
       " ['Marcos Acuña', 'Argentina', '80', 'LM', 'LB', 'RM', '26', 'Sporting CP'],\n",
       " ['Cristian Pavón', 'Argentina', '80', 'RW', 'ST', 'RM', '22', 'Buenos Aires'],\n",
       " ['Karl Toko-Ekambi',\n",
       "  'Cameroon',\n",
       "  '80',\n",
       "  'ST',\n",
       "  'LW',\n",
       "  'LM',\n",
       "  '25',\n",
       "  'Villarreal CF'],\n",
       " ['Franco Cervi', 'Argentina', '80', 'LW', nan, nan, '24', 'SL Benfica'],\n",
       " ['Julian Weigl', 'Germany', '80', 'CDM', 'CM', nan, '22', 'Dortmund'],\n",
       " ['Hirving Lozano', 'Mexico', '80', 'RW', 'LW', nan, '23', 'PSV'],\n",
       " ['Mariano', 'Dominican Republic', '80', 'ST', nan, nan, '25', 'OL'],\n",
       " ['Raúl', 'Brazil', '80', 'CB', nan, nan, '28', 'SC Braga'],\n",
       " ['Mattia Caldara', 'Italy', '80', 'CB', nan, nan, '24', 'Milan'],\n",
       " ['Matias Vecino', 'Uruguay', '80', 'CDM', 'CM', nan, '26', 'Inter'],\n",
       " ['Tiémoué BakayokoL', 'France', '80', 'CDM', 'CM', nan, '24', 'Milan'],\n",
       " ['Matteo PolitanoL', 'Italy', '80', 'LW', 'ST', 'RW', '25', 'Inter'],\n",
       " ['Marcelo Brozović', 'Croatia', '80', 'CDM', 'CAM', 'CM', '25', 'Inter'],\n",
       " ['Keita BaldéL', 'Senegal', '80', 'RM', 'ST', 'LM', '23', 'Inter'],\n",
       " ['Ángel Correa', 'Argentina', '80', 'RM', 'ST', nan, '23', 'Atlético Madrid'],\n",
       " ['Rony Lopes', 'Portugal', '80', 'RM', 'LM', nan, '22', 'AS Monaco'],\n",
       " ['Santi Mina', 'Spain', '80', 'ST', 'LW', 'RW', '22', 'Valencia CF'],\n",
       " ['Thomas Strakosha', 'Albania', '80', 'GK', nan, nan, '23', 'Lazio'],\n",
       " ['Kerem Demirbay', 'Germany', '80', 'CAM', 'CM', nan, '25', 'TSG Hoffenheim'],\n",
       " ['André GomesL', 'Portugal', '80', 'CM', 'LM', 'RM', '25', 'Everton'],\n",
       " ['Morgan Sanson', 'France', '80', 'CM', 'CAM', 'CDM', '24', 'OM'],\n",
       " ['Piotr Zieliński', 'Poland', '80', 'CM', nan, nan, '24', 'Napoli'],\n",
       " ['Emre Can', 'Germany', '80', 'CM', 'CDM', nan, '24', 'Juventus'],\n",
       " ['Hakan Çalhanoğlu', 'Turkey', '80', 'LW', 'CAM', nan, '24', 'Milan'],\n",
       " ['Sead Kolašinac',\n",
       "  'Bosnia Herzegovina',\n",
       "  '80',\n",
       "  'LB',\n",
       "  'LWB',\n",
       "  'LM',\n",
       "  '25',\n",
       "  'Arsenal'],\n",
       " ['Matthias Ginter', 'Germany', '80', 'CB', 'CDM', nan, '24', \"M'gladbach\"],\n",
       " ['Leandro Paredes', 'Argentina', '80', 'CM', 'CDM', nan, '24', 'Free Agents'],\n",
       " ['Sergio RicoL', 'Spain', '80', 'GK', nan, nan, '24', 'Fulham'],\n",
       " ['Alassane Pléa', 'France', '80', 'ST', 'RW', nan, '25', \"M'gladbach\"],\n",
       " ['Taras Stepanenko',\n",
       "  'Ukraine',\n",
       "  '80',\n",
       "  'CDM',\n",
       "  nan,\n",
       "  nan,\n",
       "  '29',\n",
       "  'Shakhtar Donetsk'],\n",
       " ['Zouhair Feddal', 'Morocco', '80', 'CB', nan, nan, '28', 'Real Betis'],\n",
       " ['Bernard', 'Brazil', '80', 'LM', nan, nan, '25', 'Everton'],\n",
       " ['Arkadiusz Milik', 'Poland', '80', 'ST', nan, nan, '24', 'Napoli'],\n",
       " ['Takashi Inui', 'Japan', '80', 'LM', nan, nan, '30', 'Real Betis'],\n",
       " ['Portu', 'Spain', '80', 'RM', 'ST', nan, '26', 'Girona FC'],\n",
       " ['Eran Zahavi', 'Israel', '80', 'CAM', 'LM', 'RM', '31', 'Guangzhou R&F'],\n",
       " ['John Brooks', 'United States', '80', 'CB', nan, nan, '25', 'VfL Wolfsburg'],\n",
       " ['Nick Pope', 'England', '80', 'GK', nan, nan, '26', 'Burnley'],\n",
       " ['Héctor Bellerín', 'Spain', '80', 'RB', 'RWB', nan, '23', 'Arsenal'],\n",
       " ['Karim Bellarabi', 'Germany', '80', 'RM', nan, nan, '28', 'Leverkusen'],\n",
       " ['Jannik Vestergaard', 'Denmark', '80', 'CB', nan, nan, '26', 'Southampton'],\n",
       " ['James Tarkowski', 'England', '80', 'CB', nan, nan, '25', 'Burnley'],\n",
       " ['Eric Dier', 'England', '80', 'CDM', 'CB', nan, '24', 'Spurs'],\n",
       " ['Marcos Rojo', 'Argentina', '80', 'CB', nan, nan, '28', 'Manchester Utd'],\n",
       " ['Milan Badelj', 'Croatia', '80', 'CDM', 'CM', nan, '29', 'Lazio'],\n",
       " ['Djibril Sidibé', 'France', '80', 'RB', 'LB', nan, '26', 'AS Monaco'],\n",
       " ['Mark Uth', 'Germany', '80', 'ST', 'RW', 'RM', '26', 'Schalke'],\n",
       " ['Cristian Tello', 'Spain', '80', 'LM', 'RM', nan, '27', 'Real Betis'],\n",
       " ['Nolito', 'Spain', '80', 'LW', 'LM', 'ST', '31', 'Sevilla FC'],\n",
       " ['Dušan Tadić', 'Serbia', '80', 'CAM', 'RW', 'LW', '29', 'Ajax'],\n",
       " ['Domagoj Vida', 'Croatia', '80', 'CB', 'RB', nan, '29', 'Beşiktaş'],\n",
       " ['Luis Muriel', 'Colombia', '80', 'ST', nan, nan, '27', 'Sevilla FC'],\n",
       " ['Vincent Aboubakar', 'Cameroon', '80', 'ST', nan, nan, '26', 'FC Porto'],\n",
       " ['Alex Oxlade-Chamberlain',\n",
       "  'England',\n",
       "  '80',\n",
       "  'CM',\n",
       "  'RM',\n",
       "  nan,\n",
       "  '25',\n",
       "  'Liverpool'],\n",
       " ['Daniel Caligiuri', 'Italy', '80', 'RWB', 'RM', 'LM', '30', 'Schalke'],\n",
       " ['Yaroslav Rakitskyi',\n",
       "  'Ukraine',\n",
       "  '80',\n",
       "  'CB',\n",
       "  nan,\n",
       "  nan,\n",
       "  '29',\n",
       "  'Shakhtar Donetsk'],\n",
       " ['Phil Jones', 'England', '80', 'CB', nan, nan, '26', 'Manchester Utd'],\n",
       " ['Sergi Enrich', 'Spain', '80', 'ST', nan, nan, '28', 'SD Eibar'],\n",
       " ['Andriy Yarmolenko', 'Ukraine', '80', 'RM', 'RW', nan, '28', 'West Ham'],\n",
       " ['Hugo Mallo', 'Spain', '80', 'RB', nan, nan, '27', 'RC Celta'],\n",
       " ['Daniel Didavi', 'Germany', '80', 'CAM', 'CM', nan, '28', 'VfB Stuttgart'],\n",
       " ['Younès Belhanda', 'Morocco', '80', 'CAM', 'LW', nan, '28', 'Galatasaray'],\n",
       " ['Ricardo Rodríguez', 'Switzerland', '80', 'LB', 'CB', nan, '25', 'Milan'],\n",
       " ['Cenk Tosun', 'Turkey', '80', 'ST', nan, nan, '27', 'Everton'],\n",
       " ['Mario Gaspar', 'Spain', '80', 'RB', 'CB', nan, '27', 'Villarreal CF'],\n",
       " ['Kike García', 'Spain', '80', 'ST', nan, nan, '28', 'SD Eibar'],\n",
       " ['Kevin Vogt', 'Germany', '80', 'CB', nan, nan, '26', 'TSG Hoffenheim'],\n",
       " ['Jeroen Zoet', 'Netherlands', '80', 'GK', nan, nan, '27', 'PSV'],\n",
       " ['Adem Ljajić', 'Serbia', '80', 'CAM', 'LW', nan, '26', 'Torino'],\n",
       " ['Nathaniel Clyne', 'England', '80', 'RB', nan, nan, '27', 'Liverpool'],\n",
       " ['Iago Falqué', 'Spain', '80', 'RW', 'ST', nan, '28', 'Torino'],\n",
       " ['Ben Mee', 'England', '80', 'CB', nan, nan, '28', 'Burnley'],\n",
       " ['Muniain', 'Spain', '80', 'LW', 'CAM', 'RW', '25', 'Athletic Club'],\n",
       " ['Jack Wilshere', 'England', '80', 'CM', 'CAM', 'CDM', '26', 'West Ham'],\n",
       " ['Susaeta', 'Spain', '80', 'RW', 'LW', nan, '30', 'Athletic Club'],\n",
       " ['Kevin Trapp', 'Germany', '80', 'GK', nan, nan, '28', 'Paris'],\n",
       " ['Victor Wanyama', 'Kenya', '80', 'CDM', 'CM', nan, '27', 'Spurs'],\n",
       " ['Nicolas Nkoulou', 'Cameroon', '80', 'CB', nan, nan, '28', 'Torino'],\n",
       " ['Ryad Boudebouz', 'Algeria', '80', 'CAM', 'RM', 'ST', '28', 'Real Betis'],\n",
       " ['Camacho', 'Spain', '80', 'CDM', 'CM', 'CB', '28', 'VfL Wolfsburg'],\n",
       " ['Alan Dzagoev', 'Russia', '80', 'CM', 'CDM', 'CF', '28', 'CSKA Moscow'],\n",
       " ['Sven Ulreich', 'Germany', '80', 'GK', nan, nan, '30', 'FC Bayern'],\n",
       " ['Mateo Musacchio', 'Argentina', '80', 'CB', nan, nan, '27', 'Milan'],\n",
       " ['Cristhian Stuani', 'Uruguay', '80', 'ST', 'RM', nan, '31', 'Girona FC'],\n",
       " ['Fabian Delph', 'England', '80', 'LB', 'CM', nan, '28', 'Manchester City'],\n",
       " ['Mamadou Sakho', 'France', '80', 'CB', nan, nan, '28', 'Crystal Palace'],\n",
       " ['Stevan Jovetić', 'Montenegro', '80', 'ST', nan, nan, '28', 'AS Monaco'],\n",
       " ['Séamus Coleman',\n",
       "  'Republic of Ireland',\n",
       "  '80',\n",
       "  'RB',\n",
       "  'RWB',\n",
       "  nan,\n",
       "  '29',\n",
       "  'Everton'],\n",
       " ['Alexandre Pato',\n",
       "  'Brazil',\n",
       "  '80',\n",
       "  'ST',\n",
       "  'LW',\n",
       "  'CAM',\n",
       "  '28',\n",
       "  'Tianjin Quanjian'],\n",
       " ['Antunes', 'Portugal', '80', 'LB', nan, nan, '31', 'Getafe CF'],\n",
       " ['Fabricio', 'Spain', '80', 'GK', nan, nan, '30', 'Fulham'],\n",
       " ['Kiko Casilla', 'Spain', '80', 'GK', nan, nan, '31', 'Real Madrid'],\n",
       " ['Ángel', 'Spain', '80', 'ST', nan, nan, '31', 'Getafe CF'],\n",
       " ['Nacho Monreal', 'Spain', '80', 'LB', 'CB', nan, '32', 'Arsenal'],\n",
       " ['Beñat', 'Spain', '80', 'CM', nan, nan, '31', 'Athletic Club'],\n",
       " ['Augusto Fernández',\n",
       "  'Argentina',\n",
       "  '80',\n",
       "  'CM',\n",
       "  nan,\n",
       "  nan,\n",
       "  '32',\n",
       "  'Beijing Renhe'],\n",
       " ['Ignacio Piatti',\n",
       "  'Argentina',\n",
       "  '80',\n",
       "  'LW',\n",
       "  'CF',\n",
       "  'ST',\n",
       "  '33',\n",
       "  'Impact Montréal'],\n",
       " ['Valter Birsa', 'Slovenia', '80', 'CAM', 'RW', nan, '32', 'Chievo Verona'],\n",
       " ['Sergio Romero', 'Argentina', '80', 'GK', nan, nan, '31', 'Manchester Utd'],\n",
       " ['Diego Valeri',\n",
       "  'Argentina',\n",
       "  '80',\n",
       "  'CAM',\n",
       "  'CF',\n",
       "  nan,\n",
       "  '32',\n",
       "  'Portland Timbers'],\n",
       " ['Daniel Sturridge', 'England', '80', 'ST', nan, nan, '28', 'Liverpool'],\n",
       " ['Steven Defour', 'Belgium', '80', 'CM', nan, nan, '30', 'Burnley'],\n",
       " ['Erik Lamela', 'Argentina', '80', 'RM', 'LM', nan, '26', 'Spurs'],\n",
       " ['Danny Rose', 'England', '80', 'LB', 'LWB', nan, '28', 'Spurs'],\n",
       " ['Ştefan Radu', 'Romania', '80', 'CB', 'LB', nan, '31', 'Lazio'],\n",
       " ['Łukasz Fabiański', 'Poland', '80', 'GK', nan, nan, '33', 'West Ham'],\n",
       " ['Lassana Diarra', 'France', '80', 'CDM', 'CB', nan, '33', 'Paris'],\n",
       " ['Tom Heaton', 'England', '80', 'GK', nan, nan, '32', 'Burnley'],\n",
       " ['Fabio Quagliarella', 'Italy', '80', 'ST', nan, nan, '35', 'Sampdoria'],\n",
       " ['Loïc Perrin', 'France', '80', 'CB', nan, nan, '33', 'ASSE'],\n",
       " ['Dante', 'Brazil', '80', 'CB', nan, nan, '34', 'OGC Nice'],\n",
       " ['Andreas Granqvist', 'Sweden', '80', 'CB', nan, nan, '33', 'Free Agents'],\n",
       " ['André-Pierre Gignac', 'France', '80', 'ST', nan, nan, '32', 'Tigres'],\n",
       " ['Ashley Young', 'England', '80', 'LB', 'LWB', 'RB', '33', 'Manchester Utd'],\n",
       " ['Igor Akinfeev', 'Russia', '80', 'GK', nan, nan, '32', 'CSKA Moscow'],\n",
       " ['Igor Denisov', 'Russia', '80', 'CDM', nan, nan, '34', 'Lokomotiv Moscow'],\n",
       " ['Juanfran', 'Spain', '80', 'RB', nan, nan, '33', 'Atlético Madrid'],\n",
       " ['Diego López', 'Spain', '80', 'GK', nan, nan, '36', 'RCD Espanyol'],\n",
       " ['Santi Cazorla', 'Spain', '80', 'CM', 'CDM', 'LM', '33', 'Villarreal CF'],\n",
       " ['Javier Mascherano',\n",
       "  'Argentina',\n",
       "  '80',\n",
       "  'CDM',\n",
       "  'CB',\n",
       "  nan,\n",
       "  '34',\n",
       "  'Hebei CFFC'],\n",
       " ['Antonio Mirante', 'Italy', '80', 'GK', nan, nan, '35', 'Roma'],\n",
       " ['Nani', 'Portugal', '80', 'LM', 'RM', 'CAM', '31', 'Sporting CP'],\n",
       " ['Bastian Schweinsteiger',\n",
       "  'Germany',\n",
       "  '80',\n",
       "  'CM',\n",
       "  'CDM',\n",
       "  'CB',\n",
       "  '34',\n",
       "  'Chicago Fire'],\n",
       " ['Moyá', 'Spain', '80', 'GK', nan, nan, '34', 'Real Sociedad'],\n",
       " ['Stephan Lichtsteiner',\n",
       "  'Switzerland',\n",
       "  '80',\n",
       "  'RB',\n",
       "  'RM',\n",
       "  nan,\n",
       "  '34',\n",
       "  'Arsenal'],\n",
       " ['Wayne Rooney', 'England', '80', 'ST', 'CAM', nan, '32', 'D.C. United'],\n",
       " ['Fernando Torres', 'Spain', '80', 'ST', nan, nan, '34', 'Sagan Tosu'],\n",
       " ['Stefano Sorrentino', 'Italy', '80', 'GK', nan, nan, '39', 'Chievo Verona'],\n",
       " ['Viktor Tsygankov', 'Ukraine', '79', 'RM', 'LM', nan, '20', 'Dynamo Kyiv'],\n",
       " ['David Neres', 'Brazil', '79', 'RW', 'LW', nan, '21', 'Ajax'],\n",
       " ['Kai Havertz', 'Germany', '79', 'CAM', 'RM', 'CF', '19', 'Leverkusen'],\n",
       " ['Raphinha', 'Brazil', '79', 'RM', 'LM', nan, '21', 'Sporting CP'],\n",
       " ['Lautaro Martínez', 'Argentina', '79', 'ST', nan, nan, '20', 'Inter'],\n",
       " ['Luimo Boas Santos', 'Brazil', '79', 'ST', nan, nan, '30', 'Santos'],\n",
       " ['Gabri Prestão', 'Brazil', '79', 'GK', nan, nan, '26', 'Internacional'],\n",
       " ['Melvin Parrela', 'Brazil', '79', 'CDM', 'CM', nan, '30', 'América'],\n",
       " ['Antônio Chiamuloira',\n",
       "  'Brazil',\n",
       "  '79',\n",
       "  'CB',\n",
       "  'LB',\n",
       "  nan,\n",
       "  '30',\n",
       "  'Internacional'],\n",
       " ['Maikel Catarino',\n",
       "  'Brazil',\n",
       "  '79',\n",
       "  'RB',\n",
       "  'LM',\n",
       "  nan,\n",
       "  '34',\n",
       "  'Atlético Mineiro'],\n",
       " ['Andrey Lunev', 'Russia', '79', 'GK', nan, nan, '26', 'Free Agents'],\n",
       " ['Christian Pulisic',\n",
       "  'United States',\n",
       "  '79',\n",
       "  'RM',\n",
       "  'LM',\n",
       "  'RW',\n",
       "  '19',\n",
       "  'Dortmund'],\n",
       " ['Soares', 'Brazil', '79', 'ST', nan, nan, '27', 'FC Porto'],\n",
       " ['Marko Dmitrović', 'Serbia', '79', 'GK', nan, nan, '26', 'SD Eibar'],\n",
       " ['Lucas Tousart', 'France', '79', 'CDM', 'CM', nan, '21', 'OL'],\n",
       " ['Marcos Llorente', 'Spain', '79', 'CDM', nan, nan, '23', 'Real Madrid'],\n",
       " ['Benjamin Verbič', 'Slovenia', '79', 'LM', 'RM', nan, '24', 'Dynamo Kyiv'],\n",
       " ['Alexandr Golovin', 'Russia', '79', 'CM', 'CDM', 'LM', '22', 'AS Monaco'],\n",
       " ['Martín Campaña', 'Uruguay', '79', 'GK', nan, nan, '29', 'Independiente'],\n",
       " ['Rúben Neves', 'Portugal', '79', 'CM', 'CDM', nan, '21', 'Wolves'],\n",
       " ['Granell', 'Spain', '79', 'CM', nan, nan, '30', 'Girona FC'],\n",
       " ['Victor Lindelöf', 'Sweden', '79', 'CB', nan, nan, '24', 'Manchester Utd'],\n",
       " ['Ante Rebić', 'Croatia', '79', 'ST', 'LW', 'LM', '24', 'Frankfurt'],\n",
       " ['Antonio Sanabria', 'Paraguay', '79', 'ST', nan, nan, '22', 'Real Betis'],\n",
       " ['Rodrigo Battaglia',\n",
       "  'Argentina',\n",
       "  '79',\n",
       "  'CM',\n",
       "  'CDM',\n",
       "  nan,\n",
       "  '27',\n",
       "  'Sporting CP'],\n",
       " ['Mahmoud Dahoud', 'Germany', '79', 'CM', 'CDM', nan, '22', 'Dortmund'],\n",
       " ['Rafa', 'Portugal', '79', 'RW', nan, nan, '25', 'SL Benfica'],\n",
       " ['Maximilian Philipp', 'Germany', '79', 'ST', 'LM', 'RM', '24', 'Dortmund'],\n",
       " ['Youri Tielemans', 'Belgium', '79', 'CM', 'CDM', nan, '21', 'AS Monaco'],\n",
       " ['Davide Zappacosta', 'Italy', '79', 'RB', 'RWB', nan, '26', 'Chelsea'],\n",
       " ['Jemerson', 'Brazil', '79', 'CB', nan, nan, '25', 'AS Monaco'],\n",
       " ['Lucas Alario', 'Argentina', '79', 'ST', nan, nan, '25', 'Leverkusen'],\n",
       " ['Darío Benedetto', 'Argentina', '79', 'ST', nan, nan, '28', 'Buenos Aires'],\n",
       " ['Iván Marcone', 'Argentina', '79', 'CDM', nan, nan, '28', 'Cruz Azul'],\n",
       " ['Jean-Philippe Gbamin',\n",
       "  'Ivory Coast',\n",
       "  '79',\n",
       "  'CDM',\n",
       "  'CB',\n",
       "  'CM',\n",
       "  '22',\n",
       "  '1. FSV Mainz 05'],\n",
       " ['Franco Armani', 'Argentina', '79', 'GK', nan, nan, '31', 'River Plate'],\n",
       " ['Jefferson Lerma', 'Colombia', '79', 'CDM', 'CM', nan, '23', 'Bournemouth'],\n",
       " ['Ricardo Horta', 'Portugal', '79', 'LM', nan, nan, '23', 'SC Braga'],\n",
       " ['Nabil Bentaleb', 'Algeria', '79', 'CM', 'CDM', nan, '23', 'Schalke'],\n",
       " ['Roman Zobnin', 'Russia', '79', 'CDM', 'CM', 'LM', '24', 'Spartak Moscow'],\n",
       " ['Max Meyer', 'Germany', '79', 'CM', 'CAM', 'CDM', '22', 'Crystal Palace'],\n",
       " ['Gayà', 'Spain', '79', 'LB', 'LM', nan, '23', 'Valencia CF'],\n",
       " ['Bruma', 'Portugal', '79', 'CAM', 'LM', nan, '23', 'RB Leipzig'],\n",
       " ['Ricardo Centurión',\n",
       "  'Argentina',\n",
       "  '79',\n",
       "  'LM',\n",
       "  'CAM',\n",
       "  'LW',\n",
       "  '25',\n",
       "  'Racing Club'],\n",
       " ['Nicolás Tagliafico', 'Argentina', '79', 'LB', 'CB', nan, '25', 'Ajax'],\n",
       " ['JonnyL', 'Spain', '79', 'LWB', 'LB', nan, '24', 'Wolves'],\n",
       " ['Pacheco', 'Spain', '79', 'GK', nan, nan, '26', 'D. Alavés'],\n",
       " ['Nathan Aké', 'Netherlands', '79', 'CB', nan, nan, '23', 'Bournemouth'],\n",
       " ['Omar Mascarell', 'Spain', '79', 'CDM', 'CM', nan, '25', 'Schalke'],\n",
       " ['Jonas Hector', 'Germany', '79', 'LB', 'CDM', nan, '28', 'Köln'],\n",
       " ['Bertrand Traoré', 'Burkina Faso', '79', 'RW', 'ST', nan, '22', 'OL'],\n",
       " ['Guido Pizarro', 'Argentina', '79', 'CDM', nan, nan, '28', 'Tigres'],\n",
       " ['Michael Keane', 'England', '79', 'CB', nan, nan, '25', 'Everton'],\n",
       " ['Luka Milivojević',\n",
       "  'Serbia',\n",
       "  '79',\n",
       "  'CDM',\n",
       "  'CM',\n",
       "  nan,\n",
       "  '27',\n",
       "  'Crystal Palace'],\n",
       " ['Leo Baptistao', 'Brazil', '79', 'ST', 'RM', 'LM', '25', 'RCD Espanyol'],\n",
       " ['Daniele Baselli', 'Italy', '79', 'CM', nan, nan, '26', 'Torino'],\n",
       " ['Karim Rekik', 'Netherlands', '79', 'CB', nan, nan, '23', 'Hertha BSC'],\n",
       " ['Denis Suárez', 'Spain', '79', 'CM', 'LW', 'RW', '24', 'FC Barcelona'],\n",
       " ['Willi Orban', 'Germany', '79', 'CB', nan, nan, '25', 'RB Leipzig'],\n",
       " ['Iñigo Martínez', 'Spain', '79', 'CB', nan, nan, '27', 'Athletic Club'],\n",
       " ['Roque Mesa', 'Spain', '79', 'CDM', 'CM', nan, '29', 'Sevilla FC'],\n",
       " ['Loris Karius', 'Germany', '79', 'GK', nan, nan, '25', 'Liverpool'],\n",
       " ['Zé Luís', 'Cape Verde', '79', 'ST', nan, nan, '27', 'Spartak Moscow'],\n",
       " ['Pavel Kadeřábek',\n",
       "  'Czech Republic',\n",
       "  '79',\n",
       "  'RWB',\n",
       "  'RB',\n",
       "  'RM',\n",
       "  '26',\n",
       "  'TSG Hoffenheim'],\n",
       " ['Davy Klaassen',\n",
       "  'Netherlands',\n",
       "  '79',\n",
       "  'CM',\n",
       "  'CAM',\n",
       "  nan,\n",
       "  '25',\n",
       "  'Werder Bremen'],\n",
       " ['Mohamed Elyounoussi',\n",
       "  'Norway',\n",
       "  '79',\n",
       "  'LM',\n",
       "  'CAM',\n",
       "  'RM',\n",
       "  '24',\n",
       "  'Southampton'],\n",
       " ['Leonardo Bittencourt',\n",
       "  'Germany',\n",
       "  '79',\n",
       "  'LM',\n",
       "  'RM',\n",
       "  'CM',\n",
       "  '24',\n",
       "  'TSG Hoffenheim'],\n",
       " ['Álvaro', 'Spain', '79', 'CB', nan, nan, '28', 'Villarreal CF'],\n",
       " ['Sergi Darder', 'Spain', '79', 'CM', 'CDM', 'RM', '24', 'RCD Espanyol'],\n",
       " ['Diego Demme', 'Germany', '79', 'CDM', 'CM', nan, '26', 'RB Leipzig'],\n",
       " ['Jeffrey Gouweleeuw',\n",
       "  'Netherlands',\n",
       "  '79',\n",
       "  'CB',\n",
       "  nan,\n",
       "  nan,\n",
       "  '27',\n",
       "  'FC Augsburg'],\n",
       " ['Layvin Kurzawa', 'France', '79', 'LB', 'LWB', nan, '25', 'Paris'],\n",
       " ['Gastón Ramírez', 'Uruguay', '79', 'CAM', nan, nan, '27', 'Sampdoria'],\n",
       " ['David López', 'Spain', '79', 'CB', nan, nan, '28', 'RCD Espanyol'],\n",
       " ['Aïssa Mandi', 'Algeria', '79', 'CB', nan, nan, '26', 'Real Betis'],\n",
       " ['Ismaily', 'Brazil', '79', 'LB', nan, nan, '28', 'Shakhtar Donetsk'],\n",
       " ['Yevhen Konoplyanka', 'Ukraine', '79', 'LW', 'LM', 'ST', '28', 'Schalke'],\n",
       " ['Paco Alcácer', 'Spain', '79', 'ST', nan, nan, '24', 'FC Barcelona'],\n",
       " ['Steven Berghuis', 'Netherlands', '79', 'RW', 'LW', nan, '26', 'Feyenoord'],\n",
       " ['Campaña', 'Spain', '79', 'CM', 'CDM', 'CAM', '25', 'Levante UD'],\n",
       " ['Marco van Ginkel', 'Netherlands', '79', 'CM', nan, nan, '25', 'Chelsea'],\n",
       " ['John Guidetti', 'Sweden', '79', 'ST', nan, nan, '26', 'D. Alavés'],\n",
       " ['Michael Gregoritsch',\n",
       "  'Austria',\n",
       "  '79',\n",
       "  'CAM',\n",
       "  'ST',\n",
       "  nan,\n",
       "  '24',\n",
       "  'FC Augsburg'],\n",
       " ['Ibai Gómez', 'Spain', '79', 'RM', 'LM', nan, '28', 'D. Alavés'],\n",
       " ['Lucas Pérez', 'Spain', '79', 'ST', 'RM', nan, '29', 'West Ham'],\n",
       " ['Danilo', 'Brazil', '79', 'RB', 'LB', nan, '27', 'Manchester City'],\n",
       " ['Ross Barkley', 'England', '79', 'CAM', 'CM', nan, '24', 'Chelsea'],\n",
       " ['Sergio León', 'Spain', '79', 'ST', 'RM', nan, '29', 'Real Betis'],\n",
       " ['Josuha Guilavogui',\n",
       "  'France',\n",
       "  '79',\n",
       "  'CDM',\n",
       "  'CM',\n",
       "  nan,\n",
       "  '27',\n",
       "  'VfL Wolfsburg'],\n",
       " ['Sérgio Oliveira', 'Portugal', '79', 'CM', 'CDM', nan, '26', 'FC Porto'],\n",
       " ['Tom Cairney', 'Scotland', '79', 'CM', nan, nan, '27', 'Fulham'],\n",
       " ['Aaron Mooy', 'Australia', '79', 'CM', 'CDM', 'CAM', '27', 'Huddersfield'],\n",
       " ['Borja García', 'Spain', '79', 'LM', 'CM', nan, '27', 'Girona FC'],\n",
       " ['André Almeida', 'Portugal', '79', 'RB', nan, nan, '27', 'SL Benfica'],\n",
       " ['Germán Pezzella', 'Argentina', '79', 'CB', nan, nan, '27', 'Fiorentina'],\n",
       " ['Guido Burgstaller', 'Austria', '79', 'ST', 'LW', nan, '29', 'Schalke'],\n",
       " ['Thomas Delaney', 'Denmark', '79', 'CM', 'CDM', nan, '26', 'Dortmund'],\n",
       " ['Jaume Costa', 'Spain', '79', 'LB', 'LWB', nan, '30', 'Villarreal CF'],\n",
       " ['Roberto Pereyra', 'Argentina', '79', 'LM', 'CAM', 'CM', '27', 'Watford'],\n",
       " ['Escudero', 'Spain', '79', 'LB', 'LM', 'LWB', '28', 'Sevilla FC'],\n",
       " ['Holger Badstuber',\n",
       "  'Germany',\n",
       "  '79',\n",
       "  'CB',\n",
       "  'CDM',\n",
       "  nan,\n",
       "  '29',\n",
       "  'VfB Stuttgart'],\n",
       " ['Yunus Mallı', 'Turkey', '79', 'LM', 'CAM', 'CF', '26', 'VfL Wolfsburg'],\n",
       " ['Fabián Orellana', 'Chile', '79', 'CAM', 'RM', 'LM', '32', 'SD Eibar'],\n",
       " ['Ricardo Goulart', 'Brazil', '79', 'CF', 'CAM', 'ST', '27', 'Guangzhou'],\n",
       " ['Jóhann Berg Guðmundsson',\n",
       "  'Iceland',\n",
       "  '79',\n",
       "  'RM',\n",
       "  'LM',\n",
       "  nan,\n",
       "  '27',\n",
       "  'Burnley'],\n",
       " ['Juraj Kucka', 'Slovakia', '79', 'CM', 'CDM', nan, '31', 'Trabzonspor'],\n",
       " ['Daley Blind', 'Netherlands', '79', 'CB', 'LB', 'CDM', '28', 'Ajax'],\n",
       " ['Canales', 'Spain', '79', 'CAM', 'CM', 'RM', '27', 'Real Betis'],\n",
       " ['Marwin Hitz', 'Switzerland', '79', 'GK', nan, nan, '30', 'Dortmund'],\n",
       " ['De Marcos', 'Spain', '79', 'RB', 'RW', 'RWB', '29', 'Athletic Club'],\n",
       " ['Rafael', 'Brazil', '79', 'RB', nan, nan, '28', 'OL'],\n",
       " ['Benjamin Hübner', 'Germany', '79', 'CB', nan, nan, '29', 'TSG Hoffenheim'],\n",
       " ['Souza', 'Brazil', '79', 'CDM', 'CM', nan, '29', 'Fenerbahçe'],\n",
       " ['Francis Coquelin', 'France', '79', 'CDM', 'CM', 'CB', '27', 'Valencia CF'],\n",
       " ['Alex Teixeira', 'Brazil', '79', 'ST', 'CAM', nan, '28', 'Jiangsu Suning'],\n",
       " ['Christian Noboa', 'Ecuador', '79', 'CM', 'CDM', nan, '33', 'Free Agents'],\n",
       " ['Igor Smolnikov', 'Russia', '79', 'RB', nan, nan, '30', 'Free Agents'],\n",
       " [\"Yann M'Vila\", 'France', '79', 'CDM', 'CM', nan, '28', 'ASSE'],\n",
       " ['Kwadwo Asamoah', 'Ghana', '79', 'LB', 'LM', 'CM', '29', 'Inter'],\n",
       " ['Ron-Robert Zieler', 'Germany', '79', 'GK', nan, nan, '29', 'VfB Stuttgart'],\n",
       " ['Danny Drinkwater', 'England', '79', 'CM', nan, nan, '28', 'Chelsea'],\n",
       " ['Nikola Kalinić', 'Croatia', '79', 'ST', nan, nan, '30', 'Atlético Madrid'],\n",
       " ['Péter Gulácsi', 'Hungary', '79', 'GK', nan, nan, '28', 'RB Leipzig'],\n",
       " ['Mariano', 'Brazil', '79', 'RB', nan, nan, '32', 'Galatasaray'],\n",
       " ['Sofiane Feghouli', 'Algeria', '79', 'RM', 'RW', 'CAM', '28', 'Galatasaray'],\n",
       " ['Adrien Silva', 'Portugal', '79', 'CM', nan, nan, '29', 'Leicester City'],\n",
       " ['Fernando', 'Brazil', '79', 'CDM', 'CM', nan, '31', 'Galatasaray'],\n",
       " ['Ibrahima Traoré', 'Guinea', '79', 'RM', nan, nan, '30', \"M'gladbach\"],\n",
       " ['Pablo Piatti', 'Argentina', '79', 'LM', nan, nan, '29', 'RCD Espanyol'],\n",
       " ['Gabriel Mercado', 'Argentina', '79', 'CB', 'RB', nan, '31', 'Sevilla FC'],\n",
       " ['Nils Petersen', 'Germany', '79', 'ST', nan, nan, '29', 'SC Freiburg'],\n",
       " ['Orestis Karnezis', 'Greece', '79', 'GK', nan, nan, '33', 'Napoli'],\n",
       " ['Sidnei', 'Brazil', '79', 'CB', nan, nan, '28', 'Real Betis'],\n",
       " ['Simon Kjær', 'Denmark', '79', 'CB', nan, nan, '29', 'Sevilla FC'],\n",
       " ['Ruud Vormer', 'Netherlands', '79', 'CM', 'RM', nan, '30', 'Club Brugge'],\n",
       " ['Eder', 'Italy', '79', 'ST', nan, nan, '31', 'Jiangsu Suning'],\n",
       " ['Javier Hernández', 'Mexico', '79', 'ST', nan, nan, '30', 'West Ham'],\n",
       " ['Morgan Schneiderlin', 'France', '79', 'CDM', 'CM', nan, '28', 'Everton'],\n",
       " ['Marouane Fellaini',\n",
       "  'Belgium',\n",
       "  '79',\n",
       "  'CM',\n",
       "  'CDM',\n",
       "  nan,\n",
       "  '30',\n",
       "  'Manchester Utd'],\n",
       " ['Pontus Wernbloom', 'Sweden', '79', 'CDM', nan, nan, '32', 'PAOK'],\n",
       " ['Claudio Bravo', 'Chile', '79', 'GK', nan, nan, '35', 'Manchester City'],\n",
       " ['Simon Mignolet', 'Belgium', '79', 'GK', nan, nan, '30', 'Liverpool'],\n",
       " ['Asmir Begović',\n",
       "  'Bosnia Herzegovina',\n",
       "  '79',\n",
       "  'GK',\n",
       "  nan,\n",
       "  nan,\n",
       "  '31',\n",
       "  'Bournemouth'],\n",
       " ['Fábio Coentrão', 'Portugal', '79', 'LB', nan, nan, '30', 'Real Madrid'],\n",
       " ['Nuri Şahin', 'Turkey', '79', 'CDM', 'CM', nan, '29', 'Dortmund'],\n",
       " ['Jack Cork', 'England', '79', 'CM', 'CDM', nan, '29', 'Burnley'],\n",
       " ['Ryan Bertrand', 'England', '79', 'LB', 'LWB', nan, '29', 'Southampton'],\n",
       " ['Andrea Masiello', 'Italy', '79', 'CB', nan, nan, '32', 'Atalanta'],\n",
       " ['Theo Walcott', 'England', '79', 'RM', 'RW', 'LM', '29', 'Everton'],\n",
       " ['Charles', 'Brazil', '79', 'ST', nan, nan, '34', 'SD Eibar'],\n",
       " ['Leighton Baines', 'England', '79', 'LB', 'LWB', nan, '33', 'Everton'],\n",
       " ['David Abraham', 'Argentina', '79', 'CB', nan, nan, '32', 'Frankfurt'],\n",
       " ['Ezequiel Lavezzi',\n",
       "  'Argentina',\n",
       "  '79',\n",
       "  'ST',\n",
       "  'CAM',\n",
       "  'LW',\n",
       "  '33',\n",
       "  'Hebei CFFC'],\n",
       " ['Salomon Kalou', 'Ivory Coast', '79', 'LM', 'ST', nan, '33', 'Hertha BSC'],\n",
       " ['Jefferson Farfán', 'Peru', '79', 'RM', 'ST', nan, '33', 'Lokomotiv Moscow'],\n",
       " ['Ryan Babel', 'Netherlands', '79', 'LM', 'ST', nan, '31', 'Beşiktaş'],\n",
       " ['Daniel Baier', 'Germany', '79', 'CDM', nan, nan, '34', 'FC Augsburg'],\n",
       " ['Burak Yılmaz', 'Turkey', '79', 'ST', nan, nan, '33', 'Trabzonspor'],\n",
       " ['René Adler', 'Germany', '79', 'GK', nan, nan, '33', '1. FSV Mainz 05'],\n",
       " ['Emmanuel Adebayor', 'Togo', '79', 'ST', nan, nan, '34', 'Başakşehir'],\n",
       " ['Emre Belözoğlu', 'Turkey', '79', 'CM', 'CDM', nan, '37', 'Başakşehir'],\n",
       " ['Loren', 'Spain', '78', 'ST', 'RM', nan, '24', 'Real Betis'],\n",
       " ['Rúben Dias', 'Portugal', '78', 'CB', nan, nan, '21', 'SL Benfica'],\n",
       " ['Enis Bardhi', 'FYR Macedonia', '78', 'CM', 'CAM', 'LM', '23', 'Levante UD'],\n",
       " ['Tanguy Ndombele', 'France', '78', 'CM', 'CDM', nan, '21', 'OL'],\n",
       " ['Houssem Aouar', 'France', '78', 'CM', 'LW', 'CAM', '20', 'OL'],\n",
       " ['Santiago Ascacíbar',\n",
       "  'Argentina',\n",
       "  '78',\n",
       "  'CDM',\n",
       "  nan,\n",
       "  nan,\n",
       "  '21',\n",
       "  'VfB Stuttgart'],\n",
       " ['Amine Harit', 'Morocco', '78', 'RW', 'CM', 'LW', '21', 'Schalke'],\n",
       " ['Trent Alexander-Arnold',\n",
       "  'England',\n",
       "  '78',\n",
       "  'RB',\n",
       "  nan,\n",
       "  nan,\n",
       "  '19',\n",
       "  'Liverpool'],\n",
       " ['Filip Krovinović', 'Croatia', '78', 'CAM', 'CM', nan, '22', 'SL Benfica'],\n",
       " ['Franck Yannick KessiéL',\n",
       "  'Ivory Coast',\n",
       "  '78',\n",
       "  'CM',\n",
       "  nan,\n",
       "  nan,\n",
       "  '21',\n",
       "  'Milan'],\n",
       " ['Sidney Pessinho', 'Brazil', '78', 'CDM', 'CM', nan, '26', 'Internacional'],\n",
       " ['Everticinho', 'Brazil', '78', 'RB', 'RW', 'CM', '30', 'Grêmio'],\n",
       " ['Claudio Coíntra', 'Brazil', '78', 'CAM', 'CF', nan, '34', 'Internacional'],\n",
       " ['Ronaldo Esler', 'Brazil', '78', 'LB', 'LM', nan, '30', 'Atlético Mineiro'],\n",
       " ['João Novais', 'Portugal', '78', 'CAM', 'RM', 'LM', '25', 'SC Braga'],\n",
       " ['Manuel Akanji', 'Switzerland', '78', 'CB', nan, nan, '23', 'Dortmund'],\n",
       " ['Lorenzo Pellegrini', 'Italy', '78', 'CM', nan, nan, '22', 'Roma'],\n",
       " ['Daniel Podence',\n",
       "  'Portugal',\n",
       "  '78',\n",
       "  'LM',\n",
       "  'RM',\n",
       "  'CAM',\n",
       "  '22',\n",
       "  'Olympiacos CFP'],\n",
       " ['André Onana', 'Cameroon', '78', 'GK', nan, nan, '22', 'Ajax'],\n",
       " ['Marcos Díaz', 'Argentina', '78', 'GK', nan, nan, '32', 'Huracán'],\n",
       " ['Gonzalo Martínez',\n",
       "  'Argentina',\n",
       "  '78',\n",
       "  'CAM',\n",
       "  'LM',\n",
       "  'RM',\n",
       "  '25',\n",
       "  'River Plate'],\n",
       " ['Abdou Diallo', 'France', '78', 'CB', 'LB', nan, '22', 'Dortmund'],\n",
       " ['Nadiem Amiri', 'Germany', '78', 'CAM', 'CM', nan, '21', 'TSG Hoffenheim'],\n",
       " ['Vallejo', 'Spain', '78', 'CB', nan, nan, '21', 'Real Madrid'],\n",
       " ['Diogo Jota', 'Portugal', '78', 'LW', 'ST', nan, '21', 'Wolves'],\n",
       " ['Adam Marušić', 'Montenegro', '78', 'RM', 'RB', 'LB', '25', 'Lazio'],\n",
       " ['Lucas Torreira', 'Uruguay', '78', 'CM', 'CDM', nan, '22', 'Arsenal'],\n",
       " ['David Soria', 'Spain', '78', 'GK', nan, nan, '25', 'Getafe CF'],\n",
       " ['Valentin Rongier', 'France', '78', 'CAM', 'CDM', 'CM', '23', 'FC Nantes'],\n",
       " ['Omar Al Soma', 'Syria', '78', 'ST', nan, nan, '29', 'Al Ahli'],\n",
       " ['Enes Ünal', 'Turkey', '78', 'ST', nan, nan, '21', 'Villarreal CF'],\n",
       " ['Marvelous Nakamba',\n",
       "  'Zimbabwe',\n",
       "  '78',\n",
       "  'CDM',\n",
       "  'CM',\n",
       "  nan,\n",
       "  '24',\n",
       "  'Club Brugge'],\n",
       " ['Petros', 'Brazil', '78', 'CM', 'CDM', nan, '29', 'Al Nassr'],\n",
       " ['Dani Ceballos', 'Spain', '78', 'CM', 'LM', 'CDM', '22', 'Real Madrid'],\n",
       " ['Pablo Maffeo', 'Spain', '78', 'RWB', 'RM', nan, '21', 'VfB Stuttgart'],\n",
       " ['Germán Conti', 'Argentina', '78', 'CB', nan, nan, '24', 'SL Benfica'],\n",
       " ['Andrija Živković', 'Serbia', '78', 'LW', 'CM', nan, '22', 'SL Benfica'],\n",
       " ['Yerry Mina', 'Colombia', '78', 'CB', nan, nan, '23', 'Everton'],\n",
       " ['Diego Carlos', 'Brazil', '78', 'CB', nan, nan, '25', 'FC Nantes'],\n",
       " ['Gonzalo Escalante', 'Argentina', '78', 'CDM', 'CM', nan, '25', 'SD Eibar'],\n",
       " ['Islam SlimaniL', 'Algeria', '78', 'ST', nan, nan, '30', 'Fenerbahçe'],\n",
       " ['Giovanni Simeone', 'Argentina', '78', 'ST', nan, nan, '23', 'Fiorentina'],\n",
       " ['Maximiliano Meza',\n",
       "  'Argentina',\n",
       "  '78',\n",
       "  'CAM',\n",
       "  'LM',\n",
       "  'RM',\n",
       "  '25',\n",
       "  'Independiente'],\n",
       " ['Bastos', 'Angola', '78', 'CB', nan, nan, '26', 'Lazio'],\n",
       " ['Paulinho', 'Portugal', '78', 'ST', nan, nan, '25', 'SC Braga'],\n",
       " ['Wendell', 'Brazil', '78', 'LB', nan, nan, '25', 'Leverkusen'],\n",
       " ['Stanislav Lobotka', 'Slovakia', '78', 'CM', 'CDM', nan, '23', 'RC Celta'],\n",
       " ['Allan Saint-Maximin', 'France', '78', 'RW', 'LW', 'LM', '21', 'OGC Nice'],\n",
       " ['Kenny Tete', 'Netherlands', '78', 'RB', nan, nan, '22', 'OL'],\n",
       " ['Capa', 'Spain', '78', 'RB', nan, nan, '26', 'Athletic Club'],\n",
       " ['Marco SportielloL', 'Italy', '78', 'GK', nan, nan, '26', 'Frosinone'],\n",
       " ['Alireza Jahanbakhsh', 'Iran', '78', 'RM', nan, nan, '25', 'Brighton'],\n",
       " ['Nikola Maksimović', 'Serbia', '78', 'CB', nan, nan, '26', 'Napoli'],\n",
       " ['Duván ZapataL', 'Colombia', '78', 'ST', nan, nan, '27', 'Atalanta'],\n",
       " ['Emiliano Rigoni', 'Argentina', '78', 'RM', 'LM', 'RW', '25', 'Atalanta'],\n",
       " ['Carlos Izquierdoz',\n",
       "  'Argentina',\n",
       "  '78',\n",
       "  'CB',\n",
       "  nan,\n",
       "  nan,\n",
       "  '29',\n",
       "  'Buenos Aires'],\n",
       " ['Wilmar Barrios', 'Colombia', '78', 'CDM', 'CM', nan, '24', 'Buenos Aires'],\n",
       " ['Johan Mojica', 'Colombia', '78', 'LWB', 'LM', 'LB', '26', 'Girona FC'],\n",
       " ['Alexandr Selikhov', 'Russia', '78', 'GK', nan, nan, '24', 'Spartak Moscow'],\n",
       " ['Facundo Ferreyra', 'Argentina', '78', 'ST', nan, nan, '27', 'SL Benfica'],\n",
       " ['Diego Laxalt', 'Uruguay', '78', 'LM', nan, nan, '25', 'Milan'],\n",
       " ['Mohamed Elneny', 'Egypt', '78', 'CDM', 'CM', nan, '26', 'Arsenal'],\n",
       " ['Niklas Stark', 'Germany', '78', 'CB', 'CDM', nan, '23', 'Hertha BSC'],\n",
       " ['Wylan Cyprien', 'France', '78', 'CM', 'CDM', nan, '23', 'OGC Nice'],\n",
       " ['Mario Lemina', 'Gabon', '78', 'CM', 'CDM', nan, '24', 'Southampton'],\n",
       " ['Leander DendonckerL', 'Belgium', '78', 'CB', 'CDM', 'CM', '23', 'Wolves'],\n",
       " ['Ricardo Esgaio', 'Portugal', '78', 'RM', 'RB', nan, '25', 'SC Braga'],\n",
       " ['Pione Sisto', 'Denmark', '78', 'LW', 'LM', nan, '23', 'RC Celta'],\n",
       " ['Philipp Max', 'Germany', '78', 'LB', 'LWB', nan, '24', 'FC Augsburg'],\n",
       " ['Roberto Gagliardini', 'Italy', '78', 'CDM', 'CM', nan, '24', 'Inter'],\n",
       " ['Pere Pons', 'Spain', '78', 'CM', nan, nan, '25', 'Girona FC'],\n",
       " ['Domenico Berardi', 'Italy', '78', 'RW', 'ST', nan, '24', 'Sassuolo'],\n",
       " ['Paulo Oliveira', 'Portugal', '78', 'CB', nan, nan, '27', 'SD Eibar'],\n",
       " ['Marcel Halstenberg', 'Germany', '78', 'LB', nan, nan, '26', 'RB Leipzig'],\n",
       " ['Juan Fernando QuinteroL',\n",
       "  'Colombia',\n",
       "  '78',\n",
       "  'CAM',\n",
       "  nan,\n",
       "  nan,\n",
       "  '25',\n",
       "  'River Plate'],\n",
       " ['Otávio', 'Brazil', '78', 'RM', 'CAM', 'LM', '23', 'FC Porto'],\n",
       " ['Alexander Szymanowski',\n",
       "  'Argentina',\n",
       "  '78',\n",
       "  'LM',\n",
       "  'CM',\n",
       "  'LW',\n",
       "  '29',\n",
       "  'CD Leganés'],\n",
       " ['Jonas Hofmann', 'Germany', '78', 'RM', 'LM', 'CM', '26', \"M'gladbach\"],\n",
       " ['Garry Rodrigues',\n",
       "  'Cape Verde',\n",
       "  '78',\n",
       "  'LM',\n",
       "  'RM',\n",
       "  'LW',\n",
       "  '27',\n",
       "  'Galatasaray'],\n",
       " ['Raphaël Guerreiro', 'Portugal', '78', 'LB', 'LM', 'CM', '24', 'Dortmund'],\n",
       " ['Tiago Volpi', 'Brazil', '78', 'GK', nan, nan, '27', 'Querétaro'],\n",
       " ['Óliver Torres', 'Spain', '78', 'CM', nan, nan, '23', 'FC Porto'],\n",
       " ['Hiroki Sakai', 'Japan', '78', 'RB', nan, nan, '28', 'OM'],\n",
       " ['Andreas Pereira', 'Brazil', '78', 'RM', 'LM', 'CM', '22', 'Manchester Utd'],\n",
       " ['Adnan Januzaj', 'Belgium', '78', 'RW', 'RM', 'LW', '23', 'Real Sociedad'],\n",
       " ['Bryan CristanteL', 'Italy', '78', 'CM', 'CAM', nan, '23', 'Roma'],\n",
       " ['Matheus', 'Brazil', '78', 'GK', nan, nan, '26', 'SC Braga'],\n",
       " ['Mitchell Weiser', 'Germany', '78', 'RB', 'RM', nan, '24', 'Leverkusen'],\n",
       " ['Maximilian Arnold',\n",
       "  'Germany',\n",
       "  '78',\n",
       "  'CM',\n",
       "  'CDM',\n",
       "  'CAM',\n",
       "  '24',\n",
       "  'VfL Wolfsburg'],\n",
       " ['Denys Garmash', 'Ukraine', '78', 'CM', 'CAM', 'LM', '28', 'Dynamo Kyiv'],\n",
       " ['Mattia De Sciglio', 'Italy', '78', 'RB', 'LB', nan, '25', 'Juventus'],\n",
       " ['Luke Shaw', 'England', '78', 'LB', nan, nan, '23', 'Manchester Utd'],\n",
       " ['Vlad Chiricheş', 'Romania', '78', 'CB', nan, nan, '28', 'Napoli'],\n",
       " ['Leonardo Pavoletti', 'Italy', '78', 'ST', nan, nan, '29', 'Cagliari'],\n",
       " ['Sébastien Haller', 'France', '78', 'ST', nan, nan, '24', 'Frankfurt'],\n",
       " ['Lucas Castro', 'Argentina', '78', 'CM', 'RM', nan, '29', 'Cagliari'],\n",
       " ['Niclas Füllkrug', 'Germany', '78', 'ST', nan, nan, '25', 'Hannover 96'],\n",
       " ['Marcelo', 'Brazil', '78', 'CB', nan, nan, '29', 'Sporting CP'],\n",
       " ['Fayçal Fajr', 'Morocco', '78', 'CM', 'CDM', 'RM', '30', 'SM Caen'],\n",
       " ['Raúl JiménezL', 'Mexico', '78', 'ST', nan, nan, '27', 'Wolves'],\n",
       " ['Mário Rui', 'Portugal', '78', 'LB', nan, nan, '27', 'Napoli'],\n",
       " ['Santiago García', 'Uruguay', '78', 'ST', nan, nan, '27', 'Godoy Cruz'],\n",
       " ['Kurt ZoumaL', 'France', '78', 'CB', nan, nan, '23', 'Everton'],\n",
       " ['Santiago Arias', 'Colombia', '78', 'RB', nan, nan, '26', 'Atlético Madrid'],\n",
       " ['Baptiste Reynet', 'France', '78', 'GK', nan, nan, '27', 'Toulouse FC'],\n",
       " ['Tomáš Vaclík', 'Czech Republic', '78', 'GK', nan, nan, '29', 'Sevilla FC'],\n",
       " ['Adrien Trebel', 'France', '78', 'CM', 'CDM', nan, '27', 'RSC Anderlecht'],\n",
       " ['Jamaal Lascelles', 'England', '78', 'CB', nan, nan, '24', 'Newcastle Utd'],\n",
       " ['André CarrilloL', 'Peru', '78', 'RM', 'RW', nan, '27', 'Al Hilal'],\n",
       " ['Valère Germain', 'France', '78', 'ST', nan, nan, '28', 'OM'],\n",
       " ['Fernando', 'Brazil', '78', 'CDM', 'CM', nan, '26', 'Spartak Moscow'],\n",
       " ['Jérôme Roussillon',\n",
       "  'France',\n",
       "  '78',\n",
       "  'LB',\n",
       "  'LWB',\n",
       "  'LM',\n",
       "  '25',\n",
       "  'VfL Wolfsburg'],\n",
       " ['Cristiano Piccini', 'Italy', '78', 'RB', nan, nan, '25', 'Valencia CF'],\n",
       " ['Jordan Veretout', 'France', '78', 'CM', 'CDM', nan, '25', 'Fiorentina'],\n",
       " ['Ciprian Tătăruşanu', 'Romania', '78', 'GK', nan, nan, '32', 'FC Nantes'],\n",
       " ['Vladimír Darida',\n",
       "  'Czech Republic',\n",
       "  '78',\n",
       "  'CM',\n",
       "  'CAM',\n",
       "  'CDM',\n",
       "  '28',\n",
       "  'Hertha BSC'],\n",
       " ['Riccardo SaponaraL', 'Italy', '78', 'CAM', nan, nan, '26', 'Sampdoria'],\n",
       " ['Juan Jesus', 'Brazil', '78', 'CB', 'LB', nan, '27', 'Roma'],\n",
       " ['Christopher Schindler',\n",
       "  'Germany',\n",
       "  '78',\n",
       "  'CB',\n",
       "  nan,\n",
       "  nan,\n",
       "  '28',\n",
       "  'Huddersfield'],\n",
       " ['Nico Schulz', 'Germany', '78', 'LWB', 'LM', 'LB', '25', 'TSG Hoffenheim'],\n",
       " ['Nacer Chadli', 'Belgium', '78', 'LM', 'RM', 'CAM', '29', 'West Brom'],\n",
       " ['Lucas Digne', 'France', '78', 'LB', nan, nan, '25', 'Everton'],\n",
       " ['Tomáš Koubek',\n",
       "  'Czech Republic',\n",
       "  '78',\n",
       "  'GK',\n",
       "  nan,\n",
       "  nan,\n",
       "  '25',\n",
       "  'Stade Rennais'],\n",
       " ['Hans Vanaken', 'Belgium', '78', 'CAM', nan, nan, '25', 'Club Brugge'],\n",
       " ['Arbilla', 'Spain', '78', 'CB', 'RB', 'LB', '31', 'SD Eibar'],\n",
       " ['Pablo Hernández', 'Chile', '78', 'CM', 'CAM', 'CDM', '31', 'Independiente'],\n",
       " ['Matthew Lowton', 'England', '78', 'RB', nan, nan, '29', 'Burnley'],\n",
       " ['Oriol Romeu', 'Spain', '78', 'CDM', 'CM', nan, '26', 'Southampton'],\n",
       " ['Mathew Ryan', 'Australia', '78', 'GK', nan, nan, '26', 'Brighton'],\n",
       " ['Bibras Natcho', 'Israel', '78', 'CM', 'CDM', nan, '30', 'Olympiacos CFP'],\n",
       " ['Kara Mbodji', 'Senegal', '78', 'CB', nan, nan, '28', 'RSC Anderlecht'],\n",
       " ['Cláudio Ramos', 'Portugal', '78', 'GK', nan, nan, '26', 'CD Tondela'],\n",
       " ['Benjamin Stambouli', 'France', '78', 'CB', 'CDM', nan, '28', 'Schalke'],\n",
       " ['Florian Lejeune', 'France', '78', 'CB', nan, nan, '27', 'Newcastle Utd'],\n",
       " ['Grzegorz Krychowiak',\n",
       "  'Poland',\n",
       "  '78',\n",
       "  'CDM',\n",
       "  'CM',\n",
       "  nan,\n",
       "  '28',\n",
       "  'Lokomotiv Moscow'],\n",
       " ['Callum Wilson', 'England', '78', 'ST', nan, nan, '26', 'Bournemouth'],\n",
       " ['Oğuzhan Özyakup', 'Turkey', '78', 'CM', 'CDM', 'CAM', '25', 'Beşiktaş'],\n",
       " ['Enzo Pérez', 'Argentina', '78', 'CM', 'CDM', nan, '32', 'River Plate'],\n",
       " ['Giovanni Moreno',\n",
       "  'Colombia',\n",
       "  '78',\n",
       "  'CAM',\n",
       "  'CM',\n",
       "  'ST',\n",
       "  '32',\n",
       "  'Shanghai Shenhua'],\n",
       " ['Alfreð Finnbogason', 'Iceland', '78', 'ST', nan, nan, '29', 'FC Augsburg'],\n",
       " ['Andros Townsend',\n",
       "  'England',\n",
       "  '78',\n",
       "  'RM',\n",
       "  'LM',\n",
       "  'ST',\n",
       "  '27',\n",
       "  'Crystal Palace'],\n",
       " ['Adrián', 'Spain', '78', 'GK', nan, nan, '31', 'West Ham'],\n",
       " ['Wahbi Khazri', 'Tunisia', '78', 'CF', 'ST', 'LM', '27', 'ASSE'],\n",
       " ['Rémy Cabella', 'France', '78', 'CAM', 'LW', nan, '28', 'ASSE'],\n",
       " ['Roberto SorianoL', 'Italy', '78', 'LM', 'CM', 'CAM', '27', 'Torino'],\n",
       " ['Herrerín', 'Spain', '78', 'GK', nan, nan, '30', 'Athletic Club'],\n",
       " ['André SchürrleL', 'Germany', '78', 'LM', 'ST', nan, '27', 'Fulham'],\n",
       " ['Elkeson', 'Brazil', '78', 'ST', 'CAM', nan, '29', 'Shanghai SIPG'],\n",
       " ['Marvin Plattenhardt', 'Germany', '78', 'LB', nan, nan, '26', 'Hertha BSC'],\n",
       " ['Chris Wood', 'New Zealand', '78', 'ST', nan, nan, '26', 'Burnley'],\n",
       " ['Pascal Groß', 'Germany', '78', 'CAM', 'CM', nan, '27', 'Brighton'],\n",
       " ['Michail Antonio', 'England', '78', 'ST', 'RM', nan, '28', 'West Ham'],\n",
       " ['Christian Kabasele', 'Belgium', '78', 'CB', nan, nan, '27', 'Watford'],\n",
       " ['Luuk de Jong', 'Netherlands', '78', 'ST', nan, nan, '27', 'PSV'],\n",
       " ['Julian Baumgartlinger',\n",
       "  'Austria',\n",
       "  '78',\n",
       "  'CDM',\n",
       "  nan,\n",
       "  nan,\n",
       "  '30',\n",
       "  'Leverkusen'],\n",
       " ['Iturraspe', 'Spain', '78', 'CM', 'CDM', nan, '29', 'Athletic Club'],\n",
       " ['Etrit Berisha', 'Albania', '78', 'GK', nan, nan, '29', 'Atalanta'],\n",
       " ['Jonjo Shelvey', 'England', '78', 'CM', 'CDM', nan, '26', 'Newcastle Utd'],\n",
       " ['Daniel Carriço', 'Portugal', '78', 'CB', 'CDM', nan, '30', 'Sevilla FC'],\n",
       " ['Miguel Lopes', 'Portugal', '78', 'RB', nan, nan, '31', 'Akhisarspor'],\n",
       " ['Volkan Babacan', 'Turkey', '78', 'GK', nan, nan, '30', 'Başakşehir'],\n",
       " ['Senad Lulić', 'Bosnia Herzegovina', '78', 'LM', 'LB', 'CM', '32', 'Lazio'],\n",
       " ['James McCarthy',\n",
       "  'Republic of Ireland',\n",
       "  '78',\n",
       "  'CDM',\n",
       "  'CM',\n",
       "  nan,\n",
       "  '27',\n",
       "  'Everton'],\n",
       " ['Jefferson', 'Brazil', '78', 'LB', nan, nan, '30', 'Sporting CP'],\n",
       " ['Clément Grenier', 'France', '78', 'CAM', 'CM', nan, '27', 'Stade Rennais'],\n",
       " ['Artem Dzyuba', 'Russia', '78', 'ST', nan, nan, '29', 'Free Agents'],\n",
       " ['Rafael Tolói', 'Brazil', '78', 'CB', nan, nan, '27', 'Atalanta'],\n",
       " ['Keisuke Honda', 'Japan', '78', 'RM', 'CAM', nan, '32', 'Melb. Victory'],\n",
       " ['Marco Fabián', 'Mexico', '78', 'CAM', 'RM', 'LM', '29', 'Frankfurt'],\n",
       " ['Elías Hernández', 'Mexico', '78', 'RM', nan, nan, '30', 'Cruz Azul'],\n",
       " ['Joshua King', 'Norway', '78', 'CF', 'ST', 'CAM', '26', 'Bournemouth'],\n",
       " ['Romain Alessandrini', 'France', '78', 'RM', 'LM', 'RW', '29', 'LA Galaxy'],\n",
       " ['Kyriakos Papadopoulos', 'Greece', '78', 'CB', nan, nan, '26', 'Hamburg'],\n",
       " ['Lucas Pratto', 'Argentina', '78', 'ST', nan, nan, '30', 'River Plate'],\n",
       " ['Christian Benteke',\n",
       "  'Belgium',\n",
       "  '78',\n",
       "  'ST',\n",
       "  nan,\n",
       "  nan,\n",
       "  '27',\n",
       "  'Crystal Palace'],\n",
       " ['Mehdi Carcela-González',\n",
       "  'Morocco',\n",
       "  '78',\n",
       "  'RM',\n",
       "  'LM',\n",
       "  nan,\n",
       "  '29',\n",
       "  'Standard Liège'],\n",
       " ['Sandro Wagner', 'Germany', '78', 'ST', nan, nan, '30', 'FC Bayern'],\n",
       " ['Angelo Ogbonna', 'Italy', '78', 'CB', nan, nan, '30', 'West Ham'],\n",
       " ['Neven Subotić', 'Serbia', '78', 'CB', nan, nan, '29', 'ASSE'],\n",
       " ['Konstantinos Mitroglou', 'Greece', '78', 'ST', nan, nan, '30', 'OM'],\n",
       " ['Nordin Amrabat', 'Morocco', '78', 'LM', 'ST', 'RM', '31', 'Al Nassr'],\n",
       " ['Martín Cáceres', 'Uruguay', '78', 'CB', 'RB', nan, '31', 'Lazio'],\n",
       " ['Sebastian De Maio', 'France', '78', 'CB', nan, nan, '31', 'Bologna'],\n",
       " ['Luiz Adriano', 'Brazil', '78', 'ST', nan, nan, '31', 'Spartak Moscow'],\n",
       " ['Guilherme', 'Russia', '78', 'GK', nan, nan, '32', 'Lokomotiv Moscow'],\n",
       " ['Hernanes', 'Brazil', '78', 'CM', 'CDM', 'CAM', '33', 'Hebei CFFC'],\n",
       " ['Damien Da Silva', 'France', '78', 'CB', nan, nan, '30', 'Stade Rennais'],\n",
       " ['Loïc Rémy', 'France', '78', 'ST', 'LM', nan, '31', 'LOSC Lille'],\n",
       " ['Jeremain Lens', 'Netherlands', '78', 'RM', 'RW', nan, '30', 'Beşiktaş'],\n",
       " ['Miguel Layún', 'Mexico', '78', 'RB', 'LB', 'RM', '30', 'Villarreal CF'],\n",
       " ['Granero', 'Spain', '78', 'CM', 'LM', nan, '31', 'RCD Espanyol'],\n",
       " ['Cristian Zapata', 'Colombia', '78', 'CB', nan, nan, '31', 'Milan'],\n",
       " ['Marcus Berg', 'Sweden', '78', 'ST', 'CF', nan, '32', 'Free Agents'],\n",
       " ['David OspinaL', 'Colombia', '78', 'GK', nan, nan, '29', 'Napoli'],\n",
       " ['James Tomkins', 'England', '78', 'CB', nan, nan, '29', 'Crystal Palace'],\n",
       " ['Zlatko Junuzović', 'Austria', '78', 'CM', 'CAM', 'LM', '30', 'RB Salzburg'],\n",
       " ['Cristian AnsaldiL', 'Argentina', '78', 'LB', 'LM', nan, '31', 'Torino'],\n",
       " ['Victor Moses', 'Nigeria', '78', 'RW', 'RWB', nan, '27', 'Chelsea'],\n",
       " ['Niklas Moisander', 'Finland', '78', 'CB', nan, nan, '32', 'Werder Bremen'],\n",
       " ['Coke', 'Spain', '78', 'RB', 'RM', nan, '31', 'Levante UD'],\n",
       " ['Manu García', 'Spain', '78', 'CDM', 'CM', nan, '32', 'D. Alavés'],\n",
       " ['Kevin MirallasL', 'Belgium', '78', 'LM', 'LW', 'ST', '30', 'Fiorentina'],\n",
       " ['Eljero Elia', 'Netherlands', '78', 'LM', 'LW', nan, '31', 'Başakşehir'],\n",
       " ['José Fonte', 'Portugal', '78', 'CB', nan, nan, '34', 'LOSC Lille'],\n",
       " ['Jonny Evans',\n",
       "  'Northern Ireland',\n",
       "  '78',\n",
       "  'CB',\n",
       "  nan,\n",
       "  nan,\n",
       "  '30',\n",
       "  'Leicester City'],\n",
       " ['Ignazio Abate', 'Italy', '78', 'RB', nan, nan, '31', 'Milan'],\n",
       " ['Dušan Basta', 'Serbia', '78', 'RB', 'RM', nan, '34', 'Lazio'],\n",
       " ['Gonzalo Castro', 'Germany', '78', 'CM', 'CDM', nan, '31', 'VfB Stuttgart'],\n",
       " ['Fernando Gago', 'Argentina', '78', 'CM', 'CDM', nan, '32', 'Buenos Aires'],\n",
       " ['Nicolás Pareja', 'Argentina', '78', 'CB', nan, nan, '34', 'Sevilla FC'],\n",
       " ['Itumeleng Khune',\n",
       "  'South Africa',\n",
       "  '78',\n",
       "  'GK',\n",
       "  nan,\n",
       "  nan,\n",
       "  '31',\n",
       "  'Kaizer Chiefs'],\n",
       " ['Graziano Pellè', 'Italy', '78', 'ST', nan, nan, '33', 'Shandong Luneng'],\n",
       " ['Adriano', 'Brazil', '78', 'LB', 'RB', nan, '33', 'Beşiktaş'],\n",
       " ['Sergio', 'Spain', '78', 'GK', nan, nan, '32', 'RC Celta'],\n",
       " ['Karim El Ahmadi', 'Morocco', '78', 'CDM', 'CM', nan, '33', 'Al Ittihad'],\n",
       " ['Javi García', 'Spain', '78', 'CDM', 'CM', 'CB', '31', 'Real Betis'],\n",
       " ['Riccardo Montolivo', 'Italy', '78', 'CDM', 'CM', nan, '33', 'Milan'],\n",
       " ['Jurado', 'Spain', '78', 'RM', 'CAM', 'LM', '32', 'Al Ahli'],\n",
       " ['Christian Gentner',\n",
       "  'Germany',\n",
       "  '78',\n",
       "  'CM',\n",
       "  'CDM',\n",
       "  'CAM',\n",
       "  '33',\n",
       "  'VfB Stuttgart'],\n",
       " ['Mathieu Debuchy', 'France', '78', 'RB', nan, nan, '33', 'ASSE'],\n",
       " ['Benoît Costil', 'France', '78', 'GK', nan, nan, '31', 'Girondins de Bx'],\n",
       " ['Hilton', 'Brazil', '78', 'CB', nan, nan, '40', 'Montpellier HSC'],\n",
       " ['José Sand', 'Argentina', '78', 'ST', nan, nan, '38', 'Deportivo Cali'],\n",
       " ['Joe Hart', 'England', '78', 'GK', nan, nan, '31', 'Burnley'],\n",
       " ['Lukas Podolski', 'Germany', '78', 'CAM', 'ST', nan, '33', 'Vissel Kobe'],\n",
       " ['Alexandr Samedov', 'Russia', '78', 'RM', nan, nan, '34', 'Spartak Moscow'],\n",
       " ['Soldado', 'Spain', '78', 'ST', nan, nan, '33', 'Fenerbahçe'],\n",
       " ['Jesús Navas', 'Spain', '78', 'RM', 'RW', 'RB', '32', 'Sevilla FC'],\n",
       " ['Javi Fuego', 'Spain', '78', 'CDM', 'CM', nan, '34', 'Villarreal CF'],\n",
       " ['Negredo', 'Spain', '78', 'ST', nan, nan, '33', 'Beşiktaş'],\n",
       " ['Arda TuranL', 'Turkey', '78', 'CM', 'RM', 'LM', '31', 'Başakşehir'],\n",
       " ['Fernando Belluschi',\n",
       "  'Argentina',\n",
       "  '78',\n",
       "  'CAM',\n",
       "  'CM',\n",
       "  nan,\n",
       "  '34',\n",
       "  'San Lorenzo'],\n",
       " ['Carlos Tévez', 'Argentina', '78', 'CAM', 'ST', nan, '34', 'Buenos Aires'],\n",
       " ['Andriy Pyatov', 'Ukraine', '78', 'GK', nan, nan, '34', 'Shakhtar Donetsk'],\n",
       " ['Marcelo Barovero', 'Argentina', '78', 'GK', nan, nan, '34', 'Monterrey'],\n",
       " ['Lisandro López', 'Argentina', '78', 'ST', nan, nan, '35', 'Racing Club'],\n",
       " ['Leonardo Ponzio', 'Argentina', '78', 'CDM', nan, nan, '36', 'River Plate'],\n",
       " ['Michel Vorm', 'Netherlands', '78', 'GK', nan, nan, '34', 'Spurs'],\n",
       " ['Atiba Hutchinson', 'Canada', '78', 'CDM', 'CM', nan, '35', 'Beşiktaş'],\n",
       " ['Rubén Castro', 'Spain', '78', 'ST', nan, nan, '37', 'UD Las Palmas'],\n",
       " ['Carlos Idriss Kameni',\n",
       "  'Cameroon',\n",
       "  '78',\n",
       "  'GK',\n",
       "  nan,\n",
       "  nan,\n",
       "  '34',\n",
       "  'Fenerbahçe'],\n",
       " ['Phil Jagielka', 'England', '78', 'CB', nan, nan, '36', 'Everton'],\n",
       " ['Danny', 'Portugal', '78', 'CAM', 'LW', 'CM', '35', 'Marítimo'],\n",
       " ['Robin van Persie',\n",
       "  'Netherlands',\n",
       "  '78',\n",
       "  'ST',\n",
       "  'CAM',\n",
       "  nan,\n",
       "  '35',\n",
       "  'Feyenoord'],\n",
       " ['Vinícius Júnior', 'Brazil', '77', 'LW', 'RW', nan, '18', 'Real Madrid'],\n",
       " ['Patrick Cutrone', 'Italy', '77', 'ST', nan, nan, '20', 'Milan'],\n",
       " ['Antonín Barák', 'Czech Republic', '77', 'CM', 'CAM', nan, '23', 'Udinese'],\n",
       " ['Aarón MartínL', 'Spain', '77', 'LB', nan, nan, '21', '1. FSV Mainz 05'],\n",
       " ['Cengiz Ünder', 'Turkey', '77', 'RW', 'LW', nan, '21', 'Roma'],\n",
       " ['Federico Chiesa', 'Italy', '77', 'RW', 'CF', nan, '20', 'Fiorentina'],\n",
       " ['Patrik Schick', 'Czech Republic', '77', 'ST', 'RW', nan, '22', 'Roma'],\n",
       " ['Bruno Viana', 'Brazil', '77', 'CB', nan, nan, '23', 'SC Braga'],\n",
       " ['Amath Ndiaye Diedhiou',\n",
       "  'Senegal',\n",
       "  '77',\n",
       "  'LM',\n",
       "  'ST',\n",
       "  nan,\n",
       "  '22',\n",
       "  'Getafe CF'],\n",
       " ['Gaku Shibasaki', 'Japan', '77', 'CAM', 'CDM', 'ST', '26', 'Getafe CF'],\n",
       " ['Shoya Nakajima', 'Japan', '77', 'LW', 'ST', nan, '23', 'Portimonense SC'],\n",
       " ['Richarlison', 'Brazil', '77', 'LM', 'LW', nan, '21', 'Everton'],\n",
       " ['Alban Lafont', 'France', '77', 'GK', nan, nan, '19', 'Fiorentina'],\n",
       " ['Joris Gnagnon', 'France', '77', 'CB', nan, nan, '21', 'Sevilla FC'],\n",
       " ['Emre Akbaba', 'Turkey', '77', 'CAM', 'CM', 'CDM', '25', 'Galatasaray'],\n",
       " ['Amadou Diawara', 'Guinea', '77', 'CM', 'CDM', nan, '21', 'Napoli'],\n",
       " ['Formosandrinho', 'Brazil', '77', 'ST', 'CF', nan, '26', 'Botafogo'],\n",
       " ['Simão Acunha', 'Brazil', '77', 'CAM', 'ST', 'RM', '30', 'Atlético Mineiro'],\n",
       " ['Vieirundinho', 'Brazil', '77', 'CB', nan, nan, '30', 'Santos'],\n",
       " ['Gazzolisco', 'Brazil', '77', 'LB', 'LM', nan, '30', 'Internacional'],\n",
       " ['Pierre Lees-Melou', 'France', '77', 'CM', 'RM', 'LM', '25', 'OGC Nice'],\n",
       " ['Georgiy Dzhikiya', 'Russia', '77', 'CB', nan, nan, '24', 'Spartak Moscow'],\n",
       " ['Gastón Pereiro', 'Uruguay', '77', 'CAM', 'RW', 'LW', '23', 'PSV'],\n",
       " ['Waldemar Anton', 'Germany', '77', 'CB', 'CDM', nan, '22', 'Hannover 96'],\n",
       " ['Denis Zakaria', 'Switzerland', '77', 'CM', 'CDM', nan, '21', \"M'gladbach\"],\n",
       " ['André SilvaL', 'Portugal', '77', 'ST', nan, nan, '22', 'Sevilla FC'],\n",
       " ['Davide Calabria', 'Italy', '77', 'RB', nan, nan, '21', 'Milan'],\n",
       " ['Frenkie de Jong', 'Netherlands', '77', 'CM', 'CDM', 'CB', '21', 'Ajax'],\n",
       " ['Ferland Mendy', 'France', '77', 'LB', nan, nan, '23', 'OL'],\n",
       " ['Yeray', 'Spain', '77', 'CB', nan, nan, '23', 'Athletic Club'],\n",
       " ['Álex Remiro', 'Spain', '77', 'GK', nan, nan, '23', 'Athletic Club'],\n",
       " ['Ramón Ábila', 'Argentina', '77', 'ST', nan, nan, '28', 'Buenos Aires'],\n",
       " ['Thilo Kehrer', 'Germany', '77', 'CB', 'RB', 'LB', '21', 'Paris'],\n",
       " ['Maximilian Eggestein',\n",
       "  'Germany',\n",
       "  '77',\n",
       "  'CM',\n",
       "  'CAM',\n",
       "  'CDM',\n",
       "  '21',\n",
       "  'Werder Bremen'],\n",
       " ['Nordi Mukiele', 'France', '77', 'CB', 'RB', 'RWB', '20', 'RB Leipzig'],\n",
       " ['Trezeguet', 'Egypt', '77', 'LM', 'CAM', 'RM', '23', 'Kasimpaşa'],\n",
       " ['Steven Bergwijn', 'Netherlands', '77', 'LW', 'RW', nan, '20', 'PSV'],\n",
       " ['Sidcley', 'Brazil', '77', 'LB', nan, nan, '25', 'Dynamo Kyiv'],\n",
       " ['Vincent Koziello', 'France', '77', 'CM', 'CDM', nan, '22', 'Köln'],\n",
       " ['Nemanja Radoja', 'Serbia', '77', 'CM', 'CDM', nan, '25', 'RC Celta'],\n",
       " ['Florin Andone', 'Romania', '77', 'ST', nan, nan, '25', 'Brighton'],\n",
       " ['Kevin Lasagna', 'Italy', '77', 'ST', nan, nan, '26', 'Udinese'],\n",
       " ['Marius Wolf', 'Germany', '77', 'RM', 'CM', 'RWB', '23', 'Dortmund'],\n",
       " ['Joan Jordán', 'Spain', '77', 'CM', 'CDM', 'CAM', '24', 'SD Eibar'],\n",
       " ['Lewis Cook', 'England', '77', 'CM', 'CAM', nan, '21', 'Bournemouth'],\n",
       " ['Dyego Sousa', 'Brazil', '77', 'ST', nan, nan, '28', 'SC Braga'],\n",
       " ['Wout Weghorst', 'Netherlands', '77', 'ST', nan, nan, '26', 'VfL Wolfsburg'],\n",
       " ...]"
      ]
     },
     "execution_count": 132,
     "metadata": {},
     "output_type": "execute_result"
    }
   ],
   "source": [
    "players"
   ]
  },
  {
   "cell_type": "code",
   "execution_count": null,
   "metadata": {},
   "outputs": [],
   "source": []
  }
 ],
 "metadata": {
  "kernelspec": {
   "display_name": "Python (backup)",
   "language": "python",
   "name": "backup"
  },
  "language_info": {
   "codemirror_mode": {
    "name": "ipython",
    "version": 3
   },
   "file_extension": ".py",
   "mimetype": "text/x-python",
   "name": "python",
   "nbconvert_exporter": "python",
   "pygments_lexer": "ipython3",
   "version": "3.7.3"
  }
 },
 "nbformat": 4,
 "nbformat_minor": 2
}
